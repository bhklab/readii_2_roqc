{
 "cells": [
  {
   "cell_type": "code",
   "execution_count": 35,
   "id": "96dabc4b",
   "metadata": {},
   "outputs": [],
   "source": [
    "from pathlib import Path\n",
    "\n",
    "import numpy as np\n",
    "import pandas as pd\n",
    "import yaml\n",
    "from readii.io.loaders import loadFileToDataFrame, loadImageDatasetConfig\n",
    "from readii.process.label import (\n",
    "    eventOutcomeColumnSetup,\n",
    "    getPatientIdentifierLabel,\n",
    "    timeOutcomeColumnSetup,\n",
    ")\n",
    "from readii.process.split import splitDataByColumnValue\n",
    "from readii.process.subset import getPatientIntersectionDataframes\n",
    "from sklearn.linear_model import Lasso\n",
    "from sksurv.metrics import concordance_index_censored"
   ]
  },
  {
   "cell_type": "markdown",
   "id": "f41b9636",
   "metadata": {},
   "source": [
    "### Set up variables from config file for the dataset"
   ]
  },
  {
   "cell_type": "code",
   "execution_count": null,
   "id": "f5763f29",
   "metadata": {},
   "outputs": [],
   "source": [
    "# Load in the configuration file\n",
    "config = loadImageDatasetConfig(\"NSCLC-Radiomics\", Path(\"../../config/datasets\"))\n",
    "\n",
    "# Initialize dataset parameters\n",
    "CLINICAL_DATA_FILE = config[\"CLINICAL_FILE\"]\n",
    "OUTCOME_VARIABLES = config[\"OUTCOME_VARIABLES\"]\n",
    "\n",
    "DATASET_NAME = config[\"DATA_SOURCE\"] + \"_\" + config[\"DATASET_NAME\"]\n",
    "\n",
    "RANDOM_SEED = 10\n",
    "\n",
    "# general data directory path setup\n",
    "DATA_DIR_PATH = Path(\"../../data\")\n",
    "RAW_DATA_PATH = DATA_DIR_PATH / \"rawdata\" / DATASET_NAME\n",
    "PROC_DATA_PATH = DATA_DIR_PATH / \"procdata\" / DATASET_NAME\n",
    "RESULTS_DATA_PATH = DATA_DIR_PATH / \"results\" / DATASET_NAME\n",
    "\n",
    "# train test split settings\n",
    "TRAIN_TEST_SPLIT = config[\"TRAIN_TEST_SPLIT\"]\n",
    "\n",
    "pyradiomics_settings = \"pyradiomics_original_plus_aerts\"\n",
    "\n",
    "signature_dir = PROC_DATA_PATH / \"signature_data\" / \"aerts_original\"\n",
    "signature_dir.mkdir(parents=True, exist_ok=True)"
   ]
  },
  {
   "cell_type": "markdown",
   "id": "e07576b4",
   "metadata": {},
   "source": [
    "# Intersect Clinical and Feature data to get patient subset for analysis"
   ]
  },
  {
   "cell_type": "markdown",
   "id": "ed410bac",
   "metadata": {},
   "source": [
    "## Clinical data loading and processing"
   ]
  },
  {
   "cell_type": "code",
   "execution_count": null,
   "id": "d47ef626",
   "metadata": {},
   "outputs": [],
   "source": [
    "# Load clinical data file\n",
    "raw_clinical_data = loadFileToDataFrame((RAW_DATA_PATH / \"clinical\" / CLINICAL_DATA_FILE))\n",
    "clinical_pat_id = getPatientIdentifierLabel(raw_clinical_data)\n",
    "\n",
    "if TRAIN_TEST_SPLIT['split']:\n",
    "    split_data = splitDataByColumnValue(raw_clinical_data,\n",
    "                                        split_col_data=TRAIN_TEST_SPLIT['split_variable'],\n",
    "                                        impute_value=TRAIN_TEST_SPLIT['impute'])\n",
    "    # TODO: don't default to test string\n",
    "    clinical_data = split_data['test']\n",
    "\n",
    "# Load the Med-ImageTools index to use for mapping TCIA IDs to local file names\n",
    "mit_index = loadFileToDataFrame((RAW_DATA_PATH / \"images\" / config[\"MIT_INDEX_FILE\"]))\n",
    "\n",
    "if 'SampleID' not in mit_index.columns:\n",
    "    mit_index['SampleID'] = config[\"DATASET_NAME\"] + \"_\" + mit_index['SampleNumber'].astype(str).str.zfill(3)\n",
    "\n",
    "# SampleID is local file name\n",
    "# PatientID is TCIA ID\n",
    "id_map = mit_index['SampleID']\n",
    "id_map.index = mit_index[\"PatientID\"]\n",
    "id_map.drop_duplicates(inplace=True)\n",
    "\n",
    "# Map the SampleIDs to the clinical data and add as a column for intersection\n",
    "raw_clinical_data['SampleID'] = raw_clinical_data[clinical_pat_id].map(id_map)\n",
    "raw_clinical_data.set_index('SampleID', inplace=True)"
   ]
  },
  {
   "cell_type": "markdown",
   "id": "b7928fbb",
   "metadata": {},
   "source": [
    "## Feature data loading and processing"
   ]
  },
  {
   "cell_type": "code",
   "execution_count": 22,
   "id": "88aa2514",
   "metadata": {},
   "outputs": [],
   "source": [
    "image_type = \"full_original\"\n",
    "raw_feature_data = loadFileToDataFrame((RESULTS_DATA_PATH / pyradiomics_settings / f\"{image_type}_features.csv\"))\n",
    "\n",
    "raw_feature_data.rename(columns={\"ID\": \"SampleID\"}, inplace=True)\n",
    "# Set the index to SampleID\n",
    "raw_feature_data.set_index('SampleID', inplace=True)"
   ]
  },
  {
   "cell_type": "markdown",
   "id": "e250bef7",
   "metadata": {},
   "source": [
    "## Intersect clinical and feature data"
   ]
  },
  {
   "cell_type": "code",
   "execution_count": 23,
   "id": "a61f5158",
   "metadata": {},
   "outputs": [],
   "source": [
    "clinical_data, pyrad_subset = getPatientIntersectionDataframes(raw_clinical_data, raw_feature_data, need_pat_index_A=False, need_pat_index_B=False)"
   ]
  },
  {
   "cell_type": "markdown",
   "id": "0730d954",
   "metadata": {},
   "source": [
    "# Set up outcome columns in clinical data"
   ]
  },
  {
   "cell_type": "code",
   "execution_count": 24,
   "id": "9db851bd",
   "metadata": {},
   "outputs": [],
   "source": [
    "clinical_data = eventOutcomeColumnSetup(dataframe_with_outcome=clinical_data,\n",
    "                                        outcome_column_label=OUTCOME_VARIABLES[\"event_label\"],\n",
    "                                        standard_column_label=\"survival_event_binary\",\n",
    "                                        )\n",
    "clinical_data = timeOutcomeColumnSetup(dataframe_with_outcome=clinical_data,\n",
    "                                       outcome_column_label=OUTCOME_VARIABLES[\"time_label\"],\n",
    "                                       standard_column_label=\"survival_time_years\",\n",
    "                                       convert_to_years=OUTCOME_VARIABLES[\"convert_to_years\"])"
   ]
  },
  {
   "cell_type": "markdown",
   "id": "dfee0cf8",
   "metadata": {},
   "source": [
    "# Feature Selection"
   ]
  },
  {
   "cell_type": "markdown",
   "id": "15770a59",
   "metadata": {},
   "source": [
    "## Existing signature"
   ]
  },
  {
   "cell_type": "markdown",
   "id": "124fc5b6",
   "metadata": {},
   "source": [
    "### Load signature from yaml file"
   ]
  },
  {
   "cell_type": "code",
   "execution_count": 25,
   "id": "38b4d8ba",
   "metadata": {},
   "outputs": [],
   "source": [
    "# Path to the yaml file in the rawdata directory\n",
    "radiomic_signature_yaml = RAW_DATA_PATH.parent / \"cph_weights_radiomic_signature\" / \"aerts_original.yaml\"\n",
    "\n",
    "try:\n",
    "    with open(radiomic_signature_yaml, 'r') as f:\n",
    "        yaml_data = yaml.safe_load(f)\n",
    "        if not isinstance(yaml_data, dict):\n",
    "            raise TypeError(\"ROI match YAML must contain a dictionary\")\n",
    "        radiomic_signature = pd.Series(yaml_data['signature'])\n",
    "except Exception as e:\n",
    "    print(f\"Error loading YAML file: {e}\")\n",
    "    raise"
   ]
  },
  {
   "cell_type": "markdown",
   "id": "3298eaf3",
   "metadata": {},
   "source": [
    "### Get just features in radiomic signature"
   ]
  },
  {
   "cell_type": "code",
   "execution_count": 29,
   "id": "a303fc54",
   "metadata": {},
   "outputs": [],
   "source": [
    "signature_feature_data = pyrad_subset[radiomic_signature.index]"
   ]
  },
  {
   "cell_type": "markdown",
   "id": "0ba523fa",
   "metadata": {},
   "source": [
    "### Add outcome columns, and save out for R processing"
   ]
  },
  {
   "cell_type": "code",
   "execution_count": 11,
   "id": "077e9e14",
   "metadata": {},
   "outputs": [],
   "source": [
    "signature_plus_outcomes = pd.concat([clinical_data[['survival_event_binary', 'survival_time_years']], signature_feature_data], axis=1)\n",
    "\n",
    "\n",
    "signature_plus_outcomes.to_csv(signature_dir / f\"{image_type}.csv\", index=True)"
   ]
  },
  {
   "cell_type": "markdown",
   "id": "c33735be",
   "metadata": {},
   "source": [
    "## LASSO feature selection"
   ]
  },
  {
   "cell_type": "code",
   "execution_count": null,
   "id": "6d04a116",
   "metadata": {},
   "outputs": [],
   "source": [
    "def calc_LASSO(X_train, event_status_train, a_lasso):\n",
    "    \"\"\"\n",
    "    Performs LASSO for feature selection\n",
    "   \n",
    "    Parameters\n",
    "    -----------\n",
    "    X_train: pd.DataFrame\n",
    "        A dataframe containing only radiomic features\n",
    "    event_status_train: pd.DataFrame\n",
    "        A column containing the event status of patients\n",
    "    a_lasso: float\n",
    "        The regularization parameter alpha to be used when initializing the LASSO model\n",
    "       \n",
    "    Returns\n",
    "    ----------\n",
    "    lasso_passed: list\n",
    "        All feature names with non zero coefficients\n",
    "    \"\"\"\n",
    " \n",
    "    lasso = Lasso(a_lasso)\n",
    "    lasso.fit(X_train, event_status_train)\n",
    "    lasso_coef = np.abs(lasso.coef_)\n",
    " \n",
    "    all_rad_feats = X_train.columns.values.tolist()\n",
    "    lasso_passed = np.array(all_rad_feats)[lasso_coef>0]\n",
    " \n",
    "    return(lasso_passed)"
   ]
  },
  {
   "cell_type": "code",
   "execution_count": null,
   "id": "8f833ce8",
   "metadata": {},
   "outputs": [],
   "source": [
    "from readii.process import getOnlyPyradiomicsFeatures\n",
    "\n",
    "feats_only = getOnlyPyradiomicsFeatures(pyrad_subset)\n",
    "event_status_train = clinical_data['survival_event_binary']\n",
    "calc_LASSO(feats_only, event_status_train, 0.5)"
   ]
  },
  {
   "cell_type": "markdown",
   "id": "c0fe030e",
   "metadata": {},
   "source": [
    "# Prediction Modelling"
   ]
  },
  {
   "cell_type": "markdown",
   "id": "a9b2531d",
   "metadata": {},
   "source": [
    "## With existing signature weights"
   ]
  },
  {
   "cell_type": "code",
   "execution_count": 30,
   "id": "77a17239",
   "metadata": {},
   "outputs": [],
   "source": [
    "feature_hazards = signature_feature_data.dot(radiomic_signature)"
   ]
  },
  {
   "cell_type": "code",
   "execution_count": 31,
   "id": "de30b925",
   "metadata": {},
   "outputs": [],
   "source": [
    "cindex, concordant, discordant, _tied_risk, _tied_time = concordance_index_censored(\n",
    "    event_indicator = clinical_data['survival_event_binary'].astype(bool),\n",
    "    event_time = clinical_data['survival_time_years'],\n",
    "    estimate = feature_hazards,\n",
    "    )"
   ]
  },
  {
   "cell_type": "markdown",
   "id": "f58ad793",
   "metadata": {},
   "source": [
    "### Bootstrap to get confidence intervals"
   ]
  },
  {
   "cell_type": "code",
   "execution_count": 32,
   "id": "e0d1570d",
   "metadata": {},
   "outputs": [],
   "source": [
    "sampled_cindex_bootstrap = []\n",
    "\n",
    "hazards_and_outcomes = pd.DataFrame({\n",
    "    'hazards': feature_hazards,\n",
    "    'survival_event_binary': clinical_data['survival_event_binary'],\n",
    "    'survival_time_years': clinical_data['survival_time_years']\n",
    "}, index=clinical_data.index)\n",
    "\n",
    "bootstrap_count = 1000\n",
    "\n",
    "for idx in range(bootstrap_count):\n",
    "    sampled_results = hazards_and_outcomes.sample(n=hazards_and_outcomes.shape[0], replace=True)\n",
    "\n",
    "    sampled_cindex, _concordant, _discordant, _tied_risk, _tied_time = concordance_index_censored(\n",
    "        event_indicator = sampled_results['survival_event_binary'].astype(bool),\n",
    "        event_time = sampled_results['survival_time_years'],\n",
    "        estimate = sampled_results['hazards'],\n",
    "        )\n",
    "    \n",
    "    sampled_cindex_bootstrap.append(sampled_cindex)\n",
    "\n",
    "lower_confidence_interval = sorted(sampled_cindex_bootstrap)[bootstrap_count // 4 - 1]\n",
    "upper_confidence_interval = sorted(sampled_cindex_bootstrap)[bootstrap_count - (bootstrap_count // 4)]"
   ]
  },
  {
   "cell_type": "code",
   "execution_count": 33,
   "id": "4909373f",
   "metadata": {},
   "outputs": [
    {
     "name": "stdout",
     "output_type": "stream",
     "text": [
      "Results\n",
      "C-index:  0.4914219249781913\n",
      "Lower confidence interval:  0.4663610823598994\n",
      "Upper confidence interval:  0.5148074267300905\n"
     ]
    }
   ],
   "source": [
    "print(\"Results\")\n",
    "print(\"C-index: \", cindex)\n",
    "print(\"Lower confidence interval: \", lower_confidence_interval)\n",
    "print(\"Upper confidence interval: \", upper_confidence_interval)"
   ]
  },
  {
   "cell_type": "code",
   "execution_count": null,
   "id": "a1addf79",
   "metadata": {},
   "outputs": [],
   "source": []
  }
 ],
 "metadata": {
  "kernelspec": {
   "display_name": "default",
   "language": "python",
   "name": "python3"
  },
  "language_info": {
   "codemirror_mode": {
    "name": "ipython",
    "version": 3
   },
   "file_extension": ".py",
   "mimetype": "text/x-python",
   "name": "python",
   "nbconvert_exporter": "python",
   "pygments_lexer": "ipython3",
   "version": "3.12.10"
  }
 },
 "nbformat": 4,
 "nbformat_minor": 5
}
