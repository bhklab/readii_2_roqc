{
 "cells": [
  {
   "cell_type": "code",
   "execution_count": 1,
   "id": "96dabc4b",
   "metadata": {},
   "outputs": [],
   "source": [
    "from sklearn.linear_model import Lasso \n",
    "\n",
    "import pandas as pd\n",
    "from readii.io.loaders import loadImageDatasetConfig, loadFileToDataFrame\n",
    "from readii.process.subset import getPatientIntersectionDataframes\n",
    "from readii.process.label import addOutcomeLabels, eventOutcomeColumnSetup, timeOutcomeColumnSetup\n",
    "from pathlib import Path\n",
    "import numpy as np\n",
    "import yaml"
   ]
  },
  {
   "cell_type": "markdown",
   "id": "f41b9636",
   "metadata": {},
   "source": [
    "### Set up variables from config file for the dataset"
   ]
  },
  {
   "cell_type": "code",
   "execution_count": 2,
   "id": "f5763f29",
   "metadata": {},
   "outputs": [],
   "source": [
    "# Load in the configuration file\n",
    "config = loadImageDatasetConfig(\"NSCLC-Radiomics\", Path(\"../../config/datasets\"))\n",
    "\n",
    "# Initialize dataset parameters\n",
    "CLINICAL_DATA_FILE = config[\"CLINICAL_FILE\"]\n",
    "OUTCOME_VARIABLES = config[\"OUTCOME_VARIABLES\"]\n",
    "\n",
    "DATASET_NAME = config[\"DATA_SOURCE\"] + \"_\" + config[\"DATASET_NAME\"]\n",
    "\n",
    "RANDOM_SEED = 10\n",
    "\n",
    "# general data directory path setup\n",
    "DATA_DIR_PATH = Path(\"../../data\")\n",
    "RAW_DATA_PATH = DATA_DIR_PATH / \"rawdata\" / DATASET_NAME\n",
    "PROC_DATA_PATH = DATA_DIR_PATH / \"procdata\" / DATASET_NAME\n",
    "RESULTS_DATA_PATH = DATA_DIR_PATH / \"results\" / DATASET_NAME\n",
    "\n",
    "pyradiomics_settings = \"pyradiomics_original_plus_aerts\""
   ]
  },
  {
   "cell_type": "markdown",
   "id": "e07576b4",
   "metadata": {},
   "source": [
    "# Intersect Clinical and Feature data to get patient subset for analysis"
   ]
  },
  {
   "cell_type": "markdown",
   "id": "ed410bac",
   "metadata": {},
   "source": [
    "## Clinical data loading and processing"
   ]
  },
  {
   "cell_type": "code",
   "execution_count": 3,
   "id": "d47ef626",
   "metadata": {},
   "outputs": [],
   "source": [
    "# Load clinical data file\n",
    "raw_clinical_data = loadFileToDataFrame((RAW_DATA_PATH / \"clinical\" / CLINICAL_DATA_FILE))\n",
    "\n",
    "# Load the Med-ImageTools index to use for mapping TCIA IDs to local file names\n",
    "mit_index = loadFileToDataFrame((RAW_DATA_PATH / \"images\" / config[\"MIT_INDEX_FILE\"]))\n",
    "\n",
    "# SampleID is local file name\n",
    "# PatientID is TCIA ID\n",
    "id_map = mit_index['SampleID']\n",
    "id_map.index = mit_index[\"PatientID\"]\n",
    "id_map.drop_duplicates(inplace=True)\n",
    "\n",
    "# Map the SampleIDs to the clinical data and add as a column for intersection\n",
    "raw_clinical_data['SampleID'] = raw_clinical_data['PatientID'].map(id_map)\n",
    "raw_clinical_data.set_index('SampleID', inplace=True)"
   ]
  },
  {
   "cell_type": "markdown",
   "id": "b7928fbb",
   "metadata": {},
   "source": [
    "## Feature data loading and processing"
   ]
  },
  {
   "cell_type": "code",
   "execution_count": 10,
   "id": "88aa2514",
   "metadata": {},
   "outputs": [],
   "source": [
    "image_type = \"full_original\"\n",
    "raw_feature_data = loadFileToDataFrame((RESULTS_DATA_PATH / pyradiomics_settings / f\"{image_type}_features.csv\"))\n",
    "\n",
    "raw_feature_data.rename(columns={\"ID\": \"SampleID\"}, inplace=True)\n",
    "# Set the index to SampleID\n",
    "raw_feature_data.set_index('SampleID', inplace=True)"
   ]
  },
  {
   "cell_type": "markdown",
   "id": "e250bef7",
   "metadata": {},
   "source": [
    "## Intersect clinical and feature data"
   ]
  },
  {
   "cell_type": "code",
   "execution_count": 11,
   "id": "a61f5158",
   "metadata": {},
   "outputs": [],
   "source": [
    "clinical_data, pyrad_subset = getPatientIntersectionDataframes(raw_clinical_data, raw_feature_data, need_pat_index_A=False, need_pat_index_B=False)"
   ]
  },
  {
   "cell_type": "markdown",
   "id": "0730d954",
   "metadata": {},
   "source": [
    "# Set up outcome columns in clinical data"
   ]
  },
  {
   "cell_type": "code",
   "execution_count": 6,
   "id": "9db851bd",
   "metadata": {},
   "outputs": [],
   "source": [
    "clinical_data = eventOutcomeColumnSetup(dataframe_with_outcome=clinical_data,\n",
    "                                        outcome_column_label=OUTCOME_VARIABLES[\"event_label\"],\n",
    "                                        standard_column_label=\"survival_event_binary\",\n",
    "                                        )\n",
    "clinical_data = timeOutcomeColumnSetup(dataframe_with_outcome=clinical_data,\n",
    "                                       outcome_column_label=OUTCOME_VARIABLES[\"time_label\"],\n",
    "                                       standard_column_label=\"survival_time_years\",\n",
    "                                       convert_to_years=OUTCOME_VARIABLES[\"convert_to_years\"])"
   ]
  },
  {
   "cell_type": "markdown",
   "id": "dfee0cf8",
   "metadata": {},
   "source": [
    "# Feature Selection"
   ]
  },
  {
   "cell_type": "markdown",
   "id": "15770a59",
   "metadata": {},
   "source": [
    "## Existing signature"
   ]
  },
  {
   "cell_type": "markdown",
   "id": "124fc5b6",
   "metadata": {},
   "source": [
    "### Load signature from yaml file"
   ]
  },
  {
   "cell_type": "code",
   "execution_count": 14,
   "id": "38b4d8ba",
   "metadata": {},
   "outputs": [],
   "source": [
    "# Path to the yaml file in the rawdata directory\n",
    "radiomic_signature_yaml = RAW_DATA_PATH.parent / \"cph_weights_radiomic_signature\" / \"aerts_original.yaml\"\n",
    "\n",
    "try:\n",
    "    with open(radiomic_signature_yaml, 'r') as f:\n",
    "        yaml_data = yaml.safe_load(f)\n",
    "        if not isinstance(yaml_data, dict):\n",
    "            raise TypeError(\"ROI match YAML must contain a dictionary\")\n",
    "        radiomic_signature = pd.Series(yaml_data['signature'])\n",
    "except Exception as e:\n",
    "    print(f\"Error loading YAML file: {e}\")\n",
    "    raise"
   ]
  },
  {
   "cell_type": "markdown",
   "id": "3298eaf3",
   "metadata": {},
   "source": [
    "### Get just features in radiomic signature"
   ]
  },
  {
   "cell_type": "code",
   "execution_count": 15,
   "id": "a303fc54",
   "metadata": {},
   "outputs": [],
   "source": [
    "signature_feature_data = raw_feature_data[radiomic_signature.index]"
   ]
  },
  {
   "cell_type": "markdown",
   "id": "c33735be",
   "metadata": {},
   "source": [
    "## LASSO feature selection"
   ]
  },
  {
   "cell_type": "code",
   "execution_count": null,
   "id": "6d04a116",
   "metadata": {},
   "outputs": [],
   "source": [
    "def calc_LASSO(X_train, event_status_train, a_lasso):\n",
    "    \"\"\"\n",
    "    Performs LASSO for feature selection\n",
    "   \n",
    "    Parameters\n",
    "    -----------\n",
    "    X_train: pd.DataFrame\n",
    "        A dataframe containing only radiomic features\n",
    "    event_status_train: pd.DataFrame\n",
    "        A column containing the event status of patients\n",
    "    a_lasso: float\n",
    "        The regularization parameter alpha to be used when initializing the LASSO model\n",
    "       \n",
    "    Returns\n",
    "    ----------\n",
    "    lasso_passed: list\n",
    "        All feature names with non zero coefficients\n",
    "    \"\"\"\n",
    " \n",
    "    lasso = Lasso(a_lasso)\n",
    "    lasso.fit(X_train, event_status_train)\n",
    "    lasso_coef = np.abs(lasso.coef_)\n",
    " \n",
    "    all_rad_feats = X_train.columns.values.tolist()\n",
    "    lasso_passed = np.array(all_rad_feats)[lasso_coef>0]\n",
    " \n",
    "    return(lasso_passed)"
   ]
  },
  {
   "cell_type": "code",
   "execution_count": null,
   "id": "8f833ce8",
   "metadata": {},
   "outputs": [],
   "source": [
    "from readii.process import getOnlyPyradiomicsFeatures\n",
    "\n",
    "feats_only = getOnlyPyradiomicsFeatures(pyrad_subset)\n",
    "event_status_train = clinical_data['survival_event_binary']\n",
    "calc_LASSO(feats_only, event_status_train, 0.5)"
   ]
  },
  {
   "cell_type": "markdown",
   "id": "c0fe030e",
   "metadata": {},
   "source": [
    "# Prediction Modelling"
   ]
  },
  {
   "cell_type": "markdown",
   "id": "a9b2531d",
   "metadata": {},
   "source": [
    "## With existing signature weights"
   ]
  },
  {
   "cell_type": "markdown",
   "id": "77a17239",
   "metadata": {},
   "source": [
    "feature_hazards = "
   ]
  }
 ],
 "metadata": {
  "kernelspec": {
   "display_name": "default",
   "language": "python",
   "name": "python3"
  },
  "language_info": {
   "codemirror_mode": {
    "name": "ipython",
    "version": 3
   },
   "file_extension": ".py",
   "mimetype": "text/x-python",
   "name": "python",
   "nbconvert_exporter": "python",
   "pygments_lexer": "ipython3",
   "version": "3.12.10"
  }
 },
 "nbformat": 4,
 "nbformat_minor": 5
}
