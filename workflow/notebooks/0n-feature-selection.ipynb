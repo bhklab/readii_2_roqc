{
 "cells": [
  {
   "cell_type": "code",
   "execution_count": 32,
   "id": "96dabc4b",
   "metadata": {},
   "outputs": [],
   "source": [
    "from sklearn.linear_model import Lasso \n",
    "\n",
    "import pandas as pd\n",
    "from readii.io.loaders import loadImageDatasetConfig, loadFileToDataFrame\n",
    "from pathlib import Path"
   ]
  },
  {
   "cell_type": "code",
   "execution_count": 37,
   "id": "f5763f29",
   "metadata": {},
   "outputs": [],
   "source": [
    "# Load in the configuration file\n",
    "config = loadImageDatasetConfig(\"HEAD-NECK-RADIOMICS-HN1\", Path(\"../../config/datasets\"))\n",
    "\n",
    "# Initialize dataset parameters\n",
    "CLINICAL_DATA_FILE = config[\"CLINICAL_FILE\"]\n",
    "DATASET_NAME = config[\"DATA_SOURCE\"] + \"_\" + config[\"DATASET_NAME\"]\n",
    "\n",
    "RANDOM_SEED = 10\n",
    "\n",
    "# general data directory path setup\n",
    "DATA_DIR_PATH = Path(\"../../data\")\n",
    "RAW_DATA_PATH = DATA_DIR_PATH / \"rawdata\" / DATASET_NAME\n",
    "PROC_DATA_PATH = DATA_DIR_PATH / \"procdata\" / DATASET_NAME\n",
    "RESULTS_DATA_PATH = DATA_DIR_PATH / \"results\" / DATASET_NAME\n",
    "\n",
    "pyradiomics_settings = \"pyradiomics_original_all_features\""
   ]
  },
  {
   "cell_type": "code",
   "execution_count": 34,
   "id": "893efb13",
   "metadata": {},
   "outputs": [],
   "source": [
    "# Load clinical data file\n",
    "clinical_data = loadFileToDataFrame((RAW_DATA_PATH / \"clinical\" / CLINICAL_DATA_FILE))"
   ]
  },
  {
   "cell_type": "code",
   "execution_count": 35,
   "id": "d47ef626",
   "metadata": {},
   "outputs": [],
   "source": [
    "# Load the Med-ImageTools index to use for mapping TCIA IDs to local file names\n",
    "mit_index = loadFileToDataFrame((RAW_DATA_PATH / \"images\" / config[\"MIT_INDEX_FILE\"]))\n",
    "\n",
    "# SampleID is local file name\n",
    "# PatientID is TCIA ID\n",
    "\n",
    "id_map = mit_index[[\"SampleID\", \"PatientID\"]].copy()"
   ]
  },
  {
   "cell_type": "code",
   "execution_count": 36,
   "id": "71b40e61",
   "metadata": {},
   "outputs": [
    {
     "data": {
      "text/plain": [
       "82"
      ]
     },
     "execution_count": 36,
     "metadata": {},
     "output_type": "execute_result"
    }
   ],
   "source": [
    "len(id_map['PatientID'].unique())"
   ]
  },
  {
   "cell_type": "code",
   "execution_count": 38,
   "id": "88aa2514",
   "metadata": {},
   "outputs": [],
   "source": [
    "image_type = \"full_original\"\n",
    "pyrad_features = loadFileToDataFrame((RESULTS_DATA_PATH / pyradiomics_settings / f\"{image_type}_features.csv\"))"
   ]
  },
  {
   "cell_type": "code",
   "execution_count": null,
   "id": "6d04a116",
   "metadata": {},
   "outputs": [],
   "source": []
  }
 ],
 "metadata": {
  "kernelspec": {
   "display_name": "default",
   "language": "python",
   "name": "python3"
  },
  "language_info": {
   "codemirror_mode": {
    "name": "ipython",
    "version": 3
   },
   "file_extension": ".py",
   "mimetype": "text/x-python",
   "name": "python",
   "nbconvert_exporter": "python",
   "pygments_lexer": "ipython3",
   "version": "3.13.3"
  }
 },
 "nbformat": 4,
 "nbformat_minor": 5
}
