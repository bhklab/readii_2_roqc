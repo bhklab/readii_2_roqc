{
 "cells": [
  {
   "cell_type": "code",
   "execution_count": 1,
   "id": "96dabc4b",
   "metadata": {},
   "outputs": [],
   "source": [
    "from sklearn.linear_model import Lasso \n",
    "\n",
    "import pandas as pd\n",
    "from readii.io.loaders import loadImageDatasetConfig, loadFileToDataFrame\n",
    "from pathlib import Path\n",
    "import numpy as np"
   ]
  },
  {
   "cell_type": "code",
   "execution_count": 2,
   "id": "f5763f29",
   "metadata": {},
   "outputs": [],
   "source": [
    "# Load in the configuration file\n",
    "config = loadImageDatasetConfig(\"NSCLC-Radiomics\", Path(\"../../config/datasets\"))\n",
    "\n",
    "# Initialize dataset parameters\n",
    "CLINICAL_DATA_FILE = config[\"CLINICAL_FILE\"]\n",
    "DATASET_NAME = config[\"DATA_SOURCE\"] + \"_\" + config[\"DATASET_NAME\"]\n",
    "\n",
    "RANDOM_SEED = 10\n",
    "\n",
    "# general data directory path setup\n",
    "DATA_DIR_PATH = Path(\"../../data\")\n",
    "RAW_DATA_PATH = DATA_DIR_PATH / \"rawdata\" / DATASET_NAME\n",
    "PROC_DATA_PATH = DATA_DIR_PATH / \"procdata\" / DATASET_NAME\n",
    "RESULTS_DATA_PATH = DATA_DIR_PATH / \"results\" / DATASET_NAME\n",
    "\n",
    "pyradiomics_settings = \"pyradiomics_original_all_features\""
   ]
  },
  {
   "cell_type": "code",
   "execution_count": 3,
   "id": "893efb13",
   "metadata": {},
   "outputs": [],
   "source": [
    "# Load clinical data file\n",
    "clinical_data = loadFileToDataFrame((RAW_DATA_PATH / \"clinical\" / CLINICAL_DATA_FILE))"
   ]
  },
  {
   "cell_type": "code",
   "execution_count": 15,
   "id": "d47ef626",
   "metadata": {},
   "outputs": [],
   "source": [
    "# Load the Med-ImageTools index to use for mapping TCIA IDs to local file names\n",
    "mit_index = loadFileToDataFrame((RAW_DATA_PATH / \"images\" / config[\"MIT_INDEX_FILE\"]))\n",
    "\n",
    "# SampleID is local file name\n",
    "# PatientID is TCIA ID\n",
    "id_map = mit_index['SampleID']\n",
    "id_map.index = mit_index[\"PatientID\"]\n",
    "id_map.drop_duplicates(inplace=True)"
   ]
  },
  {
   "cell_type": "code",
   "execution_count": null,
   "id": "10eebf2f",
   "metadata": {},
   "outputs": [],
   "source": [
    "# Map the SampleIDs to the clinical data and add as a column for intersection\n",
    "clinical_data['SampleID'] = clinical_data['PatientID'].map(id_map)"
   ]
  },
  {
   "cell_type": "code",
   "execution_count": 38,
   "id": "88aa2514",
   "metadata": {},
   "outputs": [],
   "source": [
    "image_type = \"full_original\"\n",
    "pyrad_features = loadFileToDataFrame((RESULTS_DATA_PATH / pyradiomics_settings / f\"{image_type}_features.csv\"))"
   ]
  },
  {
   "cell_type": "code",
   "execution_count": null,
   "id": "6d04a116",
   "metadata": {},
   "outputs": [],
   "source": [
    "def calc_LASSO(X_train, event_status_train, a_lasso):\n",
    "    \"\"\"\n",
    "    Performs LASSO for feature selection\n",
    "   \n",
    "    Parameters\n",
    "    -----------\n",
    "    X_train: pd.DataFrame\n",
    "        A dataframe containing only radiomic features\n",
    "    event_status_train: pd.DataFrame\n",
    "        A column containing the event status of patients\n",
    "    a_lasso: float\n",
    "        The regularization parameter alpha to be used when initializing the LASSO model\n",
    "       \n",
    "    Returns\n",
    "    ----------\n",
    "    lasso_passed: list\n",
    "        All feature names with non zero coefficients\n",
    "    \"\"\"\n",
    " \n",
    "    lasso = Lasso(a_lasso)\n",
    "    lasso.fit(X_train, event_status_train)\n",
    "    lasso_coef = np.abs(lasso.coef_)\n",
    " \n",
    "    all_rad_feats = X_train.columns.values.tolist()\n",
    "    lasso_passed = np.array(all_rad_feats)[lasso_coef>0]\n",
    " \n",
    "    return(lasso_passed)"
   ]
  }
 ],
 "metadata": {
  "kernelspec": {
   "display_name": "default",
   "language": "python",
   "name": "python3"
  },
  "language_info": {
   "codemirror_mode": {
    "name": "ipython",
    "version": 3
   },
   "file_extension": ".py",
   "mimetype": "text/x-python",
   "name": "python",
   "nbconvert_exporter": "python",
   "pygments_lexer": "ipython3",
   "version": "3.13.3"
  }
 },
 "nbformat": 4,
 "nbformat_minor": 5
}
