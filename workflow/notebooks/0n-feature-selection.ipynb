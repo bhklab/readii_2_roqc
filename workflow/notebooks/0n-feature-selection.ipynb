{
 "cells": [
  {
   "cell_type": "code",
   "execution_count": 2,
   "id": "96dabc4b",
   "metadata": {},
   "outputs": [],
   "source": [
    "from sklearn.linear_model import Lasso \n",
    "\n",
    "import pandas as pd\n",
    "from readii.io.loaders import loadImageDatasetConfig, loadFileToDataFrame\n",
    "from readii.process.subset import getPatientIntersectionDataframes\n",
    "from pathlib import Path\n",
    "import numpy as np"
   ]
  },
  {
   "cell_type": "code",
   "execution_count": 3,
   "id": "f5763f29",
   "metadata": {},
   "outputs": [],
   "source": [
    "# Load in the configuration file\n",
    "config = loadImageDatasetConfig(\"NSCLC-Radiomics\", Path(\"../../config/datasets\"))\n",
    "\n",
    "# Initialize dataset parameters\n",
    "CLINICAL_DATA_FILE = config[\"CLINICAL_FILE\"]\n",
    "DATASET_NAME = config[\"DATA_SOURCE\"] + \"_\" + config[\"DATASET_NAME\"]\n",
    "\n",
    "RANDOM_SEED = 10\n",
    "\n",
    "# general data directory path setup\n",
    "DATA_DIR_PATH = Path(\"../../data\")\n",
    "RAW_DATA_PATH = DATA_DIR_PATH / \"rawdata\" / DATASET_NAME\n",
    "PROC_DATA_PATH = DATA_DIR_PATH / \"procdata\" / DATASET_NAME\n",
    "RESULTS_DATA_PATH = DATA_DIR_PATH / \"results\" / DATASET_NAME\n",
    "\n",
    "pyradiomics_settings = \"pyradiomics_original_all_features\""
   ]
  },
  {
   "cell_type": "code",
   "execution_count": 4,
   "id": "893efb13",
   "metadata": {},
   "outputs": [],
   "source": [
    "# Load clinical data file\n",
    "clinical_data = loadFileToDataFrame((RAW_DATA_PATH / \"clinical\" / CLINICAL_DATA_FILE))"
   ]
  },
  {
   "cell_type": "code",
   "execution_count": 7,
   "id": "d47ef626",
   "metadata": {},
   "outputs": [],
   "source": [
    "# Load the Med-ImageTools index to use for mapping TCIA IDs to local file names\n",
    "mit_index = loadFileToDataFrame((RAW_DATA_PATH / \"images\" / config[\"MIT_INDEX_FILE\"]))\n",
    "\n",
    "# SampleID is local file name\n",
    "# PatientID is TCIA ID\n",
    "id_map = mit_index['SampleID']\n",
    "id_map.index = mit_index[\"PatientID\"]\n",
    "id_map.drop_duplicates(inplace=True)\n",
    "\n",
    "# Map the SampleIDs to the clinical data and add as a column for intersection\n",
    "clinical_data['SampleID'] = clinical_data['PatientID'].map(id_map)\n",
    "clinical_data.set_index('SampleID', inplace=True)"
   ]
  },
  {
   "cell_type": "code",
   "execution_count": 12,
   "id": "88aa2514",
   "metadata": {},
   "outputs": [],
   "source": [
    "image_type = \"full_original\"\n",
    "pyrad_features = loadFileToDataFrame((RESULTS_DATA_PATH / pyradiomics_settings / f\"{image_type}_features.csv\"))\n",
    "\n",
    "pyrad_features.rename(columns={\"ID\": \"SampleID\"}, inplace=True)\n",
    "# Set the index to SampleID\n",
    "pyrad_features.set_index('SampleID', inplace=True)"
   ]
  },
  {
   "cell_type": "code",
   "execution_count": 14,
   "id": "02e3fd4c",
   "metadata": {},
   "outputs": [
    {
     "data": {
      "text/plain": [
       "Index(['NSCLC-Radiomics_001', 'NSCLC-Radiomics_002', 'NSCLC-Radiomics_003',\n",
       "       'NSCLC-Radiomics_004', 'NSCLC-Radiomics_005', 'NSCLC-Radiomics_006',\n",
       "       'NSCLC-Radiomics_007', 'NSCLC-Radiomics_008', 'NSCLC-Radiomics_009',\n",
       "       'NSCLC-Radiomics_010',\n",
       "       ...\n",
       "       'NSCLC-Radiomics_413', 'NSCLC-Radiomics_414', 'NSCLC-Radiomics_415',\n",
       "       'NSCLC-Radiomics_416', 'NSCLC-Radiomics_417', 'NSCLC-Radiomics_418',\n",
       "       'NSCLC-Radiomics_419', 'NSCLC-Radiomics_420', 'NSCLC-Radiomics_421',\n",
       "       'NSCLC-Radiomics_422'],\n",
       "      dtype='object', name='SampleID', length=421)"
      ]
     },
     "execution_count": 14,
     "metadata": {},
     "output_type": "execute_result"
    }
   ],
   "source": [
    "clinical_data.index.intersection(pyrad_features.index)"
   ]
  },
  {
   "cell_type": "code",
   "execution_count": 15,
   "id": "a61f5158",
   "metadata": {},
   "outputs": [],
   "source": [
    "clinical_subset, pyrad_subset = getPatientIntersectionDataframes(clinical_data, pyrad_features, need_pat_index_A=False, need_pat_index_B=False)"
   ]
  },
  {
   "cell_type": "code",
   "execution_count": 16,
   "id": "6d04a116",
   "metadata": {},
   "outputs": [],
   "source": [
    "def calc_LASSO(X_train, event_status_train, a_lasso):\n",
    "    \"\"\"\n",
    "    Performs LASSO for feature selection\n",
    "   \n",
    "    Parameters\n",
    "    -----------\n",
    "    X_train: pd.DataFrame\n",
    "        A dataframe containing only radiomic features\n",
    "    event_status_train: pd.DataFrame\n",
    "        A column containing the event status of patients\n",
    "    a_lasso: float\n",
    "        The regularization parameter alpha to be used when initializing the LASSO model\n",
    "       \n",
    "    Returns\n",
    "    ----------\n",
    "    lasso_passed: list\n",
    "        All feature names with non zero coefficients\n",
    "    \"\"\"\n",
    " \n",
    "    lasso = Lasso(a_lasso)\n",
    "    lasso.fit(X_train, event_status_train)\n",
    "    lasso_coef = np.abs(lasso.coef_)\n",
    " \n",
    "    all_rad_feats = X_train.columns.values.tolist()\n",
    "    lasso_passed = np.array(all_rad_feats)[lasso_coef>0]\n",
    " \n",
    "    return(lasso_passed)"
   ]
  },
  {
   "cell_type": "code",
   "execution_count": 18,
   "id": "8f833ce8",
   "metadata": {},
   "outputs": [
    {
     "name": "stderr",
     "output_type": "stream",
     "text": [
      "/home/bhkuser1/katy/readii_2_roqc/.pixi/envs/default/lib/python3.12/site-packages/sklearn/linear_model/_coordinate_descent.py:695: ConvergenceWarning: Objective did not converge. You might want to increase the number of iterations, check the scale of the features or consider increasing regularisation. Duality gap: 2.055e+01, tolerance: 4.253e-03\n",
      "  model = cd_fast.enet_coordinate_descent(\n"
     ]
    },
    {
     "data": {
      "text/plain": [
       "array(['original_shape_VoxelVolume', 'original_shape_SurfaceArea',\n",
       "       'original_firstorder_Energy',\n",
       "       'original_firstorder_InterquartileRange',\n",
       "       'original_firstorder_Maximum', 'original_firstorder_Median',\n",
       "       'original_firstorder_Minimum', 'original_firstorder_TotalEnergy',\n",
       "       'original_firstorder_Variance', 'original_glcm_ClusterProminence',\n",
       "       'original_glrlm_GrayLevelNonUniformity',\n",
       "       'original_glrlm_HighGrayLevelRunEmphasis',\n",
       "       'original_glrlm_LongRunHighGrayLevelEmphasis',\n",
       "       'original_glrlm_RunLengthNonUniformity',\n",
       "       'original_glszm_LargeAreaEmphasis',\n",
       "       'original_glszm_LargeAreaHighGrayLevelEmphasis',\n",
       "       'original_glszm_SizeZoneNonUniformity',\n",
       "       'original_glszm_ZoneVariance',\n",
       "       'original_gldm_DependenceNonUniformity',\n",
       "       'original_gldm_GrayLevelNonUniformity',\n",
       "       'original_gldm_LargeDependenceHighGrayLevelEmphasis',\n",
       "       'original_ngtdm_Complexity'], dtype='<U50')"
      ]
     },
     "execution_count": 18,
     "metadata": {},
     "output_type": "execute_result"
    }
   ],
   "source": [
    "from readii.process import getOnlyPyradiomicsFeatures\n",
    "\n",
    "feats_only = getOnlyPyradiomicsFeatures(pyrad_subset)\n",
    "event_status_train = clinical_subset['deadstatus.event']\n",
    "calc_LASSO(feats_only, event_status_train, 0.5)"
   ]
  },
  {
   "cell_type": "code",
   "execution_count": null,
   "id": "3002b199",
   "metadata": {},
   "outputs": [],
   "source": []
  }
 ],
 "metadata": {
  "kernelspec": {
   "display_name": "default",
   "language": "python",
   "name": "python3"
  },
  "language_info": {
   "codemirror_mode": {
    "name": "ipython",
    "version": 3
   },
   "file_extension": ".py",
   "mimetype": "text/x-python",
   "name": "python",
   "nbconvert_exporter": "python",
   "pygments_lexer": "ipython3",
   "version": "3.13.3"
  }
 },
 "nbformat": 4,
 "nbformat_minor": 5
}
