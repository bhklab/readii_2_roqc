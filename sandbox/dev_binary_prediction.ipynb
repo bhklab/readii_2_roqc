{
 "cells": [
  {
   "cell_type": "code",
   "execution_count": 1,
   "id": "9244a97e",
   "metadata": {},
   "outputs": [
    {
     "name": "stdout",
     "output_type": "stream",
     "text": [
      "/home/bhkuser/bhklab/katy/readii_2_roqc\n"
     ]
    }
   ],
   "source": [
    "%cd .."
   ]
  },
  {
   "cell_type": "code",
   "execution_count": 54,
   "id": "21a89138",
   "metadata": {},
   "outputs": [],
   "source": [
    "from damply import dirs\n",
    "import pandas as pd\n",
    "from readii.process.subset import getPatientIntersectionDataframes, getOnlyPyradiomicsFeatures\n",
    "from readii_2_roqc.analysis.predict import load_signature_config\n",
    "from readii.io.loaders import loadFileToDataFrame\n",
    "from readii_2_roqc.utils.loaders import load_dataset_config\n",
    "from readii.process.label import (\n",
    "    eventOutcomeColumnSetup,\n",
    "    getPatientIdentifierLabel,\n",
    "    timeOutcomeColumnSetup,\n",
    ")\n",
    "\n",
    "import numpy as np\n",
    "from pathlib import Path\n",
    "import matplotlib.pyplot as plt"
   ]
  },
  {
   "cell_type": "code",
   "execution_count": 61,
   "id": "37693661",
   "metadata": {},
   "outputs": [],
   "source": [
    "dataset = \"HEAD-NECK-RADIOMICS-HN1\"\n",
    "dataset_config, dataset_name, full_data_name = load_dataset_config(dataset)\n",
    "extract_method = dataset_config['EXTRACTION']['METHOD']\n",
    "\n",
    "\n",
    "clinical_data = loadFileToDataFrame(dirs.RAWDATA / full_data_name / \"clinical\" / dataset_config['CLINICAL']['FILE'])\n",
    "feature_data = loadFileToDataFrame(dirs.RESULTS / full_data_name / \"features\" / dataset_config['EXTRACTION']['METHOD'] / Path(dataset_config['EXTRACTION']['CONFIG']).stem / \"original_full_features.csv\")\n",
    "index_data = loadFileToDataFrame(dirs.PROCDATA / full_data_name / \"features\" / extract_method / f\"{extract_method}_{dataset_name}_index.csv\")"
   ]
  },
  {
   "cell_type": "code",
   "execution_count": 62,
   "id": "d6f4c11f",
   "metadata": {},
   "outputs": [],
   "source": [
    "existing_pat_id = getPatientIdentifierLabel(clinical_data)\n",
    "\n",
    "id_map = index_data[\"SampleID\"]\n",
    "id_map.index = [value[0:-5] for value in index_data[\"SampleID\"]]\n",
    "id_map = id_map.drop_duplicates()\n",
    "\n",
    "clinical_data[\"SampleID\"] = clinical_data[existing_pat_id].map(id_map)\n",
    "# clinical_data[\"Status_bin\"] = clinical_data[\"Status\"].apply(lambda x: 1 if x == \"Dead\" else 0)"
   ]
  },
  {
   "cell_type": "code",
   "execution_count": 63,
   "id": "00d8cbdd",
   "metadata": {},
   "outputs": [],
   "source": [
    "clinical_data.index = clinical_data['SampleID']\n",
    "feature_data.index = feature_data['SampleID']\n",
    "clinical_subset, feature_subset = getPatientIntersectionDataframes(clinical_data, feature_data, False, False)"
   ]
  },
  {
   "cell_type": "markdown",
   "id": "147bd5e4",
   "metadata": {},
   "source": [
    "# Volume prediction"
   ]
  },
  {
   "cell_type": "code",
   "execution_count": 64,
   "id": "20d93f8d",
   "metadata": {},
   "outputs": [],
   "source": [
    "from sksurv.linear_model import CoxPHSurvivalAnalysis\n",
    "\n",
    "outcome_vars = dataset_config['CLINICAL']['OUTCOME_VARIABLES']\n",
    "\n",
    "volumes = feature_data['original_shape_MeshVolume']\n",
    "labels = pd.DataFrame()\n",
    "\n",
    "event_status = clinical_subset[[outcome_vars['event_label']]]\n",
    "event_time = clinical_subset[[outcome_vars['time_label']]]\n",
    "\n",
    "labels['survival_event_bool'] = event_time.astype(bool)\n",
    "\n",
    "if dataset_config['CLINICAL']['OUTCOME_VARIABLES']['convert_to_years']:\n",
    "    labels['survival_time_years'] = np.round(event_status / 365, 4)\n",
    "\n"
   ]
  },
  {
   "cell_type": "code",
   "execution_count": 65,
   "id": "5d1d6b47",
   "metadata": {},
   "outputs": [
    {
     "data": {
      "application/vnd.microsoft.datawrangler.viewer.v0+json": {
       "columns": [
        {
         "name": "SampleID",
         "rawType": "object",
         "type": "string"
        },
        {
         "name": "original_shape_MeshVolume",
         "rawType": "float64",
         "type": "float"
        }
       ],
       "ref": "3cf13ee8-61b1-45c0-ad58-27d763724db8",
       "rows": [
        [
         "HN1004_0000",
         "121067.83333333331"
        ],
        [
         "HN1006_0001",
         "4529.416666666667"
        ],
        [
         "HN1022_0002",
         "35441.541666666664"
        ],
        [
         "HN1026_0003",
         "4379.875"
        ],
        [
         "HN1029_0004",
         "7559.416666666667"
        ],
        [
         "HN1046_0005",
         "13631.875"
        ],
        [
         "HN1047_0006",
         "1656.625"
        ],
        [
         "HN1054_0007",
         "14024.708333333334"
        ],
        [
         "HN1057_0008",
         "2750.583333333333"
        ],
        [
         "HN1060_0009",
         "49906.91666666666"
        ],
        [
         "HN1062_0010",
         "760.0833333333334"
        ],
        [
         "HN1067_0011",
         "16967.291666666668"
        ],
        [
         "HN1074_0012",
         "2301.5"
        ],
        [
         "HN1077_0013",
         "424.8333333333333"
        ],
        [
         "HN1079_0014",
         "14539.958333333334"
        ],
        [
         "HN1080_0015",
         "16342.708333333334"
        ],
        [
         "HN1081_0016",
         "520.5"
        ],
        [
         "HN1083_0017",
         "609.25"
        ],
        [
         "HN1088_0018",
         "20901.75"
        ],
        [
         "HN1092_0019",
         "32316.08333333333"
        ],
        [
         "HN1095_0020",
         "133711.29166666666"
        ],
        [
         "HN1096_0021",
         "54022.75"
        ],
        [
         "HN1102_0022",
         "55222.958333333336"
        ],
        [
         "HN1106_0023",
         "457.8333333333333"
        ],
        [
         "HN1117_0024",
         "34120.708333333336"
        ],
        [
         "HN1118_0025",
         "9353.708333333334"
        ],
        [
         "HN1123_0026",
         "2561.0416666666665"
        ],
        [
         "HN1127_0027",
         "812.5416666666666"
        ],
        [
         "HN1135_0028",
         "49228.333333333336"
        ],
        [
         "HN1139_0029",
         "10824.583333333334"
        ],
        [
         "HN1146_0030",
         "5582.291666666667"
        ],
        [
         "HN1159_0031",
         "24000.416666666668"
        ],
        [
         "HN1170_0032",
         "1772.0416666666667"
        ],
        [
         "HN1175_0033",
         "19404.291666666668"
        ],
        [
         "HN1180_0034",
         "35937.541666666664"
        ],
        [
         "HN1192_0035",
         "28257.416666666668"
        ],
        [
         "HN1197_0036",
         "33354.791666666664"
        ],
        [
         "HN1200_0037",
         "5175.875"
        ],
        [
         "HN1201_0038",
         "8331.375"
        ],
        [
         "HN1208_0039",
         "47412.708333333336"
        ],
        [
         "HN1215_0040",
         "23629.58333333333"
        ],
        [
         "HN1244_0041",
         "14527.583333333334"
        ],
        [
         "HN1259_0042",
         "12596.0"
        ],
        [
         "HN1260_0043",
         "61311.583333333336"
        ],
        [
         "HN1263_0044",
         "1169.2083333333333"
        ],
        [
         "HN1271_0045",
         "7089.125"
        ],
        [
         "HN1280_0046",
         "1584.125"
        ],
        [
         "HN1294_0047",
         "2949.208333333333"
        ],
        [
         "HN1305_0048",
         "13294.25"
        ],
        [
         "HN1308_0049",
         "9669.333333333334"
        ]
       ],
       "shape": {
        "columns": 1,
        "rows": 137
       }
      },
      "text/plain": [
       "SampleID\n",
       "HN1004_0000    121067.833333\n",
       "HN1006_0001      4529.416667\n",
       "HN1022_0002     35441.541667\n",
       "HN1026_0003      4379.875000\n",
       "HN1029_0004      7559.416667\n",
       "                   ...      \n",
       "HN1950_0132     18117.750000\n",
       "HN1954_0133     29777.083333\n",
       "HN1968_0134     12641.291667\n",
       "HN1987_0135     77355.958333\n",
       "HN1998_0136      6127.375000\n",
       "Name: original_shape_MeshVolume, Length: 137, dtype: float64"
      ]
     },
     "execution_count": 65,
     "metadata": {},
     "output_type": "execute_result"
    }
   ],
   "source": [
    "volumes"
   ]
  },
  {
   "cell_type": "code",
   "execution_count": 66,
   "id": "45db729c",
   "metadata": {},
   "outputs": [
    {
     "data": {
      "text/plain": [
       "np.float64(0.6803946803946804)"
      ]
     },
     "execution_count": 66,
     "metadata": {},
     "output_type": "execute_result"
    }
   ],
   "source": [
    "X = volumes.to_numpy().reshape(-1,1)\n",
    "y = labels.to_records(index=False)\n",
    "model = CoxPHSurvivalAnalysis().fit(X,y).score(X, y)\n",
    "model\n"
   ]
  },
  {
   "cell_type": "markdown",
   "id": "051ac861",
   "metadata": {},
   "source": [
    "# HPV Filtering"
   ]
  },
  {
   "cell_type": "code",
   "execution_count": 67,
   "id": "3cd2333d",
   "metadata": {},
   "outputs": [
    {
     "ename": "KeyError",
     "evalue": "'Ds Site'",
     "output_type": "error",
     "traceback": [
      "\u001b[31m---------------------------------------------------------------------------\u001b[39m",
      "\u001b[31mKeyError\u001b[39m                                  Traceback (most recent call last)",
      "\u001b[36mFile \u001b[39m\u001b[32m~/bhklab/katy/readii_2_roqc/.pixi/envs/default/lib/python3.13/site-packages/pandas/core/indexes/base.py:3812\u001b[39m, in \u001b[36mIndex.get_loc\u001b[39m\u001b[34m(self, key)\u001b[39m\n\u001b[32m   3811\u001b[39m \u001b[38;5;28;01mtry\u001b[39;00m:\n\u001b[32m-> \u001b[39m\u001b[32m3812\u001b[39m     \u001b[38;5;28;01mreturn\u001b[39;00m \u001b[38;5;28;43mself\u001b[39;49m\u001b[43m.\u001b[49m\u001b[43m_engine\u001b[49m\u001b[43m.\u001b[49m\u001b[43mget_loc\u001b[49m\u001b[43m(\u001b[49m\u001b[43mcasted_key\u001b[49m\u001b[43m)\u001b[49m\n\u001b[32m   3813\u001b[39m \u001b[38;5;28;01mexcept\u001b[39;00m \u001b[38;5;167;01mKeyError\u001b[39;00m \u001b[38;5;28;01mas\u001b[39;00m err:\n",
      "\u001b[36mFile \u001b[39m\u001b[32mpandas/_libs/index.pyx:167\u001b[39m, in \u001b[36mpandas._libs.index.IndexEngine.get_loc\u001b[39m\u001b[34m()\u001b[39m\n",
      "\u001b[36mFile \u001b[39m\u001b[32mpandas/_libs/index.pyx:196\u001b[39m, in \u001b[36mpandas._libs.index.IndexEngine.get_loc\u001b[39m\u001b[34m()\u001b[39m\n",
      "\u001b[36mFile \u001b[39m\u001b[32mpandas/_libs/hashtable_class_helper.pxi:7088\u001b[39m, in \u001b[36mpandas._libs.hashtable.PyObjectHashTable.get_item\u001b[39m\u001b[34m()\u001b[39m\n",
      "\u001b[36mFile \u001b[39m\u001b[32mpandas/_libs/hashtable_class_helper.pxi:7096\u001b[39m, in \u001b[36mpandas._libs.hashtable.PyObjectHashTable.get_item\u001b[39m\u001b[34m()\u001b[39m\n",
      "\u001b[31mKeyError\u001b[39m: 'Ds Site'",
      "\nThe above exception was the direct cause of the following exception:\n",
      "\u001b[31mKeyError\u001b[39m                                  Traceback (most recent call last)",
      "\u001b[36mCell\u001b[39m\u001b[36m \u001b[39m\u001b[32mIn[67]\u001b[39m\u001b[32m, line 1\u001b[39m\n\u001b[32m----> \u001b[39m\u001b[32m1\u001b[39m opc_clinical_data = clinical_data[\u001b[43mclinical_data\u001b[49m\u001b[43m[\u001b[49m\u001b[33;43m\"\u001b[39;49m\u001b[33;43mDs Site\u001b[39;49m\u001b[33;43m\"\u001b[39;49m\u001b[43m]\u001b[49m == \u001b[33m\"\u001b[39m\u001b[33mOropharynx\u001b[39m\u001b[33m\"\u001b[39m]\n\u001b[32m      3\u001b[39m opc_hpv_clinical_data = opc_clinical_data.dropna(axis=\u001b[32m0\u001b[39m, subset=[\u001b[33m\"\u001b[39m\u001b[33mSampleID\u001b[39m\u001b[33m\"\u001b[39m, \u001b[33m\"\u001b[39m\u001b[33mHPV\u001b[39m\u001b[33m\"\u001b[39m])\n\u001b[32m      4\u001b[39m opc_hpv_clinical_data = opc_hpv_clinical_data.set_index(\u001b[33m\"\u001b[39m\u001b[33mSampleID\u001b[39m\u001b[33m\"\u001b[39m, drop=\u001b[38;5;28;01mTrue\u001b[39;00m)\n",
      "\u001b[36mFile \u001b[39m\u001b[32m~/bhklab/katy/readii_2_roqc/.pixi/envs/default/lib/python3.13/site-packages/pandas/core/frame.py:4107\u001b[39m, in \u001b[36mDataFrame.__getitem__\u001b[39m\u001b[34m(self, key)\u001b[39m\n\u001b[32m   4105\u001b[39m \u001b[38;5;28;01mif\u001b[39;00m \u001b[38;5;28mself\u001b[39m.columns.nlevels > \u001b[32m1\u001b[39m:\n\u001b[32m   4106\u001b[39m     \u001b[38;5;28;01mreturn\u001b[39;00m \u001b[38;5;28mself\u001b[39m._getitem_multilevel(key)\n\u001b[32m-> \u001b[39m\u001b[32m4107\u001b[39m indexer = \u001b[38;5;28;43mself\u001b[39;49m\u001b[43m.\u001b[49m\u001b[43mcolumns\u001b[49m\u001b[43m.\u001b[49m\u001b[43mget_loc\u001b[49m\u001b[43m(\u001b[49m\u001b[43mkey\u001b[49m\u001b[43m)\u001b[49m\n\u001b[32m   4108\u001b[39m \u001b[38;5;28;01mif\u001b[39;00m is_integer(indexer):\n\u001b[32m   4109\u001b[39m     indexer = [indexer]\n",
      "\u001b[36mFile \u001b[39m\u001b[32m~/bhklab/katy/readii_2_roqc/.pixi/envs/default/lib/python3.13/site-packages/pandas/core/indexes/base.py:3819\u001b[39m, in \u001b[36mIndex.get_loc\u001b[39m\u001b[34m(self, key)\u001b[39m\n\u001b[32m   3814\u001b[39m     \u001b[38;5;28;01mif\u001b[39;00m \u001b[38;5;28misinstance\u001b[39m(casted_key, \u001b[38;5;28mslice\u001b[39m) \u001b[38;5;129;01mor\u001b[39;00m (\n\u001b[32m   3815\u001b[39m         \u001b[38;5;28misinstance\u001b[39m(casted_key, abc.Iterable)\n\u001b[32m   3816\u001b[39m         \u001b[38;5;129;01mand\u001b[39;00m \u001b[38;5;28many\u001b[39m(\u001b[38;5;28misinstance\u001b[39m(x, \u001b[38;5;28mslice\u001b[39m) \u001b[38;5;28;01mfor\u001b[39;00m x \u001b[38;5;129;01min\u001b[39;00m casted_key)\n\u001b[32m   3817\u001b[39m     ):\n\u001b[32m   3818\u001b[39m         \u001b[38;5;28;01mraise\u001b[39;00m InvalidIndexError(key)\n\u001b[32m-> \u001b[39m\u001b[32m3819\u001b[39m     \u001b[38;5;28;01mraise\u001b[39;00m \u001b[38;5;167;01mKeyError\u001b[39;00m(key) \u001b[38;5;28;01mfrom\u001b[39;00m\u001b[38;5;250m \u001b[39m\u001b[34;01merr\u001b[39;00m\n\u001b[32m   3820\u001b[39m \u001b[38;5;28;01mexcept\u001b[39;00m \u001b[38;5;167;01mTypeError\u001b[39;00m:\n\u001b[32m   3821\u001b[39m     \u001b[38;5;66;03m# If we have a listlike key, _check_indexing_error will raise\u001b[39;00m\n\u001b[32m   3822\u001b[39m     \u001b[38;5;66;03m#  InvalidIndexError. Otherwise we fall through and re-raise\u001b[39;00m\n\u001b[32m   3823\u001b[39m     \u001b[38;5;66;03m#  the TypeError.\u001b[39;00m\n\u001b[32m   3824\u001b[39m     \u001b[38;5;28mself\u001b[39m._check_indexing_error(key)\n",
      "\u001b[31mKeyError\u001b[39m: 'Ds Site'"
     ]
    }
   ],
   "source": [
    "opc_clinical_data = clinical_data[clinical_data[\"Ds Site\"] == \"Oropharynx\"]\n",
    "\n",
    "opc_hpv_clinical_data = opc_clinical_data.dropna(axis=0, subset=[\"SampleID\", \"HPV\"])\n",
    "opc_hpv_clinical_data = opc_hpv_clinical_data.set_index(\"SampleID\", drop=True)\n",
    "\n",
    "\n",
    "feature_data = feature_data.set_index(\"SampleID\", drop=True)\n",
    "feature_data = getOnlyPyradiomicsFeatures(feature_data)"
   ]
  },
  {
   "cell_type": "code",
   "execution_count": null,
   "id": "8eb1f484",
   "metadata": {},
   "outputs": [],
   "source": [
    "clinical_subset, feature_subset = getPatientIntersectionDataframes(opc_hpv_clinical_data, feature_data, False, False)"
   ]
  },
  {
   "cell_type": "code",
   "execution_count": null,
   "id": "ff8849a4",
   "metadata": {},
   "outputs": [],
   "source": [
    "outcome_series = clinical_subset['HPV'].apply(lambda x: 1 if x == \"Yes, positive\" else 0)"
   ]
  },
  {
   "cell_type": "markdown",
   "id": "85a20cae",
   "metadata": {},
   "source": [
    "# Save out subset data"
   ]
  },
  {
   "cell_type": "code",
   "execution_count": null,
   "id": "beabf6c1",
   "metadata": {},
   "outputs": [],
   "source": [
    "feature_subset.insert(0, \"HPV_bin\", outcome_series)"
   ]
  },
  {
   "cell_type": "code",
   "execution_count": null,
   "id": "ae62986b",
   "metadata": {},
   "outputs": [],
   "source": [
    "labelled_output_dir = Path(dirs.PROCDATA / \"TCIA_RADCURE\" / \"features\" / \"labelled\" / \"HPV_pyradiomics\")\n",
    "labelled_output_dir.mkdir(parents=True, exist_ok=True)\n",
    "feature_subset.to_csv( labelled_output_dir / \"original_full_features.csv\", index=True)"
   ]
  },
  {
   "cell_type": "code",
   "execution_count": null,
   "id": "615f882a",
   "metadata": {},
   "outputs": [],
   "source": [
    "clinical_subset.to_csv(dirs.PROCDATA / \"TCIA_RADCURE\" / \"clinical\" / \"RADCURE_Clinical_OPC_HPV_20250820.csv\", index=True)"
   ]
  },
  {
   "cell_type": "markdown",
   "id": "9f010dcd",
   "metadata": {},
   "source": [
    "# Choi et al. signature"
   ]
  },
  {
   "cell_type": "code",
   "execution_count": null,
   "id": "035bd185",
   "metadata": {},
   "outputs": [],
   "source": [
    "signature = load_signature_config(dirs.CONFIG / \"signatures/choi_opc_hpv_2020.yaml\")"
   ]
  },
  {
   "cell_type": "code",
   "execution_count": null,
   "id": "1bd332b2",
   "metadata": {},
   "outputs": [],
   "source": [
    "signature"
   ]
  },
  {
   "cell_type": "code",
   "execution_count": null,
   "id": "4f1650f0",
   "metadata": {},
   "outputs": [],
   "source": [
    "signature_feature_data = feature_subset[signature.index]"
   ]
  },
  {
   "cell_type": "code",
   "execution_count": null,
   "id": "0bda954f",
   "metadata": {},
   "outputs": [],
   "source": [
    "from sklearn.linear_model import LogisticRegression, SGD\n",
    "\n",
    "model = LogisticRegression(solver='liblinear').fit(signature_feature_data, outcome_series)"
   ]
  },
  {
   "cell_type": "code",
   "execution_count": null,
   "id": "c3bf3b64",
   "metadata": {},
   "outputs": [],
   "source": [
    "model.score(signature_feature_data, outcome_series)"
   ]
  },
  {
   "cell_type": "code",
   "execution_count": null,
   "id": "83ae07dc",
   "metadata": {},
   "outputs": [],
   "source": [
    "model.predict(signature_feature_data)"
   ]
  },
  {
   "cell_type": "code",
   "execution_count": null,
   "id": "7d572708",
   "metadata": {},
   "outputs": [],
   "source": []
  }
 ],
 "metadata": {
  "kernelspec": {
   "display_name": "Python 3",
   "language": "python",
   "name": "python3"
  },
  "language_info": {
   "codemirror_mode": {
    "name": "ipython",
    "version": 3
   },
   "file_extension": ".py",
   "mimetype": "text/x-python",
   "name": "python",
   "nbconvert_exporter": "python",
   "pygments_lexer": "ipython3",
   "version": "3.13.5"
  }
 },
 "nbformat": 4,
 "nbformat_minor": 5
}
