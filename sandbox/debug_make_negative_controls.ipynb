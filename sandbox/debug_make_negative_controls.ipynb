{
 "cells": [
  {
   "cell_type": "code",
   "execution_count": 11,
   "id": "66eb2df1",
   "metadata": {},
   "outputs": [],
   "source": [
    "import SimpleITK as sitk\n",
    "import pandas as pd\n",
    "\n",
    "from pathlib import Path\n",
    "from damply import dirs\n",
    "from joblib import Parallel, delayed\n",
    "\n",
    "from readii.image_processing import flattenImage, alignImages\n",
    "from readii.io.loaders import loadImageDatasetConfig\n",
    "from readii.io.writers.nifti_writer import NIFTIWriter, NiftiWriterIOError\n",
    "from readii.negative_controls_refactor import NegativeControlManager\n",
    "from readii.process.config import get_full_data_name\n",
    "from readii.utils import logger"
   ]
  },
  {
   "cell_type": "code",
   "execution_count": 3,
   "id": "156538ca",
   "metadata": {},
   "outputs": [],
   "source": [
    "def get_readii_settings(dataset_config: dict) -> tuple[list, list, list]:\n",
    "    \"\"\"Extract READII settings from a configuration dictionary.\n",
    "    \n",
    "    Parameters\n",
    "    ----------\n",
    "    dataset_config : dict\n",
    "        Configuration dictionary read in with `loadImageDatasetConfig` containing READII settings\n",
    "    \n",
    "    Returns\n",
    "    -------\n",
    "    tuple\n",
    "        A tuple containing:\n",
    "        - regions: list of regions to process\n",
    "        - permutations: list of permutations to apply\n",
    "        - crop: list of crop settings\n",
    "    \"\"\"\n",
    "    readii_config = dataset_config['READII']\n",
    "    if 'IMAGE_TYPES' not in readii_config:\n",
    "        message = \"READII configuration must contain 'IMAGE_TYPES'.\"\n",
    "        logger.error(message)\n",
    "        raise KeyError(message)\n",
    "    \n",
    "    regions = readii_config['IMAGE_TYPES']['regions']\n",
    "\n",
    "    permutations = readii_config['IMAGE_TYPES']['permutations']\n",
    "\n",
    "    crop = readii_config['IMAGE_TYPES']['crop']\n",
    "\n",
    "    return regions, permutations, crop"
   ]
  },
  {
   "cell_type": "code",
   "execution_count": 4,
   "id": "51453a79",
   "metadata": {},
   "outputs": [],
   "source": [
    "def save_out_negative_controls(nifti_writer: NIFTIWriter,\n",
    "                            patient_id: str,\n",
    "                            image: sitk.Image,\n",
    "                            region: str,\n",
    "                            permutation: str):\n",
    "    \"\"\"Save out negative control images using the NIFTIWriter.\"\"\"\n",
    "\n",
    "    try:\n",
    "        nifti_writer.save(\n",
    "                        image,\n",
    "                        PatientID=patient_id,\n",
    "                        region=region,\n",
    "                        permutation=permutation\n",
    "                    )\n",
    "    except NiftiWriterIOError as e:\n",
    "        message = f\"{permutation} {region} negative control file already exists for {patient_id}. If you wish to overwrite, set overwrite to true in the NIFTIWriter.\"\n",
    "        logger.debug(message)\n",
    "\n",
    "    return image"
   ]
  },
  {
   "cell_type": "code",
   "execution_count": 12,
   "id": "1d5f8035",
   "metadata": {},
   "outputs": [
    {
     "name": "stdout",
     "output_type": "stream",
     "text": [
      "Processing StudyInstanceUID: 1.3.6.1.4.1.32722.99.99.203715003805996641695765332389135385095\n"
     ]
    },
    {
     "name": "stderr",
     "output_type": "stream",
     "text": [
      "\u001b[2m15:07:14\u001b[0m [\u001b[33m\u001b[1mwarning  \u001b[0m] \u001b[1mFile /home/bhkuser1/katy/readii_2_roqc/data/procdata/TCIA_NSCLC-Radiomics_test/images/readii_NSCLC-Radiomics_test/LUNG1-002_0001/CT_23261228/sampled_roi.nii.gz already exists. Overwriting.\u001b[0m [\u001b[0m\u001b[1m\u001b[34mreadii\u001b[0m]\u001b[0m \u001b[36mcall\u001b[0m=\u001b[35mnifti_writer.save:108\u001b[0m\n"
     ]
    },
    {
     "name": "stdout",
     "output_type": "stream",
     "text": [
      "Processing StudyInstanceUID: 1.3.6.1.4.1.32722.99.99.239341353911714368772597187099978969331\n"
     ]
    },
    {
     "name": "stderr",
     "output_type": "stream",
     "text": [
      "\u001b[2m15:07:17\u001b[0m [\u001b[33m\u001b[1mwarning  \u001b[0m] \u001b[1mFile /home/bhkuser1/katy/readii_2_roqc/data/procdata/TCIA_NSCLC-Radiomics_test/images/readii_NSCLC-Radiomics_test/LUNG1-001_0000/CT_63382046/sampled_roi.nii.gz already exists. Overwriting.\u001b[0m [\u001b[0m\u001b[1m\u001b[34mreadii\u001b[0m]\u001b[0m \u001b[36mcall\u001b[0m=\u001b[35mnifti_writer.save:108\u001b[0m\n"
     ]
    }
   ],
   "source": [
    "dataset = \"NSCLC-Radiomics_test\"\n",
    "random_seed = 10\n",
    "\n",
    "if dataset is None:\n",
    "    message = \"Dataset name must be provided.\"\n",
    "    logger.error(message)\n",
    "    raise ValueError(message)\n",
    "\n",
    "config_dir_path = dirs.CONFIG / 'datasets'\n",
    "\n",
    "dataset_config = loadImageDatasetConfig(dataset, config_dir_path)\n",
    "\n",
    "dataset_name = dataset_config['DATASET_NAME']\n",
    "full_data_name = get_full_data_name(config_dir_path / dataset)\n",
    "logger.info(f\"Creating negative controls for dataset: {dataset_name}\")\n",
    "\n",
    "# Extract READII settings\n",
    "regions, permutations, _crop = get_readii_settings(dataset_config)\n",
    "\n",
    "# Set up negative control manager with settings from config\n",
    "manager = NegativeControlManager.from_strings(\n",
    "    negative_control_types=permutations,\n",
    "    region_types=regions,\n",
    "    random_seed=random_seed\n",
    ")\n",
    "\n",
    "mit_images_dir_path = dirs.PROCDATA / full_data_name / 'images' /f'mit_{dataset_name}'\n",
    "\n",
    "dataset_index = pd.read_csv(Path(mit_images_dir_path, f'mit_{dataset_name}_index.csv'))\n",
    "\n",
    "# StudyInstanceUID\n",
    "for study, study_data in dataset_index.groupby('StudyInstanceUID'):\n",
    "    print(f\"Processing StudyInstanceUID: {study}\")\n",
    "\n",
    "    # Get image metadata as a pd.Series\n",
    "    image_metadata = study_data[study_data['Modality'] == 'CT'].squeeze()\n",
    "    image_path = Path(image_metadata['filepath'])\n",
    "    # Load in image\n",
    "    raw_image = sitk.ReadImage(mit_images_dir_path / image_path)\n",
    "    # Remove extra dimension of image, set origin, spacing, direction to original\n",
    "    image = alignImages(raw_image, flattenImage(raw_image))\n",
    "\n",
    "    # Get mask metadata as a pd.Series\n",
    "    mask_metadata = study_data[study_data['Modality'] == 'RTSTRUCT'].squeeze()\n",
    "    mask_path = Path(mask_metadata['filepath'])\n",
    "    # Load in mask\n",
    "    raw_mask = sitk.ReadImage(mit_images_dir_path / mask_path)\n",
    "    mask = alignImages(raw_mask, flattenImage(raw_mask))\n",
    "\n",
    "    # Set up writer for saving out the negative controls\n",
    "    nifti_writer = NIFTIWriter(\n",
    "        root_directory = mit_images_dir_path.parent / f'readii_{dataset_name}' / image_path.parent,\n",
    "        filename_format = \"{permutation}_{region}.nii.gz\",\n",
    "        overwrite = True,\n",
    "        create_dirs = True\n",
    "    )\n",
    "\n",
    "    for neg_image, permutation, region in manager.apply(image, mask):\n",
    "        image = save_out_negative_controls(\n",
    "                nifti_writer, \n",
    "                patient_id = image_metadata['PatientID'],\n",
    "                image = neg_image,\n",
    "                region = region,\n",
    "                permutation = permutation\n",
    "            )\n"
   ]
  },
  {
   "cell_type": "code",
   "execution_count": 6,
   "id": "8dc13bde",
   "metadata": {},
   "outputs": [
    {
     "data": {
      "text/plain": [
       "'LUNG1-001_0000/CT_63382046/CT.nii.gz'"
      ]
     },
     "execution_count": 6,
     "metadata": {},
     "output_type": "execute_result"
    }
   ],
   "source": [
    "image_metadata['filepath']"
   ]
  },
  {
   "cell_type": "code",
   "execution_count": 9,
   "id": "c0e993fb",
   "metadata": {},
   "outputs": [
    {
     "data": {
      "text/plain": [
       "(1.0, 1.0, 1.0)"
      ]
     },
     "execution_count": 9,
     "metadata": {},
     "output_type": "execute_result"
    }
   ],
   "source": [
    "image.GetSpacing()"
   ]
  },
  {
   "cell_type": "code",
   "execution_count": 10,
   "id": "527886bc",
   "metadata": {},
   "outputs": [
    {
     "data": {
      "text/plain": [
       "(0.9765625, 0.9765625, 3.0)"
      ]
     },
     "execution_count": 10,
     "metadata": {},
     "output_type": "execute_result"
    }
   ],
   "source": [
    "raw_image = sitk.ReadImage(mit_images_dir_path / image_path)\n",
    "raw_image.GetSpacing()"
   ]
  },
  {
   "cell_type": "code",
   "execution_count": 14,
   "id": "a6032795",
   "metadata": {},
   "outputs": [
    {
     "data": {
      "text/plain": [
       "(0.9765625, 0.9765625, 3.0)"
      ]
     },
     "execution_count": 14,
     "metadata": {},
     "output_type": "execute_result"
    }
   ],
   "source": [
    "neg_image.GetSpacing()"
   ]
  },
  {
   "cell_type": "code",
   "execution_count": null,
   "id": "1a88052f",
   "metadata": {},
   "outputs": [],
   "source": []
  }
 ],
 "metadata": {
  "kernelspec": {
   "display_name": "default",
   "language": "python",
   "name": "python3"
  },
  "language_info": {
   "codemirror_mode": {
    "name": "ipython",
    "version": 3
   },
   "file_extension": ".py",
   "mimetype": "text/x-python",
   "name": "python",
   "nbconvert_exporter": "python",
   "pygments_lexer": "ipython3",
   "version": "3.12.10"
  }
 },
 "nbformat": 4,
 "nbformat_minor": 5
}
