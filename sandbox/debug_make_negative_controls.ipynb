{
 "cells": [
  {
   "cell_type": "code",
   "execution_count": 3,
   "id": "62c01221",
   "metadata": {},
   "outputs": [
    {
     "name": "stdout",
     "output_type": "stream",
     "text": [
      "/Users/katyscott/Documents/BHKLab_GitHub/readii_2_roqc\n"
     ]
    }
   ],
   "source": [
    "%cd .."
   ]
  },
  {
   "cell_type": "code",
   "execution_count": 2,
   "id": "66eb2df1",
   "metadata": {},
   "outputs": [],
   "source": [
    "from pathlib import Path\n",
    "from typing import Optional\n",
    "\n",
    "import pandas as pd\n",
    "import SimpleITK as sitk\n",
    "from damply import dirs\n",
    "from readii.image_processing import alignImages, flattenImage\n",
    "from readii.io.loaders import loadImageDatasetConfig\n",
    "from readii.io.writers.nifti_writer import NIFTIWriter, NiftiWriterIOError\n",
    "from readii.negative_controls_refactor import NegativeControlManager\n",
    "from readii.process.config import get_full_data_name\n",
    "from readii.utils import logger"
   ]
  },
  {
   "cell_type": "code",
   "execution_count": 3,
   "id": "156538ca",
   "metadata": {},
   "outputs": [],
   "source": [
    "def get_readii_settings(dataset_config: dict) -> tuple[list, list, list]:\n",
    "    \"\"\"Extract READII settings from a configuration dictionary.\n",
    "    \n",
    "    Parameters\n",
    "    ----------\n",
    "    dataset_config : dict\n",
    "        Configuration dictionary read in with `loadImageDatasetConfig` containing READII settings\n",
    "    \n",
    "    Returns\n",
    "    -------\n",
    "    tuple\n",
    "        A tuple containing:\n",
    "        - regions: list of regions to process\n",
    "        - permutations: list of permutations to apply\n",
    "        - crop: list of crop settings\n",
    "    \"\"\"\n",
    "    readii_config = dataset_config['READII']\n",
    "    if 'IMAGE_TYPES' not in readii_config:\n",
    "        message = \"READII configuration must contain 'IMAGE_TYPES'.\"\n",
    "        logger.error(message)\n",
    "        raise KeyError(message)\n",
    "    \n",
    "    regions = readii_config['IMAGE_TYPES']['regions']\n",
    "\n",
    "    permutations = readii_config['IMAGE_TYPES']['permutations']\n",
    "\n",
    "    crop = readii_config['IMAGE_TYPES']['crop']\n",
    "\n",
    "    return regions, permutations, crop"
   ]
  },
  {
   "cell_type": "code",
   "execution_count": 11,
   "id": "7db28caf",
   "metadata": {},
   "outputs": [],
   "source": [
    "def get_masked_image_metadata(dataset_index:pd.DataFrame,\n",
    "                              dataset_config:Optional[dict] = None,\n",
    "                              image_modality:Optional[str] = None,\n",
    "                              mask_modality:Optional[str] = None):\n",
    "    \"\"\"Get rows of Med-ImageTools index.csv with the mask modality and the corresponding image modality and create a new index with just these rows for READII\n",
    "    \n",
    "    Parameters\n",
    "    ----------\n",
    "    dataset_index : pd.DataFrame\n",
    "        DataFrame loaded from a Med-ImageTools index.csv containing image metadata. Must have columns for Modality, ReferencedSeriesUID, and SeriesInstanceUID.\n",
    "    dataset_config : Optional[dict]\n",
    "        Dictionary of configuration settings to get image and mask modality from for filtering dataset_index. Must include MIT MODALITIES image and MIT MODALITIES mask. Expected output from running loadImageDatasetConfig.\n",
    "    image_modality : Optional[str]\n",
    "        Image modality to filter dataset_index with. Will override dataset_config setting.\n",
    "    mask_modality : Optional[str]\n",
    "        Mask modality to filter dataset_index with. Will override dataset_config setting.\n",
    "\n",
    "    Returns\n",
    "    -------\n",
    "    pd.DataFrame\n",
    "        Subset of the dataset_index with just the masks and their reference images' metadata.\n",
    "    \"\"\"\n",
    "\n",
    "    if image_modality is None:\n",
    "        if dataset_config is None:\n",
    "            message = \"No image modality setting passed. Must pass a image_modality or dataset_config with an image modality setting.\"\n",
    "            logger.error(message)\n",
    "            raise ValueError(message)\n",
    "        \n",
    "        # Get the image modality from config to retrieve from the metadata\n",
    "        image_modality = dataset_config[\"MIT\"][\"MODALITIES\"][\"image\"]\n",
    "    \n",
    "    if mask_modality is None:\n",
    "        if dataset_config is None:\n",
    "            message = \"No mask modality setting passed. Must pass a mask_modality or dataset_config with a mask modality setting.\"\n",
    "            logger.error(message)\n",
    "            raise ValueError(message)\n",
    "        \n",
    "        # Get the mask modality from config to retrieve from the metadata\n",
    "        mask_modality = dataset_config[\"MIT\"][\"MODALITIES\"][\"mask\"]\n",
    "\n",
    "    # Get all metadata rows with the mask modality\n",
    "    mask_metadata = dataset_index[dataset_index['Modality'] == mask_modality]\n",
    "\n",
    "    # Get a Series of ReferenceSeriesUIDs from the masks - these point to the images the masks were made on\n",
    "    referenced_series_ids = mask_metadata['ReferencedSeriesUID']\n",
    "    \n",
    "    # Get image metadata rows with a SeriesInstanceUID matching one of the ReferenceSeriesUIDS of the masks\n",
    "    image_metadata = dataset_index[dataset_index['Modality'] == image_modality]\n",
    "    masked_image_metadata = image_metadata[image_metadata['SeriesInstanceUID'].isin(referenced_series_ids)]\n",
    "\n",
    "    # Return the subsetted metadata\n",
    "    return pd.concat([masked_image_metadata, mask_metadata], sort=True)"
   ]
  },
  {
   "cell_type": "code",
   "execution_count": 12,
   "id": "51453a79",
   "metadata": {},
   "outputs": [],
   "source": [
    "def save_out_negative_controls(nifti_writer: NIFTIWriter,\n",
    "                            patient_id: str,\n",
    "                            image: sitk.Image,\n",
    "                            region: str,\n",
    "                            permutation: str):\n",
    "    \"\"\"Save out negative control images using the NIFTIWriter.\"\"\"\n",
    "\n",
    "    try:\n",
    "        nifti_writer.save(\n",
    "                        image,\n",
    "                        PatientID=patient_id,\n",
    "                        region=region,\n",
    "                        permutation=permutation\n",
    "                    )\n",
    "    except NiftiWriterIOError:\n",
    "        message = f\"{permutation} {region} negative control file already exists for {patient_id}. If you wish to overwrite, set overwrite to true in the NIFTIWriter.\"\n",
    "        logger.debug(message)\n",
    "\n",
    "    return image"
   ]
  },
  {
   "cell_type": "code",
   "execution_count": null,
   "id": "1d5f8035",
   "metadata": {},
   "outputs": [
    {
     "ename": "DirectoryNameNotFoundError",
     "evalue": "Project directory name 'CONFIG' not found in configuration or does not exist at '/Users/katyscott/Documents/BHKLab_GitHub/readii_2_roqc/sandbox/config'",
     "output_type": "error",
     "traceback": [
      "\u001b[31m---------------------------------------------------------------------------\u001b[39m",
      "\u001b[31mDirectoryNameNotFoundError\u001b[39m                Traceback (most recent call last)",
      "\u001b[36mCell\u001b[39m\u001b[36m \u001b[39m\u001b[32mIn[2]\u001b[39m\u001b[32m, line 9\u001b[39m\n\u001b[32m      6\u001b[39m     logger.error(message)\n\u001b[32m      7\u001b[39m     \u001b[38;5;28;01mraise\u001b[39;00m \u001b[38;5;167;01mValueError\u001b[39;00m(message)\n\u001b[32m----> \u001b[39m\u001b[32m9\u001b[39m config_dir_path = \u001b[43mdirs\u001b[49m\u001b[43m.\u001b[49m\u001b[43mCONFIG\u001b[49m / \u001b[33m'\u001b[39m\u001b[33mdatasets\u001b[39m\u001b[33m'\u001b[39m\n\u001b[32m     11\u001b[39m dataset_config = loadImageDatasetConfig(dataset, config_dir_path)\n\u001b[32m     13\u001b[39m dataset_name = dataset_config[\u001b[33m'\u001b[39m\u001b[33mDATASET_NAME\u001b[39m\u001b[33m'\u001b[39m]\n",
      "\u001b[36mFile \u001b[39m\u001b[32m~/Documents/BHKLab_GitHub/readii_2_roqc/.pixi/envs/default/lib/python3.12/site-packages/damply/dmpdirs/__init__.py:226\u001b[39m, in \u001b[36mDamplyDirs.__getattr__\u001b[39m\u001b[34m(self, name)\u001b[39m\n\u001b[32m    203\u001b[39m \u001b[38;5;250m\u001b[39m\u001b[33;03m\"\"\"Get attribute for a directory name.\u001b[39;00m\n\u001b[32m    204\u001b[39m \n\u001b[32m    205\u001b[39m \u001b[33;03mArgs:\u001b[39;00m\n\u001b[32m   (...)\u001b[39m\u001b[32m    213\u001b[39m \u001b[33;03m    DirectoryNameNotFoundError: If the directory doesn't exist\u001b[39;00m\n\u001b[32m    214\u001b[39m \u001b[33;03m\"\"\"\u001b[39;00m\n\u001b[32m    215\u001b[39m \u001b[38;5;28;01mif\u001b[39;00m name.isupper() \u001b[38;5;129;01mand\u001b[39;00m name \u001b[38;5;129;01min\u001b[39;00m [\n\u001b[32m    216\u001b[39m \t\u001b[33m'\u001b[39m\u001b[33mPROJECT_ROOT\u001b[39m\u001b[33m'\u001b[39m,\n\u001b[32m    217\u001b[39m \t\u001b[33m'\u001b[39m\u001b[33mRAWDATA\u001b[39m\u001b[33m'\u001b[39m,\n\u001b[32m   (...)\u001b[39m\u001b[32m    224\u001b[39m \t\u001b[33m'\u001b[39m\u001b[33mNOTEBOOKS\u001b[39m\u001b[33m'\u001b[39m,\n\u001b[32m    225\u001b[39m ]:\n\u001b[32m--> \u001b[39m\u001b[32m226\u001b[39m \t\u001b[38;5;28;01mreturn\u001b[39;00m \u001b[38;5;28;43mself\u001b[39;49m\u001b[43m.\u001b[49m\u001b[43m_get_dir_path\u001b[49m\u001b[43m(\u001b[49m\u001b[43mname\u001b[49m\u001b[43m)\u001b[49m\n\u001b[32m    227\u001b[39m errmsg = (\n\u001b[32m    228\u001b[39m \t\u001b[33mf\u001b[39m\u001b[33m\"\u001b[39m\u001b[33m'\u001b[39m\u001b[38;5;132;01m{\u001b[39;00mname\u001b[38;5;132;01m}\u001b[39;00m\u001b[33m'\u001b[39m\u001b[33m is not a valid directory name. \u001b[39m\u001b[33m\"\u001b[39m\n\u001b[32m    229\u001b[39m \t\u001b[33m'\u001b[39m\u001b[33mValid names are: PROJECT_ROOT, RAWDATA, PROCDATA, RESULTS, \u001b[39m\u001b[33m'\u001b[39m\n\u001b[32m    230\u001b[39m \t\u001b[33m'\u001b[39m\u001b[33mMETADATA, LOGS, CONFIG, SCRIPTS, NOTEBOOKS\u001b[39m\u001b[33m'\u001b[39m\n\u001b[32m    231\u001b[39m )\n\u001b[32m    232\u001b[39m \u001b[38;5;28;01mraise\u001b[39;00m \u001b[38;5;167;01mAttributeError\u001b[39;00m(errmsg)\n",
      "\u001b[36mFile \u001b[39m\u001b[32m~/Documents/BHKLab_GitHub/readii_2_roqc/.pixi/envs/default/lib/python3.12/site-packages/damply/dmpdirs/__init__.py:198\u001b[39m, in \u001b[36mDamplyDirs._get_dir_path\u001b[39m\u001b[34m(self, dir_name)\u001b[39m\n\u001b[32m    196\u001b[39m \u001b[38;5;66;03m# Check if directory exists and raise error if not\u001b[39;00m\n\u001b[32m    197\u001b[39m \u001b[38;5;28;01mif\u001b[39;00m \u001b[38;5;129;01mnot\u001b[39;00m path.exists():\n\u001b[32m--> \u001b[39m\u001b[32m198\u001b[39m \t\u001b[38;5;28;01mraise\u001b[39;00m DirectoryNameNotFoundError(dir_name, \u001b[38;5;28mstr\u001b[39m(path))\n\u001b[32m    200\u001b[39m \u001b[38;5;28;01mreturn\u001b[39;00m path\n",
      "\u001b[31mDirectoryNameNotFoundError\u001b[39m: Project directory name 'CONFIG' not found in configuration or does not exist at '/Users/katyscott/Documents/BHKLab_GitHub/readii_2_roqc/sandbox/config'"
     ]
    }
   ],
   "source": [
    "dataset = \"NSCLC-Radiomics\"\n",
    "random_seed = 10\n",
    "\n",
    "if dataset is None:\n",
    "    message = \"Dataset name must be provided.\"\n",
    "    logger.error(message)\n",
    "    raise ValueError(message)\n",
    "\n",
    "config_dir_path = dirs.CONFIG / 'datasets'\n",
    "\n",
    "dataset_config = loadImageDatasetConfig(dataset, config_dir_path)\n",
    "\n",
    "dataset_name = dataset_config['DATASET_NAME']\n",
    "full_data_name = get_full_data_name(config_dir_path / dataset)\n",
    "logger.info(f\"Creating negative controls for dataset: {dataset_name}\")\n",
    "\n",
    "# Extract READII settings\n",
    "regions, permutations, _crop = get_readii_settings(dataset_config)\n",
    "\n",
    "# Set up negative control manager with settings from config\n",
    "manager = NegativeControlManager.from_strings(\n",
    "    negative_control_types=permutations,\n",
    "    region_types=regions,\n",
    "    random_seed=random_seed\n",
    ")\n",
    "\n",
    "mit_images_dir_path = dirs.PROCDATA / full_data_name / 'images' /f'mit_{dataset_name}'\n",
    "\n",
    "dataset_index = pd.read_csv(Path(mit_images_dir_path, f'mit_{dataset_name}_index.csv'))\n",
    "\n",
    "image_modality = dataset_config[\"MIT\"][\"MODALITIES\"][\"image\"]\n",
    "mask_modality = dataset_config[\"MIT\"][\"MODALITIES\"][\"mask\"]\n",
    "\n",
    "masked_image_index = get_masked_image_metadata(dataset_index = dataset_index,\n",
    "                                                image_modality = image_modality,\n",
    "                                                mask_modality = mask_modality)"
   ]
  },
  {
   "cell_type": "code",
   "execution_count": 14,
   "id": "fcf3dbdf",
   "metadata": {},
   "outputs": [
    {
     "ename": "TypeError",
     "evalue": "argument should be a str or an os.PathLike object where __fspath__ returns a str, not 'Series'",
     "output_type": "error",
     "traceback": [
      "\u001b[31m---------------------------------------------------------------------------\u001b[39m",
      "\u001b[31mTypeError\u001b[39m                                 Traceback (most recent call last)",
      "\u001b[36mCell\u001b[39m\u001b[36m \u001b[39m\u001b[32mIn[14]\u001b[39m\u001b[32m, line 7\u001b[39m\n\u001b[32m      5\u001b[39m \u001b[38;5;66;03m# Get image metadata as a pd.Series\u001b[39;00m\n\u001b[32m      6\u001b[39m image_metadata = study_data[study_data[\u001b[33m'\u001b[39m\u001b[33mModality\u001b[39m\u001b[33m'\u001b[39m] == image_modality].squeeze()\n\u001b[32m----> \u001b[39m\u001b[32m7\u001b[39m image_path = \u001b[43mPath\u001b[49m\u001b[43m(\u001b[49m\u001b[43mimage_metadata\u001b[49m\u001b[43m[\u001b[49m\u001b[33;43m'\u001b[39;49m\u001b[33;43mfilepath\u001b[39;49m\u001b[33;43m'\u001b[39;49m\u001b[43m]\u001b[49m\u001b[43m)\u001b[49m\n\u001b[32m      8\u001b[39m \u001b[38;5;66;03m# Load in image\u001b[39;00m\n\u001b[32m      9\u001b[39m raw_image = sitk.ReadImage(mit_images_dir_path / image_path)\n",
      "\u001b[36mFile \u001b[39m\u001b[32m~/Documents/BHKLab_GitHub/readii_2_roqc/.pixi/envs/default/lib/python3.12/pathlib.py:1162\u001b[39m, in \u001b[36mPath.__init__\u001b[39m\u001b[34m(self, *args, **kwargs)\u001b[39m\n\u001b[32m   1159\u001b[39m     msg = (\u001b[33m\"\u001b[39m\u001b[33msupport for supplying keyword arguments to pathlib.PurePath \u001b[39m\u001b[33m\"\u001b[39m\n\u001b[32m   1160\u001b[39m            \u001b[33m\"\u001b[39m\u001b[33mis deprecated and scheduled for removal in Python \u001b[39m\u001b[38;5;132;01m{remove}\u001b[39;00m\u001b[33m\"\u001b[39m)\n\u001b[32m   1161\u001b[39m     warnings._deprecated(\u001b[33m\"\u001b[39m\u001b[33mpathlib.PurePath(**kwargs)\u001b[39m\u001b[33m\"\u001b[39m, msg, remove=(\u001b[32m3\u001b[39m, \u001b[32m14\u001b[39m))\n\u001b[32m-> \u001b[39m\u001b[32m1162\u001b[39m \u001b[38;5;28;43msuper\u001b[39;49m\u001b[43m(\u001b[49m\u001b[43m)\u001b[49m\u001b[43m.\u001b[49m\u001b[34;43m__init__\u001b[39;49m\u001b[43m(\u001b[49m\u001b[43m*\u001b[49m\u001b[43margs\u001b[49m\u001b[43m)\u001b[49m\n",
      "\u001b[36mFile \u001b[39m\u001b[32m~/Documents/BHKLab_GitHub/readii_2_roqc/.pixi/envs/default/lib/python3.12/pathlib.py:373\u001b[39m, in \u001b[36mPurePath.__init__\u001b[39m\u001b[34m(self, *args)\u001b[39m\n\u001b[32m    371\u001b[39m             path = arg\n\u001b[32m    372\u001b[39m         \u001b[38;5;28;01mif\u001b[39;00m \u001b[38;5;129;01mnot\u001b[39;00m \u001b[38;5;28misinstance\u001b[39m(path, \u001b[38;5;28mstr\u001b[39m):\n\u001b[32m--> \u001b[39m\u001b[32m373\u001b[39m             \u001b[38;5;28;01mraise\u001b[39;00m \u001b[38;5;167;01mTypeError\u001b[39;00m(\n\u001b[32m    374\u001b[39m                 \u001b[33m\"\u001b[39m\u001b[33margument should be a str or an os.PathLike \u001b[39m\u001b[33m\"\u001b[39m\n\u001b[32m    375\u001b[39m                 \u001b[33m\"\u001b[39m\u001b[33mobject where __fspath__ returns a str, \u001b[39m\u001b[33m\"\u001b[39m\n\u001b[32m    376\u001b[39m                 \u001b[33mf\u001b[39m\u001b[33m\"\u001b[39m\u001b[33mnot \u001b[39m\u001b[38;5;132;01m{\u001b[39;00m\u001b[38;5;28mtype\u001b[39m(path).\u001b[34m__name__\u001b[39m\u001b[38;5;132;01m!r}\u001b[39;00m\u001b[33m\"\u001b[39m)\n\u001b[32m    377\u001b[39m         paths.append(path)\n\u001b[32m    378\u001b[39m \u001b[38;5;28mself\u001b[39m._raw_paths = paths\n",
      "\u001b[31mTypeError\u001b[39m: argument should be a str or an os.PathLike object where __fspath__ returns a str, not 'Series'"
     ]
    }
   ],
   "source": [
    "# StudyInstanceUID\n",
    "for study, study_data in masked_image_index.groupby('StudyInstanceUID'):\n",
    "    logger.info(f\"Processing StudyInstanceUID: {study}\")\n",
    "\n",
    "    # Get image metadata as a pd.Series\n",
    "    image_metadata = study_data[study_data['Modality'] == image_modality].squeeze()\n",
    "    image_path = Path(image_metadata['filepath'])\n",
    "    # Load in image\n",
    "    raw_image = sitk.ReadImage(mit_images_dir_path / image_path)\n",
    "    # Remove extra dimension of image, set origin, spacing, direction to original\n",
    "    image = alignImages(raw_image, flattenImage(raw_image))\n",
    "\n",
    "    \n",
    "    # Get mask metadata as a pd.Series\n",
    "    # all_mask_metadata = study_data[study_data['Modality'] == mask_modality]\n",
    "\n",
    "    # for mask_metadata in all_mask_metadata.iterrows():\n",
    "    #     mask_path = Path(mask_metadata['filepath'])\n",
    "    #     # Load in mask\n",
    "    #     raw_mask = sitk.ReadImage(mit_images_dir_path / mask_path)\n",
    "    #     mask = alignImages(raw_mask, flattenImage(raw_mask))\n",
    "\n",
    "    #     # Set up writer for saving out the negative controls\n",
    "    #     nifti_writer = NIFTIWriter(\n",
    "    #         root_directory = mit_images_dir_path.parent / f'readii_{dataset_name}' / image_path.parent / mask_path.parent,\n",
    "    #         filename_format = \"{permutation}_{region}.nii.gz\",\n",
    "    #         overwrite = True,\n",
    "    #         create_dirs = True\n",
    "    #     )"
   ]
  },
  {
   "cell_type": "code",
   "execution_count": 19,
   "id": "3c83acbe",
   "metadata": {},
   "outputs": [
    {
     "data": {
      "application/vnd.microsoft.datawrangler.viewer.v0+json": {
       "columns": [
        {
         "name": "index",
         "rawType": "int64",
         "type": "integer"
        },
        {
         "name": "AcquisitionDate",
         "rawType": "object",
         "type": "unknown"
        },
        {
         "name": "AcquisitionNumber",
         "rawType": "float64",
         "type": "float"
        },
        {
         "name": "AcquisitionTime",
         "rawType": "object",
         "type": "unknown"
        },
        {
         "name": "BodyPartExamined",
         "rawType": "object",
         "type": "unknown"
        },
        {
         "name": "CTDIvol",
         "rawType": "float64",
         "type": "float"
        },
        {
         "name": "ContentDate",
         "rawType": "object",
         "type": "unknown"
        },
        {
         "name": "ContentTime",
         "rawType": "object",
         "type": "unknown"
        },
        {
         "name": "ContrastBolusAgent",
         "rawType": "float64",
         "type": "float"
        },
        {
         "name": "ContrastBolusIngredient",
         "rawType": "float64",
         "type": "float"
        },
        {
         "name": "ContrastBolusIngredientConcentration",
         "rawType": "float64",
         "type": "float"
        },
        {
         "name": "ContrastBolusStartTime",
         "rawType": "float64",
         "type": "float"
        },
        {
         "name": "ContrastBolusStopTime",
         "rawType": "float64",
         "type": "float"
        },
        {
         "name": "ContrastBolusVolume",
         "rawType": "float64",
         "type": "float"
        },
        {
         "name": "ContrastFlowDuration",
         "rawType": "float64",
         "type": "float"
        },
        {
         "name": "ContrastFlowRate",
         "rawType": "float64",
         "type": "float"
        },
        {
         "name": "ConvolutionKernel",
         "rawType": "object",
         "type": "unknown"
        },
        {
         "name": "DataCollectionCenterPatient",
         "rawType": "float64",
         "type": "float"
        },
        {
         "name": "DataCollectionDiameter",
         "rawType": "float64",
         "type": "float"
        },
        {
         "name": "DetectorConfiguration",
         "rawType": "float64",
         "type": "float"
        },
        {
         "name": "DetectorType",
         "rawType": "float64",
         "type": "float"
        },
        {
         "name": "DeviceSerialNumber",
         "rawType": "float64",
         "type": "float"
        },
        {
         "name": "Exposure",
         "rawType": "float64",
         "type": "float"
        },
        {
         "name": "ExposureModulationType",
         "rawType": "float64",
         "type": "float"
        },
        {
         "name": "ExposureTime",
         "rawType": "float64",
         "type": "float"
        },
        {
         "name": "FrameOfReferenceUID",
         "rawType": "object",
         "type": "unknown"
        },
        {
         "name": "GantryDetectorTilt",
         "rawType": "float64",
         "type": "float"
        },
        {
         "name": "ImageID",
         "rawType": "object",
         "type": "string"
        },
        {
         "name": "ImageOrientationPatient",
         "rawType": "object",
         "type": "unknown"
        },
        {
         "name": "ImagePositionPatient",
         "rawType": "object",
         "type": "unknown"
        },
        {
         "name": "InstanceCreationDate",
         "rawType": "object",
         "type": "string"
        },
        {
         "name": "InstanceCreationTime",
         "rawType": "object",
         "type": "string"
        },
        {
         "name": "InstitutionName",
         "rawType": "float64",
         "type": "float"
        },
        {
         "name": "KVP",
         "rawType": "float64",
         "type": "float"
        },
        {
         "name": "Manufacturer",
         "rawType": "object",
         "type": "string"
        },
        {
         "name": "ManufacturerModelName",
         "rawType": "object",
         "type": "string"
        },
        {
         "name": "Modality",
         "rawType": "object",
         "type": "string"
        },
        {
         "name": "NumROIs",
         "rawType": "float64",
         "type": "float"
        },
        {
         "name": "NumberOfSlices",
         "rawType": "float64",
         "type": "float"
        },
        {
         "name": "PatientID",
         "rawType": "object",
         "type": "string"
        },
        {
         "name": "PatientPosition",
         "rawType": "object",
         "type": "unknown"
        },
        {
         "name": "PixelSpacing",
         "rawType": "object",
         "type": "unknown"
        },
        {
         "name": "ProtocolName",
         "rawType": "object",
         "type": "unknown"
        },
        {
         "name": "ROINames",
         "rawType": "object",
         "type": "string"
        },
        {
         "name": "ReconstructionAlgorithm",
         "rawType": "float64",
         "type": "float"
        },
        {
         "name": "ReconstructionDiameter",
         "rawType": "float64",
         "type": "float"
        },
        {
         "name": "ReconstructionFieldOfView",
         "rawType": "float64",
         "type": "float"
        },
        {
         "name": "ReconstructionMethod",
         "rawType": "float64",
         "type": "float"
        },
        {
         "name": "ReconstructionTargetCenterPatient",
         "rawType": "float64",
         "type": "float"
        },
        {
         "name": "ReferencedSOPUIDs",
         "rawType": "object",
         "type": "string"
        },
        {
         "name": "ReferencedSeriesUID",
         "rawType": "object",
         "type": "string"
        },
        {
         "name": "RescaleIntercept",
         "rawType": "float64",
         "type": "float"
        },
        {
         "name": "RescaleSlope",
         "rawType": "float64",
         "type": "float"
        },
        {
         "name": "RescaleType",
         "rawType": "float64",
         "type": "float"
        },
        {
         "name": "SampleNumber",
         "rawType": "int64",
         "type": "integer"
        },
        {
         "name": "ScanOptions",
         "rawType": "object",
         "type": "unknown"
        },
        {
         "name": "ScanProgressionDirection",
         "rawType": "float64",
         "type": "float"
        },
        {
         "name": "ScanType",
         "rawType": "float64",
         "type": "float"
        },
        {
         "name": "SeriesDate",
         "rawType": "object",
         "type": "unknown"
        },
        {
         "name": "SeriesInstanceUID",
         "rawType": "object",
         "type": "string"
        },
        {
         "name": "SeriesTime",
         "rawType": "object",
         "type": "unknown"
        },
        {
         "name": "SingleCollimationWidth",
         "rawType": "float64",
         "type": "float"
        },
        {
         "name": "SliceThickness",
         "rawType": "float64",
         "type": "float"
        },
        {
         "name": "SoftwareVersions",
         "rawType": "object",
         "type": "string"
        },
        {
         "name": "SpacingBetweenSlices",
         "rawType": "float64",
         "type": "float"
        },
        {
         "name": "SpiralPitchFactor",
         "rawType": "float64",
         "type": "float"
        },
        {
         "name": "StationName",
         "rawType": "float64",
         "type": "float"
        },
        {
         "name": "StructureSetDate",
         "rawType": "float64",
         "type": "float"
        },
        {
         "name": "StructureSetLabel",
         "rawType": "float64",
         "type": "float"
        },
        {
         "name": "StructureSetName",
         "rawType": "float64",
         "type": "float"
        },
        {
         "name": "StructureSetTime",
         "rawType": "float64",
         "type": "float"
        },
        {
         "name": "StudyDate",
         "rawType": "object",
         "type": "string"
        },
        {
         "name": "StudyInstanceUID",
         "rawType": "object",
         "type": "string"
        },
        {
         "name": "StudyTime",
         "rawType": "object",
         "type": "string"
        },
        {
         "name": "TableMotion",
         "rawType": "float64",
         "type": "float"
        },
        {
         "name": "TableSpeed",
         "rawType": "float64",
         "type": "float"
        },
        {
         "name": "TotalCollimationWidth",
         "rawType": "float64",
         "type": "float"
        },
        {
         "name": "XRayTubeCurrent",
         "rawType": "float64",
         "type": "float"
        },
        {
         "name": "bbox.max_coord",
         "rawType": "object",
         "type": "string"
        },
        {
         "name": "bbox.min_coord",
         "rawType": "object",
         "type": "string"
        },
        {
         "name": "bbox.size",
         "rawType": "object",
         "type": "string"
        },
        {
         "name": "class",
         "rawType": "object",
         "type": "string"
        },
        {
         "name": "direction",
         "rawType": "object",
         "type": "string"
        },
        {
         "name": "dtype_numpy",
         "rawType": "object",
         "type": "string"
        },
        {
         "name": "dtype_str",
         "rawType": "object",
         "type": "string"
        },
        {
         "name": "filepath",
         "rawType": "object",
         "type": "string"
        },
        {
         "name": "hash",
         "rawType": "object",
         "type": "string"
        },
        {
         "name": "matched_rois",
         "rawType": "object",
         "type": "string"
        },
        {
         "name": "max",
         "rawType": "float64",
         "type": "float"
        },
        {
         "name": "mean",
         "rawType": "float64",
         "type": "float"
        },
        {
         "name": "min",
         "rawType": "float64",
         "type": "float"
        },
        {
         "name": "ndim",
         "rawType": "int64",
         "type": "integer"
        },
        {
         "name": "nvoxels",
         "rawType": "int64",
         "type": "integer"
        },
        {
         "name": "origin",
         "rawType": "object",
         "type": "string"
        },
        {
         "name": "roi_key",
         "rawType": "object",
         "type": "string"
        },
        {
         "name": "saved_time",
         "rawType": "object",
         "type": "string"
        },
        {
         "name": "size",
         "rawType": "object",
         "type": "string"
        },
        {
         "name": "spacing",
         "rawType": "object",
         "type": "string"
        },
        {
         "name": "std",
         "rawType": "float64",
         "type": "float"
        },
        {
         "name": "sum",
         "rawType": "float64",
         "type": "float"
        },
        {
         "name": "variance",
         "rawType": "float64",
         "type": "float"
        }
       ],
       "ref": "2b641025-0701-411b-9c78-0d5061005adc",
       "rows": [
        [
         "1",
         null,
         null,
         null,
         null,
         null,
         null,
         null,
         null,
         null,
         null,
         null,
         null,
         null,
         null,
         null,
         null,
         null,
         null,
         null,
         null,
         null,
         null,
         null,
         null,
         null,
         null,
         "GTV",
         null,
         null,
         "20190225",
         "113441",
         null,
         null,
         "Varian Medical Systems",
         "ARIA RadOnc",
         "RTSTRUCT",
         "6.0",
         null,
         "LUNG1-002",
         null,
         null,
         null,
         "['Lung-Right', 'Lung-Left', 'Heart', 'Esophagus', 'Spinal-Cord', 'GTV-1']",
         null,
         null,
         null,
         null,
         null,
         "[]",
         "1.3.6.1.4.1.32722.99.99.232988001551799080335895423941323261228",
         null,
         null,
         null,
         "1",
         null,
         null,
         null,
         null,
         "1.3.6.1.4.1.32722.99.99.243267551266911245830259417117543245931",
         null,
         null,
         null,
         "15.5.11",
         null,
         null,
         null,
         "20190225.0",
         "20190225.0",
         "20190225.0",
         "111533.0",
         "20140101",
         "1.3.6.1.4.1.32722.99.99.203715003805996641695765332389135385095",
         "111533",
         null,
         null,
         null,
         null,
         "(229, 325, 54)",
         "(129, 226, 28)",
         "(100, 99, 26)",
         "Mask",
         "(1.0, 0.0, 0.0, 0.0, 1.0, 0.0, 0.0, 0.0, 1.0)",
         "<class 'numpy.uint8'>",
         "8-bit unsigned integer",
         "LUNG1-002_0001/RTSTRUCT_43245931/GTV.nii.gz",
         "cdfb2786c29b57287cc85233f0c02df51427b472",
         "GTV-1",
         "1.0",
         "0.0043086490115603",
         "0.0",
         "3",
         "29097984",
         "(-250.112, -250.112, -133.4)",
         "GTV",
         "2025-05-29:17-31-31",
         "(512, 512, 111)",
         "(0.977, 0.977, 3.0)",
         "0.0654987381763295",
         "125373.0",
         "0.0042900847026913"
        ],
        [
         "3",
         null,
         null,
         null,
         null,
         null,
         null,
         null,
         null,
         null,
         null,
         null,
         null,
         null,
         null,
         null,
         "B19f",
         null,
         null,
         null,
         null,
         null,
         "400.0",
         null,
         "361.0",
         null,
         "0.0",
         "GTV",
         null,
         null,
         "20190225",
         "112054",
         null,
         "120.0",
         "Varian Medical Systems",
         "ARIA RadOnc",
         "RTSTRUCT",
         "4.0",
         null,
         "LUNG1-001",
         null,
         null,
         null,
         "['GTV-1', 'Spinal-Cord', 'Lung-Left', 'Lung-Right']",
         null,
         "500.0",
         null,
         null,
         null,
         "[]",
         "1.3.6.1.4.1.32722.99.99.298991776521342375010861296712563382046",
         null,
         null,
         null,
         "0",
         null,
         null,
         null,
         null,
         "1.3.6.1.4.1.32722.99.99.227938121586608072508444156170535578236",
         null,
         null,
         null,
         "15.5.11",
         null,
         null,
         null,
         "20190225.0",
         "20190225.0",
         "20190225.0",
         "111528.0",
         "20080918",
         "1.3.6.1.4.1.32722.99.99.239341353911714368772597187099978969331",
         "111528",
         null,
         null,
         null,
         "80.0",
         "(388, 317, 86)",
         "(290, 226, 65)",
         "(98, 91, 21)",
         "Mask",
         "(1.0, 0.0, 0.0, 0.0, 1.0, 0.0, 0.0, 0.0, 1.0)",
         "<class 'numpy.uint8'>",
         "8-bit unsigned integer",
         "LUNG1-001_0000/RTSTRUCT_35578236/GTV.nii.gz",
         "7afa5f960c8113372e0ad0a8e8303f7eaea396f4",
         "GTV-1",
         "1.0",
         "0.0016019166405521",
         "0.0",
         "3",
         "35127296",
         "(-249.51171875, -460.51171875, -681.5)",
         "GTV",
         "2025-05-29:17-31-34",
         "(512, 512, 134)",
         "(0.9765625, 0.9765625, 3.0)",
         "0.0399918810405184",
         "56271.0",
         "0.0015993505491589"
        ]
       ],
       "shape": {
        "columns": 100,
        "rows": 2
       }
      },
      "text/html": [
       "<div>\n",
       "<style scoped>\n",
       "    .dataframe tbody tr th:only-of-type {\n",
       "        vertical-align: middle;\n",
       "    }\n",
       "\n",
       "    .dataframe tbody tr th {\n",
       "        vertical-align: top;\n",
       "    }\n",
       "\n",
       "    .dataframe thead th {\n",
       "        text-align: right;\n",
       "    }\n",
       "</style>\n",
       "<table border=\"1\" class=\"dataframe\">\n",
       "  <thead>\n",
       "    <tr style=\"text-align: right;\">\n",
       "      <th></th>\n",
       "      <th>AcquisitionDate</th>\n",
       "      <th>AcquisitionNumber</th>\n",
       "      <th>AcquisitionTime</th>\n",
       "      <th>BodyPartExamined</th>\n",
       "      <th>CTDIvol</th>\n",
       "      <th>ContentDate</th>\n",
       "      <th>ContentTime</th>\n",
       "      <th>ContrastBolusAgent</th>\n",
       "      <th>ContrastBolusIngredient</th>\n",
       "      <th>ContrastBolusIngredientConcentration</th>\n",
       "      <th>...</th>\n",
       "      <th>ndim</th>\n",
       "      <th>nvoxels</th>\n",
       "      <th>origin</th>\n",
       "      <th>roi_key</th>\n",
       "      <th>saved_time</th>\n",
       "      <th>size</th>\n",
       "      <th>spacing</th>\n",
       "      <th>std</th>\n",
       "      <th>sum</th>\n",
       "      <th>variance</th>\n",
       "    </tr>\n",
       "  </thead>\n",
       "  <tbody>\n",
       "    <tr>\n",
       "      <th>1</th>\n",
       "      <td>NaN</td>\n",
       "      <td>NaN</td>\n",
       "      <td>NaN</td>\n",
       "      <td>NaN</td>\n",
       "      <td>NaN</td>\n",
       "      <td>NaN</td>\n",
       "      <td>NaN</td>\n",
       "      <td>NaN</td>\n",
       "      <td>NaN</td>\n",
       "      <td>NaN</td>\n",
       "      <td>...</td>\n",
       "      <td>3</td>\n",
       "      <td>29097984</td>\n",
       "      <td>(-250.112, -250.112, -133.4)</td>\n",
       "      <td>GTV</td>\n",
       "      <td>2025-05-29:17-31-31</td>\n",
       "      <td>(512, 512, 111)</td>\n",
       "      <td>(0.977, 0.977, 3.0)</td>\n",
       "      <td>0.065499</td>\n",
       "      <td>125373.0</td>\n",
       "      <td>0.004290</td>\n",
       "    </tr>\n",
       "    <tr>\n",
       "      <th>3</th>\n",
       "      <td>NaN</td>\n",
       "      <td>NaN</td>\n",
       "      <td>NaN</td>\n",
       "      <td>NaN</td>\n",
       "      <td>NaN</td>\n",
       "      <td>NaN</td>\n",
       "      <td>NaN</td>\n",
       "      <td>NaN</td>\n",
       "      <td>NaN</td>\n",
       "      <td>NaN</td>\n",
       "      <td>...</td>\n",
       "      <td>3</td>\n",
       "      <td>35127296</td>\n",
       "      <td>(-249.51171875, -460.51171875, -681.5)</td>\n",
       "      <td>GTV</td>\n",
       "      <td>2025-05-29:17-31-34</td>\n",
       "      <td>(512, 512, 134)</td>\n",
       "      <td>(0.9765625, 0.9765625, 3.0)</td>\n",
       "      <td>0.039992</td>\n",
       "      <td>56271.0</td>\n",
       "      <td>0.001599</td>\n",
       "    </tr>\n",
       "  </tbody>\n",
       "</table>\n",
       "<p>2 rows × 100 columns</p>\n",
       "</div>"
      ],
      "text/plain": [
       "  AcquisitionDate  AcquisitionNumber AcquisitionTime BodyPartExamined  \\\n",
       "1             NaN                NaN             NaN              NaN   \n",
       "3             NaN                NaN             NaN              NaN   \n",
       "\n",
       "   CTDIvol ContentDate ContentTime  ContrastBolusAgent  \\\n",
       "1      NaN         NaN         NaN                 NaN   \n",
       "3      NaN         NaN         NaN                 NaN   \n",
       "\n",
       "   ContrastBolusIngredient  ContrastBolusIngredientConcentration  ...  ndim  \\\n",
       "1                      NaN                                   NaN  ...     3   \n",
       "3                      NaN                                   NaN  ...     3   \n",
       "\n",
       "    nvoxels                                  origin  roi_key  \\\n",
       "1  29097984            (-250.112, -250.112, -133.4)      GTV   \n",
       "3  35127296  (-249.51171875, -460.51171875, -681.5)      GTV   \n",
       "\n",
       "            saved_time             size                      spacing  \\\n",
       "1  2025-05-29:17-31-31  (512, 512, 111)          (0.977, 0.977, 3.0)   \n",
       "3  2025-05-29:17-31-34  (512, 512, 134)  (0.9765625, 0.9765625, 3.0)   \n",
       "\n",
       "        std       sum  variance  \n",
       "1  0.065499  125373.0  0.004290  \n",
       "3  0.039992   56271.0  0.001599  \n",
       "\n",
       "[2 rows x 100 columns]"
      ]
     },
     "execution_count": 19,
     "metadata": {},
     "output_type": "execute_result"
    }
   ],
   "source": [
    "masked_image_index"
   ]
  },
  {
   "cell_type": "code",
   "execution_count": 6,
   "id": "8dc13bde",
   "metadata": {},
   "outputs": [
    {
     "data": {
      "text/plain": [
       "'LUNG1-001_0000/CT_63382046/CT.nii.gz'"
      ]
     },
     "execution_count": 6,
     "metadata": {},
     "output_type": "execute_result"
    }
   ],
   "source": [
    "image_metadata['filepath']"
   ]
  },
  {
   "cell_type": "code",
   "execution_count": 9,
   "id": "c0e993fb",
   "metadata": {},
   "outputs": [
    {
     "data": {
      "text/plain": [
       "(1.0, 1.0, 1.0)"
      ]
     },
     "execution_count": 9,
     "metadata": {},
     "output_type": "execute_result"
    }
   ],
   "source": [
    "image.GetSpacing()"
   ]
  },
  {
   "cell_type": "code",
   "execution_count": 10,
   "id": "527886bc",
   "metadata": {},
   "outputs": [
    {
     "data": {
      "text/plain": [
       "(0.9765625, 0.9765625, 3.0)"
      ]
     },
     "execution_count": 10,
     "metadata": {},
     "output_type": "execute_result"
    }
   ],
   "source": [
    "raw_image = sitk.ReadImage(mit_images_dir_path / image_path)\n",
    "raw_image.GetSpacing()"
   ]
  },
  {
   "cell_type": "code",
   "execution_count": 14,
   "id": "a6032795",
   "metadata": {},
   "outputs": [
    {
     "data": {
      "text/plain": [
       "(0.9765625, 0.9765625, 3.0)"
      ]
     },
     "execution_count": 14,
     "metadata": {},
     "output_type": "execute_result"
    }
   ],
   "source": [
    "neg_image.GetSpacing()"
   ]
  },
  {
   "cell_type": "code",
   "execution_count": null,
   "id": "c480cfed",
   "metadata": {},
   "outputs": [],
   "source": []
  },
  {
   "cell_type": "markdown",
   "id": "477f6c83",
   "metadata": {},
   "source": [
    "# Update readii index checking for overwrite"
   ]
  },
  {
   "cell_type": "code",
   "execution_count": 37,
   "id": "1a88052f",
   "metadata": {},
   "outputs": [
    {
     "name": "stdout",
     "output_type": "stream",
     "text": [
      "Requested negative controls have already been generated for these samples or are listed in the readii index as if they have been. Set overwrite to true if you want to re-process these.\n"
     ]
    }
   ],
   "source": [
    "import itertools\n",
    "readii_index_file = Path(\"/Users/katyscott/Documents/BHKLab_GitHub/readii_2_roqc/data/procdata/TCIA_NSCLC-Radiomics/images/readii_NSCLC-Radiomics/readii_NSCLC-Radiomics_index.csv\")\n",
    "overwrite = False\n",
    "\n",
    "dataset_config = loadImageDatasetConfig(\"NSCLC-Radiomics.yaml\", \"/Users/katyscott/Documents/BHKLab_GitHub/readii_2_roqc/config/datasets\")\n",
    "\n",
    "regions, permutations, _crop = get_readii_settings(dataset_config)\n",
    "seed = 10\n",
    "# Set up negative control manager with settings from config\n",
    "manager = NegativeControlManager.from_strings(\n",
    "    negative_control_types=permutations,\n",
    "    region_types=regions,\n",
    "    random_seed=seed\n",
    "    )\n",
    "\n",
    "\n",
    "if readii_index_file.exists() and not overwrite: \n",
    "    # Load in readii index and check:\n",
    "    # 1. if all negative controls requested have been extracted\n",
    "    # 2. for all of the patients\n",
    "    readii_index = pd.read_csv(readii_index_file)\n",
    "\n",
    "    processed_image_types = {itype for itype in readii_index[['Permutation', 'Region']].itertuples(index=False, name=None)}\n",
    "    requested_image_types = {itype for itype in itertools.product([permutation.name() for permutation in manager.negative_control_strategies],\n",
    "                                                                  [region.name() for region in manager.region_strategies])}\n",
    "    \n",
    "    # Check if the requested image types are a subset of those already processed\n",
    "    if requested_image_types.issubset(processed_image_types):\n",
    "        print(\"Requested negative controls have already been generated for these samples or are listed in the readii index as if they have been. Set overwrite to true if you want to re-process these.\")\n",
    "    "
   ]
  },
  {
   "cell_type": "code",
   "execution_count": 35,
   "id": "f06aa9d6",
   "metadata": {},
   "outputs": [
    {
     "data": {
      "text/plain": [
       "{'LUNG1-001', 'LUNG1-002'}"
      ]
     },
     "execution_count": 35,
     "metadata": {},
     "output_type": "execute_result"
    }
   ],
   "source": [
    "processed = readii_index['PatientID']\n",
    "set(readii_index['PatientID'].to_list())"
   ]
  },
  {
   "cell_type": "code",
   "execution_count": 28,
   "id": "e959ea90",
   "metadata": {},
   "outputs": [],
   "source": [
    "requested = {itype for itype in itertools.product([permutation.name() for permutation in manager.negative_control_strategies],\n",
    "                                                                  [region.name() for region in manager.region_strategies])}"
   ]
  },
  {
   "cell_type": "code",
   "execution_count": 29,
   "id": "809363c4",
   "metadata": {},
   "outputs": [
    {
     "data": {
      "text/plain": [
       "False"
      ]
     },
     "execution_count": 29,
     "metadata": {},
     "output_type": "execute_result"
    }
   ],
   "source": [
    "requested.issubset(processed)"
   ]
  },
  {
   "cell_type": "code",
   "execution_count": 30,
   "id": "c1599ee4",
   "metadata": {},
   "outputs": [
    {
     "data": {
      "text/plain": [
       "{('randomized', 'full'),\n",
       " ('randomized', 'roi'),\n",
       " ('shuffled', 'full'),\n",
       " ('shuffled', 'roi')}"
      ]
     },
     "execution_count": 30,
     "metadata": {},
     "output_type": "execute_result"
    }
   ],
   "source": [
    "processed"
   ]
  },
  {
   "cell_type": "code",
   "execution_count": 31,
   "id": "b5fecb00",
   "metadata": {},
   "outputs": [
    {
     "data": {
      "text/plain": [
       "{('randomized', 'full'), ('randomized', 'non_roi'), ('randomized', 'roi')}"
      ]
     },
     "execution_count": 31,
     "metadata": {},
     "output_type": "execute_result"
    }
   ],
   "source": [
    "requested"
   ]
  },
  {
   "cell_type": "code",
   "execution_count": null,
   "id": "9af4d8d2",
   "metadata": {},
   "outputs": [],
   "source": []
  }
 ],
 "metadata": {
  "kernelspec": {
   "display_name": "Python 3",
   "language": "python",
   "name": "python3"
  },
  "language_info": {
   "codemirror_mode": {
    "name": "ipython",
    "version": 3
   },
   "file_extension": ".py",
   "mimetype": "text/x-python",
   "name": "python",
   "nbconvert_exporter": "python",
   "pygments_lexer": "ipython3",
   "version": "3.12.11"
  }
 },
 "nbformat": 4,
 "nbformat_minor": 5
}
