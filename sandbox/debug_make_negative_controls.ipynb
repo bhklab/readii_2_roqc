{
 "cells": [
  {
   "cell_type": "code",
   "execution_count": 1,
   "id": "62c01221",
   "metadata": {},
   "outputs": [
    {
     "name": "stdout",
     "output_type": "stream",
     "text": [
      "/home/bhkuser/bhklab/katy/readii_2_roqc\n"
     ]
    }
   ],
   "source": [
    "%cd .."
   ]
  },
  {
   "cell_type": "code",
   "execution_count": 2,
   "id": "66eb2df1",
   "metadata": {},
   "outputs": [],
   "source": [
    "from pathlib import Path\n",
    "from typing import Optional\n",
    "\n",
    "import pandas as pd\n",
    "import SimpleITK as sitk\n",
    "from damply import dirs\n",
    "from readii.image_processing import alignImages, flattenImage\n",
    "from readii.io.loaders import loadImageDatasetConfig\n",
    "from readii.io.writers.nifti_writer import NIFTIWriter, NiftiWriterIOError\n",
    "from readii.negative_controls_refactor import NegativeControlManager\n",
    "from readii.process.config import get_full_data_name\n",
    "from readii.utils import logger"
   ]
  },
  {
   "cell_type": "code",
   "execution_count": 3,
   "id": "b963915e",
   "metadata": {},
   "outputs": [],
   "source": [
    "from readii_2_roqc.utils.metadata import *\n",
    "from readii_2_roqc.readii.make_negative_controls import *"
   ]
  },
  {
   "cell_type": "code",
   "execution_count": null,
   "id": "156538ca",
   "metadata": {},
   "outputs": [],
   "source": [
    "def get_readii_settings(dataset_config: dict) -> tuple[list, list, list]:\n",
    "    \"\"\"Extract READII settings from a configuration dictionary.\n",
    "    \n",
    "    Parameters\n",
    "    ----------\n",
    "    dataset_config : dict\n",
    "        Configuration dictionary read in with `loadImageDatasetConfig` containing READII settings\n",
    "    \n",
    "    Returns\n",
    "    -------\n",
    "    tuple\n",
    "        A tuple containing:\n",
    "        - regions: list of regions to process\n",
    "        - permutations: list of permutations to apply\n",
    "        - crop: list of crop settings\n",
    "    \"\"\"\n",
    "    readii_config = dataset_config['READII']\n",
    "    if 'IMAGE_TYPES' not in readii_config:\n",
    "        message = \"READII configuration must contain 'IMAGE_TYPES'.\"\n",
    "        logger.error(message)\n",
    "        raise KeyError(message)\n",
    "    \n",
    "    regions = readii_config['IMAGE_TYPES']['regions']\n",
    "\n",
    "    permutations = readii_config['IMAGE_TYPES']['permutations']\n",
    "\n",
    "    crop = readii_config['IMAGE_TYPES']['crop']\n",
    "\n",
    "    return regions, permutations, crop"
   ]
  },
  {
   "cell_type": "code",
   "execution_count": null,
   "id": "7db28caf",
   "metadata": {},
   "outputs": [],
   "source": [
    "def get_masked_image_metadata(dataset_index:pd.DataFrame,\n",
    "                              dataset_config:Optional[dict] = None,\n",
    "                              image_modality:Optional[str] = None,\n",
    "                              mask_modality:Optional[str] = None):\n",
    "    \"\"\"Get rows of Med-ImageTools index.csv with the mask modality and the corresponding image modality and create a new index with just these rows for READII\n",
    "    \n",
    "    Parameters\n",
    "    ----------\n",
    "    dataset_index : pd.DataFrame\n",
    "        DataFrame loaded from a Med-ImageTools index.csv containing image metadata. Must have columns for Modality, ReferencedSeriesUID, and SeriesInstanceUID.\n",
    "    dataset_config : Optional[dict]\n",
    "        Dictionary of configuration settings to get image and mask modality from for filtering dataset_index. Must include MIT MODALITIES image and MIT MODALITIES mask. Expected output from running loadImageDatasetConfig.\n",
    "    image_modality : Optional[str]\n",
    "        Image modality to filter dataset_index with. Will override dataset_config setting.\n",
    "    mask_modality : Optional[str]\n",
    "        Mask modality to filter dataset_index with. Will override dataset_config setting.\n",
    "\n",
    "    Returns\n",
    "    -------\n",
    "    pd.DataFrame\n",
    "        Subset of the dataset_index with just the masks and their reference images' metadata.\n",
    "    \"\"\"\n",
    "\n",
    "    if image_modality is None:\n",
    "        if dataset_config is None:\n",
    "            message = \"No image modality setting passed. Must pass a image_modality or dataset_config with an image modality setting.\"\n",
    "            logger.error(message)\n",
    "            raise ValueError(message)\n",
    "        \n",
    "        # Get the image modality from config to retrieve from the metadata\n",
    "        image_modality = dataset_config[\"MIT\"][\"MODALITIES\"][\"image\"]\n",
    "    \n",
    "    if mask_modality is None:\n",
    "        if dataset_config is None:\n",
    "            message = \"No mask modality setting passed. Must pass a mask_modality or dataset_config with a mask modality setting.\"\n",
    "            logger.error(message)\n",
    "            raise ValueError(message)\n",
    "        \n",
    "        # Get the mask modality from config to retrieve from the metadata\n",
    "        mask_modality = dataset_config[\"MIT\"][\"MODALITIES\"][\"mask\"]\n",
    "\n",
    "    # Get all metadata rows with the mask modality\n",
    "    mask_metadata = dataset_index[dataset_index['Modality'] == mask_modality]\n",
    "\n",
    "    # Get a Series of ReferenceSeriesUIDs from the masks - these point to the images the masks were made on\n",
    "    referenced_series_ids = mask_metadata['ReferencedSeriesUID']\n",
    "    \n",
    "    # Get image metadata rows with a SeriesInstanceUID matching one of the ReferenceSeriesUIDS of the masks\n",
    "    image_metadata = dataset_index[dataset_index['Modality'] == image_modality]\n",
    "    masked_image_metadata = image_metadata[image_metadata['SeriesInstanceUID'].isin(referenced_series_ids)]\n",
    "\n",
    "    # Return the subsetted metadata\n",
    "    return pd.concat([masked_image_metadata, mask_metadata], sort=True)"
   ]
  },
  {
   "cell_type": "code",
   "execution_count": null,
   "id": "51453a79",
   "metadata": {},
   "outputs": [],
   "source": [
    "def save_out_negative_controls(nifti_writer: NIFTIWriter,\n",
    "                            patient_id: str,\n",
    "                            image: sitk.Image,\n",
    "                            region: str,\n",
    "                            permutation: str):\n",
    "    \"\"\"Save out negative control images using the NIFTIWriter.\"\"\"\n",
    "\n",
    "    try:\n",
    "        nifti_writer.save(\n",
    "                        image,\n",
    "                        PatientID=patient_id,\n",
    "                        region=region,\n",
    "                        permutation=permutation\n",
    "                    )\n",
    "    except NiftiWriterIOError:\n",
    "        message = f\"{permutation} {region} negative control file already exists for {patient_id}. If you wish to overwrite, set overwrite to true in the NIFTIWriter.\"\n",
    "        logger.debug(message)\n",
    "\n",
    "    return image"
   ]
  },
  {
   "cell_type": "code",
   "execution_count": 4,
   "id": "1d5f8035",
   "metadata": {},
   "outputs": [],
   "source": [
    "dataset = \"HNSCC\"\n",
    "random_seed = 10\n",
    "\n",
    "if dataset is None:\n",
    "    message = \"Dataset name must be provided.\"\n",
    "    logger.error(message)\n",
    "    raise ValueError(message)\n",
    "\n",
    "config_dir_path = dirs.CONFIG / 'datasets'\n",
    "\n",
    "dataset_config = loadImageDatasetConfig(dataset, config_dir_path)\n",
    "\n",
    "dataset_name = dataset_config['DATASET_NAME']\n",
    "full_data_name = get_full_data_name(config_dir_path / dataset)\n",
    "logger.info(f\"Creating negative controls for dataset: {dataset_name}\")\n",
    "\n",
    "# Extract READII settings\n",
    "regions, permutations, _crop = get_readii_settings(dataset_config)\n",
    "\n",
    "# Set up negative control manager with settings from config\n",
    "manager = NegativeControlManager.from_strings(\n",
    "    negative_control_types=permutations,\n",
    "    region_types=regions,\n",
    "    random_seed=random_seed\n",
    ")\n",
    "\n",
    "mit_images_dir_path = dirs.PROCDATA / full_data_name / 'images' /f'mit_{dataset_name}'\n",
    "\n",
    "dataset_index = pd.read_csv(Path(mit_images_dir_path, f'mit_{dataset_name}_index-simple.csv'))\n",
    "\n",
    "image_modality = dataset_config[\"MIT\"][\"MODALITIES\"][\"image\"]\n",
    "mask_modality = dataset_config[\"MIT\"][\"MODALITIES\"][\"mask\"]\n",
    "\n",
    "masked_image_index = get_masked_image_metadata(dataset_config = dataset_config,\n",
    "                                                dataset_index = dataset_index,\n",
    "                                                image_modality = image_modality,\n",
    "                                                mask_modality = mask_modality)"
   ]
  },
  {
   "cell_type": "code",
   "execution_count": 6,
   "id": "07806a7a",
   "metadata": {},
   "outputs": [
    {
     "data": {
      "text/plain": [
       "<pandas.core.groupby.generic.DataFrameGroupBy object at 0x7f233c908830>"
      ]
     },
     "execution_count": 6,
     "metadata": {},
     "output_type": "execute_result"
    }
   ],
   "source": [
    "masked_image_index.groupby('StudyInstanceUID')"
   ]
  },
  {
   "cell_type": "code",
   "execution_count": null,
   "id": "300f8af4",
   "metadata": {},
   "outputs": [],
   "source": [
    "dataset_index['SampleID'] = dataset_index['PatientID'].astype(str) + \"_\" + dataset_index['SampleNumber'].astype(str).str.zfill(4)\n",
    "\n",
    "mask_metadata = dataset_index[dataset_index['Modality'] == mask_modality]\n",
    "mask_metadata = roi_filter_mask_metadata(mask_metadata, dataset_config)\n",
    "\n",
    "image_metadata = dataset_index[dataset_index['Modality'] == image_modality]\n",
    "image_metadata"
   ]
  },
  {
   "cell_type": "code",
   "execution_count": null,
   "id": "026427e4",
   "metadata": {},
   "outputs": [],
   "source": [
    "intersected_samples = pd.Index(mask_metadata['SampleID']).intersection(image_metadata['SampleID'], sort=True)\n",
    "intersected_samples"
   ]
  },
  {
   "cell_type": "code",
   "execution_count": null,
   "id": "26bb3643",
   "metadata": {},
   "outputs": [],
   "source": [
    "image_metadata[(image_metadata['SeriesInstanceUID'].isin(mask_metadata['ReferencedSeriesUID'])) & (image_metadata['SampleID'].isin(intersected_samples))]"
   ]
  },
  {
   "cell_type": "code",
   "execution_count": null,
   "id": "fcf3dbdf",
   "metadata": {},
   "outputs": [],
   "source": [
    "# StudyInstanceUID\n",
    "for study, study_data in masked_image_index.groupby('StudyInstanceUID'):\n",
    "    logger.info(f\"Processing StudyInstanceUID: {study}\")\n",
    "\n",
    "    # Get image metadata as a pd.Series\n",
    "    image_metadata = study_data[study_data['Modality'] == image_modality].squeeze()\n",
    "    image_path = Path(image_metadata['filepath'])\n",
    "    # Load in image\n",
    "    raw_image = sitk.ReadImage(mit_images_dir_path / image_path)\n",
    "    # Remove extra dimension of image, set origin, spacing, direction to original\n",
    "    image = alignImages(raw_image, flattenImage(raw_image))\n",
    "\n",
    "    \n",
    "    # Get mask metadata as a pd.Series\n",
    "    # all_mask_metadata = study_data[study_data['Modality'] == mask_modality]\n",
    "\n",
    "    # for mask_metadata in all_mask_metadata.iterrows():\n",
    "    #     mask_path = Path(mask_metadata['filepath'])\n",
    "    #     # Load in mask\n",
    "    #     raw_mask = sitk.ReadImage(mit_images_dir_path / mask_path)\n",
    "    #     mask = alignImages(raw_mask, flattenImage(raw_mask))\n",
    "\n",
    "    #     # Set up writer for saving out the negative controls\n",
    "    #     nifti_writer = NIFTIWriter(\n",
    "    #         root_directory = mit_images_dir_path.parent / f'readii_{dataset_name}' / image_path.parent / mask_path.parent,\n",
    "    #         filename_format = \"{permutation}_{region}.nii.gz\",\n",
    "    #         overwrite = True,\n",
    "    #         create_dirs = True\n",
    "    #     )"
   ]
  },
  {
   "cell_type": "code",
   "execution_count": null,
   "id": "3c83acbe",
   "metadata": {},
   "outputs": [],
   "source": [
    "masked_image_index"
   ]
  },
  {
   "cell_type": "code",
   "execution_count": null,
   "id": "8dc13bde",
   "metadata": {},
   "outputs": [],
   "source": [
    "image_metadata['filepath']"
   ]
  },
  {
   "cell_type": "code",
   "execution_count": null,
   "id": "c0e993fb",
   "metadata": {},
   "outputs": [],
   "source": [
    "image.GetSpacing()"
   ]
  },
  {
   "cell_type": "code",
   "execution_count": null,
   "id": "527886bc",
   "metadata": {},
   "outputs": [],
   "source": [
    "raw_image = sitk.ReadImage(mit_images_dir_path / image_path)\n",
    "raw_image.GetSpacing()"
   ]
  },
  {
   "cell_type": "code",
   "execution_count": null,
   "id": "c480cfed",
   "metadata": {},
   "outputs": [],
   "source": []
  },
  {
   "cell_type": "markdown",
   "id": "477f6c83",
   "metadata": {},
   "source": [
    "# Update readii index checking for overwrite"
   ]
  },
  {
   "cell_type": "code",
   "execution_count": null,
   "id": "1a88052f",
   "metadata": {},
   "outputs": [],
   "source": [
    "import itertools\n",
    "readii_index_file = Path(\"/Users/katyscott/Documents/BHKLab_GitHub/readii_2_roqc/data/procdata/TCIA_NSCLC-Radiomics/images/readii_NSCLC-Radiomics/readii_NSCLC-Radiomics_index.csv\")\n",
    "overwrite = False\n",
    "\n",
    "dataset_config = loadImageDatasetConfig(\"NSCLC-Radiomics.yaml\", \"/Users/katyscott/Documents/BHKLab_GitHub/readii_2_roqc/config/datasets\")\n",
    "\n",
    "regions, permutations, _crop = get_readii_settings(dataset_config)\n",
    "seed = 10\n",
    "# Set up negative control manager with settings from config\n",
    "manager = NegativeControlManager.from_strings(\n",
    "    negative_control_types=permutations,\n",
    "    region_types=regions,\n",
    "    random_seed=seed\n",
    "    )\n",
    "\n",
    "\n",
    "if readii_index_file.exists() and not overwrite: \n",
    "    # Load in readii index and check:\n",
    "    # 1. if all negative controls requested have been extracted\n",
    "    # 2. for all of the patients\n",
    "    readii_index = pd.read_csv(readii_index_file)\n",
    "\n",
    "    processed_image_types = {itype for itype in readii_index[['Permutation', 'Region']].itertuples(index=False, name=None)}\n",
    "    requested_image_types = {itype for itype in itertools.product([permutation.name() for permutation in manager.negative_control_strategies],\n",
    "                                                                  [region.name() for region in manager.region_strategies])}\n",
    "    \n",
    "    # Check if the requested image types are a subset of those already processed\n",
    "    if requested_image_types.issubset(processed_image_types):\n",
    "        print(\"Requested negative controls have already been generated for these samples or are listed in the readii index as if they have been. Set overwrite to true if you want to re-process these.\")\n",
    "    "
   ]
  },
  {
   "cell_type": "markdown",
   "id": "bb940b03",
   "metadata": {},
   "source": [
    "# Filter med-imagetools simple-index with ROI regex"
   ]
  },
  {
   "cell_type": "code",
   "execution_count": null,
   "id": "9af4d8d2",
   "metadata": {},
   "outputs": [],
   "source": [
    "def roi_filter_mask_metadata(mask_metadata:pd.DataFrame,\n",
    "                         dataset_config:dict\n",
    "                         ):\n",
    "    # Get the metadata rows with the specified ROIs - here for when autopipeline is run with more ROIs set to be extracted than want to be processed with R2R\n",
    "    roi_regex = dataset_config[\"MIT\"][\"ROI_MATCH_MAP\"]\n",
    "    roi_strategy = dataset_config[\"MIT\"][\"ROI_STRATEGY\"]\n",
    "    mask_modality = dataset_config[\"MIT\"][\"MODALITIES\"][\"mask\"]\n",
    "\n",
    "    roi_regex_list = roi_regex.split(\":\")\n",
    "    roi_key = roi_regex_list[0]\n",
    "    roi_matches = roi_regex_list[1].strip(\"'\").split(\",\")\n",
    "\n",
    "    match roi_strategy:\n",
    "        case 'MERGE':\n",
    "            filtered_mask_metadata = mask_metadata[(mask_metadata['ImageID'] == roi_key) & (mask_metadata['Modality'] == mask_modality)] \n",
    "        case 'SEPARATE':\n",
    "            # Get the combined roi key and match in the format generated by autopipeline separate = {roi_key}__{roi_items} with necessary escape characters for regex\n",
    "            image_id_regex_combos = {rf\"{roi_key}__\\[{item}\\]\" for item in roi_matches}\n",
    "            # Join each combination into a single regex string, separated by | for or\n",
    "            image_id_regex = r\"|\".join(image_id_regex_combos)\n",
    "            # Set a copy of the ImageID column as the index for the filtering function to use\n",
    "            filtered_mask_metadata = mask_metadata.set_index('ImageID', drop=False)\n",
    "            # Filter the dataset based on the regex string generated from the ROI Match Map\n",
    "            filtered_mask_metadata = filtered_mask_metadata.filter(regex=image_id_regex, axis=0)\n",
    "            # Restore the numeric index\n",
    "            filtered_mask_metadata.reset_index(drop=True)\n",
    "            filtered_mask_metadata = filtered_mask_metadata[(filtered_mask_metadata['Modality'] == mask_modality)]\n",
    "        case _:\n",
    "            message = f\"The roi strategy {roi_strategy} is not handled by this function. No filtering will be applied.\"\n",
    "            logger.info(message)\n",
    "            filtered_mask_metadata = mask_metadata\n",
    "            \n",
    "\n",
    "    return filtered_mask_metadata"
   ]
  },
  {
   "cell_type": "code",
   "execution_count": null,
   "id": "b862ca47",
   "metadata": {},
   "outputs": [],
   "source": [
    "dataset_config = loadImageDatasetConfig(\"NSCLC-Radiomics.yaml\", \"/Users/katyscott/Documents/BHKLab_GitHub/readii_2_roqc/config/datasets\")\n",
    "dataset_index = pd.read_csv(\"/Users/katyscott/Documents/BHKLab_GitHub/readii_2_roqc/data/procdata/TCIA_NSCLC-Radiomics/images/mit_NSCLC-Radiomics/mit_NSCLC-Radiomics_index-simple.csv\")\n",
    "\n",
    "roi_filter_mask_metadata(dataset_index, dataset_config)\n"
   ]
  },
  {
   "cell_type": "code",
   "execution_count": null,
   "id": "2c9d7992",
   "metadata": {},
   "outputs": [],
   "source": [
    "\n",
    "roi_regex = dataset_config[\"MIT\"][\"ROI_MATCH_MAP\"]\n",
    "roi_strategy = dataset_config[\"MIT\"][\"ROI_STRATEGY\"]\n",
    "\n",
    "roi_regex_list = roi_regex.split(\":\")\n",
    "roi_key = roi_regex_list[0]\n",
    "roi_items = roi_regex_list[1].strip(\"'\").split(\",\")"
   ]
  },
  {
   "cell_type": "code",
   "execution_count": null,
   "id": "ab42cb34",
   "metadata": {},
   "outputs": [],
   "source": [
    "# SEPARATE\n",
    "# Will be {roi_key}__{roi_items}\n",
    "image_id_regex_combos = {rf\"{roi_key}__\\[{item}\\]\" for item in roi_items}\n",
    "\n",
    "image_id_regex = r\"|\".join(image_id_regex_combos)\n",
    "image_id_regex"
   ]
  },
  {
   "cell_type": "code",
   "execution_count": null,
   "id": "2a69ff6f",
   "metadata": {},
   "outputs": [],
   "source": [
    "image_index = dataset_index.set_index('ImageID', drop=False)\n",
    "filtered_dataset = image_index.filter(regex=image_id_regex, axis=0)\n",
    "filtered_dataset.reset_index(drop=True)"
   ]
  },
  {
   "cell_type": "code",
   "execution_count": null,
   "id": "1ace896d",
   "metadata": {},
   "outputs": [],
   "source": []
  }
 ],
 "metadata": {
  "kernelspec": {
   "display_name": "Python 3",
   "language": "python",
   "name": "python3"
  },
  "language_info": {
   "codemirror_mode": {
    "name": "ipython",
    "version": 3
   },
   "file_extension": ".py",
   "mimetype": "text/x-python",
   "name": "python",
   "nbconvert_exporter": "python",
   "pygments_lexer": "ipython3",
   "version": "3.13.5"
  }
 },
 "nbformat": 4,
 "nbformat_minor": 5
}
