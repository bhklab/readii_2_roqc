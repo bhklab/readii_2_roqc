{
 "cells": [
  {
   "cell_type": "code",
   "execution_count": 8,
   "id": "a1d86f69",
   "metadata": {},
   "outputs": [],
   "source": [
    "from radiomics import featureextractor\n",
    "from damply import dirs\n",
    "from pathlib import Path\n",
    "import SimpleITK as sitk\n",
    "import pandas as pd"
   ]
  },
  {
   "cell_type": "code",
   "execution_count": null,
   "id": "3185dff1",
   "metadata": {},
   "outputs": [],
   "source": [
    "settings = dirs.CONFIG / \"pyradiomics\" / \"pyradiomics_original_single_feature.yaml\" \n",
    "image = sitk.ReadImage(f\"{dirs.PROCDATA}/TCIA_NSCLC-Radiomics/images/mit_NSCLC-Radiomics/LUNG1-001_0000/CT_63382046/CT.nii.gz\")\n",
    "mask = sitk.ReadImage(f\"{dirs.PROCDATA}/TCIA_NSCLC-Radiomics/images/mit_NSCLC-Radiomics/LUNG1-001_0000/RTSTRUCT_35578236/GTV.nii.gz\")"
   ]
  },
  {
   "cell_type": "code",
   "execution_count": 11,
   "id": "0f8e5068",
   "metadata": {},
   "outputs": [],
   "source": [
    "dataset_index = pd.read_csv(f\"{dirs.PROCDATA}/TCIA_NSCLC-Radiomics/features/pyradiomics/pyradiomics_NSCLC-Radiomics_index.csv\")\n",
    "\n",
    "metadata = dataset_index.iloc[0]"
   ]
  },
  {
   "cell_type": "code",
   "execution_count": 5,
   "id": "8ce850c7",
   "metadata": {},
   "outputs": [],
   "source": [
    "# Convert settings Path to string for pyradiomics to read it\n",
    "if isinstance(settings, Path):\n",
    "    settings = str(settings)\n",
    "\n",
    "try:\n",
    "    # Set up PyRadiomics feature extractor with provided settings file (expects a string, not a pathlib Path)\n",
    "    extractor = featureextractor.RadiomicsFeatureExtractor(settings)\n",
    "\n",
    "    sample_feature_vector = extractor.execute(image, mask)\n",
    "\n",
    "except Exception as e:\n",
    "    print(f\"Feature extraction failed for this sample: {e}\")"
   ]
  },
  {
   "cell_type": "code",
   "execution_count": 15,
   "id": "cb7dbcb0",
   "metadata": {},
   "outputs": [],
   "source": [
    "from collections import OrderedDict\n",
    "od_metadata = metadata.to_dict(into=OrderedDict)"
   ]
  },
  {
   "cell_type": "code",
   "execution_count": 6,
   "id": "eb620880",
   "metadata": {},
   "outputs": [
    {
     "data": {
      "text/plain": [
       "OrderedDict([('diagnostics_Versions_PyRadiomics', 'v3.1.4'),\n",
       "             ('diagnostics_Versions_Numpy', '2.2.6'),\n",
       "             ('diagnostics_Versions_SimpleITK', '2.5.0'),\n",
       "             ('diagnostics_Versions_PyWavelet', '1.8.0'),\n",
       "             ('diagnostics_Versions_Python', '3.12.10'),\n",
       "             ('diagnostics_Configuration_Settings',\n",
       "              {'minimumROIDimensions': 2,\n",
       "               'minimumROISize': None,\n",
       "               'normalize': False,\n",
       "               'normalizeScale': 1,\n",
       "               'removeOutliers': None,\n",
       "               'resampledPixelSpacing': [1.0, 1.0, 1.0],\n",
       "               'interpolator': 'sitkBSpline',\n",
       "               'preCrop': False,\n",
       "               'padDistance': 5,\n",
       "               'distances': [1],\n",
       "               'force2D': False,\n",
       "               'force2Ddimension': 0,\n",
       "               'resegmentRange': None,\n",
       "               'label': 1,\n",
       "               'additionalInfo': True,\n",
       "               'binWidth': 25}),\n",
       "             ('diagnostics_Configuration_EnabledImageTypes', {'Original': {}}),\n",
       "             ('diagnostics_Image-original_Hash',\n",
       "              'b4175e0d6ddff17507e30c05c6e7302c2b9668f4'),\n",
       "             ('diagnostics_Image-original_Dimensionality', '3D'),\n",
       "             ('diagnostics_Image-original_Spacing',\n",
       "              (0.9765625, 0.9765625, 3.0)),\n",
       "             ('diagnostics_Image-original_Size', (512, 512, 134)),\n",
       "             ('diagnostics_Image-original_Mean',\n",
       "              np.float64(-741.3879128925836)),\n",
       "             ('diagnostics_Image-original_Minimum', np.float64(-1024.0)),\n",
       "             ('diagnostics_Image-original_Maximum', np.float64(3034.0)),\n",
       "             ('diagnostics_Mask-original_Hash',\n",
       "              '556ed0965525c7aec5a5bfa5ca1cc09a20ea0ff5'),\n",
       "             ('diagnostics_Mask-original_Spacing',\n",
       "              (0.9765625, 0.9765625, 3.0)),\n",
       "             ('diagnostics_Mask-original_Size', (512, 512, 134)),\n",
       "             ('diagnostics_Mask-original_BoundingBox',\n",
       "              (290, 226, 65, 98, 91, 21)),\n",
       "             ('diagnostics_Mask-original_VoxelNum', 56271),\n",
       "             ('diagnostics_Mask-original_VolumeNum', 1),\n",
       "             ('diagnostics_Mask-original_CenterOfMassIndex',\n",
       "              (np.float64(339.7097616889695),\n",
       "               np.float64(265.2984485791971),\n",
       "               np.float64(74.89406621527962))),\n",
       "             ('diagnostics_Mask-original_CenterOfMass',\n",
       "              (82.23609539938428, -201.43120255937782, -456.81780135416113)),\n",
       "             ('diagnostics_Image-interpolated_Spacing', (1.0, 1.0, 1.0)),\n",
       "             ('diagnostics_Image-interpolated_Size', (108, 101, 75)),\n",
       "             ('diagnostics_Image-interpolated_Mean',\n",
       "              np.float64(-392.8450715071507)),\n",
       "             ('diagnostics_Image-interpolated_Minimum', np.float64(-1105.0)),\n",
       "             ('diagnostics_Image-interpolated_Maximum', np.float64(1607.0)),\n",
       "             ('diagnostics_Mask-interpolated_Spacing', (1.0, 1.0, 1.0)),\n",
       "             ('diagnostics_Mask-interpolated_Size', (108, 101, 75)),\n",
       "             ('diagnostics_Mask-interpolated_BoundingBox',\n",
       "              (6, 6, 7, 96, 89, 63)),\n",
       "             ('diagnostics_Mask-interpolated_VoxelNum', 160563),\n",
       "             ('diagnostics_Mask-interpolated_VolumeNum', 1),\n",
       "             ('diagnostics_Mask-interpolated_CenterOfMassIndex',\n",
       "              (np.float64(54.732460155826686),\n",
       "               np.float64(43.95691410848078),\n",
       "               np.float64(37.619457782926325))),\n",
       "             ('diagnostics_Mask-interpolated_CenterOfMass',\n",
       "              (82.23246015582669, -201.5430858915192, -456.8805422170737)),\n",
       "             ('diagnostics_Mask-interpolated_Mean',\n",
       "              np.float64(-74.4041155185192)),\n",
       "             ('diagnostics_Mask-interpolated_Minimum', np.float64(-1105.0)),\n",
       "             ('diagnostics_Mask-interpolated_Maximum', np.float64(1081.0)),\n",
       "             ('original_shape_VoxelVolume', np.float64(160563.0))])"
      ]
     },
     "execution_count": 6,
     "metadata": {},
     "output_type": "execute_result"
    }
   ],
   "source": [
    "sample_feature_vector"
   ]
  },
  {
   "cell_type": "code",
   "execution_count": 16,
   "id": "963cdfbf",
   "metadata": {},
   "outputs": [],
   "source": [
    "od_metadata.update(sample_feature_vector)"
   ]
  },
  {
   "cell_type": "code",
   "execution_count": 17,
   "id": "1ae00b85",
   "metadata": {},
   "outputs": [
    {
     "data": {
      "text/plain": [
       "OrderedDict([('SampleID', 'LUNG1-001_0000'),\n",
       "             ('MaskID', 'GTV'),\n",
       "             ('Permutation', 'original'),\n",
       "             ('Region', 'full'),\n",
       "             ('Image',\n",
       "              'mit_NSCLC-Radiomics/LUNG1-001_0000/CT_63382046/CT.nii.gz'),\n",
       "             ('Mask',\n",
       "              'mit_NSCLC-Radiomics/LUNG1-001_0000/RTSTRUCT_35578236/GTV.nii.gz'),\n",
       "             ('diagnostics_Versions_PyRadiomics', 'v3.1.4'),\n",
       "             ('diagnostics_Versions_Numpy', '2.2.6'),\n",
       "             ('diagnostics_Versions_SimpleITK', '2.5.0'),\n",
       "             ('diagnostics_Versions_PyWavelet', '1.8.0'),\n",
       "             ('diagnostics_Versions_Python', '3.12.10'),\n",
       "             ('diagnostics_Configuration_Settings',\n",
       "              {'minimumROIDimensions': 2,\n",
       "               'minimumROISize': None,\n",
       "               'normalize': False,\n",
       "               'normalizeScale': 1,\n",
       "               'removeOutliers': None,\n",
       "               'resampledPixelSpacing': [1.0, 1.0, 1.0],\n",
       "               'interpolator': 'sitkBSpline',\n",
       "               'preCrop': False,\n",
       "               'padDistance': 5,\n",
       "               'distances': [1],\n",
       "               'force2D': False,\n",
       "               'force2Ddimension': 0,\n",
       "               'resegmentRange': None,\n",
       "               'label': 1,\n",
       "               'additionalInfo': True,\n",
       "               'binWidth': 25}),\n",
       "             ('diagnostics_Configuration_EnabledImageTypes', {'Original': {}}),\n",
       "             ('diagnostics_Image-original_Hash',\n",
       "              'b4175e0d6ddff17507e30c05c6e7302c2b9668f4'),\n",
       "             ('diagnostics_Image-original_Dimensionality', '3D'),\n",
       "             ('diagnostics_Image-original_Spacing',\n",
       "              (0.9765625, 0.9765625, 3.0)),\n",
       "             ('diagnostics_Image-original_Size', (512, 512, 134)),\n",
       "             ('diagnostics_Image-original_Mean',\n",
       "              np.float64(-741.3879128925836)),\n",
       "             ('diagnostics_Image-original_Minimum', np.float64(-1024.0)),\n",
       "             ('diagnostics_Image-original_Maximum', np.float64(3034.0)),\n",
       "             ('diagnostics_Mask-original_Hash',\n",
       "              '556ed0965525c7aec5a5bfa5ca1cc09a20ea0ff5'),\n",
       "             ('diagnostics_Mask-original_Spacing',\n",
       "              (0.9765625, 0.9765625, 3.0)),\n",
       "             ('diagnostics_Mask-original_Size', (512, 512, 134)),\n",
       "             ('diagnostics_Mask-original_BoundingBox',\n",
       "              (290, 226, 65, 98, 91, 21)),\n",
       "             ('diagnostics_Mask-original_VoxelNum', 56271),\n",
       "             ('diagnostics_Mask-original_VolumeNum', 1),\n",
       "             ('diagnostics_Mask-original_CenterOfMassIndex',\n",
       "              (np.float64(339.7097616889695),\n",
       "               np.float64(265.2984485791971),\n",
       "               np.float64(74.89406621527962))),\n",
       "             ('diagnostics_Mask-original_CenterOfMass',\n",
       "              (82.23609539938428, -201.43120255937782, -456.81780135416113)),\n",
       "             ('diagnostics_Image-interpolated_Spacing', (1.0, 1.0, 1.0)),\n",
       "             ('diagnostics_Image-interpolated_Size', (108, 101, 75)),\n",
       "             ('diagnostics_Image-interpolated_Mean',\n",
       "              np.float64(-392.8450715071507)),\n",
       "             ('diagnostics_Image-interpolated_Minimum', np.float64(-1105.0)),\n",
       "             ('diagnostics_Image-interpolated_Maximum', np.float64(1607.0)),\n",
       "             ('diagnostics_Mask-interpolated_Spacing', (1.0, 1.0, 1.0)),\n",
       "             ('diagnostics_Mask-interpolated_Size', (108, 101, 75)),\n",
       "             ('diagnostics_Mask-interpolated_BoundingBox',\n",
       "              (6, 6, 7, 96, 89, 63)),\n",
       "             ('diagnostics_Mask-interpolated_VoxelNum', 160563),\n",
       "             ('diagnostics_Mask-interpolated_VolumeNum', 1),\n",
       "             ('diagnostics_Mask-interpolated_CenterOfMassIndex',\n",
       "              (np.float64(54.732460155826686),\n",
       "               np.float64(43.95691410848078),\n",
       "               np.float64(37.619457782926325))),\n",
       "             ('diagnostics_Mask-interpolated_CenterOfMass',\n",
       "              (82.23246015582669, -201.5430858915192, -456.8805422170737)),\n",
       "             ('diagnostics_Mask-interpolated_Mean',\n",
       "              np.float64(-74.4041155185192)),\n",
       "             ('diagnostics_Mask-interpolated_Minimum', np.float64(-1105.0)),\n",
       "             ('diagnostics_Mask-interpolated_Maximum', np.float64(1081.0)),\n",
       "             ('original_shape_VoxelVolume', np.float64(160563.0))])"
      ]
     },
     "execution_count": 17,
     "metadata": {},
     "output_type": "execute_result"
    }
   ],
   "source": [
    "od_metadata"
   ]
  },
  {
   "cell_type": "code",
   "execution_count": null,
   "id": "888572b1",
   "metadata": {},
   "outputs": [],
   "source": []
  }
 ],
 "metadata": {
  "kernelspec": {
   "display_name": "default",
   "language": "python",
   "name": "python3"
  },
  "language_info": {
   "codemirror_mode": {
    "name": "ipython",
    "version": 3
   },
   "file_extension": ".py",
   "mimetype": "text/x-python",
   "name": "python",
   "nbconvert_exporter": "python",
   "pygments_lexer": "ipython3",
   "version": "3.12.10"
  }
 },
 "nbformat": 4,
 "nbformat_minor": 5
}
