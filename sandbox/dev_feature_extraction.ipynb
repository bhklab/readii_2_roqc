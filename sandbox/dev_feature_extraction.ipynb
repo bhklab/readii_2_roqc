{
 "cells": [
  {
   "cell_type": "code",
   "execution_count": 1,
   "id": "a1d86f69",
   "metadata": {},
   "outputs": [],
   "source": [
    "from radiomics import featureextractor\n",
    "from damply import dirs\n",
    "from pathlib import Path\n",
    "import SimpleITK as sitk\n",
    "import pandas as pd"
   ]
  },
  {
   "cell_type": "code",
   "execution_count": 2,
   "id": "3185dff1",
   "metadata": {},
   "outputs": [],
   "source": [
    "settings = dirs.CONFIG / \"pyradiomics\" / \"pyradiomics_original_single_feature.yaml\" \n",
    "image = sitk.ReadImage(f\"{dirs.PROCDATA}/TCIA_NSCLC-Radiomics_test/images/mit_NSCLC-Radiomics_test/LUNG1-001_0000/CT_63382046/CT.nii.gz\")\n",
    "mask = sitk.ReadImage(f\"{dirs.PROCDATA}/TCIA_NSCLC-Radiomics_test/images/mit_NSCLC-Radiomics_test/LUNG1-001_0000/RTSTRUCT_35578236/GTV.nii.gz\")"
   ]
  },
  {
   "cell_type": "code",
   "execution_count": 3,
   "id": "0f8e5068",
   "metadata": {},
   "outputs": [
    {
     "data": {
      "text/plain": [
       "'TCIA'"
      ]
     },
     "execution_count": 3,
     "metadata": {},
     "output_type": "execute_result"
    }
   ],
   "source": [
    "dataset_index = pd.read_csv(f\"{dirs.PROCDATA}/TCIA_NSCLC-Radiomics_test/features/pyradiomics/pyradiomics_NSCLC-Radiomics_test_index.csv\")\n",
    "\n",
    "dataset_index['DataSource'] = \"TCIA\"\n",
    "\n",
    "metadata = dataset_index.iloc[0]['DataSource']\n",
    "metadata"
   ]
  },
  {
   "cell_type": "markdown",
   "id": "f20060b7",
   "metadata": {},
   "source": [
    "# Testing out functions"
   ]
  },
  {
   "cell_type": "code",
   "execution_count": 4,
   "id": "d298f60f",
   "metadata": {},
   "outputs": [
    {
     "name": "stderr",
     "output_type": "stream",
     "text": [
      "\u001b[2m17:05:24\u001b[0m [\u001b[31m\u001b[1merror    \u001b[0m] \u001b[1mNo non-empty dataframes found.\u001b[0m [\u001b[0m\u001b[1m\u001b[34mreadii\u001b[0m]\u001b[0m \u001b[36mcall\u001b[0m=\u001b[35mextract.compile_dataset_features:268\u001b[0m\n",
      "\u001b[2m        \u001b[0m [\u001b[31m\u001b[1merror    \u001b[0m] \u001b[1mEmpty file written to /home/bhkuser/bhklab/katy/readii_2_roqc/data/results/TCIA_NSCLC-Radiomics_test/features/pyradiomics/pyradiomics_original_single_feature/randomized_non_roi_features.csv\u001b[0m [\u001b[0m\u001b[1m\u001b[34mreadii\u001b[0m]\u001b[0m \u001b[36mcall\u001b[0m=\u001b[35mextract.compile_dataset_features:273\u001b[0m\n",
      "\u001b[2m        \u001b[0m [\u001b[31m\u001b[1merror    \u001b[0m] \u001b[1mNo non-empty dataframes found.\u001b[0m [\u001b[0m\u001b[1m\u001b[34mreadii\u001b[0m]\u001b[0m \u001b[36mcall\u001b[0m=\u001b[35mextract.compile_dataset_features:268\u001b[0m\n",
      "\u001b[2m        \u001b[0m [\u001b[31m\u001b[1merror    \u001b[0m] \u001b[1mEmpty file written to /home/bhkuser/bhklab/katy/readii_2_roqc/data/results/TCIA_NSCLC-Radiomics_test/features/pyradiomics/pyradiomics_original_single_feature/sampled_non_roi_features.csv\u001b[0m [\u001b[0m\u001b[1m\u001b[34mreadii\u001b[0m]\u001b[0m \u001b[36mcall\u001b[0m=\u001b[35mextract.compile_dataset_features:273\u001b[0m\n",
      "\u001b[2m        \u001b[0m [\u001b[31m\u001b[1merror    \u001b[0m] \u001b[1mNo non-empty dataframes found.\u001b[0m [\u001b[0m\u001b[1m\u001b[34mreadii\u001b[0m]\u001b[0m \u001b[36mcall\u001b[0m=\u001b[35mextract.compile_dataset_features:268\u001b[0m\n",
      "\u001b[2m        \u001b[0m [\u001b[31m\u001b[1merror    \u001b[0m] \u001b[1mEmpty file written to /home/bhkuser/bhklab/katy/readii_2_roqc/data/results/TCIA_NSCLC-Radiomics_test/features/pyradiomics/pyradiomics_original_single_feature/shuffled_roi_features.csv\u001b[0m [\u001b[0m\u001b[1m\u001b[34mreadii\u001b[0m]\u001b[0m \u001b[36mcall\u001b[0m=\u001b[35mextract.compile_dataset_features:273\u001b[0m\n",
      "\u001b[2m        \u001b[0m [\u001b[31m\u001b[1merror    \u001b[0m] \u001b[1mNo non-empty dataframes found.\u001b[0m [\u001b[0m\u001b[1m\u001b[34mreadii\u001b[0m]\u001b[0m \u001b[36mcall\u001b[0m=\u001b[35mextract.compile_dataset_features:268\u001b[0m\n",
      "\u001b[2m        \u001b[0m [\u001b[31m\u001b[1merror    \u001b[0m] \u001b[1mEmpty file written to /home/bhkuser/bhklab/katy/readii_2_roqc/data/results/TCIA_NSCLC-Radiomics_test/features/pyradiomics/pyradiomics_original_single_feature/original_full_features.csv\u001b[0m [\u001b[0m\u001b[1m\u001b[34mreadii\u001b[0m]\u001b[0m \u001b[36mcall\u001b[0m=\u001b[35mextract.compile_dataset_features:273\u001b[0m\n",
      "\u001b[2m        \u001b[0m [\u001b[33m\u001b[1mwarning  \u001b[0m] \u001b[1mNo samples found for image class original roi. Skipping.\u001b[0m [\u001b[0m\u001b[1m\u001b[34mreadii\u001b[0m]\u001b[0m \u001b[36mcall\u001b[0m=\u001b[35mextract.compile_dataset_features:232\u001b[0m\n",
      "\u001b[2m        \u001b[0m [\u001b[31m\u001b[1merror    \u001b[0m] \u001b[1mNo non-empty dataframes found.\u001b[0m [\u001b[0m\u001b[1m\u001b[34mreadii\u001b[0m]\u001b[0m \u001b[36mcall\u001b[0m=\u001b[35mextract.compile_dataset_features:268\u001b[0m\n",
      "\u001b[2m        \u001b[0m [\u001b[31m\u001b[1merror    \u001b[0m] \u001b[1mEmpty file written to /home/bhkuser/bhklab/katy/readii_2_roqc/data/results/TCIA_NSCLC-Radiomics_test/features/pyradiomics/pyradiomics_original_single_feature/shuffled_full_features.csv\u001b[0m [\u001b[0m\u001b[1m\u001b[34mreadii\u001b[0m]\u001b[0m \u001b[36mcall\u001b[0m=\u001b[35mextract.compile_dataset_features:273\u001b[0m\n",
      "\u001b[2m        \u001b[0m [\u001b[31m\u001b[1merror    \u001b[0m] \u001b[1mNo non-empty dataframes found.\u001b[0m [\u001b[0m\u001b[1m\u001b[34mreadii\u001b[0m]\u001b[0m \u001b[36mcall\u001b[0m=\u001b[35mextract.compile_dataset_features:268\u001b[0m\n",
      "\u001b[2m        \u001b[0m [\u001b[31m\u001b[1merror    \u001b[0m] \u001b[1mEmpty file written to /home/bhkuser/bhklab/katy/readii_2_roqc/data/results/TCIA_NSCLC-Radiomics_test/features/pyradiomics/pyradiomics_original_single_feature/shuffled_non_roi_features.csv\u001b[0m [\u001b[0m\u001b[1m\u001b[34mreadii\u001b[0m]\u001b[0m \u001b[36mcall\u001b[0m=\u001b[35mextract.compile_dataset_features:273\u001b[0m\n",
      "\u001b[2m        \u001b[0m [\u001b[33m\u001b[1mwarning  \u001b[0m] \u001b[1mNo samples found for image class original non_roi. Skipping.\u001b[0m [\u001b[0m\u001b[1m\u001b[34mreadii\u001b[0m]\u001b[0m \u001b[36mcall\u001b[0m=\u001b[35mextract.compile_dataset_features:232\u001b[0m\n",
      "\u001b[2m        \u001b[0m [\u001b[31m\u001b[1merror    \u001b[0m] \u001b[1mNo non-empty dataframes found.\u001b[0m [\u001b[0m\u001b[1m\u001b[34mreadii\u001b[0m]\u001b[0m \u001b[36mcall\u001b[0m=\u001b[35mextract.compile_dataset_features:268\u001b[0m\n",
      "\u001b[2m        \u001b[0m [\u001b[31m\u001b[1merror    \u001b[0m] \u001b[1mEmpty file written to /home/bhkuser/bhklab/katy/readii_2_roqc/data/results/TCIA_NSCLC-Radiomics_test/features/pyradiomics/pyradiomics_original_single_feature/randomized_roi_features.csv\u001b[0m [\u001b[0m\u001b[1m\u001b[34mreadii\u001b[0m]\u001b[0m \u001b[36mcall\u001b[0m=\u001b[35mextract.compile_dataset_features:273\u001b[0m\n",
      "\u001b[2m        \u001b[0m [\u001b[31m\u001b[1merror    \u001b[0m] \u001b[1mNo non-empty dataframes found.\u001b[0m [\u001b[0m\u001b[1m\u001b[34mreadii\u001b[0m]\u001b[0m \u001b[36mcall\u001b[0m=\u001b[35mextract.compile_dataset_features:268\u001b[0m\n",
      "\u001b[2m        \u001b[0m [\u001b[31m\u001b[1merror    \u001b[0m] \u001b[1mEmpty file written to /home/bhkuser/bhklab/katy/readii_2_roqc/data/results/TCIA_NSCLC-Radiomics_test/features/pyradiomics/pyradiomics_original_single_feature/randomized_full_features.csv\u001b[0m [\u001b[0m\u001b[1m\u001b[34mreadii\u001b[0m]\u001b[0m \u001b[36mcall\u001b[0m=\u001b[35mextract.compile_dataset_features:273\u001b[0m\n",
      "\u001b[2m        \u001b[0m [\u001b[31m\u001b[1merror    \u001b[0m] \u001b[1mNo non-empty dataframes found.\u001b[0m [\u001b[0m\u001b[1m\u001b[34mreadii\u001b[0m]\u001b[0m \u001b[36mcall\u001b[0m=\u001b[35mextract.compile_dataset_features:268\u001b[0m\n",
      "\u001b[2m        \u001b[0m [\u001b[31m\u001b[1merror    \u001b[0m] \u001b[1mEmpty file written to /home/bhkuser/bhklab/katy/readii_2_roqc/data/results/TCIA_NSCLC-Radiomics_test/features/pyradiomics/pyradiomics_original_single_feature/sampled_full_features.csv\u001b[0m [\u001b[0m\u001b[1m\u001b[34mreadii\u001b[0m]\u001b[0m \u001b[36mcall\u001b[0m=\u001b[35mextract.compile_dataset_features:273\u001b[0m\n",
      "\u001b[2m        \u001b[0m [\u001b[31m\u001b[1merror    \u001b[0m] \u001b[1mNo non-empty dataframes found.\u001b[0m [\u001b[0m\u001b[1m\u001b[34mreadii\u001b[0m]\u001b[0m \u001b[36mcall\u001b[0m=\u001b[35mextract.compile_dataset_features:268\u001b[0m\n",
      "\u001b[2m        \u001b[0m [\u001b[31m\u001b[1merror    \u001b[0m] \u001b[1mEmpty file written to /home/bhkuser/bhklab/katy/readii_2_roqc/data/results/TCIA_NSCLC-Radiomics_test/features/pyradiomics/pyradiomics_original_single_feature/sampled_roi_features.csv\u001b[0m [\u001b[0m\u001b[1m\u001b[34mreadii\u001b[0m]\u001b[0m \u001b[36mcall\u001b[0m=\u001b[35mextract.compile_dataset_features:273\u001b[0m\n"
     ]
    },
    {
     "name": "stdout",
     "output_type": "stream",
     "text": [
      "[PosixPath('/home/bhkuser/bhklab/katy/readii_2_roqc/data/procdata/TCIA_NSCLC-Radiomics_test/features/pyradiomics/pyradiomics_original_single_feature/LUNG1-001_0000/GTV/randomized_non_roi_features.csv'), PosixPath('/home/bhkuser/bhklab/katy/readii_2_roqc/data/procdata/TCIA_NSCLC-Radiomics_test/features/pyradiomics/pyradiomics_original_single_feature/LUNG1-002_0001/GTV/randomized_non_roi_features.csv')]\n",
      "[]\n",
      "[]\n",
      "[PosixPath('/home/bhkuser/bhklab/katy/readii_2_roqc/data/procdata/TCIA_NSCLC-Radiomics_test/features/pyradiomics/pyradiomics_original_single_feature/LUNG1-001_0000/GTV/original_full_features.csv'), PosixPath('/home/bhkuser/bhklab/katy/readii_2_roqc/data/procdata/TCIA_NSCLC-Radiomics_test/features/pyradiomics/pyradiomics_original_single_feature/LUNG1-002_0001/GTV/original_full_features.csv')]\n",
      "[]\n",
      "[]\n",
      "[PosixPath('/home/bhkuser/bhklab/katy/readii_2_roqc/data/procdata/TCIA_NSCLC-Radiomics_test/features/pyradiomics/pyradiomics_original_single_feature/LUNG1-001_0000/GTV/randomized_roi_features.csv'), PosixPath('/home/bhkuser/bhklab/katy/readii_2_roqc/data/procdata/TCIA_NSCLC-Radiomics_test/features/pyradiomics/pyradiomics_original_single_feature/LUNG1-002_0001/GTV/randomized_roi_features.csv')]\n",
      "[PosixPath('/home/bhkuser/bhklab/katy/readii_2_roqc/data/procdata/TCIA_NSCLC-Radiomics_test/features/pyradiomics/pyradiomics_original_single_feature/LUNG1-001_0000/GTV/randomized_full_features.csv'), PosixPath('/home/bhkuser/bhklab/katy/readii_2_roqc/data/procdata/TCIA_NSCLC-Radiomics_test/features/pyradiomics/pyradiomics_original_single_feature/LUNG1-002_0001/GTV/randomized_full_features.csv')]\n",
      "[]\n",
      "[]\n"
     ]
    },
    {
     "data": {
      "text/plain": [
       "[PosixPath('/home/bhkuser/bhklab/katy/readii_2_roqc/data/results/TCIA_NSCLC-Radiomics_test/features/pyradiomics/pyradiomics_original_single_feature/randomized_non_roi_features.csv'),\n",
       " PosixPath('/home/bhkuser/bhklab/katy/readii_2_roqc/data/results/TCIA_NSCLC-Radiomics_test/features/pyradiomics/pyradiomics_original_single_feature/sampled_non_roi_features.csv'),\n",
       " PosixPath('/home/bhkuser/bhklab/katy/readii_2_roqc/data/results/TCIA_NSCLC-Radiomics_test/features/pyradiomics/pyradiomics_original_single_feature/shuffled_roi_features.csv'),\n",
       " PosixPath('/home/bhkuser/bhklab/katy/readii_2_roqc/data/results/TCIA_NSCLC-Radiomics_test/features/pyradiomics/pyradiomics_original_single_feature/original_full_features.csv'),\n",
       " PosixPath('/home/bhkuser/bhklab/katy/readii_2_roqc/data/results/TCIA_NSCLC-Radiomics_test/features/pyradiomics/pyradiomics_original_single_feature/shuffled_full_features.csv'),\n",
       " PosixPath('/home/bhkuser/bhklab/katy/readii_2_roqc/data/results/TCIA_NSCLC-Radiomics_test/features/pyradiomics/pyradiomics_original_single_feature/shuffled_non_roi_features.csv'),\n",
       " PosixPath('/home/bhkuser/bhklab/katy/readii_2_roqc/data/results/TCIA_NSCLC-Radiomics_test/features/pyradiomics/pyradiomics_original_single_feature/randomized_roi_features.csv'),\n",
       " PosixPath('/home/bhkuser/bhklab/katy/readii_2_roqc/data/results/TCIA_NSCLC-Radiomics_test/features/pyradiomics/pyradiomics_original_single_feature/randomized_full_features.csv'),\n",
       " PosixPath('/home/bhkuser/bhklab/katy/readii_2_roqc/data/results/TCIA_NSCLC-Radiomics_test/features/pyradiomics/pyradiomics_original_single_feature/sampled_full_features.csv'),\n",
       " PosixPath('/home/bhkuser/bhklab/katy/readii_2_roqc/data/results/TCIA_NSCLC-Radiomics_test/features/pyradiomics/pyradiomics_original_single_feature/sampled_roi_features.csv')]"
      ]
     },
     "execution_count": 4,
     "metadata": {},
     "output_type": "execute_result"
    }
   ],
   "source": [
    "import sys; sys.path.append(\"../workflow/scripts\")\n",
    "from feature_extraction.extract import extract_dataset_features, pyradiomics_extract, compile_dataset_features\n",
    "\n",
    "compile_dataset_features(dataset_index=dataset_index,\n",
    "                          method=\"pyradiomics\",\n",
    "                          settings_name=\"pyradiomics_original_single_feature\")"
   ]
  },
  {
   "cell_type": "code",
   "execution_count": 5,
   "id": "35207e2a",
   "metadata": {},
   "outputs": [
    {
     "ename": "KeyboardInterrupt",
     "evalue": "",
     "output_type": "error",
     "traceback": [
      "\u001b[31m---------------------------------------------------------------------------\u001b[39m",
      "\u001b[31mKeyboardInterrupt\u001b[39m                         Traceback (most recent call last)",
      "\u001b[36mCell\u001b[39m\u001b[36m \u001b[39m\u001b[32mIn[5]\u001b[39m\u001b[32m, line 1\u001b[39m\n\u001b[32m----> \u001b[39m\u001b[32m1\u001b[39m \u001b[43mextract_dataset_features\u001b[49m\u001b[43m(\u001b[49m\u001b[43mdataset\u001b[49m\u001b[43m \u001b[49m\u001b[43m=\u001b[49m\u001b[43m \u001b[49m\u001b[33;43m\"\u001b[39;49m\u001b[33;43mNSCLC-Radiomics_test\u001b[39;49m\u001b[33;43m\"\u001b[39;49m\u001b[43m,\u001b[49m\n\u001b[32m      2\u001b[39m \u001b[43m        \u001b[49m\u001b[43mmethod\u001b[49m\u001b[43m \u001b[49m\u001b[43m=\u001b[49m\u001b[43m \u001b[49m\u001b[33;43m\"\u001b[39;49m\u001b[33;43mpyradiomics\u001b[39;49m\u001b[33;43m\"\u001b[39;49m\u001b[43m,\u001b[49m\n\u001b[32m      3\u001b[39m \u001b[43m        \u001b[49m\u001b[43msettings\u001b[49m\u001b[43m \u001b[49m\u001b[43m=\u001b[49m\u001b[43m \u001b[49m\u001b[33;43m\"\u001b[39;49m\u001b[33;43mpyradiomics_original_single_feature.yaml\u001b[39;49m\u001b[33;43m\"\u001b[39;49m\u001b[43m,\u001b[49m\n\u001b[32m      4\u001b[39m \u001b[43m        \u001b[49m\u001b[43moverwrite\u001b[49m\u001b[43m \u001b[49m\u001b[43m=\u001b[49m\u001b[43m \u001b[49m\u001b[38;5;28;43;01mTrue\u001b[39;49;00m\u001b[43m,\u001b[49m\n\u001b[32m      5\u001b[39m \u001b[43m        \u001b[49m\u001b[43mparallel\u001b[49m\u001b[43m \u001b[49m\u001b[43m=\u001b[49m\u001b[43m \u001b[49m\u001b[38;5;28;43;01mTrue\u001b[39;49;00m\u001b[43m)\u001b[49m\n",
      "\u001b[36mFile \u001b[39m\u001b[32m~/bhklab/katy/readii_2_roqc/sandbox/../workflow/scripts/feature_extraction/extract.py:250\u001b[39m, in \u001b[36mextract_dataset_features\u001b[39m\u001b[34m(dataset, method, settings, overwrite, parallel)\u001b[39m\n\u001b[32m    247\u001b[39m \u001b[38;5;66;03m# Extract features for each sample in the dataset index\u001b[39;00m\n\u001b[32m    248\u001b[39m \u001b[38;5;28;01mif\u001b[39;00m parallel:\n\u001b[32m    249\u001b[39m     \u001b[38;5;66;03m# Use joblib to parallelize feature extraction\u001b[39;00m\n\u001b[32m--> \u001b[39m\u001b[32m250\u001b[39m     feature_vectors = \u001b[43mParallel\u001b[49m\u001b[43m(\u001b[49m\u001b[43mn_jobs\u001b[49m\u001b[43m=\u001b[49m\u001b[43m-\u001b[49m\u001b[32;43m1\u001b[39;49m\u001b[43m)\u001b[49m\u001b[43m(\u001b[49m\n\u001b[32m    251\u001b[39m \u001b[43m        \u001b[49m\u001b[43mdelayed\u001b[49m\u001b[43m(\u001b[49m\u001b[43mextract_sample_features\u001b[49m\u001b[43m)\u001b[49m\u001b[43m(\u001b[49m\u001b[43msample_data\u001b[49m\u001b[43m \u001b[49m\u001b[43m=\u001b[49m\u001b[43m \u001b[49m\u001b[43msample_data\u001b[49m\u001b[43m,\u001b[49m\u001b[43m \u001b[49m\n\u001b[32m    252\u001b[39m \u001b[43m                                         \u001b[49m\u001b[43mmethod\u001b[49m\u001b[43m \u001b[49m\u001b[43m=\u001b[49m\u001b[43m \u001b[49m\u001b[43mmethod\u001b[49m\u001b[43m,\u001b[49m\u001b[43m \u001b[49m\n\u001b[32m    253\u001b[39m \u001b[43m                                         \u001b[49m\u001b[43msettings\u001b[49m\u001b[43m \u001b[49m\u001b[43m=\u001b[49m\u001b[43m \u001b[49m\u001b[43msettings_path\u001b[49m\u001b[43m,\u001b[49m\u001b[43m \u001b[49m\n\u001b[32m    254\u001b[39m \u001b[43m                                         \u001b[49m\u001b[43moverwrite\u001b[49m\u001b[43m \u001b[49m\u001b[43m=\u001b[49m\u001b[43m \u001b[49m\u001b[43moverwrite\u001b[49m\u001b[43m)\u001b[49m\n\u001b[32m    255\u001b[39m \u001b[43m        \u001b[49m\u001b[38;5;28;43;01mfor\u001b[39;49;00m\u001b[43m \u001b[49m\u001b[43m_\u001b[49m\u001b[43m,\u001b[49m\u001b[43m \u001b[49m\u001b[43msample_data\u001b[49m\u001b[43m \u001b[49m\u001b[38;5;129;43;01min\u001b[39;49;00m\u001b[43m \u001b[49m\u001b[43mdataset_index\u001b[49m\u001b[43m.\u001b[49m\u001b[43miterrows\u001b[49m\u001b[43m(\u001b[49m\u001b[43m)\u001b[49m\n\u001b[32m    256\u001b[39m \u001b[43m    \u001b[49m\u001b[43m)\u001b[49m\n\u001b[32m    257\u001b[39m \u001b[38;5;28;01melse\u001b[39;00m:\n\u001b[32m    258\u001b[39m     \u001b[38;5;66;03m# Sequentially extract features\u001b[39;00m\n\u001b[32m    259\u001b[39m     feature_vectors = [\n\u001b[32m    260\u001b[39m         extract_sample_features(sample_data = sample_data, \n\u001b[32m    261\u001b[39m                                 method = method, \n\u001b[32m   (...)\u001b[39m\u001b[32m    264\u001b[39m         \u001b[38;5;28;01mfor\u001b[39;00m _, sample_data \u001b[38;5;129;01min\u001b[39;00m dataset_index.iterrows()\n\u001b[32m    265\u001b[39m     ]\n",
      "\u001b[36mFile \u001b[39m\u001b[32m~/bhklab/katy/readii_2_roqc/.pixi/envs/default/lib/python3.12/site-packages/joblib/parallel.py:2072\u001b[39m, in \u001b[36mParallel.__call__\u001b[39m\u001b[34m(self, iterable)\u001b[39m\n\u001b[32m   2066\u001b[39m \u001b[38;5;66;03m# The first item from the output is blank, but it makes the interpreter\u001b[39;00m\n\u001b[32m   2067\u001b[39m \u001b[38;5;66;03m# progress until it enters the Try/Except block of the generator and\u001b[39;00m\n\u001b[32m   2068\u001b[39m \u001b[38;5;66;03m# reaches the first `yield` statement. This starts the asynchronous\u001b[39;00m\n\u001b[32m   2069\u001b[39m \u001b[38;5;66;03m# dispatch of the tasks to the workers.\u001b[39;00m\n\u001b[32m   2070\u001b[39m \u001b[38;5;28mnext\u001b[39m(output)\n\u001b[32m-> \u001b[39m\u001b[32m2072\u001b[39m \u001b[38;5;28;01mreturn\u001b[39;00m output \u001b[38;5;28;01mif\u001b[39;00m \u001b[38;5;28mself\u001b[39m.return_generator \u001b[38;5;28;01melse\u001b[39;00m \u001b[38;5;28;43mlist\u001b[39;49m\u001b[43m(\u001b[49m\u001b[43moutput\u001b[49m\u001b[43m)\u001b[49m\n",
      "\u001b[36mFile \u001b[39m\u001b[32m~/bhklab/katy/readii_2_roqc/.pixi/envs/default/lib/python3.12/site-packages/joblib/parallel.py:1682\u001b[39m, in \u001b[36mParallel._get_outputs\u001b[39m\u001b[34m(self, iterator, pre_dispatch)\u001b[39m\n\u001b[32m   1679\u001b[39m     \u001b[38;5;28;01myield\u001b[39;00m\n\u001b[32m   1681\u001b[39m     \u001b[38;5;28;01mwith\u001b[39;00m \u001b[38;5;28mself\u001b[39m._backend.retrieval_context():\n\u001b[32m-> \u001b[39m\u001b[32m1682\u001b[39m         \u001b[38;5;28;01myield from\u001b[39;00m \u001b[38;5;28mself\u001b[39m._retrieve()\n\u001b[32m   1684\u001b[39m \u001b[38;5;28;01mexcept\u001b[39;00m \u001b[38;5;167;01mGeneratorExit\u001b[39;00m:\n\u001b[32m   1685\u001b[39m     \u001b[38;5;66;03m# The generator has been garbage collected before being fully\u001b[39;00m\n\u001b[32m   1686\u001b[39m     \u001b[38;5;66;03m# consumed. This aborts the remaining tasks if possible and warn\u001b[39;00m\n\u001b[32m   1687\u001b[39m     \u001b[38;5;66;03m# the user if necessary.\u001b[39;00m\n\u001b[32m   1688\u001b[39m     \u001b[38;5;28mself\u001b[39m._exception = \u001b[38;5;28;01mTrue\u001b[39;00m\n",
      "\u001b[36mFile \u001b[39m\u001b[32m~/bhklab/katy/readii_2_roqc/.pixi/envs/default/lib/python3.12/site-packages/joblib/parallel.py:1800\u001b[39m, in \u001b[36mParallel._retrieve\u001b[39m\u001b[34m(self)\u001b[39m\n\u001b[32m   1789\u001b[39m \u001b[38;5;28;01mif\u001b[39;00m \u001b[38;5;28mself\u001b[39m.return_ordered:\n\u001b[32m   1790\u001b[39m     \u001b[38;5;66;03m# Case ordered: wait for completion (or error) of the next job\u001b[39;00m\n\u001b[32m   1791\u001b[39m     \u001b[38;5;66;03m# that have been dispatched and not retrieved yet. If no job\u001b[39;00m\n\u001b[32m   (...)\u001b[39m\u001b[32m   1795\u001b[39m     \u001b[38;5;66;03m# control only have to be done on the amount of time the next\u001b[39;00m\n\u001b[32m   1796\u001b[39m     \u001b[38;5;66;03m# dispatched job is pending.\u001b[39;00m\n\u001b[32m   1797\u001b[39m     \u001b[38;5;28;01mif\u001b[39;00m (nb_jobs == \u001b[32m0\u001b[39m) \u001b[38;5;129;01mor\u001b[39;00m (\n\u001b[32m   1798\u001b[39m         \u001b[38;5;28mself\u001b[39m._jobs[\u001b[32m0\u001b[39m].get_status(timeout=\u001b[38;5;28mself\u001b[39m.timeout) == TASK_PENDING\n\u001b[32m   1799\u001b[39m     ):\n\u001b[32m-> \u001b[39m\u001b[32m1800\u001b[39m         \u001b[43mtime\u001b[49m\u001b[43m.\u001b[49m\u001b[43msleep\u001b[49m\u001b[43m(\u001b[49m\u001b[32;43m0.01\u001b[39;49m\u001b[43m)\u001b[49m\n\u001b[32m   1801\u001b[39m         \u001b[38;5;28;01mcontinue\u001b[39;00m\n\u001b[32m   1803\u001b[39m \u001b[38;5;28;01melif\u001b[39;00m nb_jobs == \u001b[32m0\u001b[39m:\n\u001b[32m   1804\u001b[39m     \u001b[38;5;66;03m# Case unordered: jobs are added to the list of jobs to\u001b[39;00m\n\u001b[32m   1805\u001b[39m     \u001b[38;5;66;03m# retrieve `self._jobs` only once completed or in error, which\u001b[39;00m\n\u001b[32m   (...)\u001b[39m\u001b[32m   1811\u001b[39m     \u001b[38;5;66;03m# timeouts before any other dispatched job has completed and\u001b[39;00m\n\u001b[32m   1812\u001b[39m     \u001b[38;5;66;03m# been added to `self._jobs` to be retrieved.\u001b[39;00m\n",
      "\u001b[31mKeyboardInterrupt\u001b[39m: "
     ]
    }
   ],
   "source": [
    "extract_dataset_features(dataset = \"NSCLC-Radiomics_test\",\n",
    "        method = \"pyradiomics\",\n",
    "        settings = \"pyradiomics_original_single_feature.yaml\",\n",
    "        overwrite = True,\n",
    "        parallel = True)"
   ]
  },
  {
   "cell_type": "code",
   "execution_count": 9,
   "id": "0824d3c3",
   "metadata": {},
   "outputs": [
    {
     "data": {
      "text/plain": [
       "[('original', 'full'),\n",
       " ('original', 'non_roi'),\n",
       " ('original', 'roi'),\n",
       " ('randomized', 'full'),\n",
       " ('randomized', 'non_roi'),\n",
       " ('randomized', 'roi'),\n",
       " ('sampled', 'full'),\n",
       " ('sampled', 'non_roi'),\n",
       " ('sampled', 'roi'),\n",
       " ('shuffled', 'full'),\n",
       " ('shuffled', 'non_roi'),\n",
       " ('shuffled', 'roi')]"
      ]
     },
     "execution_count": 9,
     "metadata": {},
     "output_type": "execute_result"
    }
   ],
   "source": [
    "from itertools import product \n",
    "list(product(dataset_index['readii_Permutation'].unique(), dataset_index['readii_Region'].unique()))"
   ]
  },
  {
   "cell_type": "markdown",
   "id": "b50d91e9",
   "metadata": {},
   "source": [
    "# Development"
   ]
  },
  {
   "cell_type": "code",
   "execution_count": 14,
   "id": "8ce850c7",
   "metadata": {},
   "outputs": [],
   "source": [
    "# Convert settings Path to string for pyradiomics to read it\n",
    "if isinstance(settings, Path):\n",
    "    settings = str(settings)\n",
    "\n",
    "try:\n",
    "    # Set up PyRadiomics feature extractor with provided settings file (expects a string, not a pathlib Path)\n",
    "    extractor = featureextractor.RadiomicsFeatureExtractor(settings)\n",
    "\n",
    "    sample_feature_vector = extractor.execute(image, mask)\n",
    "\n",
    "except Exception as e:\n",
    "    print(f\"Feature extraction failed for this sample: {e}\")"
   ]
  },
  {
   "cell_type": "code",
   "execution_count": 5,
   "id": "37acd13c",
   "metadata": {},
   "outputs": [
    {
     "data": {
      "application/vnd.microsoft.datawrangler.viewer.v0+json": {
       "columns": [
        {
         "name": "index",
         "rawType": "object",
         "type": "string"
        },
        {
         "name": "0",
         "rawType": "object",
         "type": "string"
        }
       ],
       "ref": "af60f55d-c635-41b9-a0ee-35525b74feed",
       "rows": [
        [
         "SampleID",
         "LUNG1-001_0000"
        ],
        [
         "Image",
         "mit_NSCLC-Radiomics_test/LUNG1-001_0000/CT_63382046/CT.nii.gz"
        ],
        [
         "Mask",
         "mit_NSCLC-Radiomics_test/LUNG1-001_0000/RTSTRUCT_35578236/GTV.nii.gz"
        ],
        [
         "DatasetName",
         "NSCLC-Radiomics_test"
        ],
        [
         "SeriesInstanceUID_Image",
         "1.3.6.1.4.1.32722.99.99.298991776521342375010861296712563382046"
        ],
        [
         "Modality_Image",
         "CT"
        ],
        [
         "SeriesInstanceUID_Mask",
         "1.3.6.1.4.1.32722.99.99.227938121586608072508444156170535578236"
        ],
        [
         "Modality_Mask",
         "RTSTRUCT"
        ],
        [
         "MaskID",
         "GTV"
        ],
        [
         "readii_Permutation",
         "original"
        ],
        [
         "readii_Region",
         "full"
        ],
        [
         "Dataset",
         "NSCLC-Radiomics_test"
        ]
       ],
       "shape": {
        "columns": 1,
        "rows": 12
       }
      },
      "text/plain": [
       "SampleID                                                      LUNG1-001_0000\n",
       "Image                      mit_NSCLC-Radiomics_test/LUNG1-001_0000/CT_633...\n",
       "Mask                       mit_NSCLC-Radiomics_test/LUNG1-001_0000/RTSTRU...\n",
       "DatasetName                                             NSCLC-Radiomics_test\n",
       "SeriesInstanceUID_Image    1.3.6.1.4.1.32722.99.99.2989917765213423750108...\n",
       "Modality_Image                                                            CT\n",
       "SeriesInstanceUID_Mask     1.3.6.1.4.1.32722.99.99.2279381215866080725084...\n",
       "Modality_Mask                                                       RTSTRUCT\n",
       "MaskID                                                                   GTV\n",
       "readii_Permutation                                                  original\n",
       "readii_Region                                                           full\n",
       "Dataset                                                 NSCLC-Radiomics_test\n",
       "Name: 0, dtype: object"
      ]
     },
     "execution_count": 5,
     "metadata": {},
     "output_type": "execute_result"
    }
   ],
   "source": [
    "metadata['Dataset'] = \"NSCLC-Radiomics_test\"\n",
    "metadata"
   ]
  },
  {
   "cell_type": "code",
   "execution_count": 15,
   "id": "cb7dbcb0",
   "metadata": {},
   "outputs": [],
   "source": [
    "from collections import OrderedDict\n",
    "od_metadata = metadata.to_dict(into=OrderedDict)"
   ]
  },
  {
   "cell_type": "code",
   "execution_count": null,
   "id": "eb620880",
   "metadata": {},
   "outputs": [
    {
     "data": {
      "text/plain": [
       "OrderedDict([('diagnostics_Versions_PyRadiomics', 'v3.1.4'),\n",
       "             ('diagnostics_Versions_Numpy', '2.2.6'),\n",
       "             ('diagnostics_Versions_SimpleITK', '2.5.0'),\n",
       "             ('diagnostics_Versions_PyWavelet', '1.8.0'),\n",
       "             ('diagnostics_Versions_Python', '3.12.10'),\n",
       "             ('diagnostics_Configuration_Settings',\n",
       "              {'minimumROIDimensions': 2,\n",
       "               'minimumROISize': None,\n",
       "               'normalize': False,\n",
       "               'normalizeScale': 1,\n",
       "               'removeOutliers': None,\n",
       "               'resampledPixelSpacing': [1.0, 1.0, 1.0],\n",
       "               'interpolator': 'sitkBSpline',\n",
       "               'preCrop': False,\n",
       "               'padDistance': 5,\n",
       "               'distances': [1],\n",
       "               'force2D': False,\n",
       "               'force2Ddimension': 0,\n",
       "               'resegmentRange': None,\n",
       "               'label': 1,\n",
       "               'additionalInfo': True,\n",
       "               'binWidth': 25}),\n",
       "             ('diagnostics_Configuration_EnabledImageTypes', {'Original': {}}),\n",
       "             ('diagnostics_Image-original_Hash',\n",
       "              'b4175e0d6ddff17507e30c05c6e7302c2b9668f4'),\n",
       "             ('diagnostics_Image-original_Dimensionality', '3D'),\n",
       "             ('diagnostics_Image-original_Spacing',\n",
       "              (0.9765625, 0.9765625, 3.0)),\n",
       "             ('diagnostics_Image-original_Size', (512, 512, 134)),\n",
       "             ('diagnostics_Image-original_Mean',\n",
       "              np.float64(-741.3879128925836)),\n",
       "             ('diagnostics_Image-original_Minimum', np.float64(-1024.0)),\n",
       "             ('diagnostics_Image-original_Maximum', np.float64(3034.0)),\n",
       "             ('diagnostics_Mask-original_Hash',\n",
       "              '556ed0965525c7aec5a5bfa5ca1cc09a20ea0ff5'),\n",
       "             ('diagnostics_Mask-original_Spacing',\n",
       "              (0.9765625, 0.9765625, 3.0)),\n",
       "             ('diagnostics_Mask-original_Size', (512, 512, 134)),\n",
       "             ('diagnostics_Mask-original_BoundingBox',\n",
       "              (290, 226, 65, 98, 91, 21)),\n",
       "             ('diagnostics_Mask-original_VoxelNum', 56271),\n",
       "             ('diagnostics_Mask-original_VolumeNum', 1),\n",
       "             ('diagnostics_Mask-original_CenterOfMassIndex',\n",
       "              (np.float64(339.7097616889695),\n",
       "               np.float64(265.2984485791971),\n",
       "               np.float64(74.89406621527962))),\n",
       "             ('diagnostics_Mask-original_CenterOfMass',\n",
       "              (82.23609539938428, -201.43120255937782, -456.81780135416113)),\n",
       "             ('diagnostics_Image-interpolated_Spacing', (1.0, 1.0, 1.0)),\n",
       "             ('diagnostics_Image-interpolated_Size', (108, 101, 75)),\n",
       "             ('diagnostics_Image-interpolated_Mean',\n",
       "              np.float64(-392.8450715071507)),\n",
       "             ('diagnostics_Image-interpolated_Minimum', np.float64(-1105.0)),\n",
       "             ('diagnostics_Image-interpolated_Maximum', np.float64(1607.0)),\n",
       "             ('diagnostics_Mask-interpolated_Spacing', (1.0, 1.0, 1.0)),\n",
       "             ('diagnostics_Mask-interpolated_Size', (108, 101, 75)),\n",
       "             ('diagnostics_Mask-interpolated_BoundingBox',\n",
       "              (6, 6, 7, 96, 89, 63)),\n",
       "             ('diagnostics_Mask-interpolated_VoxelNum', 160563),\n",
       "             ('diagnostics_Mask-interpolated_VolumeNum', 1),\n",
       "             ('diagnostics_Mask-interpolated_CenterOfMassIndex',\n",
       "              (np.float64(54.732460155826686),\n",
       "               np.float64(43.95691410848078),\n",
       "               np.float64(37.619457782926325))),\n",
       "             ('diagnostics_Mask-interpolated_CenterOfMass',\n",
       "              (82.23246015582669, -201.5430858915192, -456.8805422170737)),\n",
       "             ('diagnostics_Mask-interpolated_Mean',\n",
       "              np.float64(-74.4041155185192)),\n",
       "             ('diagnostics_Mask-interpolated_Minimum', np.float64(-1105.0)),\n",
       "             ('diagnostics_Mask-interpolated_Maximum', np.float64(1081.0)),\n",
       "             ('original_shape_VoxelVolume', np.float64(160563.0))])"
      ]
     },
     "execution_count": 6,
     "metadata": {},
     "output_type": "execute_result"
    }
   ],
   "source": [
    "sample_feature_vectors"
   ]
  },
  {
   "cell_type": "code",
   "execution_count": 16,
   "id": "963cdfbf",
   "metadata": {},
   "outputs": [],
   "source": [
    "od_metadata.update(sample_feature_vector)"
   ]
  },
  {
   "cell_type": "code",
   "execution_count": 17,
   "id": "1ae00b85",
   "metadata": {},
   "outputs": [
    {
     "data": {
      "text/plain": [
       "OrderedDict([('SampleID', 'LUNG1-001_0000'),\n",
       "             ('MaskID', 'GTV'),\n",
       "             ('Permutation', 'original'),\n",
       "             ('Region', 'full'),\n",
       "             ('Image',\n",
       "              'mit_NSCLC-Radiomics/LUNG1-001_0000/CT_63382046/CT.nii.gz'),\n",
       "             ('Mask',\n",
       "              'mit_NSCLC-Radiomics/LUNG1-001_0000/RTSTRUCT_35578236/GTV.nii.gz'),\n",
       "             ('diagnostics_Versions_PyRadiomics', 'v3.1.4'),\n",
       "             ('diagnostics_Versions_Numpy', '2.2.6'),\n",
       "             ('diagnostics_Versions_SimpleITK', '2.5.0'),\n",
       "             ('diagnostics_Versions_PyWavelet', '1.8.0'),\n",
       "             ('diagnostics_Versions_Python', '3.12.10'),\n",
       "             ('diagnostics_Configuration_Settings',\n",
       "              {'minimumROIDimensions': 2,\n",
       "               'minimumROISize': None,\n",
       "               'normalize': False,\n",
       "               'normalizeScale': 1,\n",
       "               'removeOutliers': None,\n",
       "               'resampledPixelSpacing': [1.0, 1.0, 1.0],\n",
       "               'interpolator': 'sitkBSpline',\n",
       "               'preCrop': False,\n",
       "               'padDistance': 5,\n",
       "               'distances': [1],\n",
       "               'force2D': False,\n",
       "               'force2Ddimension': 0,\n",
       "               'resegmentRange': None,\n",
       "               'label': 1,\n",
       "               'additionalInfo': True,\n",
       "               'binWidth': 25}),\n",
       "             ('diagnostics_Configuration_EnabledImageTypes', {'Original': {}}),\n",
       "             ('diagnostics_Image-original_Hash',\n",
       "              'b4175e0d6ddff17507e30c05c6e7302c2b9668f4'),\n",
       "             ('diagnostics_Image-original_Dimensionality', '3D'),\n",
       "             ('diagnostics_Image-original_Spacing',\n",
       "              (0.9765625, 0.9765625, 3.0)),\n",
       "             ('diagnostics_Image-original_Size', (512, 512, 134)),\n",
       "             ('diagnostics_Image-original_Mean',\n",
       "              np.float64(-741.3879128925836)),\n",
       "             ('diagnostics_Image-original_Minimum', np.float64(-1024.0)),\n",
       "             ('diagnostics_Image-original_Maximum', np.float64(3034.0)),\n",
       "             ('diagnostics_Mask-original_Hash',\n",
       "              '556ed0965525c7aec5a5bfa5ca1cc09a20ea0ff5'),\n",
       "             ('diagnostics_Mask-original_Spacing',\n",
       "              (0.9765625, 0.9765625, 3.0)),\n",
       "             ('diagnostics_Mask-original_Size', (512, 512, 134)),\n",
       "             ('diagnostics_Mask-original_BoundingBox',\n",
       "              (290, 226, 65, 98, 91, 21)),\n",
       "             ('diagnostics_Mask-original_VoxelNum', 56271),\n",
       "             ('diagnostics_Mask-original_VolumeNum', 1),\n",
       "             ('diagnostics_Mask-original_CenterOfMassIndex',\n",
       "              (np.float64(339.7097616889695),\n",
       "               np.float64(265.2984485791971),\n",
       "               np.float64(74.89406621527962))),\n",
       "             ('diagnostics_Mask-original_CenterOfMass',\n",
       "              (82.23609539938428, -201.43120255937782, -456.81780135416113)),\n",
       "             ('diagnostics_Image-interpolated_Spacing', (1.0, 1.0, 1.0)),\n",
       "             ('diagnostics_Image-interpolated_Size', (108, 101, 75)),\n",
       "             ('diagnostics_Image-interpolated_Mean',\n",
       "              np.float64(-392.8450715071507)),\n",
       "             ('diagnostics_Image-interpolated_Minimum', np.float64(-1105.0)),\n",
       "             ('diagnostics_Image-interpolated_Maximum', np.float64(1607.0)),\n",
       "             ('diagnostics_Mask-interpolated_Spacing', (1.0, 1.0, 1.0)),\n",
       "             ('diagnostics_Mask-interpolated_Size', (108, 101, 75)),\n",
       "             ('diagnostics_Mask-interpolated_BoundingBox',\n",
       "              (6, 6, 7, 96, 89, 63)),\n",
       "             ('diagnostics_Mask-interpolated_VoxelNum', 160563),\n",
       "             ('diagnostics_Mask-interpolated_VolumeNum', 1),\n",
       "             ('diagnostics_Mask-interpolated_CenterOfMassIndex',\n",
       "              (np.float64(54.732460155826686),\n",
       "               np.float64(43.95691410848078),\n",
       "               np.float64(37.619457782926325))),\n",
       "             ('diagnostics_Mask-interpolated_CenterOfMass',\n",
       "              (82.23246015582669, -201.5430858915192, -456.8805422170737)),\n",
       "             ('diagnostics_Mask-interpolated_Mean',\n",
       "              np.float64(-74.4041155185192)),\n",
       "             ('diagnostics_Mask-interpolated_Minimum', np.float64(-1105.0)),\n",
       "             ('diagnostics_Mask-interpolated_Maximum', np.float64(1081.0)),\n",
       "             ('original_shape_VoxelVolume', np.float64(160563.0))])"
      ]
     },
     "execution_count": 17,
     "metadata": {},
     "output_type": "execute_result"
    }
   ],
   "source": [
    "od_metadata"
   ]
  },
  {
   "cell_type": "code",
   "execution_count": null,
   "id": "888572b1",
   "metadata": {},
   "outputs": [
    {
     "ename": "ParserError",
     "evalue": "Error tokenizing data. C error: Expected 2 fields in line 18, saw 19\n",
     "output_type": "error",
     "traceback": [
      "\u001b[31m---------------------------------------------------------------------------\u001b[39m",
      "\u001b[31mParserError\u001b[39m                               Traceback (most recent call last)",
      "\u001b[36mCell\u001b[39m\u001b[36m \u001b[39m\u001b[32mIn[10]\u001b[39m\u001b[32m, line 8\u001b[39m\n\u001b[32m      4\u001b[39m sample_features_dir = dirs.PROCDATA / features_dir_struct\n\u001b[32m      6\u001b[39m filelist = \u001b[38;5;28mlist\u001b[39m(sample_features_dir.rglob(\u001b[33m\"\u001b[39m\u001b[33m**/original_full_features.csv\u001b[39m\u001b[33m\"\u001b[39m))\n\u001b[32m----> \u001b[39m\u001b[32m8\u001b[39m \u001b[43mpd\u001b[49m\u001b[43m.\u001b[49m\u001b[43mread_csv\u001b[49m\u001b[43m(\u001b[49m\u001b[43mfilelist\u001b[49m\u001b[43m[\u001b[49m\u001b[32;43m0\u001b[39;49m\u001b[43m]\u001b[49m\u001b[43m,\u001b[49m\u001b[43m \u001b[49m\u001b[43mdelimiter\u001b[49m\u001b[43m=\u001b[49m\u001b[33;43m\"\u001b[39;49m\u001b[33;43m,\u001b[39;49m\u001b[33;43m\"\u001b[39;49m\u001b[43m)\u001b[49m\n",
      "\u001b[36mFile \u001b[39m\u001b[32m~/bhklab/katy/readii_2_roqc/.pixi/envs/default/lib/python3.12/site-packages/pandas/io/parsers/readers.py:1026\u001b[39m, in \u001b[36mread_csv\u001b[39m\u001b[34m(filepath_or_buffer, sep, delimiter, header, names, index_col, usecols, dtype, engine, converters, true_values, false_values, skipinitialspace, skiprows, skipfooter, nrows, na_values, keep_default_na, na_filter, verbose, skip_blank_lines, parse_dates, infer_datetime_format, keep_date_col, date_parser, date_format, dayfirst, cache_dates, iterator, chunksize, compression, thousands, decimal, lineterminator, quotechar, quoting, doublequote, escapechar, comment, encoding, encoding_errors, dialect, on_bad_lines, delim_whitespace, low_memory, memory_map, float_precision, storage_options, dtype_backend)\u001b[39m\n\u001b[32m   1013\u001b[39m kwds_defaults = _refine_defaults_read(\n\u001b[32m   1014\u001b[39m     dialect,\n\u001b[32m   1015\u001b[39m     delimiter,\n\u001b[32m   (...)\u001b[39m\u001b[32m   1022\u001b[39m     dtype_backend=dtype_backend,\n\u001b[32m   1023\u001b[39m )\n\u001b[32m   1024\u001b[39m kwds.update(kwds_defaults)\n\u001b[32m-> \u001b[39m\u001b[32m1026\u001b[39m \u001b[38;5;28;01mreturn\u001b[39;00m \u001b[43m_read\u001b[49m\u001b[43m(\u001b[49m\u001b[43mfilepath_or_buffer\u001b[49m\u001b[43m,\u001b[49m\u001b[43m \u001b[49m\u001b[43mkwds\u001b[49m\u001b[43m)\u001b[49m\n",
      "\u001b[36mFile \u001b[39m\u001b[32m~/bhklab/katy/readii_2_roqc/.pixi/envs/default/lib/python3.12/site-packages/pandas/io/parsers/readers.py:626\u001b[39m, in \u001b[36m_read\u001b[39m\u001b[34m(filepath_or_buffer, kwds)\u001b[39m\n\u001b[32m    623\u001b[39m     \u001b[38;5;28;01mreturn\u001b[39;00m parser\n\u001b[32m    625\u001b[39m \u001b[38;5;28;01mwith\u001b[39;00m parser:\n\u001b[32m--> \u001b[39m\u001b[32m626\u001b[39m     \u001b[38;5;28;01mreturn\u001b[39;00m \u001b[43mparser\u001b[49m\u001b[43m.\u001b[49m\u001b[43mread\u001b[49m\u001b[43m(\u001b[49m\u001b[43mnrows\u001b[49m\u001b[43m)\u001b[49m\n",
      "\u001b[36mFile \u001b[39m\u001b[32m~/bhklab/katy/readii_2_roqc/.pixi/envs/default/lib/python3.12/site-packages/pandas/io/parsers/readers.py:1923\u001b[39m, in \u001b[36mTextFileReader.read\u001b[39m\u001b[34m(self, nrows)\u001b[39m\n\u001b[32m   1916\u001b[39m nrows = validate_integer(\u001b[33m\"\u001b[39m\u001b[33mnrows\u001b[39m\u001b[33m\"\u001b[39m, nrows)\n\u001b[32m   1917\u001b[39m \u001b[38;5;28;01mtry\u001b[39;00m:\n\u001b[32m   1918\u001b[39m     \u001b[38;5;66;03m# error: \"ParserBase\" has no attribute \"read\"\u001b[39;00m\n\u001b[32m   1919\u001b[39m     (\n\u001b[32m   1920\u001b[39m         index,\n\u001b[32m   1921\u001b[39m         columns,\n\u001b[32m   1922\u001b[39m         col_dict,\n\u001b[32m-> \u001b[39m\u001b[32m1923\u001b[39m     ) = \u001b[38;5;28;43mself\u001b[39;49m\u001b[43m.\u001b[49m\u001b[43m_engine\u001b[49m\u001b[43m.\u001b[49m\u001b[43mread\u001b[49m\u001b[43m(\u001b[49m\u001b[43m  \u001b[49m\u001b[38;5;66;43;03m# type: ignore[attr-defined]\u001b[39;49;00m\n\u001b[32m   1924\u001b[39m \u001b[43m        \u001b[49m\u001b[43mnrows\u001b[49m\n\u001b[32m   1925\u001b[39m \u001b[43m    \u001b[49m\u001b[43m)\u001b[49m\n\u001b[32m   1926\u001b[39m \u001b[38;5;28;01mexcept\u001b[39;00m \u001b[38;5;167;01mException\u001b[39;00m:\n\u001b[32m   1927\u001b[39m     \u001b[38;5;28mself\u001b[39m.close()\n",
      "\u001b[36mFile \u001b[39m\u001b[32m~/bhklab/katy/readii_2_roqc/.pixi/envs/default/lib/python3.12/site-packages/pandas/io/parsers/c_parser_wrapper.py:234\u001b[39m, in \u001b[36mCParserWrapper.read\u001b[39m\u001b[34m(self, nrows)\u001b[39m\n\u001b[32m    232\u001b[39m \u001b[38;5;28;01mtry\u001b[39;00m:\n\u001b[32m    233\u001b[39m     \u001b[38;5;28;01mif\u001b[39;00m \u001b[38;5;28mself\u001b[39m.low_memory:\n\u001b[32m--> \u001b[39m\u001b[32m234\u001b[39m         chunks = \u001b[38;5;28;43mself\u001b[39;49m\u001b[43m.\u001b[49m\u001b[43m_reader\u001b[49m\u001b[43m.\u001b[49m\u001b[43mread_low_memory\u001b[49m\u001b[43m(\u001b[49m\u001b[43mnrows\u001b[49m\u001b[43m)\u001b[49m\n\u001b[32m    235\u001b[39m         \u001b[38;5;66;03m# destructive to chunks\u001b[39;00m\n\u001b[32m    236\u001b[39m         data = _concatenate_chunks(chunks)\n",
      "\u001b[36mFile \u001b[39m\u001b[32mparsers.pyx:838\u001b[39m, in \u001b[36mpandas._libs.parsers.TextReader.read_low_memory\u001b[39m\u001b[34m()\u001b[39m\n",
      "\u001b[36mFile \u001b[39m\u001b[32mparsers.pyx:905\u001b[39m, in \u001b[36mpandas._libs.parsers.TextReader._read_rows\u001b[39m\u001b[34m()\u001b[39m\n",
      "\u001b[36mFile \u001b[39m\u001b[32mparsers.pyx:874\u001b[39m, in \u001b[36mpandas._libs.parsers.TextReader._tokenize_rows\u001b[39m\u001b[34m()\u001b[39m\n",
      "\u001b[36mFile \u001b[39m\u001b[32mparsers.pyx:891\u001b[39m, in \u001b[36mpandas._libs.parsers.TextReader._check_tokenize_status\u001b[39m\u001b[34m()\u001b[39m\n",
      "\u001b[36mFile \u001b[39m\u001b[32mparsers.pyx:2061\u001b[39m, in \u001b[36mpandas._libs.parsers.raise_parser_error\u001b[39m\u001b[34m()\u001b[39m\n",
      "\u001b[31mParserError\u001b[39m: Error tokenizing data. C error: Expected 2 fields in line 18, saw 19\n"
     ]
    }
   ],
   "source": [
    "features_dir_struct = Path(f\"{dataset_index.iloc[0]['DataSource']}_{dataset_index.iloc[0]['DatasetName']}\") / \"features\" / \"pyradiomics\" / \"pyradiomics_original_single_feature\"\n",
    "\n",
    "# Set up path to the directory containing the sample feature files\n",
    "sample_features_dir = dirs.PROCDATA / features_dir_struct\n",
    "\n",
    "filelist = list(sample_features_dir.rglob(\"**/original_full_features.csv\"))\n",
    "\n",
    "pd.read_csv(filelist[0], sep=\",\", quotechar=\"{\")"
   ]
  },
  {
   "cell_type": "code",
   "execution_count": null,
   "id": "7f7130f1",
   "metadata": {},
   "outputs": [],
   "source": []
  }
 ],
 "metadata": {
  "kernelspec": {
   "display_name": "default",
   "language": "python",
   "name": "python3"
  },
  "language_info": {
   "codemirror_mode": {
    "name": "ipython",
    "version": 3
   },
   "file_extension": ".py",
   "mimetype": "text/x-python",
   "name": "python",
   "nbconvert_exporter": "python",
   "pygments_lexer": "ipython3",
   "version": "3.12.10"
  }
 },
 "nbformat": 4,
 "nbformat_minor": 5
}
