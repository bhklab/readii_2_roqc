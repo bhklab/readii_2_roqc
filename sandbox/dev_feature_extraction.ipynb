{
 "cells": [
  {
   "cell_type": "code",
   "execution_count": 1,
   "id": "a1d86f69",
   "metadata": {},
   "outputs": [],
   "source": [
    "from radiomics import featureextractor\n",
    "from damply import dirs\n",
    "from pathlib import Path\n",
    "import SimpleITK as sitk\n",
    "import pandas as pd"
   ]
  },
  {
   "cell_type": "code",
   "execution_count": 2,
   "id": "3185dff1",
   "metadata": {},
   "outputs": [],
   "source": [
    "settings = dirs.CONFIG / \"pyradiomics\" / \"pyradiomics_original_single_feature.yaml\" \n",
    "image = sitk.ReadImage(f\"{dirs.PROCDATA}/TCIA_NSCLC-Radiomics_test/images/mit_NSCLC-Radiomics_test/LUNG1-001_0000/CT_63382046/CT.nii.gz\")\n",
    "mask = sitk.ReadImage(f\"{dirs.PROCDATA}/TCIA_NSCLC-Radiomics_test/images/mit_NSCLC-Radiomics_test/LUNG1-001_0000/RTSTRUCT_35578236/GTV.nii.gz\")"
   ]
  },
  {
   "cell_type": "code",
   "execution_count": 3,
   "id": "0f8e5068",
   "metadata": {},
   "outputs": [
    {
     "data": {
      "text/plain": [
       "'TCIA'"
      ]
     },
     "execution_count": 3,
     "metadata": {},
     "output_type": "execute_result"
    }
   ],
   "source": [
    "dataset_index = pd.read_csv(f\"{dirs.PROCDATA}/TCIA_NSCLC-Radiomics_test/features/pyradiomics/pyradiomics_NSCLC-Radiomics_test_index.csv\")\n",
    "\n",
    "dataset_index['DataSource'] = \"TCIA\"\n",
    "\n",
    "metadata = dataset_index.iloc[0]['DataSource']\n",
    "metadata"
   ]
  },
  {
   "cell_type": "markdown",
   "id": "f20060b7",
   "metadata": {},
   "source": [
    "# Testing out functions"
   ]
  },
  {
   "cell_type": "code",
   "execution_count": 4,
   "id": "d298f60f",
   "metadata": {},
   "outputs": [
    {
     "name": "stderr",
     "output_type": "stream",
     "text": [
      "\u001b[2m14:57:19\u001b[0m [\u001b[33m\u001b[1mwarning  \u001b[0m] \u001b[1mNo samples found for image class original roi. Skipping.\u001b[0m [\u001b[0m\u001b[1m\u001b[34mreadii\u001b[0m]\u001b[0m \u001b[36mcall\u001b[0m=\u001b[35mextract.compile_dataset_features:232\u001b[0m\n",
      "\u001b[2m        \u001b[0m [\u001b[31m\u001b[1merror    \u001b[0m] \u001b[1mNo non-empty dataframes found for shuffled non_roi.\u001b[0m [\u001b[0m\u001b[1m\u001b[34mreadii\u001b[0m]\u001b[0m \u001b[36mcall\u001b[0m=\u001b[35mextract.compile_dataset_features:267\u001b[0m\n",
      "\u001b[2m        \u001b[0m [\u001b[31m\u001b[1merror    \u001b[0m] \u001b[1mEmpty file written to /home/bhkuser/bhklab/katy/readii_2_roqc/data/results/TCIA_NSCLC-Radiomics_test/features/pyradiomics/pyradiomics_original_single_feature/shuffled_non_roi_features.csv\u001b[0m [\u001b[0m\u001b[1m\u001b[34mreadii\u001b[0m]\u001b[0m \u001b[36mcall\u001b[0m=\u001b[35mextract.compile_dataset_features:272\u001b[0m\n",
      "\u001b[2m        \u001b[0m [\u001b[31m\u001b[1merror    \u001b[0m] \u001b[1mNo non-empty dataframes found for shuffled full.\u001b[0m [\u001b[0m\u001b[1m\u001b[34mreadii\u001b[0m]\u001b[0m \u001b[36mcall\u001b[0m=\u001b[35mextract.compile_dataset_features:267\u001b[0m\n",
      "\u001b[2m        \u001b[0m [\u001b[31m\u001b[1merror    \u001b[0m] \u001b[1mEmpty file written to /home/bhkuser/bhklab/katy/readii_2_roqc/data/results/TCIA_NSCLC-Radiomics_test/features/pyradiomics/pyradiomics_original_single_feature/shuffled_full_features.csv\u001b[0m [\u001b[0m\u001b[1m\u001b[34mreadii\u001b[0m]\u001b[0m \u001b[36mcall\u001b[0m=\u001b[35mextract.compile_dataset_features:272\u001b[0m\n",
      "\u001b[2m        \u001b[0m [\u001b[31m\u001b[1merror    \u001b[0m] \u001b[1mNo non-empty dataframes found for shuffled roi.\u001b[0m [\u001b[0m\u001b[1m\u001b[34mreadii\u001b[0m]\u001b[0m \u001b[36mcall\u001b[0m=\u001b[35mextract.compile_dataset_features:267\u001b[0m\n",
      "\u001b[2m        \u001b[0m [\u001b[31m\u001b[1merror    \u001b[0m] \u001b[1mEmpty file written to /home/bhkuser/bhklab/katy/readii_2_roqc/data/results/TCIA_NSCLC-Radiomics_test/features/pyradiomics/pyradiomics_original_single_feature/shuffled_roi_features.csv\u001b[0m [\u001b[0m\u001b[1m\u001b[34mreadii\u001b[0m]\u001b[0m \u001b[36mcall\u001b[0m=\u001b[35mextract.compile_dataset_features:272\u001b[0m\n",
      "\u001b[2m        \u001b[0m [\u001b[33m\u001b[1mwarning  \u001b[0m] \u001b[1mNo samples found for image class original non_roi. Skipping.\u001b[0m [\u001b[0m\u001b[1m\u001b[34mreadii\u001b[0m]\u001b[0m \u001b[36mcall\u001b[0m=\u001b[35mextract.compile_dataset_features:232\u001b[0m\n",
      "\u001b[2m        \u001b[0m [\u001b[31m\u001b[1merror    \u001b[0m] \u001b[1mNo non-empty dataframes found for sampled non_roi.\u001b[0m [\u001b[0m\u001b[1m\u001b[34mreadii\u001b[0m]\u001b[0m \u001b[36mcall\u001b[0m=\u001b[35mextract.compile_dataset_features:267\u001b[0m\n",
      "\u001b[2m        \u001b[0m [\u001b[31m\u001b[1merror    \u001b[0m] \u001b[1mEmpty file written to /home/bhkuser/bhklab/katy/readii_2_roqc/data/results/TCIA_NSCLC-Radiomics_test/features/pyradiomics/pyradiomics_original_single_feature/sampled_non_roi_features.csv\u001b[0m [\u001b[0m\u001b[1m\u001b[34mreadii\u001b[0m]\u001b[0m \u001b[36mcall\u001b[0m=\u001b[35mextract.compile_dataset_features:272\u001b[0m\n",
      "\u001b[2m        \u001b[0m [\u001b[31m\u001b[1merror    \u001b[0m] \u001b[1mNo non-empty dataframes found for sampled full.\u001b[0m [\u001b[0m\u001b[1m\u001b[34mreadii\u001b[0m]\u001b[0m \u001b[36mcall\u001b[0m=\u001b[35mextract.compile_dataset_features:267\u001b[0m\n",
      "\u001b[2m        \u001b[0m [\u001b[31m\u001b[1merror    \u001b[0m] \u001b[1mEmpty file written to /home/bhkuser/bhklab/katy/readii_2_roqc/data/results/TCIA_NSCLC-Radiomics_test/features/pyradiomics/pyradiomics_original_single_feature/sampled_full_features.csv\u001b[0m [\u001b[0m\u001b[1m\u001b[34mreadii\u001b[0m]\u001b[0m \u001b[36mcall\u001b[0m=\u001b[35mextract.compile_dataset_features:272\u001b[0m\n",
      "\u001b[2m        \u001b[0m [\u001b[31m\u001b[1merror    \u001b[0m] \u001b[1mNo non-empty dataframes found for sampled roi.\u001b[0m [\u001b[0m\u001b[1m\u001b[34mreadii\u001b[0m]\u001b[0m \u001b[36mcall\u001b[0m=\u001b[35mextract.compile_dataset_features:267\u001b[0m\n",
      "\u001b[2m        \u001b[0m [\u001b[31m\u001b[1merror    \u001b[0m] \u001b[1mEmpty file written to /home/bhkuser/bhklab/katy/readii_2_roqc/data/results/TCIA_NSCLC-Radiomics_test/features/pyradiomics/pyradiomics_original_single_feature/sampled_roi_features.csv\u001b[0m [\u001b[0m\u001b[1m\u001b[34mreadii\u001b[0m]\u001b[0m \u001b[36mcall\u001b[0m=\u001b[35mextract.compile_dataset_features:272\u001b[0m\n"
     ]
    },
    {
     "data": {
      "text/plain": [
       "{'randomized_non_roi': 0        SampleID                                              Image  \\\n",
       " 1  LUNG1-001_0000  readii_NSCLC-Radiomics_test/LUNG1-001_0000/CT_...   \n",
       " 1  LUNG1-002_0001  readii_NSCLC-Radiomics_test/LUNG1-002_0001/CT_...   \n",
       " \n",
       " 0                                               Mask           DatasetName  \\\n",
       " 1  mit_NSCLC-Radiomics_test/LUNG1-001_0000/RTSTRU...  NSCLC-Radiomics_test   \n",
       " 1  mit_NSCLC-Radiomics_test/LUNG1-002_0001/RTSTRU...  NSCLC-Radiomics_test   \n",
       " \n",
       " 0 SeriesInstanceUID_Image Modality_Image SeriesInstanceUID_Mask Modality_Mask  \\\n",
       " 1                     NaN             CT                    NaN      RTSTRUCT   \n",
       " 1                     NaN             CT                    NaN      RTSTRUCT   \n",
       " \n",
       " 0 MaskID readii_Permutation  ... diagnostics_Mask-interpolated_Size  \\\n",
       " 1    GTV         randomized  ...                     (108, 101, 75)   \n",
       " 1    GTV         randomized  ...                     (110, 109, 90)   \n",
       " \n",
       " 0 diagnostics_Mask-interpolated_BoundingBox  \\\n",
       " 1                     (6, 6, 7, 96, 89, 63)   \n",
       " 1                     (6, 6, 7, 98, 97, 78)   \n",
       " \n",
       " 0 diagnostics_Mask-interpolated_VoxelNum  \\\n",
       " 1                                 160563   \n",
       " 1                                 359124   \n",
       " \n",
       " 0 diagnostics_Mask-interpolated_VolumeNum  \\\n",
       " 1                                       1   \n",
       " 1                                       1   \n",
       " \n",
       " 0    diagnostics_Mask-interpolated_CenterOfMassIndex  \\\n",
       " 1  (np.float64(54.732460155826686), np.float64(43...   \n",
       " 1  (np.float64(56.11284124703445), np.float64(51....   \n",
       " \n",
       " 0         diagnostics_Mask-interpolated_CenterOfMass  \\\n",
       " 1  (82.23246015582669, -201.5430858915192, -456.8...   \n",
       " 1  (-73.98765826373062, 16.670994457891965, -18.6...   \n",
       " \n",
       " 0 diagnostics_Mask-interpolated_Mean diagnostics_Mask-interpolated_Minimum  \\\n",
       " 1                  -49.2095065488313                               -1690.0   \n",
       " 1                 -33.21078791726534                               -1922.0   \n",
       " \n",
       " 0 diagnostics_Mask-interpolated_Maximum original_shape_VoxelVolume  \n",
       " 1                                2036.0                   160563.0  \n",
       " 1                                2312.0                   359124.0  \n",
       " \n",
       " [2 rows x 50 columns],\n",
       " 'randomized_full': 0        SampleID                                              Image  \\\n",
       " 1  LUNG1-001_0000  readii_NSCLC-Radiomics_test/LUNG1-001_0000/CT_...   \n",
       " 1  LUNG1-002_0001  readii_NSCLC-Radiomics_test/LUNG1-002_0001/CT_...   \n",
       " \n",
       " 0                                               Mask           DatasetName  \\\n",
       " 1  mit_NSCLC-Radiomics_test/LUNG1-001_0000/RTSTRU...  NSCLC-Radiomics_test   \n",
       " 1  mit_NSCLC-Radiomics_test/LUNG1-002_0001/RTSTRU...  NSCLC-Radiomics_test   \n",
       " \n",
       " 0 SeriesInstanceUID_Image Modality_Image SeriesInstanceUID_Mask Modality_Mask  \\\n",
       " 1                     NaN             CT                    NaN      RTSTRUCT   \n",
       " 1                     NaN             CT                    NaN      RTSTRUCT   \n",
       " \n",
       " 0 MaskID readii_Permutation  ... diagnostics_Mask-interpolated_Size  \\\n",
       " 1    GTV         randomized  ...                     (108, 101, 75)   \n",
       " 1    GTV         randomized  ...                     (110, 109, 90)   \n",
       " \n",
       " 0 diagnostics_Mask-interpolated_BoundingBox  \\\n",
       " 1                     (6, 6, 7, 96, 89, 63)   \n",
       " 1                     (6, 6, 7, 98, 97, 78)   \n",
       " \n",
       " 0 diagnostics_Mask-interpolated_VoxelNum  \\\n",
       " 1                                 160563   \n",
       " 1                                 359124   \n",
       " \n",
       " 0 diagnostics_Mask-interpolated_VolumeNum  \\\n",
       " 1                                       1   \n",
       " 1                                       1   \n",
       " \n",
       " 0    diagnostics_Mask-interpolated_CenterOfMassIndex  \\\n",
       " 1  (np.float64(54.732460155826686), np.float64(43...   \n",
       " 1  (np.float64(56.11284124703445), np.float64(51....   \n",
       " \n",
       " 0         diagnostics_Mask-interpolated_CenterOfMass  \\\n",
       " 1  (82.23246015582669, -201.5430858915192, -456.8...   \n",
       " 1  (-73.98765826373062, 16.670994457891965, -18.6...   \n",
       " \n",
       " 0 diagnostics_Mask-interpolated_Mean diagnostics_Mask-interpolated_Minimum  \\\n",
       " 1                  998.1911710668087                               -2249.0   \n",
       " 1                 1018.8888545460621                               -2261.0   \n",
       " \n",
       " 0 diagnostics_Mask-interpolated_Maximum original_shape_VoxelVolume  \n",
       " 1                                3998.0                   160563.0  \n",
       " 1                                4304.0                   359124.0  \n",
       " \n",
       " [2 rows x 50 columns],\n",
       " 'original_full': 0        SampleID                                              Image  \\\n",
       " 1  LUNG1-001_0000  mit_NSCLC-Radiomics_test/LUNG1-001_0000/CT_633...   \n",
       " 1  LUNG1-002_0001  mit_NSCLC-Radiomics_test/LUNG1-002_0001/CT_232...   \n",
       " \n",
       " 0                                               Mask           DatasetName  \\\n",
       " 1  mit_NSCLC-Radiomics_test/LUNG1-001_0000/RTSTRU...  NSCLC-Radiomics_test   \n",
       " 1  mit_NSCLC-Radiomics_test/LUNG1-002_0001/RTSTRU...  NSCLC-Radiomics_test   \n",
       " \n",
       " 0                            SeriesInstanceUID_Image Modality_Image  \\\n",
       " 1  1.3.6.1.4.1.32722.99.99.2989917765213423750108...             CT   \n",
       " 1  1.3.6.1.4.1.32722.99.99.2329880015517990803358...             CT   \n",
       " \n",
       " 0                             SeriesInstanceUID_Mask Modality_Mask MaskID  \\\n",
       " 1  1.3.6.1.4.1.32722.99.99.2279381215866080725084...      RTSTRUCT    GTV   \n",
       " 1  1.3.6.1.4.1.32722.99.99.2432675512669112458302...      RTSTRUCT    GTV   \n",
       " \n",
       " 0 readii_Permutation  ... diagnostics_Mask-interpolated_Size  \\\n",
       " 1           original  ...                     (108, 101, 75)   \n",
       " 1           original  ...                     (110, 109, 90)   \n",
       " \n",
       " 0 diagnostics_Mask-interpolated_BoundingBox  \\\n",
       " 1                     (6, 6, 7, 96, 89, 63)   \n",
       " 1                     (6, 6, 7, 98, 97, 78)   \n",
       " \n",
       " 0 diagnostics_Mask-interpolated_VoxelNum  \\\n",
       " 1                                 160563   \n",
       " 1                                 359124   \n",
       " \n",
       " 0 diagnostics_Mask-interpolated_VolumeNum  \\\n",
       " 1                                       1   \n",
       " 1                                       1   \n",
       " \n",
       " 0    diagnostics_Mask-interpolated_CenterOfMassIndex  \\\n",
       " 1  (np.float64(54.732460155826686), np.float64(43...   \n",
       " 1  (np.float64(56.11284124703445), np.float64(51....   \n",
       " \n",
       " 0         diagnostics_Mask-interpolated_CenterOfMass  \\\n",
       " 1  (82.23246015582669, -201.5430858915192, -456.8...   \n",
       " 1  (-73.98765826373062, 16.670994457891965, -18.6...   \n",
       " \n",
       " 0 diagnostics_Mask-interpolated_Mean diagnostics_Mask-interpolated_Minimum  \\\n",
       " 1                  -74.4041155185192                               -1105.0   \n",
       " 1                 -49.26152805159221                               -1041.0   \n",
       " \n",
       " 0 diagnostics_Mask-interpolated_Maximum original_shape_VoxelVolume  \n",
       " 1                                1081.0                   160563.0  \n",
       " 1                                 518.0                   359124.0  \n",
       " \n",
       " [2 rows x 50 columns],\n",
       " 'shuffled_non_roi': 0        SampleID                                              Image  \\\n",
       " 1  LUNG1-001_0000  mit_NSCLC-Radiomics_test/LUNG1-001_0000/CT_633...   \n",
       " 1  LUNG1-002_0001  mit_NSCLC-Radiomics_test/LUNG1-002_0001/CT_232...   \n",
       " \n",
       " 0                                               Mask           DatasetName  \\\n",
       " 1  mit_NSCLC-Radiomics_test/LUNG1-001_0000/RTSTRU...  NSCLC-Radiomics_test   \n",
       " 1  mit_NSCLC-Radiomics_test/LUNG1-002_0001/RTSTRU...  NSCLC-Radiomics_test   \n",
       " \n",
       " 0                            SeriesInstanceUID_Image Modality_Image  \\\n",
       " 1  1.3.6.1.4.1.32722.99.99.2989917765213423750108...             CT   \n",
       " 1  1.3.6.1.4.1.32722.99.99.2329880015517990803358...             CT   \n",
       " \n",
       " 0                             SeriesInstanceUID_Mask Modality_Mask MaskID  \\\n",
       " 1  1.3.6.1.4.1.32722.99.99.2279381215866080725084...      RTSTRUCT    GTV   \n",
       " 1  1.3.6.1.4.1.32722.99.99.2432675512669112458302...      RTSTRUCT    GTV   \n",
       " \n",
       " 0 readii_Permutation  ... diagnostics_Mask-interpolated_Size  \\\n",
       " 1           original  ...                     (108, 101, 75)   \n",
       " 1           original  ...                     (110, 109, 90)   \n",
       " \n",
       " 0 diagnostics_Mask-interpolated_BoundingBox  \\\n",
       " 1                     (6, 6, 7, 96, 89, 63)   \n",
       " 1                     (6, 6, 7, 98, 97, 78)   \n",
       " \n",
       " 0 diagnostics_Mask-interpolated_VoxelNum  \\\n",
       " 1                                 160563   \n",
       " 1                                 359124   \n",
       " \n",
       " 0 diagnostics_Mask-interpolated_VolumeNum  \\\n",
       " 1                                       1   \n",
       " 1                                       1   \n",
       " \n",
       " 0    diagnostics_Mask-interpolated_CenterOfMassIndex  \\\n",
       " 1  (np.float64(54.732460155826686), np.float64(43...   \n",
       " 1  (np.float64(56.11284124703445), np.float64(51....   \n",
       " \n",
       " 0         diagnostics_Mask-interpolated_CenterOfMass  \\\n",
       " 1  (82.23246015582669, -201.5430858915192, -456.8...   \n",
       " 1  (-73.98765826373062, 16.670994457891965, -18.6...   \n",
       " \n",
       " 0 diagnostics_Mask-interpolated_Mean diagnostics_Mask-interpolated_Minimum  \\\n",
       " 1                  -74.4041155185192                               -1105.0   \n",
       " 1                 -49.26152805159221                               -1041.0   \n",
       " \n",
       " 0 diagnostics_Mask-interpolated_Maximum original_shape_VoxelVolume  \n",
       " 1                                1081.0                   160563.0  \n",
       " 1                                 518.0                   359124.0  \n",
       " \n",
       " [2 rows x 50 columns],\n",
       " 'shuffled_full': 0        SampleID                                              Image  \\\n",
       " 1  LUNG1-001_0000  mit_NSCLC-Radiomics_test/LUNG1-001_0000/CT_633...   \n",
       " 1  LUNG1-002_0001  mit_NSCLC-Radiomics_test/LUNG1-002_0001/CT_232...   \n",
       " \n",
       " 0                                               Mask           DatasetName  \\\n",
       " 1  mit_NSCLC-Radiomics_test/LUNG1-001_0000/RTSTRU...  NSCLC-Radiomics_test   \n",
       " 1  mit_NSCLC-Radiomics_test/LUNG1-002_0001/RTSTRU...  NSCLC-Radiomics_test   \n",
       " \n",
       " 0                            SeriesInstanceUID_Image Modality_Image  \\\n",
       " 1  1.3.6.1.4.1.32722.99.99.2989917765213423750108...             CT   \n",
       " 1  1.3.6.1.4.1.32722.99.99.2329880015517990803358...             CT   \n",
       " \n",
       " 0                             SeriesInstanceUID_Mask Modality_Mask MaskID  \\\n",
       " 1  1.3.6.1.4.1.32722.99.99.2279381215866080725084...      RTSTRUCT    GTV   \n",
       " 1  1.3.6.1.4.1.32722.99.99.2432675512669112458302...      RTSTRUCT    GTV   \n",
       " \n",
       " 0 readii_Permutation  ... diagnostics_Mask-interpolated_Size  \\\n",
       " 1           original  ...                     (108, 101, 75)   \n",
       " 1           original  ...                     (110, 109, 90)   \n",
       " \n",
       " 0 diagnostics_Mask-interpolated_BoundingBox  \\\n",
       " 1                     (6, 6, 7, 96, 89, 63)   \n",
       " 1                     (6, 6, 7, 98, 97, 78)   \n",
       " \n",
       " 0 diagnostics_Mask-interpolated_VoxelNum  \\\n",
       " 1                                 160563   \n",
       " 1                                 359124   \n",
       " \n",
       " 0 diagnostics_Mask-interpolated_VolumeNum  \\\n",
       " 1                                       1   \n",
       " 1                                       1   \n",
       " \n",
       " 0    diagnostics_Mask-interpolated_CenterOfMassIndex  \\\n",
       " 1  (np.float64(54.732460155826686), np.float64(43...   \n",
       " 1  (np.float64(56.11284124703445), np.float64(51....   \n",
       " \n",
       " 0         diagnostics_Mask-interpolated_CenterOfMass  \\\n",
       " 1  (82.23246015582669, -201.5430858915192, -456.8...   \n",
       " 1  (-73.98765826373062, 16.670994457891965, -18.6...   \n",
       " \n",
       " 0 diagnostics_Mask-interpolated_Mean diagnostics_Mask-interpolated_Minimum  \\\n",
       " 1                  -74.4041155185192                               -1105.0   \n",
       " 1                 -49.26152805159221                               -1041.0   \n",
       " \n",
       " 0 diagnostics_Mask-interpolated_Maximum original_shape_VoxelVolume  \n",
       " 1                                1081.0                   160563.0  \n",
       " 1                                 518.0                   359124.0  \n",
       " \n",
       " [2 rows x 50 columns],\n",
       " 'shuffled_roi': 0        SampleID                                              Image  \\\n",
       " 1  LUNG1-001_0000  mit_NSCLC-Radiomics_test/LUNG1-001_0000/CT_633...   \n",
       " 1  LUNG1-002_0001  mit_NSCLC-Radiomics_test/LUNG1-002_0001/CT_232...   \n",
       " \n",
       " 0                                               Mask           DatasetName  \\\n",
       " 1  mit_NSCLC-Radiomics_test/LUNG1-001_0000/RTSTRU...  NSCLC-Radiomics_test   \n",
       " 1  mit_NSCLC-Radiomics_test/LUNG1-002_0001/RTSTRU...  NSCLC-Radiomics_test   \n",
       " \n",
       " 0                            SeriesInstanceUID_Image Modality_Image  \\\n",
       " 1  1.3.6.1.4.1.32722.99.99.2989917765213423750108...             CT   \n",
       " 1  1.3.6.1.4.1.32722.99.99.2329880015517990803358...             CT   \n",
       " \n",
       " 0                             SeriesInstanceUID_Mask Modality_Mask MaskID  \\\n",
       " 1  1.3.6.1.4.1.32722.99.99.2279381215866080725084...      RTSTRUCT    GTV   \n",
       " 1  1.3.6.1.4.1.32722.99.99.2432675512669112458302...      RTSTRUCT    GTV   \n",
       " \n",
       " 0 readii_Permutation  ... diagnostics_Mask-interpolated_Size  \\\n",
       " 1           original  ...                     (108, 101, 75)   \n",
       " 1           original  ...                     (110, 109, 90)   \n",
       " \n",
       " 0 diagnostics_Mask-interpolated_BoundingBox  \\\n",
       " 1                     (6, 6, 7, 96, 89, 63)   \n",
       " 1                     (6, 6, 7, 98, 97, 78)   \n",
       " \n",
       " 0 diagnostics_Mask-interpolated_VoxelNum  \\\n",
       " 1                                 160563   \n",
       " 1                                 359124   \n",
       " \n",
       " 0 diagnostics_Mask-interpolated_VolumeNum  \\\n",
       " 1                                       1   \n",
       " 1                                       1   \n",
       " \n",
       " 0    diagnostics_Mask-interpolated_CenterOfMassIndex  \\\n",
       " 1  (np.float64(54.732460155826686), np.float64(43...   \n",
       " 1  (np.float64(56.11284124703445), np.float64(51....   \n",
       " \n",
       " 0         diagnostics_Mask-interpolated_CenterOfMass  \\\n",
       " 1  (82.23246015582669, -201.5430858915192, -456.8...   \n",
       " 1  (-73.98765826373062, 16.670994457891965, -18.6...   \n",
       " \n",
       " 0 diagnostics_Mask-interpolated_Mean diagnostics_Mask-interpolated_Minimum  \\\n",
       " 1                  -74.4041155185192                               -1105.0   \n",
       " 1                 -49.26152805159221                               -1041.0   \n",
       " \n",
       " 0 diagnostics_Mask-interpolated_Maximum original_shape_VoxelVolume  \n",
       " 1                                1081.0                   160563.0  \n",
       " 1                                 518.0                   359124.0  \n",
       " \n",
       " [2 rows x 50 columns],\n",
       " 'sampled_non_roi': 0        SampleID                                              Image  \\\n",
       " 1  LUNG1-001_0000  mit_NSCLC-Radiomics_test/LUNG1-001_0000/CT_633...   \n",
       " 1  LUNG1-002_0001  mit_NSCLC-Radiomics_test/LUNG1-002_0001/CT_232...   \n",
       " \n",
       " 0                                               Mask           DatasetName  \\\n",
       " 1  mit_NSCLC-Radiomics_test/LUNG1-001_0000/RTSTRU...  NSCLC-Radiomics_test   \n",
       " 1  mit_NSCLC-Radiomics_test/LUNG1-002_0001/RTSTRU...  NSCLC-Radiomics_test   \n",
       " \n",
       " 0                            SeriesInstanceUID_Image Modality_Image  \\\n",
       " 1  1.3.6.1.4.1.32722.99.99.2989917765213423750108...             CT   \n",
       " 1  1.3.6.1.4.1.32722.99.99.2329880015517990803358...             CT   \n",
       " \n",
       " 0                             SeriesInstanceUID_Mask Modality_Mask MaskID  \\\n",
       " 1  1.3.6.1.4.1.32722.99.99.2279381215866080725084...      RTSTRUCT    GTV   \n",
       " 1  1.3.6.1.4.1.32722.99.99.2432675512669112458302...      RTSTRUCT    GTV   \n",
       " \n",
       " 0 readii_Permutation  ... diagnostics_Mask-interpolated_Size  \\\n",
       " 1           original  ...                     (108, 101, 75)   \n",
       " 1           original  ...                     (110, 109, 90)   \n",
       " \n",
       " 0 diagnostics_Mask-interpolated_BoundingBox  \\\n",
       " 1                     (6, 6, 7, 96, 89, 63)   \n",
       " 1                     (6, 6, 7, 98, 97, 78)   \n",
       " \n",
       " 0 diagnostics_Mask-interpolated_VoxelNum  \\\n",
       " 1                                 160563   \n",
       " 1                                 359124   \n",
       " \n",
       " 0 diagnostics_Mask-interpolated_VolumeNum  \\\n",
       " 1                                       1   \n",
       " 1                                       1   \n",
       " \n",
       " 0    diagnostics_Mask-interpolated_CenterOfMassIndex  \\\n",
       " 1  (np.float64(54.732460155826686), np.float64(43...   \n",
       " 1  (np.float64(56.11284124703445), np.float64(51....   \n",
       " \n",
       " 0         diagnostics_Mask-interpolated_CenterOfMass  \\\n",
       " 1  (82.23246015582669, -201.5430858915192, -456.8...   \n",
       " 1  (-73.98765826373062, 16.670994457891965, -18.6...   \n",
       " \n",
       " 0 diagnostics_Mask-interpolated_Mean diagnostics_Mask-interpolated_Minimum  \\\n",
       " 1                  -74.4041155185192                               -1105.0   \n",
       " 1                 -49.26152805159221                               -1041.0   \n",
       " \n",
       " 0 diagnostics_Mask-interpolated_Maximum original_shape_VoxelVolume  \n",
       " 1                                1081.0                   160563.0  \n",
       " 1                                 518.0                   359124.0  \n",
       " \n",
       " [2 rows x 50 columns],\n",
       " 'sampled_full': 0        SampleID                                              Image  \\\n",
       " 1  LUNG1-001_0000  mit_NSCLC-Radiomics_test/LUNG1-001_0000/CT_633...   \n",
       " 1  LUNG1-002_0001  mit_NSCLC-Radiomics_test/LUNG1-002_0001/CT_232...   \n",
       " \n",
       " 0                                               Mask           DatasetName  \\\n",
       " 1  mit_NSCLC-Radiomics_test/LUNG1-001_0000/RTSTRU...  NSCLC-Radiomics_test   \n",
       " 1  mit_NSCLC-Radiomics_test/LUNG1-002_0001/RTSTRU...  NSCLC-Radiomics_test   \n",
       " \n",
       " 0                            SeriesInstanceUID_Image Modality_Image  \\\n",
       " 1  1.3.6.1.4.1.32722.99.99.2989917765213423750108...             CT   \n",
       " 1  1.3.6.1.4.1.32722.99.99.2329880015517990803358...             CT   \n",
       " \n",
       " 0                             SeriesInstanceUID_Mask Modality_Mask MaskID  \\\n",
       " 1  1.3.6.1.4.1.32722.99.99.2279381215866080725084...      RTSTRUCT    GTV   \n",
       " 1  1.3.6.1.4.1.32722.99.99.2432675512669112458302...      RTSTRUCT    GTV   \n",
       " \n",
       " 0 readii_Permutation  ... diagnostics_Mask-interpolated_Size  \\\n",
       " 1           original  ...                     (108, 101, 75)   \n",
       " 1           original  ...                     (110, 109, 90)   \n",
       " \n",
       " 0 diagnostics_Mask-interpolated_BoundingBox  \\\n",
       " 1                     (6, 6, 7, 96, 89, 63)   \n",
       " 1                     (6, 6, 7, 98, 97, 78)   \n",
       " \n",
       " 0 diagnostics_Mask-interpolated_VoxelNum  \\\n",
       " 1                                 160563   \n",
       " 1                                 359124   \n",
       " \n",
       " 0 diagnostics_Mask-interpolated_VolumeNum  \\\n",
       " 1                                       1   \n",
       " 1                                       1   \n",
       " \n",
       " 0    diagnostics_Mask-interpolated_CenterOfMassIndex  \\\n",
       " 1  (np.float64(54.732460155826686), np.float64(43...   \n",
       " 1  (np.float64(56.11284124703445), np.float64(51....   \n",
       " \n",
       " 0         diagnostics_Mask-interpolated_CenterOfMass  \\\n",
       " 1  (82.23246015582669, -201.5430858915192, -456.8...   \n",
       " 1  (-73.98765826373062, 16.670994457891965, -18.6...   \n",
       " \n",
       " 0 diagnostics_Mask-interpolated_Mean diagnostics_Mask-interpolated_Minimum  \\\n",
       " 1                  -74.4041155185192                               -1105.0   \n",
       " 1                 -49.26152805159221                               -1041.0   \n",
       " \n",
       " 0 diagnostics_Mask-interpolated_Maximum original_shape_VoxelVolume  \n",
       " 1                                1081.0                   160563.0  \n",
       " 1                                 518.0                   359124.0  \n",
       " \n",
       " [2 rows x 50 columns],\n",
       " 'sampled_roi': 0        SampleID                                              Image  \\\n",
       " 1  LUNG1-001_0000  mit_NSCLC-Radiomics_test/LUNG1-001_0000/CT_633...   \n",
       " 1  LUNG1-002_0001  mit_NSCLC-Radiomics_test/LUNG1-002_0001/CT_232...   \n",
       " \n",
       " 0                                               Mask           DatasetName  \\\n",
       " 1  mit_NSCLC-Radiomics_test/LUNG1-001_0000/RTSTRU...  NSCLC-Radiomics_test   \n",
       " 1  mit_NSCLC-Radiomics_test/LUNG1-002_0001/RTSTRU...  NSCLC-Radiomics_test   \n",
       " \n",
       " 0                            SeriesInstanceUID_Image Modality_Image  \\\n",
       " 1  1.3.6.1.4.1.32722.99.99.2989917765213423750108...             CT   \n",
       " 1  1.3.6.1.4.1.32722.99.99.2329880015517990803358...             CT   \n",
       " \n",
       " 0                             SeriesInstanceUID_Mask Modality_Mask MaskID  \\\n",
       " 1  1.3.6.1.4.1.32722.99.99.2279381215866080725084...      RTSTRUCT    GTV   \n",
       " 1  1.3.6.1.4.1.32722.99.99.2432675512669112458302...      RTSTRUCT    GTV   \n",
       " \n",
       " 0 readii_Permutation  ... diagnostics_Mask-interpolated_Size  \\\n",
       " 1           original  ...                     (108, 101, 75)   \n",
       " 1           original  ...                     (110, 109, 90)   \n",
       " \n",
       " 0 diagnostics_Mask-interpolated_BoundingBox  \\\n",
       " 1                     (6, 6, 7, 96, 89, 63)   \n",
       " 1                     (6, 6, 7, 98, 97, 78)   \n",
       " \n",
       " 0 diagnostics_Mask-interpolated_VoxelNum  \\\n",
       " 1                                 160563   \n",
       " 1                                 359124   \n",
       " \n",
       " 0 diagnostics_Mask-interpolated_VolumeNum  \\\n",
       " 1                                       1   \n",
       " 1                                       1   \n",
       " \n",
       " 0    diagnostics_Mask-interpolated_CenterOfMassIndex  \\\n",
       " 1  (np.float64(54.732460155826686), np.float64(43...   \n",
       " 1  (np.float64(56.11284124703445), np.float64(51....   \n",
       " \n",
       " 0         diagnostics_Mask-interpolated_CenterOfMass  \\\n",
       " 1  (82.23246015582669, -201.5430858915192, -456.8...   \n",
       " 1  (-73.98765826373062, 16.670994457891965, -18.6...   \n",
       " \n",
       " 0 diagnostics_Mask-interpolated_Mean diagnostics_Mask-interpolated_Minimum  \\\n",
       " 1                  -74.4041155185192                               -1105.0   \n",
       " 1                 -49.26152805159221                               -1041.0   \n",
       " \n",
       " 0 diagnostics_Mask-interpolated_Maximum original_shape_VoxelVolume  \n",
       " 1                                1081.0                   160563.0  \n",
       " 1                                 518.0                   359124.0  \n",
       " \n",
       " [2 rows x 50 columns],\n",
       " 'randomized_roi': 0        SampleID                                              Image  \\\n",
       " 1  LUNG1-001_0000  readii_NSCLC-Radiomics_test/LUNG1-001_0000/CT_...   \n",
       " 1  LUNG1-002_0001  readii_NSCLC-Radiomics_test/LUNG1-002_0001/CT_...   \n",
       " \n",
       " 0                                               Mask           DatasetName  \\\n",
       " 1  mit_NSCLC-Radiomics_test/LUNG1-001_0000/RTSTRU...  NSCLC-Radiomics_test   \n",
       " 1  mit_NSCLC-Radiomics_test/LUNG1-002_0001/RTSTRU...  NSCLC-Radiomics_test   \n",
       " \n",
       " 0 SeriesInstanceUID_Image Modality_Image SeriesInstanceUID_Mask Modality_Mask  \\\n",
       " 1                     NaN             CT                    NaN      RTSTRUCT   \n",
       " 1                     NaN             CT                    NaN      RTSTRUCT   \n",
       " \n",
       " 0 MaskID readii_Permutation  ... diagnostics_Mask-interpolated_Size  \\\n",
       " 1    GTV         randomized  ...                     (108, 101, 75)   \n",
       " 1    GTV         randomized  ...                     (110, 109, 90)   \n",
       " \n",
       " 0 diagnostics_Mask-interpolated_BoundingBox  \\\n",
       " 1                     (6, 6, 7, 96, 89, 63)   \n",
       " 1                     (6, 6, 7, 98, 97, 78)   \n",
       " \n",
       " 0 diagnostics_Mask-interpolated_VoxelNum  \\\n",
       " 1                                 160563   \n",
       " 1                                 359124   \n",
       " \n",
       " 0 diagnostics_Mask-interpolated_VolumeNum  \\\n",
       " 1                                       1   \n",
       " 1                                       1   \n",
       " \n",
       " 0    diagnostics_Mask-interpolated_CenterOfMassIndex  \\\n",
       " 1  (np.float64(54.732460155826686), np.float64(43...   \n",
       " 1  (np.float64(56.11284124703445), np.float64(51....   \n",
       " \n",
       " 0         diagnostics_Mask-interpolated_CenterOfMass  \\\n",
       " 1  (82.23246015582669, -201.5430858915192, -456.8...   \n",
       " 1  (-73.98765826373062, 16.670994457891965, -18.6...   \n",
       " \n",
       " 0 diagnostics_Mask-interpolated_Mean diagnostics_Mask-interpolated_Minimum  \\\n",
       " 1                -1.7438388669867901                               -1577.0   \n",
       " 1                -324.44522226306236                               -1415.0   \n",
       " \n",
       " 0 diagnostics_Mask-interpolated_Maximum original_shape_VoxelVolume  \n",
       " 1                                1558.0                   160563.0  \n",
       " 1                                 770.0                   359124.0  \n",
       " \n",
       " [2 rows x 50 columns]}"
      ]
     },
     "execution_count": 4,
     "metadata": {},
     "output_type": "execute_result"
    }
   ],
   "source": [
    "import sys; sys.path.append(\"../workflow/scripts\")\n",
    "from feature_extraction.extract import extract_dataset_features, pyradiomics_extract, compile_dataset_features\n",
    "\n",
    "compile_dataset_features(dataset_index=dataset_index,\n",
    "                          method=\"pyradiomics\",\n",
    "                          settings_name=\"pyradiomics_original_single_feature\")"
   ]
  },
  {
   "cell_type": "code",
   "execution_count": 5,
   "id": "35207e2a",
   "metadata": {},
   "outputs": [
    {
     "ename": "KeyboardInterrupt",
     "evalue": "",
     "output_type": "error",
     "traceback": [
      "\u001b[31m---------------------------------------------------------------------------\u001b[39m",
      "\u001b[31mKeyboardInterrupt\u001b[39m                         Traceback (most recent call last)",
      "\u001b[36mCell\u001b[39m\u001b[36m \u001b[39m\u001b[32mIn[5]\u001b[39m\u001b[32m, line 1\u001b[39m\n\u001b[32m----> \u001b[39m\u001b[32m1\u001b[39m \u001b[43mextract_dataset_features\u001b[49m\u001b[43m(\u001b[49m\u001b[43mdataset\u001b[49m\u001b[43m \u001b[49m\u001b[43m=\u001b[49m\u001b[43m \u001b[49m\u001b[33;43m\"\u001b[39;49m\u001b[33;43mNSCLC-Radiomics_test\u001b[39;49m\u001b[33;43m\"\u001b[39;49m\u001b[43m,\u001b[49m\n\u001b[32m      2\u001b[39m \u001b[43m        \u001b[49m\u001b[43mmethod\u001b[49m\u001b[43m \u001b[49m\u001b[43m=\u001b[49m\u001b[43m \u001b[49m\u001b[33;43m\"\u001b[39;49m\u001b[33;43mpyradiomics\u001b[39;49m\u001b[33;43m\"\u001b[39;49m\u001b[43m,\u001b[49m\n\u001b[32m      3\u001b[39m \u001b[43m        \u001b[49m\u001b[43msettings\u001b[49m\u001b[43m \u001b[49m\u001b[43m=\u001b[49m\u001b[43m \u001b[49m\u001b[33;43m\"\u001b[39;49m\u001b[33;43mpyradiomics_original_single_feature.yaml\u001b[39;49m\u001b[33;43m\"\u001b[39;49m\u001b[43m,\u001b[49m\n\u001b[32m      4\u001b[39m \u001b[43m        \u001b[49m\u001b[43moverwrite\u001b[49m\u001b[43m \u001b[49m\u001b[43m=\u001b[49m\u001b[43m \u001b[49m\u001b[38;5;28;43;01mTrue\u001b[39;49;00m\u001b[43m,\u001b[49m\n\u001b[32m      5\u001b[39m \u001b[43m        \u001b[49m\u001b[43mparallel\u001b[49m\u001b[43m \u001b[49m\u001b[43m=\u001b[49m\u001b[43m \u001b[49m\u001b[38;5;28;43;01mTrue\u001b[39;49;00m\u001b[43m)\u001b[49m\n",
      "\u001b[36mFile \u001b[39m\u001b[32m~/bhklab/katy/readii_2_roqc/sandbox/../workflow/scripts/feature_extraction/extract.py:341\u001b[39m, in \u001b[36mextract_dataset_features\u001b[39m\u001b[34m(dataset, method, settings, overwrite, parallel)\u001b[39m\n\u001b[32m    338\u001b[39m \u001b[38;5;66;03m# Extract features for each sample in the dataset index\u001b[39;00m\n\u001b[32m    339\u001b[39m \u001b[38;5;28;01mif\u001b[39;00m parallel:\n\u001b[32m    340\u001b[39m     \u001b[38;5;66;03m# Use joblib to parallelize feature extraction\u001b[39;00m\n\u001b[32m--> \u001b[39m\u001b[32m341\u001b[39m     feature_vectors = \u001b[43mParallel\u001b[49m\u001b[43m(\u001b[49m\u001b[43mn_jobs\u001b[49m\u001b[43m=\u001b[49m\u001b[43m-\u001b[49m\u001b[32;43m1\u001b[39;49m\u001b[43m)\u001b[49m\u001b[43m(\u001b[49m\n\u001b[32m    342\u001b[39m \u001b[43m        \u001b[49m\u001b[43mdelayed\u001b[49m\u001b[43m(\u001b[49m\u001b[43mextract_sample_features\u001b[49m\u001b[43m)\u001b[49m\u001b[43m(\u001b[49m\u001b[43msample_data\u001b[49m\u001b[43m \u001b[49m\u001b[43m=\u001b[49m\u001b[43m \u001b[49m\u001b[43msample_data\u001b[49m\u001b[43m,\u001b[49m\u001b[43m \u001b[49m\n\u001b[32m    343\u001b[39m \u001b[43m                                         \u001b[49m\u001b[43mmethod\u001b[49m\u001b[43m \u001b[49m\u001b[43m=\u001b[49m\u001b[43m \u001b[49m\u001b[43mmethod\u001b[49m\u001b[43m,\u001b[49m\u001b[43m \u001b[49m\n\u001b[32m    344\u001b[39m \u001b[43m                                         \u001b[49m\u001b[43msettings\u001b[49m\u001b[43m \u001b[49m\u001b[43m=\u001b[49m\u001b[43m \u001b[49m\u001b[43msettings\u001b[49m\u001b[43m,\u001b[49m\u001b[43m \u001b[49m\n\u001b[32m    345\u001b[39m \u001b[43m                                         \u001b[49m\u001b[43moverwrite\u001b[49m\u001b[43m \u001b[49m\u001b[43m=\u001b[49m\u001b[43m \u001b[49m\u001b[43moverwrite\u001b[49m\u001b[43m)\u001b[49m\n\u001b[32m    346\u001b[39m \u001b[43m        \u001b[49m\u001b[38;5;28;43;01mfor\u001b[39;49;00m\u001b[43m \u001b[49m\u001b[43m_\u001b[49m\u001b[43m,\u001b[49m\u001b[43m \u001b[49m\u001b[43msample_data\u001b[49m\u001b[43m \u001b[49m\u001b[38;5;129;43;01min\u001b[39;49;00m\u001b[43m \u001b[49m\u001b[43mdataset_index\u001b[49m\u001b[43m.\u001b[49m\u001b[43miterrows\u001b[49m\u001b[43m(\u001b[49m\u001b[43m)\u001b[49m\n\u001b[32m    347\u001b[39m \u001b[43m    \u001b[49m\u001b[43m)\u001b[49m\n\u001b[32m    348\u001b[39m \u001b[38;5;28;01melse\u001b[39;00m:\n\u001b[32m    349\u001b[39m     \u001b[38;5;66;03m# Sequentially extract features\u001b[39;00m\n\u001b[32m    350\u001b[39m     feature_vectors = [\n\u001b[32m    351\u001b[39m         extract_sample_features(sample_data = sample_data, \n\u001b[32m    352\u001b[39m                                 method = method, \n\u001b[32m   (...)\u001b[39m\u001b[32m    355\u001b[39m         \u001b[38;5;28;01mfor\u001b[39;00m _, sample_data \u001b[38;5;129;01min\u001b[39;00m dataset_index.iterrows()\n\u001b[32m    356\u001b[39m     ]\n",
      "\u001b[36mFile \u001b[39m\u001b[32m~/bhklab/katy/readii_2_roqc/.pixi/envs/default/lib/python3.12/site-packages/joblib/parallel.py:2072\u001b[39m, in \u001b[36mParallel.__call__\u001b[39m\u001b[34m(self, iterable)\u001b[39m\n\u001b[32m   2066\u001b[39m \u001b[38;5;66;03m# The first item from the output is blank, but it makes the interpreter\u001b[39;00m\n\u001b[32m   2067\u001b[39m \u001b[38;5;66;03m# progress until it enters the Try/Except block of the generator and\u001b[39;00m\n\u001b[32m   2068\u001b[39m \u001b[38;5;66;03m# reaches the first `yield` statement. This starts the asynchronous\u001b[39;00m\n\u001b[32m   2069\u001b[39m \u001b[38;5;66;03m# dispatch of the tasks to the workers.\u001b[39;00m\n\u001b[32m   2070\u001b[39m \u001b[38;5;28mnext\u001b[39m(output)\n\u001b[32m-> \u001b[39m\u001b[32m2072\u001b[39m \u001b[38;5;28;01mreturn\u001b[39;00m output \u001b[38;5;28;01mif\u001b[39;00m \u001b[38;5;28mself\u001b[39m.return_generator \u001b[38;5;28;01melse\u001b[39;00m \u001b[38;5;28;43mlist\u001b[39;49m\u001b[43m(\u001b[49m\u001b[43moutput\u001b[49m\u001b[43m)\u001b[49m\n",
      "\u001b[36mFile \u001b[39m\u001b[32m~/bhklab/katy/readii_2_roqc/.pixi/envs/default/lib/python3.12/site-packages/joblib/parallel.py:1682\u001b[39m, in \u001b[36mParallel._get_outputs\u001b[39m\u001b[34m(self, iterator, pre_dispatch)\u001b[39m\n\u001b[32m   1679\u001b[39m     \u001b[38;5;28;01myield\u001b[39;00m\n\u001b[32m   1681\u001b[39m     \u001b[38;5;28;01mwith\u001b[39;00m \u001b[38;5;28mself\u001b[39m._backend.retrieval_context():\n\u001b[32m-> \u001b[39m\u001b[32m1682\u001b[39m         \u001b[38;5;28;01myield from\u001b[39;00m \u001b[38;5;28mself\u001b[39m._retrieve()\n\u001b[32m   1684\u001b[39m \u001b[38;5;28;01mexcept\u001b[39;00m \u001b[38;5;167;01mGeneratorExit\u001b[39;00m:\n\u001b[32m   1685\u001b[39m     \u001b[38;5;66;03m# The generator has been garbage collected before being fully\u001b[39;00m\n\u001b[32m   1686\u001b[39m     \u001b[38;5;66;03m# consumed. This aborts the remaining tasks if possible and warn\u001b[39;00m\n\u001b[32m   1687\u001b[39m     \u001b[38;5;66;03m# the user if necessary.\u001b[39;00m\n\u001b[32m   1688\u001b[39m     \u001b[38;5;28mself\u001b[39m._exception = \u001b[38;5;28;01mTrue\u001b[39;00m\n",
      "\u001b[36mFile \u001b[39m\u001b[32m~/bhklab/katy/readii_2_roqc/.pixi/envs/default/lib/python3.12/site-packages/joblib/parallel.py:1800\u001b[39m, in \u001b[36mParallel._retrieve\u001b[39m\u001b[34m(self)\u001b[39m\n\u001b[32m   1789\u001b[39m \u001b[38;5;28;01mif\u001b[39;00m \u001b[38;5;28mself\u001b[39m.return_ordered:\n\u001b[32m   1790\u001b[39m     \u001b[38;5;66;03m# Case ordered: wait for completion (or error) of the next job\u001b[39;00m\n\u001b[32m   1791\u001b[39m     \u001b[38;5;66;03m# that have been dispatched and not retrieved yet. If no job\u001b[39;00m\n\u001b[32m   (...)\u001b[39m\u001b[32m   1795\u001b[39m     \u001b[38;5;66;03m# control only have to be done on the amount of time the next\u001b[39;00m\n\u001b[32m   1796\u001b[39m     \u001b[38;5;66;03m# dispatched job is pending.\u001b[39;00m\n\u001b[32m   1797\u001b[39m     \u001b[38;5;28;01mif\u001b[39;00m (nb_jobs == \u001b[32m0\u001b[39m) \u001b[38;5;129;01mor\u001b[39;00m (\n\u001b[32m   1798\u001b[39m         \u001b[38;5;28mself\u001b[39m._jobs[\u001b[32m0\u001b[39m].get_status(timeout=\u001b[38;5;28mself\u001b[39m.timeout) == TASK_PENDING\n\u001b[32m   1799\u001b[39m     ):\n\u001b[32m-> \u001b[39m\u001b[32m1800\u001b[39m         \u001b[43mtime\u001b[49m\u001b[43m.\u001b[49m\u001b[43msleep\u001b[49m\u001b[43m(\u001b[49m\u001b[32;43m0.01\u001b[39;49m\u001b[43m)\u001b[49m\n\u001b[32m   1801\u001b[39m         \u001b[38;5;28;01mcontinue\u001b[39;00m\n\u001b[32m   1803\u001b[39m \u001b[38;5;28;01melif\u001b[39;00m nb_jobs == \u001b[32m0\u001b[39m:\n\u001b[32m   1804\u001b[39m     \u001b[38;5;66;03m# Case unordered: jobs are added to the list of jobs to\u001b[39;00m\n\u001b[32m   1805\u001b[39m     \u001b[38;5;66;03m# retrieve `self._jobs` only once completed or in error, which\u001b[39;00m\n\u001b[32m   (...)\u001b[39m\u001b[32m   1811\u001b[39m     \u001b[38;5;66;03m# timeouts before any other dispatched job has completed and\u001b[39;00m\n\u001b[32m   1812\u001b[39m     \u001b[38;5;66;03m# been added to `self._jobs` to be retrieved.\u001b[39;00m\n",
      "\u001b[31mKeyboardInterrupt\u001b[39m: "
     ]
    }
   ],
   "source": [
    "extract_dataset_features(dataset = \"NSCLC-Radiomics_test\",\n",
    "        method = \"pyradiomics\",\n",
    "        settings = \"pyradiomics_original_single_feature.yaml\",\n",
    "        overwrite = True,\n",
    "        parallel = True)"
   ]
  },
  {
   "cell_type": "code",
   "execution_count": 9,
   "id": "0824d3c3",
   "metadata": {},
   "outputs": [
    {
     "data": {
      "text/plain": [
       "[('original', 'full'),\n",
       " ('original', 'non_roi'),\n",
       " ('original', 'roi'),\n",
       " ('randomized', 'full'),\n",
       " ('randomized', 'non_roi'),\n",
       " ('randomized', 'roi'),\n",
       " ('sampled', 'full'),\n",
       " ('sampled', 'non_roi'),\n",
       " ('sampled', 'roi'),\n",
       " ('shuffled', 'full'),\n",
       " ('shuffled', 'non_roi'),\n",
       " ('shuffled', 'roi')]"
      ]
     },
     "execution_count": 9,
     "metadata": {},
     "output_type": "execute_result"
    }
   ],
   "source": [
    "from itertools import product \n",
    "list(product(dataset_index['readii_Permutation'].unique(), dataset_index['readii_Region'].unique()))"
   ]
  },
  {
   "cell_type": "markdown",
   "id": "b50d91e9",
   "metadata": {},
   "source": [
    "# Development"
   ]
  },
  {
   "cell_type": "code",
   "execution_count": 14,
   "id": "8ce850c7",
   "metadata": {},
   "outputs": [],
   "source": [
    "# Convert settings Path to string for pyradiomics to read it\n",
    "if isinstance(settings, Path):\n",
    "    settings = str(settings)\n",
    "\n",
    "try:\n",
    "    # Set up PyRadiomics feature extractor with provided settings file (expects a string, not a pathlib Path)\n",
    "    extractor = featureextractor.RadiomicsFeatureExtractor(settings)\n",
    "\n",
    "    sample_feature_vector = extractor.execute(image, mask)\n",
    "\n",
    "except Exception as e:\n",
    "    print(f\"Feature extraction failed for this sample: {e}\")"
   ]
  },
  {
   "cell_type": "code",
   "execution_count": 5,
   "id": "37acd13c",
   "metadata": {},
   "outputs": [
    {
     "data": {
      "application/vnd.microsoft.datawrangler.viewer.v0+json": {
       "columns": [
        {
         "name": "index",
         "rawType": "object",
         "type": "string"
        },
        {
         "name": "0",
         "rawType": "object",
         "type": "string"
        }
       ],
       "ref": "af60f55d-c635-41b9-a0ee-35525b74feed",
       "rows": [
        [
         "SampleID",
         "LUNG1-001_0000"
        ],
        [
         "Image",
         "mit_NSCLC-Radiomics_test/LUNG1-001_0000/CT_63382046/CT.nii.gz"
        ],
        [
         "Mask",
         "mit_NSCLC-Radiomics_test/LUNG1-001_0000/RTSTRUCT_35578236/GTV.nii.gz"
        ],
        [
         "DatasetName",
         "NSCLC-Radiomics_test"
        ],
        [
         "SeriesInstanceUID_Image",
         "1.3.6.1.4.1.32722.99.99.298991776521342375010861296712563382046"
        ],
        [
         "Modality_Image",
         "CT"
        ],
        [
         "SeriesInstanceUID_Mask",
         "1.3.6.1.4.1.32722.99.99.227938121586608072508444156170535578236"
        ],
        [
         "Modality_Mask",
         "RTSTRUCT"
        ],
        [
         "MaskID",
         "GTV"
        ],
        [
         "readii_Permutation",
         "original"
        ],
        [
         "readii_Region",
         "full"
        ],
        [
         "Dataset",
         "NSCLC-Radiomics_test"
        ]
       ],
       "shape": {
        "columns": 1,
        "rows": 12
       }
      },
      "text/plain": [
       "SampleID                                                      LUNG1-001_0000\n",
       "Image                      mit_NSCLC-Radiomics_test/LUNG1-001_0000/CT_633...\n",
       "Mask                       mit_NSCLC-Radiomics_test/LUNG1-001_0000/RTSTRU...\n",
       "DatasetName                                             NSCLC-Radiomics_test\n",
       "SeriesInstanceUID_Image    1.3.6.1.4.1.32722.99.99.2989917765213423750108...\n",
       "Modality_Image                                                            CT\n",
       "SeriesInstanceUID_Mask     1.3.6.1.4.1.32722.99.99.2279381215866080725084...\n",
       "Modality_Mask                                                       RTSTRUCT\n",
       "MaskID                                                                   GTV\n",
       "readii_Permutation                                                  original\n",
       "readii_Region                                                           full\n",
       "Dataset                                                 NSCLC-Radiomics_test\n",
       "Name: 0, dtype: object"
      ]
     },
     "execution_count": 5,
     "metadata": {},
     "output_type": "execute_result"
    }
   ],
   "source": [
    "metadata['Dataset'] = \"NSCLC-Radiomics_test\"\n",
    "metadata"
   ]
  },
  {
   "cell_type": "code",
   "execution_count": 15,
   "id": "cb7dbcb0",
   "metadata": {},
   "outputs": [],
   "source": [
    "from collections import OrderedDict\n",
    "od_metadata = metadata.to_dict(into=OrderedDict)"
   ]
  },
  {
   "cell_type": "code",
   "execution_count": 9,
   "id": "888572b1",
   "metadata": {},
   "outputs": [
    {
     "data": {
      "application/vnd.microsoft.datawrangler.viewer.v0+json": {
       "columns": [
        {
         "name": "index",
         "rawType": "int64",
         "type": "integer"
        },
        {
         "name": "SampleID",
         "rawType": "object",
         "type": "string"
        },
        {
         "name": "Image",
         "rawType": "object",
         "type": "string"
        },
        {
         "name": "Mask",
         "rawType": "object",
         "type": "string"
        },
        {
         "name": "DatasetName",
         "rawType": "object",
         "type": "string"
        },
        {
         "name": "SeriesInstanceUID_Image",
         "rawType": "object",
         "type": "string"
        },
        {
         "name": "Modality_Image",
         "rawType": "object",
         "type": "string"
        },
        {
         "name": "SeriesInstanceUID_Mask",
         "rawType": "object",
         "type": "string"
        },
        {
         "name": "Modality_Mask",
         "rawType": "object",
         "type": "string"
        },
        {
         "name": "MaskID",
         "rawType": "object",
         "type": "string"
        },
        {
         "name": "readii_Permutation",
         "rawType": "object",
         "type": "string"
        },
        {
         "name": "readii_Region",
         "rawType": "object",
         "type": "string"
        },
        {
         "name": "DataSource",
         "rawType": "object",
         "type": "string"
        },
        {
         "name": "diagnostics_Versions_PyRadiomics",
         "rawType": "object",
         "type": "string"
        },
        {
         "name": "diagnostics_Versions_Numpy",
         "rawType": "object",
         "type": "string"
        },
        {
         "name": "diagnostics_Versions_SimpleITK",
         "rawType": "object",
         "type": "string"
        },
        {
         "name": "diagnostics_Versions_PyWavelet",
         "rawType": "object",
         "type": "string"
        },
        {
         "name": "diagnostics_Versions_Python",
         "rawType": "object",
         "type": "string"
        },
        {
         "name": "diagnostics_Configuration_Settings",
         "rawType": "object",
         "type": "string"
        },
        {
         "name": "diagnostics_Configuration_EnabledImageTypes",
         "rawType": "object",
         "type": "string"
        },
        {
         "name": "diagnostics_Image-original_Hash",
         "rawType": "object",
         "type": "string"
        },
        {
         "name": "diagnostics_Image-original_Dimensionality",
         "rawType": "object",
         "type": "string"
        },
        {
         "name": "diagnostics_Image-original_Spacing",
         "rawType": "object",
         "type": "string"
        },
        {
         "name": "diagnostics_Image-original_Size",
         "rawType": "object",
         "type": "string"
        },
        {
         "name": "diagnostics_Image-original_Mean",
         "rawType": "object",
         "type": "string"
        },
        {
         "name": "diagnostics_Image-original_Minimum",
         "rawType": "object",
         "type": "string"
        },
        {
         "name": "diagnostics_Image-original_Maximum",
         "rawType": "object",
         "type": "string"
        },
        {
         "name": "diagnostics_Mask-original_Hash",
         "rawType": "object",
         "type": "string"
        },
        {
         "name": "diagnostics_Mask-original_Spacing",
         "rawType": "object",
         "type": "string"
        },
        {
         "name": "diagnostics_Mask-original_Size",
         "rawType": "object",
         "type": "string"
        },
        {
         "name": "diagnostics_Mask-original_BoundingBox",
         "rawType": "object",
         "type": "string"
        },
        {
         "name": "diagnostics_Mask-original_VoxelNum",
         "rawType": "object",
         "type": "string"
        },
        {
         "name": "diagnostics_Mask-original_VolumeNum",
         "rawType": "object",
         "type": "string"
        },
        {
         "name": "diagnostics_Mask-original_CenterOfMassIndex",
         "rawType": "object",
         "type": "string"
        },
        {
         "name": "diagnostics_Mask-original_CenterOfMass",
         "rawType": "object",
         "type": "string"
        },
        {
         "name": "diagnostics_Image-interpolated_Spacing",
         "rawType": "object",
         "type": "string"
        },
        {
         "name": "diagnostics_Image-interpolated_Size",
         "rawType": "object",
         "type": "string"
        },
        {
         "name": "diagnostics_Image-interpolated_Mean",
         "rawType": "object",
         "type": "string"
        },
        {
         "name": "diagnostics_Image-interpolated_Minimum",
         "rawType": "object",
         "type": "string"
        },
        {
         "name": "diagnostics_Image-interpolated_Maximum",
         "rawType": "object",
         "type": "string"
        },
        {
         "name": "diagnostics_Mask-interpolated_Spacing",
         "rawType": "object",
         "type": "string"
        },
        {
         "name": "diagnostics_Mask-interpolated_Size",
         "rawType": "object",
         "type": "string"
        },
        {
         "name": "diagnostics_Mask-interpolated_BoundingBox",
         "rawType": "object",
         "type": "string"
        },
        {
         "name": "diagnostics_Mask-interpolated_VoxelNum",
         "rawType": "object",
         "type": "string"
        },
        {
         "name": "diagnostics_Mask-interpolated_VolumeNum",
         "rawType": "object",
         "type": "string"
        },
        {
         "name": "diagnostics_Mask-interpolated_CenterOfMassIndex",
         "rawType": "object",
         "type": "string"
        },
        {
         "name": "diagnostics_Mask-interpolated_CenterOfMass",
         "rawType": "object",
         "type": "string"
        },
        {
         "name": "diagnostics_Mask-interpolated_Mean",
         "rawType": "object",
         "type": "string"
        },
        {
         "name": "diagnostics_Mask-interpolated_Minimum",
         "rawType": "object",
         "type": "string"
        },
        {
         "name": "diagnostics_Mask-interpolated_Maximum",
         "rawType": "object",
         "type": "string"
        },
        {
         "name": "original_shape_VoxelVolume",
         "rawType": "object",
         "type": "string"
        }
       ],
       "ref": "24ef9c08-eba5-4e73-89a8-e651d23cb253",
       "rows": [
        [
         "1",
         "LUNG1-001_0000",
         "mit_NSCLC-Radiomics_test/LUNG1-001_0000/CT_63382046/CT.nii.gz",
         "mit_NSCLC-Radiomics_test/LUNG1-001_0000/RTSTRUCT_35578236/GTV.nii.gz",
         "NSCLC-Radiomics_test",
         "1.3.6.1.4.1.32722.99.99.298991776521342375010861296712563382046",
         "CT",
         "1.3.6.1.4.1.32722.99.99.227938121586608072508444156170535578236",
         "RTSTRUCT",
         "GTV",
         "original",
         "full",
         "TCIA",
         "v3.1.4",
         "2.2.6",
         "2.5.0",
         "1.8.0",
         "3.12.10",
         "{'minimumROIDimensions': 2, 'minimumROISize': None, 'normalize': False, 'normalizeScale': 1, 'removeOutliers': None, 'resampledPixelSpacing': [1.0, 1.0, 1.0], 'interpolator': 'sitkBSpline', 'preCrop': False, 'padDistance': 5, 'distances': [1], 'force2D': False, 'force2Ddimension': 0, 'resegmentRange': None, 'label': 1, 'additionalInfo': True, 'binWidth': 25}",
         "{'Original': {}}",
         "b4175e0d6ddff17507e30c05c6e7302c2b9668f4",
         "3D",
         "(0.9765625, 0.9765625, 3.0)",
         "(512, 512, 134)",
         "-741.3879128925836",
         "-1024.0",
         "3034.0",
         "556ed0965525c7aec5a5bfa5ca1cc09a20ea0ff5",
         "(0.9765625, 0.9765625, 3.0)",
         "(512, 512, 134)",
         "(290, 226, 65, 98, 91, 21)",
         "56271",
         "1",
         "(np.float64(339.7097616889695), np.float64(265.2984485791971), np.float64(74.89406621527962))",
         "(82.23609539938428, -201.43120255937782, -456.81780135416113)",
         "(1.0, 1.0, 1.0)",
         "(108, 101, 75)",
         "-392.8450715071507",
         "-1105.0",
         "1607.0",
         "(1.0, 1.0, 1.0)",
         "(108, 101, 75)",
         "(6, 6, 7, 96, 89, 63)",
         "160563",
         "1",
         "(np.float64(54.732460155826686), np.float64(43.95691410848078), np.float64(37.619457782926325))",
         "(82.23246015582669, -201.5430858915192, -456.8805422170737)",
         "-74.4041155185192",
         "-1105.0",
         "1081.0",
         "160563.0"
        ]
       ],
       "shape": {
        "columns": 50,
        "rows": 1
       }
      },
      "text/html": [
       "<div>\n",
       "<style scoped>\n",
       "    .dataframe tbody tr th:only-of-type {\n",
       "        vertical-align: middle;\n",
       "    }\n",
       "\n",
       "    .dataframe tbody tr th {\n",
       "        vertical-align: top;\n",
       "    }\n",
       "\n",
       "    .dataframe thead th {\n",
       "        text-align: right;\n",
       "    }\n",
       "</style>\n",
       "<table border=\"1\" class=\"dataframe\">\n",
       "  <thead>\n",
       "    <tr style=\"text-align: right;\">\n",
       "      <th></th>\n",
       "      <th>SampleID</th>\n",
       "      <th>Image</th>\n",
       "      <th>Mask</th>\n",
       "      <th>DatasetName</th>\n",
       "      <th>SeriesInstanceUID_Image</th>\n",
       "      <th>Modality_Image</th>\n",
       "      <th>SeriesInstanceUID_Mask</th>\n",
       "      <th>Modality_Mask</th>\n",
       "      <th>MaskID</th>\n",
       "      <th>readii_Permutation</th>\n",
       "      <th>...</th>\n",
       "      <th>diagnostics_Mask-interpolated_Size</th>\n",
       "      <th>diagnostics_Mask-interpolated_BoundingBox</th>\n",
       "      <th>diagnostics_Mask-interpolated_VoxelNum</th>\n",
       "      <th>diagnostics_Mask-interpolated_VolumeNum</th>\n",
       "      <th>diagnostics_Mask-interpolated_CenterOfMassIndex</th>\n",
       "      <th>diagnostics_Mask-interpolated_CenterOfMass</th>\n",
       "      <th>diagnostics_Mask-interpolated_Mean</th>\n",
       "      <th>diagnostics_Mask-interpolated_Minimum</th>\n",
       "      <th>diagnostics_Mask-interpolated_Maximum</th>\n",
       "      <th>original_shape_VoxelVolume</th>\n",
       "    </tr>\n",
       "  </thead>\n",
       "  <tbody>\n",
       "    <tr>\n",
       "      <th>1</th>\n",
       "      <td>LUNG1-001_0000</td>\n",
       "      <td>mit_NSCLC-Radiomics_test/LUNG1-001_0000/CT_633...</td>\n",
       "      <td>mit_NSCLC-Radiomics_test/LUNG1-001_0000/RTSTRU...</td>\n",
       "      <td>NSCLC-Radiomics_test</td>\n",
       "      <td>1.3.6.1.4.1.32722.99.99.2989917765213423750108...</td>\n",
       "      <td>CT</td>\n",
       "      <td>1.3.6.1.4.1.32722.99.99.2279381215866080725084...</td>\n",
       "      <td>RTSTRUCT</td>\n",
       "      <td>GTV</td>\n",
       "      <td>original</td>\n",
       "      <td>...</td>\n",
       "      <td>(108, 101, 75)</td>\n",
       "      <td>(6, 6, 7, 96, 89, 63)</td>\n",
       "      <td>160563</td>\n",
       "      <td>1</td>\n",
       "      <td>(np.float64(54.732460155826686), np.float64(43...</td>\n",
       "      <td>(82.23246015582669, -201.5430858915192, -456.8...</td>\n",
       "      <td>-74.4041155185192</td>\n",
       "      <td>-1105.0</td>\n",
       "      <td>1081.0</td>\n",
       "      <td>160563.0</td>\n",
       "    </tr>\n",
       "  </tbody>\n",
       "</table>\n",
       "<p>1 rows × 50 columns</p>\n",
       "</div>"
      ],
      "text/plain": [
       "0        SampleID                                              Image  \\\n",
       "1  LUNG1-001_0000  mit_NSCLC-Radiomics_test/LUNG1-001_0000/CT_633...   \n",
       "\n",
       "0                                               Mask           DatasetName  \\\n",
       "1  mit_NSCLC-Radiomics_test/LUNG1-001_0000/RTSTRU...  NSCLC-Radiomics_test   \n",
       "\n",
       "0                            SeriesInstanceUID_Image Modality_Image  \\\n",
       "1  1.3.6.1.4.1.32722.99.99.2989917765213423750108...             CT   \n",
       "\n",
       "0                             SeriesInstanceUID_Mask Modality_Mask MaskID  \\\n",
       "1  1.3.6.1.4.1.32722.99.99.2279381215866080725084...      RTSTRUCT    GTV   \n",
       "\n",
       "0 readii_Permutation  ... diagnostics_Mask-interpolated_Size  \\\n",
       "1           original  ...                     (108, 101, 75)   \n",
       "\n",
       "0 diagnostics_Mask-interpolated_BoundingBox  \\\n",
       "1                     (6, 6, 7, 96, 89, 63)   \n",
       "\n",
       "0 diagnostics_Mask-interpolated_VoxelNum  \\\n",
       "1                                 160563   \n",
       "\n",
       "0 diagnostics_Mask-interpolated_VolumeNum  \\\n",
       "1                                       1   \n",
       "\n",
       "0    diagnostics_Mask-interpolated_CenterOfMassIndex  \\\n",
       "1  (np.float64(54.732460155826686), np.float64(43...   \n",
       "\n",
       "0         diagnostics_Mask-interpolated_CenterOfMass  \\\n",
       "1  (82.23246015582669, -201.5430858915192, -456.8...   \n",
       "\n",
       "0 diagnostics_Mask-interpolated_Mean diagnostics_Mask-interpolated_Minimum  \\\n",
       "1                  -74.4041155185192                               -1105.0   \n",
       "\n",
       "0 diagnostics_Mask-interpolated_Maximum original_shape_VoxelVolume  \n",
       "1                                1081.0                   160563.0  \n",
       "\n",
       "[1 rows x 50 columns]"
      ]
     },
     "execution_count": 9,
     "metadata": {},
     "output_type": "execute_result"
    }
   ],
   "source": [
    "features_dir_struct = Path(f\"{dataset_index.iloc[0]['DataSource']}_{dataset_index.iloc[0]['DatasetName']}\") / \"features\" / \"pyradiomics\" / \"pyradiomics_original_single_feature\"\n",
    "\n",
    "# Set up path to the directory containing the sample feature files\n",
    "sample_features_dir = dirs.PROCDATA / features_dir_struct\n",
    "\n",
    "filelist = list(sample_features_dir.rglob(\"**/original_full_features.csv\"))\n",
    "\n",
    "pd.read_csv(filelist[0], index_col=0, header=None, sep=\";\").transpose()"
   ]
  },
  {
   "cell_type": "code",
   "execution_count": null,
   "id": "7f7130f1",
   "metadata": {},
   "outputs": [],
   "source": []
  }
 ],
 "metadata": {
  "kernelspec": {
   "display_name": "default",
   "language": "python",
   "name": "python3"
  },
  "language_info": {
   "codemirror_mode": {
    "name": "ipython",
    "version": 3
   },
   "file_extension": ".py",
   "mimetype": "text/x-python",
   "name": "python",
   "nbconvert_exporter": "python",
   "pygments_lexer": "ipython3",
   "version": "3.12.10"
  }
 },
 "nbformat": 4,
 "nbformat_minor": 5
}
