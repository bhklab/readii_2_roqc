{
 "cells": [
  {
   "cell_type": "code",
   "execution_count": 1,
   "id": "941c422c",
   "metadata": {},
   "outputs": [
    {
     "name": "stdout",
     "output_type": "stream",
     "text": [
      "/home/bhkuser/bhklab/katy/readii_2_roqc\n"
     ]
    }
   ],
   "source": [
    "%cd .."
   ]
  },
  {
   "cell_type": "code",
   "execution_count": 2,
   "id": "a1d86f69",
   "metadata": {},
   "outputs": [],
   "source": [
    "from pathlib import Path\n",
    "\n",
    "import pandas as pd\n",
    "import SimpleITK as sitk\n",
    "from damply import dirs\n",
    "from radiomics import featureextractor"
   ]
  },
  {
   "cell_type": "code",
   "execution_count": 2,
   "id": "3185dff1",
   "metadata": {},
   "outputs": [],
   "source": [
    "settings = dirs.CONFIG / \"pyradiomics\" / \"pyradiomics_original_single_feature.yaml\" \n",
    "image = sitk.ReadImage(f\"{dirs.PROCDATA}/TCIA_NSCLC-Radiomics_test/images/mit_NSCLC-Radiomics_test/LUNG1-001_0000/CT_63382046/CT.nii.gz\")\n",
    "mask = sitk.ReadImage(f\"{dirs.PROCDATA}/TCIA_NSCLC-Radiomics_test/images/mit_NSCLC-Radiomics_test/LUNG1-001_0000/RTSTRUCT_35578236/GTV.nii.gz\")"
   ]
  },
  {
   "cell_type": "code",
   "execution_count": 3,
   "id": "0f8e5068",
   "metadata": {},
   "outputs": [
    {
     "data": {
      "text/plain": [
       "'TCIA'"
      ]
     },
     "execution_count": 3,
     "metadata": {},
     "output_type": "execute_result"
    }
   ],
   "source": [
    "dataset_index = pd.read_csv(f\"{dirs.PROCDATA}/TCIA_NSCLC-Radiomics_test/features/pyradiomics/pyradiomics_NSCLC-Radiomics_test_index.csv\")\n",
    "\n",
    "dataset_index['DataSource'] = \"TCIA\"\n",
    "\n",
    "metadata = dataset_index.iloc[0]['DataSource']\n",
    "metadata"
   ]
  },
  {
   "cell_type": "markdown",
   "id": "f20060b7",
   "metadata": {},
   "source": [
    "# Testing out functions"
   ]
  },
  {
   "cell_type": "code",
   "execution_count": 4,
   "id": "d298f60f",
   "metadata": {},
   "outputs": [
    {
     "name": "stderr",
     "output_type": "stream",
     "text": [
      "\u001b[2m14:57:19\u001b[0m [\u001b[33m\u001b[1mwarning  \u001b[0m] \u001b[1mNo samples found for image class original roi. Skipping.\u001b[0m [\u001b[0m\u001b[1m\u001b[34mreadii\u001b[0m]\u001b[0m \u001b[36mcall\u001b[0m=\u001b[35mextract.compile_dataset_features:232\u001b[0m\n",
      "\u001b[2m        \u001b[0m [\u001b[31m\u001b[1merror    \u001b[0m] \u001b[1mNo non-empty dataframes found for shuffled non_roi.\u001b[0m [\u001b[0m\u001b[1m\u001b[34mreadii\u001b[0m]\u001b[0m \u001b[36mcall\u001b[0m=\u001b[35mextract.compile_dataset_features:267\u001b[0m\n",
      "\u001b[2m        \u001b[0m [\u001b[31m\u001b[1merror    \u001b[0m] \u001b[1mEmpty file written to /home/bhkuser/bhklab/katy/readii_2_roqc/data/results/TCIA_NSCLC-Radiomics_test/features/pyradiomics/pyradiomics_original_single_feature/shuffled_non_roi_features.csv\u001b[0m [\u001b[0m\u001b[1m\u001b[34mreadii\u001b[0m]\u001b[0m \u001b[36mcall\u001b[0m=\u001b[35mextract.compile_dataset_features:272\u001b[0m\n",
      "\u001b[2m        \u001b[0m [\u001b[31m\u001b[1merror    \u001b[0m] \u001b[1mNo non-empty dataframes found for shuffled full.\u001b[0m [\u001b[0m\u001b[1m\u001b[34mreadii\u001b[0m]\u001b[0m \u001b[36mcall\u001b[0m=\u001b[35mextract.compile_dataset_features:267\u001b[0m\n",
      "\u001b[2m        \u001b[0m [\u001b[31m\u001b[1merror    \u001b[0m] \u001b[1mEmpty file written to /home/bhkuser/bhklab/katy/readii_2_roqc/data/results/TCIA_NSCLC-Radiomics_test/features/pyradiomics/pyradiomics_original_single_feature/shuffled_full_features.csv\u001b[0m [\u001b[0m\u001b[1m\u001b[34mreadii\u001b[0m]\u001b[0m \u001b[36mcall\u001b[0m=\u001b[35mextract.compile_dataset_features:272\u001b[0m\n",
      "\u001b[2m        \u001b[0m [\u001b[31m\u001b[1merror    \u001b[0m] \u001b[1mNo non-empty dataframes found for shuffled roi.\u001b[0m [\u001b[0m\u001b[1m\u001b[34mreadii\u001b[0m]\u001b[0m \u001b[36mcall\u001b[0m=\u001b[35mextract.compile_dataset_features:267\u001b[0m\n",
      "\u001b[2m        \u001b[0m [\u001b[31m\u001b[1merror    \u001b[0m] \u001b[1mEmpty file written to /home/bhkuser/bhklab/katy/readii_2_roqc/data/results/TCIA_NSCLC-Radiomics_test/features/pyradiomics/pyradiomics_original_single_feature/shuffled_roi_features.csv\u001b[0m [\u001b[0m\u001b[1m\u001b[34mreadii\u001b[0m]\u001b[0m \u001b[36mcall\u001b[0m=\u001b[35mextract.compile_dataset_features:272\u001b[0m\n",
      "\u001b[2m        \u001b[0m [\u001b[33m\u001b[1mwarning  \u001b[0m] \u001b[1mNo samples found for image class original non_roi. Skipping.\u001b[0m [\u001b[0m\u001b[1m\u001b[34mreadii\u001b[0m]\u001b[0m \u001b[36mcall\u001b[0m=\u001b[35mextract.compile_dataset_features:232\u001b[0m\n",
      "\u001b[2m        \u001b[0m [\u001b[31m\u001b[1merror    \u001b[0m] \u001b[1mNo non-empty dataframes found for sampled non_roi.\u001b[0m [\u001b[0m\u001b[1m\u001b[34mreadii\u001b[0m]\u001b[0m \u001b[36mcall\u001b[0m=\u001b[35mextract.compile_dataset_features:267\u001b[0m\n",
      "\u001b[2m        \u001b[0m [\u001b[31m\u001b[1merror    \u001b[0m] \u001b[1mEmpty file written to /home/bhkuser/bhklab/katy/readii_2_roqc/data/results/TCIA_NSCLC-Radiomics_test/features/pyradiomics/pyradiomics_original_single_feature/sampled_non_roi_features.csv\u001b[0m [\u001b[0m\u001b[1m\u001b[34mreadii\u001b[0m]\u001b[0m \u001b[36mcall\u001b[0m=\u001b[35mextract.compile_dataset_features:272\u001b[0m\n",
      "\u001b[2m        \u001b[0m [\u001b[31m\u001b[1merror    \u001b[0m] \u001b[1mNo non-empty dataframes found for sampled full.\u001b[0m [\u001b[0m\u001b[1m\u001b[34mreadii\u001b[0m]\u001b[0m \u001b[36mcall\u001b[0m=\u001b[35mextract.compile_dataset_features:267\u001b[0m\n",
      "\u001b[2m        \u001b[0m [\u001b[31m\u001b[1merror    \u001b[0m] \u001b[1mEmpty file written to /home/bhkuser/bhklab/katy/readii_2_roqc/data/results/TCIA_NSCLC-Radiomics_test/features/pyradiomics/pyradiomics_original_single_feature/sampled_full_features.csv\u001b[0m [\u001b[0m\u001b[1m\u001b[34mreadii\u001b[0m]\u001b[0m \u001b[36mcall\u001b[0m=\u001b[35mextract.compile_dataset_features:272\u001b[0m\n",
      "\u001b[2m        \u001b[0m [\u001b[31m\u001b[1merror    \u001b[0m] \u001b[1mNo non-empty dataframes found for sampled roi.\u001b[0m [\u001b[0m\u001b[1m\u001b[34mreadii\u001b[0m]\u001b[0m \u001b[36mcall\u001b[0m=\u001b[35mextract.compile_dataset_features:267\u001b[0m\n",
      "\u001b[2m        \u001b[0m [\u001b[31m\u001b[1merror    \u001b[0m] \u001b[1mEmpty file written to /home/bhkuser/bhklab/katy/readii_2_roqc/data/results/TCIA_NSCLC-Radiomics_test/features/pyradiomics/pyradiomics_original_single_feature/sampled_roi_features.csv\u001b[0m [\u001b[0m\u001b[1m\u001b[34mreadii\u001b[0m]\u001b[0m \u001b[36mcall\u001b[0m=\u001b[35mextract.compile_dataset_features:272\u001b[0m\n"
     ]
    },
    {
     "data": {
      "text/plain": [
       "{'randomized_non_roi': 0        SampleID                                              Image  \\\n",
       " 1  LUNG1-001_0000  readii_NSCLC-Radiomics_test/LUNG1-001_0000/CT_...   \n",
       " 1  LUNG1-002_0001  readii_NSCLC-Radiomics_test/LUNG1-002_0001/CT_...   \n",
       " \n",
       " 0                                               Mask           DatasetName  \\\n",
       " 1  mit_NSCLC-Radiomics_test/LUNG1-001_0000/RTSTRU...  NSCLC-Radiomics_test   \n",
       " 1  mit_NSCLC-Radiomics_test/LUNG1-002_0001/RTSTRU...  NSCLC-Radiomics_test   \n",
       " \n",
       " 0 SeriesInstanceUID_Image Modality_Image SeriesInstanceUID_Mask Modality_Mask  \\\n",
       " 1                     NaN             CT                    NaN      RTSTRUCT   \n",
       " 1                     NaN             CT                    NaN      RTSTRUCT   \n",
       " \n",
       " 0 MaskID readii_Permutation  ... diagnostics_Mask-interpolated_Size  \\\n",
       " 1    GTV         randomized  ...                     (108, 101, 75)   \n",
       " 1    GTV         randomized  ...                     (110, 109, 90)   \n",
       " \n",
       " 0 diagnostics_Mask-interpolated_BoundingBox  \\\n",
       " 1                     (6, 6, 7, 96, 89, 63)   \n",
       " 1                     (6, 6, 7, 98, 97, 78)   \n",
       " \n",
       " 0 diagnostics_Mask-interpolated_VoxelNum  \\\n",
       " 1                                 160563   \n",
       " 1                                 359124   \n",
       " \n",
       " 0 diagnostics_Mask-interpolated_VolumeNum  \\\n",
       " 1                                       1   \n",
       " 1                                       1   \n",
       " \n",
       " 0    diagnostics_Mask-interpolated_CenterOfMassIndex  \\\n",
       " 1  (np.float64(54.732460155826686), np.float64(43...   \n",
       " 1  (np.float64(56.11284124703445), np.float64(51....   \n",
       " \n",
       " 0         diagnostics_Mask-interpolated_CenterOfMass  \\\n",
       " 1  (82.23246015582669, -201.5430858915192, -456.8...   \n",
       " 1  (-73.98765826373062, 16.670994457891965, -18.6...   \n",
       " \n",
       " 0 diagnostics_Mask-interpolated_Mean diagnostics_Mask-interpolated_Minimum  \\\n",
       " 1                  -49.2095065488313                               -1690.0   \n",
       " 1                 -33.21078791726534                               -1922.0   \n",
       " \n",
       " 0 diagnostics_Mask-interpolated_Maximum original_shape_VoxelVolume  \n",
       " 1                                2036.0                   160563.0  \n",
       " 1                                2312.0                   359124.0  \n",
       " \n",
       " [2 rows x 50 columns],\n",
       " 'randomized_full': 0        SampleID                                              Image  \\\n",
       " 1  LUNG1-001_0000  readii_NSCLC-Radiomics_test/LUNG1-001_0000/CT_...   \n",
       " 1  LUNG1-002_0001  readii_NSCLC-Radiomics_test/LUNG1-002_0001/CT_...   \n",
       " \n",
       " 0                                               Mask           DatasetName  \\\n",
       " 1  mit_NSCLC-Radiomics_test/LUNG1-001_0000/RTSTRU...  NSCLC-Radiomics_test   \n",
       " 1  mit_NSCLC-Radiomics_test/LUNG1-002_0001/RTSTRU...  NSCLC-Radiomics_test   \n",
       " \n",
       " 0 SeriesInstanceUID_Image Modality_Image SeriesInstanceUID_Mask Modality_Mask  \\\n",
       " 1                     NaN             CT                    NaN      RTSTRUCT   \n",
       " 1                     NaN             CT                    NaN      RTSTRUCT   \n",
       " \n",
       " 0 MaskID readii_Permutation  ... diagnostics_Mask-interpolated_Size  \\\n",
       " 1    GTV         randomized  ...                     (108, 101, 75)   \n",
       " 1    GTV         randomized  ...                     (110, 109, 90)   \n",
       " \n",
       " 0 diagnostics_Mask-interpolated_BoundingBox  \\\n",
       " 1                     (6, 6, 7, 96, 89, 63)   \n",
       " 1                     (6, 6, 7, 98, 97, 78)   \n",
       " \n",
       " 0 diagnostics_Mask-interpolated_VoxelNum  \\\n",
       " 1                                 160563   \n",
       " 1                                 359124   \n",
       " \n",
       " 0 diagnostics_Mask-interpolated_VolumeNum  \\\n",
       " 1                                       1   \n",
       " 1                                       1   \n",
       " \n",
       " 0    diagnostics_Mask-interpolated_CenterOfMassIndex  \\\n",
       " 1  (np.float64(54.732460155826686), np.float64(43...   \n",
       " 1  (np.float64(56.11284124703445), np.float64(51....   \n",
       " \n",
       " 0         diagnostics_Mask-interpolated_CenterOfMass  \\\n",
       " 1  (82.23246015582669, -201.5430858915192, -456.8...   \n",
       " 1  (-73.98765826373062, 16.670994457891965, -18.6...   \n",
       " \n",
       " 0 diagnostics_Mask-interpolated_Mean diagnostics_Mask-interpolated_Minimum  \\\n",
       " 1                  998.1911710668087                               -2249.0   \n",
       " 1                 1018.8888545460621                               -2261.0   \n",
       " \n",
       " 0 diagnostics_Mask-interpolated_Maximum original_shape_VoxelVolume  \n",
       " 1                                3998.0                   160563.0  \n",
       " 1                                4304.0                   359124.0  \n",
       " \n",
       " [2 rows x 50 columns],\n",
       " 'original_full': 0        SampleID                                              Image  \\\n",
       " 1  LUNG1-001_0000  mit_NSCLC-Radiomics_test/LUNG1-001_0000/CT_633...   \n",
       " 1  LUNG1-002_0001  mit_NSCLC-Radiomics_test/LUNG1-002_0001/CT_232...   \n",
       " \n",
       " 0                                               Mask           DatasetName  \\\n",
       " 1  mit_NSCLC-Radiomics_test/LUNG1-001_0000/RTSTRU...  NSCLC-Radiomics_test   \n",
       " 1  mit_NSCLC-Radiomics_test/LUNG1-002_0001/RTSTRU...  NSCLC-Radiomics_test   \n",
       " \n",
       " 0                            SeriesInstanceUID_Image Modality_Image  \\\n",
       " 1  1.3.6.1.4.1.32722.99.99.2989917765213423750108...             CT   \n",
       " 1  1.3.6.1.4.1.32722.99.99.2329880015517990803358...             CT   \n",
       " \n",
       " 0                             SeriesInstanceUID_Mask Modality_Mask MaskID  \\\n",
       " 1  1.3.6.1.4.1.32722.99.99.2279381215866080725084...      RTSTRUCT    GTV   \n",
       " 1  1.3.6.1.4.1.32722.99.99.2432675512669112458302...      RTSTRUCT    GTV   \n",
       " \n",
       " 0 readii_Permutation  ... diagnostics_Mask-interpolated_Size  \\\n",
       " 1           original  ...                     (108, 101, 75)   \n",
       " 1           original  ...                     (110, 109, 90)   \n",
       " \n",
       " 0 diagnostics_Mask-interpolated_BoundingBox  \\\n",
       " 1                     (6, 6, 7, 96, 89, 63)   \n",
       " 1                     (6, 6, 7, 98, 97, 78)   \n",
       " \n",
       " 0 diagnostics_Mask-interpolated_VoxelNum  \\\n",
       " 1                                 160563   \n",
       " 1                                 359124   \n",
       " \n",
       " 0 diagnostics_Mask-interpolated_VolumeNum  \\\n",
       " 1                                       1   \n",
       " 1                                       1   \n",
       " \n",
       " 0    diagnostics_Mask-interpolated_CenterOfMassIndex  \\\n",
       " 1  (np.float64(54.732460155826686), np.float64(43...   \n",
       " 1  (np.float64(56.11284124703445), np.float64(51....   \n",
       " \n",
       " 0         diagnostics_Mask-interpolated_CenterOfMass  \\\n",
       " 1  (82.23246015582669, -201.5430858915192, -456.8...   \n",
       " 1  (-73.98765826373062, 16.670994457891965, -18.6...   \n",
       " \n",
       " 0 diagnostics_Mask-interpolated_Mean diagnostics_Mask-interpolated_Minimum  \\\n",
       " 1                  -74.4041155185192                               -1105.0   \n",
       " 1                 -49.26152805159221                               -1041.0   \n",
       " \n",
       " 0 diagnostics_Mask-interpolated_Maximum original_shape_VoxelVolume  \n",
       " 1                                1081.0                   160563.0  \n",
       " 1                                 518.0                   359124.0  \n",
       " \n",
       " [2 rows x 50 columns],\n",
       " 'shuffled_non_roi': 0        SampleID                                              Image  \\\n",
       " 1  LUNG1-001_0000  mit_NSCLC-Radiomics_test/LUNG1-001_0000/CT_633...   \n",
       " 1  LUNG1-002_0001  mit_NSCLC-Radiomics_test/LUNG1-002_0001/CT_232...   \n",
       " \n",
       " 0                                               Mask           DatasetName  \\\n",
       " 1  mit_NSCLC-Radiomics_test/LUNG1-001_0000/RTSTRU...  NSCLC-Radiomics_test   \n",
       " 1  mit_NSCLC-Radiomics_test/LUNG1-002_0001/RTSTRU...  NSCLC-Radiomics_test   \n",
       " \n",
       " 0                            SeriesInstanceUID_Image Modality_Image  \\\n",
       " 1  1.3.6.1.4.1.32722.99.99.2989917765213423750108...             CT   \n",
       " 1  1.3.6.1.4.1.32722.99.99.2329880015517990803358...             CT   \n",
       " \n",
       " 0                             SeriesInstanceUID_Mask Modality_Mask MaskID  \\\n",
       " 1  1.3.6.1.4.1.32722.99.99.2279381215866080725084...      RTSTRUCT    GTV   \n",
       " 1  1.3.6.1.4.1.32722.99.99.2432675512669112458302...      RTSTRUCT    GTV   \n",
       " \n",
       " 0 readii_Permutation  ... diagnostics_Mask-interpolated_Size  \\\n",
       " 1           original  ...                     (108, 101, 75)   \n",
       " 1           original  ...                     (110, 109, 90)   \n",
       " \n",
       " 0 diagnostics_Mask-interpolated_BoundingBox  \\\n",
       " 1                     (6, 6, 7, 96, 89, 63)   \n",
       " 1                     (6, 6, 7, 98, 97, 78)   \n",
       " \n",
       " 0 diagnostics_Mask-interpolated_VoxelNum  \\\n",
       " 1                                 160563   \n",
       " 1                                 359124   \n",
       " \n",
       " 0 diagnostics_Mask-interpolated_VolumeNum  \\\n",
       " 1                                       1   \n",
       " 1                                       1   \n",
       " \n",
       " 0    diagnostics_Mask-interpolated_CenterOfMassIndex  \\\n",
       " 1  (np.float64(54.732460155826686), np.float64(43...   \n",
       " 1  (np.float64(56.11284124703445), np.float64(51....   \n",
       " \n",
       " 0         diagnostics_Mask-interpolated_CenterOfMass  \\\n",
       " 1  (82.23246015582669, -201.5430858915192, -456.8...   \n",
       " 1  (-73.98765826373062, 16.670994457891965, -18.6...   \n",
       " \n",
       " 0 diagnostics_Mask-interpolated_Mean diagnostics_Mask-interpolated_Minimum  \\\n",
       " 1                  -74.4041155185192                               -1105.0   \n",
       " 1                 -49.26152805159221                               -1041.0   \n",
       " \n",
       " 0 diagnostics_Mask-interpolated_Maximum original_shape_VoxelVolume  \n",
       " 1                                1081.0                   160563.0  \n",
       " 1                                 518.0                   359124.0  \n",
       " \n",
       " [2 rows x 50 columns],\n",
       " 'shuffled_full': 0        SampleID                                              Image  \\\n",
       " 1  LUNG1-001_0000  mit_NSCLC-Radiomics_test/LUNG1-001_0000/CT_633...   \n",
       " 1  LUNG1-002_0001  mit_NSCLC-Radiomics_test/LUNG1-002_0001/CT_232...   \n",
       " \n",
       " 0                                               Mask           DatasetName  \\\n",
       " 1  mit_NSCLC-Radiomics_test/LUNG1-001_0000/RTSTRU...  NSCLC-Radiomics_test   \n",
       " 1  mit_NSCLC-Radiomics_test/LUNG1-002_0001/RTSTRU...  NSCLC-Radiomics_test   \n",
       " \n",
       " 0                            SeriesInstanceUID_Image Modality_Image  \\\n",
       " 1  1.3.6.1.4.1.32722.99.99.2989917765213423750108...             CT   \n",
       " 1  1.3.6.1.4.1.32722.99.99.2329880015517990803358...             CT   \n",
       " \n",
       " 0                             SeriesInstanceUID_Mask Modality_Mask MaskID  \\\n",
       " 1  1.3.6.1.4.1.32722.99.99.2279381215866080725084...      RTSTRUCT    GTV   \n",
       " 1  1.3.6.1.4.1.32722.99.99.2432675512669112458302...      RTSTRUCT    GTV   \n",
       " \n",
       " 0 readii_Permutation  ... diagnostics_Mask-interpolated_Size  \\\n",
       " 1           original  ...                     (108, 101, 75)   \n",
       " 1           original  ...                     (110, 109, 90)   \n",
       " \n",
       " 0 diagnostics_Mask-interpolated_BoundingBox  \\\n",
       " 1                     (6, 6, 7, 96, 89, 63)   \n",
       " 1                     (6, 6, 7, 98, 97, 78)   \n",
       " \n",
       " 0 diagnostics_Mask-interpolated_VoxelNum  \\\n",
       " 1                                 160563   \n",
       " 1                                 359124   \n",
       " \n",
       " 0 diagnostics_Mask-interpolated_VolumeNum  \\\n",
       " 1                                       1   \n",
       " 1                                       1   \n",
       " \n",
       " 0    diagnostics_Mask-interpolated_CenterOfMassIndex  \\\n",
       " 1  (np.float64(54.732460155826686), np.float64(43...   \n",
       " 1  (np.float64(56.11284124703445), np.float64(51....   \n",
       " \n",
       " 0         diagnostics_Mask-interpolated_CenterOfMass  \\\n",
       " 1  (82.23246015582669, -201.5430858915192, -456.8...   \n",
       " 1  (-73.98765826373062, 16.670994457891965, -18.6...   \n",
       " \n",
       " 0 diagnostics_Mask-interpolated_Mean diagnostics_Mask-interpolated_Minimum  \\\n",
       " 1                  -74.4041155185192                               -1105.0   \n",
       " 1                 -49.26152805159221                               -1041.0   \n",
       " \n",
       " 0 diagnostics_Mask-interpolated_Maximum original_shape_VoxelVolume  \n",
       " 1                                1081.0                   160563.0  \n",
       " 1                                 518.0                   359124.0  \n",
       " \n",
       " [2 rows x 50 columns],\n",
       " 'shuffled_roi': 0        SampleID                                              Image  \\\n",
       " 1  LUNG1-001_0000  mit_NSCLC-Radiomics_test/LUNG1-001_0000/CT_633...   \n",
       " 1  LUNG1-002_0001  mit_NSCLC-Radiomics_test/LUNG1-002_0001/CT_232...   \n",
       " \n",
       " 0                                               Mask           DatasetName  \\\n",
       " 1  mit_NSCLC-Radiomics_test/LUNG1-001_0000/RTSTRU...  NSCLC-Radiomics_test   \n",
       " 1  mit_NSCLC-Radiomics_test/LUNG1-002_0001/RTSTRU...  NSCLC-Radiomics_test   \n",
       " \n",
       " 0                            SeriesInstanceUID_Image Modality_Image  \\\n",
       " 1  1.3.6.1.4.1.32722.99.99.2989917765213423750108...             CT   \n",
       " 1  1.3.6.1.4.1.32722.99.99.2329880015517990803358...             CT   \n",
       " \n",
       " 0                             SeriesInstanceUID_Mask Modality_Mask MaskID  \\\n",
       " 1  1.3.6.1.4.1.32722.99.99.2279381215866080725084...      RTSTRUCT    GTV   \n",
       " 1  1.3.6.1.4.1.32722.99.99.2432675512669112458302...      RTSTRUCT    GTV   \n",
       " \n",
       " 0 readii_Permutation  ... diagnostics_Mask-interpolated_Size  \\\n",
       " 1           original  ...                     (108, 101, 75)   \n",
       " 1           original  ...                     (110, 109, 90)   \n",
       " \n",
       " 0 diagnostics_Mask-interpolated_BoundingBox  \\\n",
       " 1                     (6, 6, 7, 96, 89, 63)   \n",
       " 1                     (6, 6, 7, 98, 97, 78)   \n",
       " \n",
       " 0 diagnostics_Mask-interpolated_VoxelNum  \\\n",
       " 1                                 160563   \n",
       " 1                                 359124   \n",
       " \n",
       " 0 diagnostics_Mask-interpolated_VolumeNum  \\\n",
       " 1                                       1   \n",
       " 1                                       1   \n",
       " \n",
       " 0    diagnostics_Mask-interpolated_CenterOfMassIndex  \\\n",
       " 1  (np.float64(54.732460155826686), np.float64(43...   \n",
       " 1  (np.float64(56.11284124703445), np.float64(51....   \n",
       " \n",
       " 0         diagnostics_Mask-interpolated_CenterOfMass  \\\n",
       " 1  (82.23246015582669, -201.5430858915192, -456.8...   \n",
       " 1  (-73.98765826373062, 16.670994457891965, -18.6...   \n",
       " \n",
       " 0 diagnostics_Mask-interpolated_Mean diagnostics_Mask-interpolated_Minimum  \\\n",
       " 1                  -74.4041155185192                               -1105.0   \n",
       " 1                 -49.26152805159221                               -1041.0   \n",
       " \n",
       " 0 diagnostics_Mask-interpolated_Maximum original_shape_VoxelVolume  \n",
       " 1                                1081.0                   160563.0  \n",
       " 1                                 518.0                   359124.0  \n",
       " \n",
       " [2 rows x 50 columns],\n",
       " 'sampled_non_roi': 0        SampleID                                              Image  \\\n",
       " 1  LUNG1-001_0000  mit_NSCLC-Radiomics_test/LUNG1-001_0000/CT_633...   \n",
       " 1  LUNG1-002_0001  mit_NSCLC-Radiomics_test/LUNG1-002_0001/CT_232...   \n",
       " \n",
       " 0                                               Mask           DatasetName  \\\n",
       " 1  mit_NSCLC-Radiomics_test/LUNG1-001_0000/RTSTRU...  NSCLC-Radiomics_test   \n",
       " 1  mit_NSCLC-Radiomics_test/LUNG1-002_0001/RTSTRU...  NSCLC-Radiomics_test   \n",
       " \n",
       " 0                            SeriesInstanceUID_Image Modality_Image  \\\n",
       " 1  1.3.6.1.4.1.32722.99.99.2989917765213423750108...             CT   \n",
       " 1  1.3.6.1.4.1.32722.99.99.2329880015517990803358...             CT   \n",
       " \n",
       " 0                             SeriesInstanceUID_Mask Modality_Mask MaskID  \\\n",
       " 1  1.3.6.1.4.1.32722.99.99.2279381215866080725084...      RTSTRUCT    GTV   \n",
       " 1  1.3.6.1.4.1.32722.99.99.2432675512669112458302...      RTSTRUCT    GTV   \n",
       " \n",
       " 0 readii_Permutation  ... diagnostics_Mask-interpolated_Size  \\\n",
       " 1           original  ...                     (108, 101, 75)   \n",
       " 1           original  ...                     (110, 109, 90)   \n",
       " \n",
       " 0 diagnostics_Mask-interpolated_BoundingBox  \\\n",
       " 1                     (6, 6, 7, 96, 89, 63)   \n",
       " 1                     (6, 6, 7, 98, 97, 78)   \n",
       " \n",
       " 0 diagnostics_Mask-interpolated_VoxelNum  \\\n",
       " 1                                 160563   \n",
       " 1                                 359124   \n",
       " \n",
       " 0 diagnostics_Mask-interpolated_VolumeNum  \\\n",
       " 1                                       1   \n",
       " 1                                       1   \n",
       " \n",
       " 0    diagnostics_Mask-interpolated_CenterOfMassIndex  \\\n",
       " 1  (np.float64(54.732460155826686), np.float64(43...   \n",
       " 1  (np.float64(56.11284124703445), np.float64(51....   \n",
       " \n",
       " 0         diagnostics_Mask-interpolated_CenterOfMass  \\\n",
       " 1  (82.23246015582669, -201.5430858915192, -456.8...   \n",
       " 1  (-73.98765826373062, 16.670994457891965, -18.6...   \n",
       " \n",
       " 0 diagnostics_Mask-interpolated_Mean diagnostics_Mask-interpolated_Minimum  \\\n",
       " 1                  -74.4041155185192                               -1105.0   \n",
       " 1                 -49.26152805159221                               -1041.0   \n",
       " \n",
       " 0 diagnostics_Mask-interpolated_Maximum original_shape_VoxelVolume  \n",
       " 1                                1081.0                   160563.0  \n",
       " 1                                 518.0                   359124.0  \n",
       " \n",
       " [2 rows x 50 columns],\n",
       " 'sampled_full': 0        SampleID                                              Image  \\\n",
       " 1  LUNG1-001_0000  mit_NSCLC-Radiomics_test/LUNG1-001_0000/CT_633...   \n",
       " 1  LUNG1-002_0001  mit_NSCLC-Radiomics_test/LUNG1-002_0001/CT_232...   \n",
       " \n",
       " 0                                               Mask           DatasetName  \\\n",
       " 1  mit_NSCLC-Radiomics_test/LUNG1-001_0000/RTSTRU...  NSCLC-Radiomics_test   \n",
       " 1  mit_NSCLC-Radiomics_test/LUNG1-002_0001/RTSTRU...  NSCLC-Radiomics_test   \n",
       " \n",
       " 0                            SeriesInstanceUID_Image Modality_Image  \\\n",
       " 1  1.3.6.1.4.1.32722.99.99.2989917765213423750108...             CT   \n",
       " 1  1.3.6.1.4.1.32722.99.99.2329880015517990803358...             CT   \n",
       " \n",
       " 0                             SeriesInstanceUID_Mask Modality_Mask MaskID  \\\n",
       " 1  1.3.6.1.4.1.32722.99.99.2279381215866080725084...      RTSTRUCT    GTV   \n",
       " 1  1.3.6.1.4.1.32722.99.99.2432675512669112458302...      RTSTRUCT    GTV   \n",
       " \n",
       " 0 readii_Permutation  ... diagnostics_Mask-interpolated_Size  \\\n",
       " 1           original  ...                     (108, 101, 75)   \n",
       " 1           original  ...                     (110, 109, 90)   \n",
       " \n",
       " 0 diagnostics_Mask-interpolated_BoundingBox  \\\n",
       " 1                     (6, 6, 7, 96, 89, 63)   \n",
       " 1                     (6, 6, 7, 98, 97, 78)   \n",
       " \n",
       " 0 diagnostics_Mask-interpolated_VoxelNum  \\\n",
       " 1                                 160563   \n",
       " 1                                 359124   \n",
       " \n",
       " 0 diagnostics_Mask-interpolated_VolumeNum  \\\n",
       " 1                                       1   \n",
       " 1                                       1   \n",
       " \n",
       " 0    diagnostics_Mask-interpolated_CenterOfMassIndex  \\\n",
       " 1  (np.float64(54.732460155826686), np.float64(43...   \n",
       " 1  (np.float64(56.11284124703445), np.float64(51....   \n",
       " \n",
       " 0         diagnostics_Mask-interpolated_CenterOfMass  \\\n",
       " 1  (82.23246015582669, -201.5430858915192, -456.8...   \n",
       " 1  (-73.98765826373062, 16.670994457891965, -18.6...   \n",
       " \n",
       " 0 diagnostics_Mask-interpolated_Mean diagnostics_Mask-interpolated_Minimum  \\\n",
       " 1                  -74.4041155185192                               -1105.0   \n",
       " 1                 -49.26152805159221                               -1041.0   \n",
       " \n",
       " 0 diagnostics_Mask-interpolated_Maximum original_shape_VoxelVolume  \n",
       " 1                                1081.0                   160563.0  \n",
       " 1                                 518.0                   359124.0  \n",
       " \n",
       " [2 rows x 50 columns],\n",
       " 'sampled_roi': 0        SampleID                                              Image  \\\n",
       " 1  LUNG1-001_0000  mit_NSCLC-Radiomics_test/LUNG1-001_0000/CT_633...   \n",
       " 1  LUNG1-002_0001  mit_NSCLC-Radiomics_test/LUNG1-002_0001/CT_232...   \n",
       " \n",
       " 0                                               Mask           DatasetName  \\\n",
       " 1  mit_NSCLC-Radiomics_test/LUNG1-001_0000/RTSTRU...  NSCLC-Radiomics_test   \n",
       " 1  mit_NSCLC-Radiomics_test/LUNG1-002_0001/RTSTRU...  NSCLC-Radiomics_test   \n",
       " \n",
       " 0                            SeriesInstanceUID_Image Modality_Image  \\\n",
       " 1  1.3.6.1.4.1.32722.99.99.2989917765213423750108...             CT   \n",
       " 1  1.3.6.1.4.1.32722.99.99.2329880015517990803358...             CT   \n",
       " \n",
       " 0                             SeriesInstanceUID_Mask Modality_Mask MaskID  \\\n",
       " 1  1.3.6.1.4.1.32722.99.99.2279381215866080725084...      RTSTRUCT    GTV   \n",
       " 1  1.3.6.1.4.1.32722.99.99.2432675512669112458302...      RTSTRUCT    GTV   \n",
       " \n",
       " 0 readii_Permutation  ... diagnostics_Mask-interpolated_Size  \\\n",
       " 1           original  ...                     (108, 101, 75)   \n",
       " 1           original  ...                     (110, 109, 90)   \n",
       " \n",
       " 0 diagnostics_Mask-interpolated_BoundingBox  \\\n",
       " 1                     (6, 6, 7, 96, 89, 63)   \n",
       " 1                     (6, 6, 7, 98, 97, 78)   \n",
       " \n",
       " 0 diagnostics_Mask-interpolated_VoxelNum  \\\n",
       " 1                                 160563   \n",
       " 1                                 359124   \n",
       " \n",
       " 0 diagnostics_Mask-interpolated_VolumeNum  \\\n",
       " 1                                       1   \n",
       " 1                                       1   \n",
       " \n",
       " 0    diagnostics_Mask-interpolated_CenterOfMassIndex  \\\n",
       " 1  (np.float64(54.732460155826686), np.float64(43...   \n",
       " 1  (np.float64(56.11284124703445), np.float64(51....   \n",
       " \n",
       " 0         diagnostics_Mask-interpolated_CenterOfMass  \\\n",
       " 1  (82.23246015582669, -201.5430858915192, -456.8...   \n",
       " 1  (-73.98765826373062, 16.670994457891965, -18.6...   \n",
       " \n",
       " 0 diagnostics_Mask-interpolated_Mean diagnostics_Mask-interpolated_Minimum  \\\n",
       " 1                  -74.4041155185192                               -1105.0   \n",
       " 1                 -49.26152805159221                               -1041.0   \n",
       " \n",
       " 0 diagnostics_Mask-interpolated_Maximum original_shape_VoxelVolume  \n",
       " 1                                1081.0                   160563.0  \n",
       " 1                                 518.0                   359124.0  \n",
       " \n",
       " [2 rows x 50 columns],\n",
       " 'randomized_roi': 0        SampleID                                              Image  \\\n",
       " 1  LUNG1-001_0000  readii_NSCLC-Radiomics_test/LUNG1-001_0000/CT_...   \n",
       " 1  LUNG1-002_0001  readii_NSCLC-Radiomics_test/LUNG1-002_0001/CT_...   \n",
       " \n",
       " 0                                               Mask           DatasetName  \\\n",
       " 1  mit_NSCLC-Radiomics_test/LUNG1-001_0000/RTSTRU...  NSCLC-Radiomics_test   \n",
       " 1  mit_NSCLC-Radiomics_test/LUNG1-002_0001/RTSTRU...  NSCLC-Radiomics_test   \n",
       " \n",
       " 0 SeriesInstanceUID_Image Modality_Image SeriesInstanceUID_Mask Modality_Mask  \\\n",
       " 1                     NaN             CT                    NaN      RTSTRUCT   \n",
       " 1                     NaN             CT                    NaN      RTSTRUCT   \n",
       " \n",
       " 0 MaskID readii_Permutation  ... diagnostics_Mask-interpolated_Size  \\\n",
       " 1    GTV         randomized  ...                     (108, 101, 75)   \n",
       " 1    GTV         randomized  ...                     (110, 109, 90)   \n",
       " \n",
       " 0 diagnostics_Mask-interpolated_BoundingBox  \\\n",
       " 1                     (6, 6, 7, 96, 89, 63)   \n",
       " 1                     (6, 6, 7, 98, 97, 78)   \n",
       " \n",
       " 0 diagnostics_Mask-interpolated_VoxelNum  \\\n",
       " 1                                 160563   \n",
       " 1                                 359124   \n",
       " \n",
       " 0 diagnostics_Mask-interpolated_VolumeNum  \\\n",
       " 1                                       1   \n",
       " 1                                       1   \n",
       " \n",
       " 0    diagnostics_Mask-interpolated_CenterOfMassIndex  \\\n",
       " 1  (np.float64(54.732460155826686), np.float64(43...   \n",
       " 1  (np.float64(56.11284124703445), np.float64(51....   \n",
       " \n",
       " 0         diagnostics_Mask-interpolated_CenterOfMass  \\\n",
       " 1  (82.23246015582669, -201.5430858915192, -456.8...   \n",
       " 1  (-73.98765826373062, 16.670994457891965, -18.6...   \n",
       " \n",
       " 0 diagnostics_Mask-interpolated_Mean diagnostics_Mask-interpolated_Minimum  \\\n",
       " 1                -1.7438388669867901                               -1577.0   \n",
       " 1                -324.44522226306236                               -1415.0   \n",
       " \n",
       " 0 diagnostics_Mask-interpolated_Maximum original_shape_VoxelVolume  \n",
       " 1                                1558.0                   160563.0  \n",
       " 1                                 770.0                   359124.0  \n",
       " \n",
       " [2 rows x 50 columns]}"
      ]
     },
     "execution_count": 4,
     "metadata": {},
     "output_type": "execute_result"
    }
   ],
   "source": [
    "import sys; sys.path.append(\"../workflow/scripts\")\n",
    "from feature_extraction.extract import (\n",
    "    compile_dataset_features,\n",
    "    extract_dataset_features,\n",
    ")\n",
    "\n",
    "compile_dataset_features(dataset_index=dataset_index,\n",
    "                          method=\"pyradiomics\",\n",
    "                          settings_name=\"pyradiomics_original_single_feature\")"
   ]
  },
  {
   "cell_type": "code",
   "execution_count": 5,
   "id": "35207e2a",
   "metadata": {},
   "outputs": [
    {
     "ename": "KeyboardInterrupt",
     "evalue": "",
     "output_type": "error",
     "traceback": [
      "\u001b[31m---------------------------------------------------------------------------\u001b[39m",
      "\u001b[31mKeyboardInterrupt\u001b[39m                         Traceback (most recent call last)",
      "\u001b[36mCell\u001b[39m\u001b[36m \u001b[39m\u001b[32mIn[5]\u001b[39m\u001b[32m, line 1\u001b[39m\n\u001b[32m----> \u001b[39m\u001b[32m1\u001b[39m \u001b[43mextract_dataset_features\u001b[49m\u001b[43m(\u001b[49m\u001b[43mdataset\u001b[49m\u001b[43m \u001b[49m\u001b[43m=\u001b[49m\u001b[43m \u001b[49m\u001b[33;43m\"\u001b[39;49m\u001b[33;43mNSCLC-Radiomics_test\u001b[39;49m\u001b[33;43m\"\u001b[39;49m\u001b[43m,\u001b[49m\n\u001b[32m      2\u001b[39m \u001b[43m        \u001b[49m\u001b[43mmethod\u001b[49m\u001b[43m \u001b[49m\u001b[43m=\u001b[49m\u001b[43m \u001b[49m\u001b[33;43m\"\u001b[39;49m\u001b[33;43mpyradiomics\u001b[39;49m\u001b[33;43m\"\u001b[39;49m\u001b[43m,\u001b[49m\n\u001b[32m      3\u001b[39m \u001b[43m        \u001b[49m\u001b[43msettings\u001b[49m\u001b[43m \u001b[49m\u001b[43m=\u001b[49m\u001b[43m \u001b[49m\u001b[33;43m\"\u001b[39;49m\u001b[33;43mpyradiomics_original_single_feature.yaml\u001b[39;49m\u001b[33;43m\"\u001b[39;49m\u001b[43m,\u001b[49m\n\u001b[32m      4\u001b[39m \u001b[43m        \u001b[49m\u001b[43moverwrite\u001b[49m\u001b[43m \u001b[49m\u001b[43m=\u001b[49m\u001b[43m \u001b[49m\u001b[38;5;28;43;01mTrue\u001b[39;49;00m\u001b[43m,\u001b[49m\n\u001b[32m      5\u001b[39m \u001b[43m        \u001b[49m\u001b[43mparallel\u001b[49m\u001b[43m \u001b[49m\u001b[43m=\u001b[49m\u001b[43m \u001b[49m\u001b[38;5;28;43;01mTrue\u001b[39;49;00m\u001b[43m)\u001b[49m\n",
      "\u001b[36mFile \u001b[39m\u001b[32m~/bhklab/katy/readii_2_roqc/sandbox/../workflow/scripts/feature_extraction/extract.py:341\u001b[39m, in \u001b[36mextract_dataset_features\u001b[39m\u001b[34m(dataset, method, settings, overwrite, parallel)\u001b[39m\n\u001b[32m    338\u001b[39m \u001b[38;5;66;03m# Extract features for each sample in the dataset index\u001b[39;00m\n\u001b[32m    339\u001b[39m \u001b[38;5;28;01mif\u001b[39;00m parallel:\n\u001b[32m    340\u001b[39m     \u001b[38;5;66;03m# Use joblib to parallelize feature extraction\u001b[39;00m\n\u001b[32m--> \u001b[39m\u001b[32m341\u001b[39m     feature_vectors = \u001b[43mParallel\u001b[49m\u001b[43m(\u001b[49m\u001b[43mn_jobs\u001b[49m\u001b[43m=\u001b[49m\u001b[43m-\u001b[49m\u001b[32;43m1\u001b[39;49m\u001b[43m)\u001b[49m\u001b[43m(\u001b[49m\n\u001b[32m    342\u001b[39m \u001b[43m        \u001b[49m\u001b[43mdelayed\u001b[49m\u001b[43m(\u001b[49m\u001b[43mextract_sample_features\u001b[49m\u001b[43m)\u001b[49m\u001b[43m(\u001b[49m\u001b[43msample_data\u001b[49m\u001b[43m \u001b[49m\u001b[43m=\u001b[49m\u001b[43m \u001b[49m\u001b[43msample_data\u001b[49m\u001b[43m,\u001b[49m\u001b[43m \u001b[49m\n\u001b[32m    343\u001b[39m \u001b[43m                                         \u001b[49m\u001b[43mmethod\u001b[49m\u001b[43m \u001b[49m\u001b[43m=\u001b[49m\u001b[43m \u001b[49m\u001b[43mmethod\u001b[49m\u001b[43m,\u001b[49m\u001b[43m \u001b[49m\n\u001b[32m    344\u001b[39m \u001b[43m                                         \u001b[49m\u001b[43msettings\u001b[49m\u001b[43m \u001b[49m\u001b[43m=\u001b[49m\u001b[43m \u001b[49m\u001b[43msettings\u001b[49m\u001b[43m,\u001b[49m\u001b[43m \u001b[49m\n\u001b[32m    345\u001b[39m \u001b[43m                                         \u001b[49m\u001b[43moverwrite\u001b[49m\u001b[43m \u001b[49m\u001b[43m=\u001b[49m\u001b[43m \u001b[49m\u001b[43moverwrite\u001b[49m\u001b[43m)\u001b[49m\n\u001b[32m    346\u001b[39m \u001b[43m        \u001b[49m\u001b[38;5;28;43;01mfor\u001b[39;49;00m\u001b[43m \u001b[49m\u001b[43m_\u001b[49m\u001b[43m,\u001b[49m\u001b[43m \u001b[49m\u001b[43msample_data\u001b[49m\u001b[43m \u001b[49m\u001b[38;5;129;43;01min\u001b[39;49;00m\u001b[43m \u001b[49m\u001b[43mdataset_index\u001b[49m\u001b[43m.\u001b[49m\u001b[43miterrows\u001b[49m\u001b[43m(\u001b[49m\u001b[43m)\u001b[49m\n\u001b[32m    347\u001b[39m \u001b[43m    \u001b[49m\u001b[43m)\u001b[49m\n\u001b[32m    348\u001b[39m \u001b[38;5;28;01melse\u001b[39;00m:\n\u001b[32m    349\u001b[39m     \u001b[38;5;66;03m# Sequentially extract features\u001b[39;00m\n\u001b[32m    350\u001b[39m     feature_vectors = [\n\u001b[32m    351\u001b[39m         extract_sample_features(sample_data = sample_data, \n\u001b[32m    352\u001b[39m                                 method = method, \n\u001b[32m   (...)\u001b[39m\u001b[32m    355\u001b[39m         \u001b[38;5;28;01mfor\u001b[39;00m _, sample_data \u001b[38;5;129;01min\u001b[39;00m dataset_index.iterrows()\n\u001b[32m    356\u001b[39m     ]\n",
      "\u001b[36mFile \u001b[39m\u001b[32m~/bhklab/katy/readii_2_roqc/.pixi/envs/default/lib/python3.12/site-packages/joblib/parallel.py:2072\u001b[39m, in \u001b[36mParallel.__call__\u001b[39m\u001b[34m(self, iterable)\u001b[39m\n\u001b[32m   2066\u001b[39m \u001b[38;5;66;03m# The first item from the output is blank, but it makes the interpreter\u001b[39;00m\n\u001b[32m   2067\u001b[39m \u001b[38;5;66;03m# progress until it enters the Try/Except block of the generator and\u001b[39;00m\n\u001b[32m   2068\u001b[39m \u001b[38;5;66;03m# reaches the first `yield` statement. This starts the asynchronous\u001b[39;00m\n\u001b[32m   2069\u001b[39m \u001b[38;5;66;03m# dispatch of the tasks to the workers.\u001b[39;00m\n\u001b[32m   2070\u001b[39m \u001b[38;5;28mnext\u001b[39m(output)\n\u001b[32m-> \u001b[39m\u001b[32m2072\u001b[39m \u001b[38;5;28;01mreturn\u001b[39;00m output \u001b[38;5;28;01mif\u001b[39;00m \u001b[38;5;28mself\u001b[39m.return_generator \u001b[38;5;28;01melse\u001b[39;00m \u001b[38;5;28;43mlist\u001b[39;49m\u001b[43m(\u001b[49m\u001b[43moutput\u001b[49m\u001b[43m)\u001b[49m\n",
      "\u001b[36mFile \u001b[39m\u001b[32m~/bhklab/katy/readii_2_roqc/.pixi/envs/default/lib/python3.12/site-packages/joblib/parallel.py:1682\u001b[39m, in \u001b[36mParallel._get_outputs\u001b[39m\u001b[34m(self, iterator, pre_dispatch)\u001b[39m\n\u001b[32m   1679\u001b[39m     \u001b[38;5;28;01myield\u001b[39;00m\n\u001b[32m   1681\u001b[39m     \u001b[38;5;28;01mwith\u001b[39;00m \u001b[38;5;28mself\u001b[39m._backend.retrieval_context():\n\u001b[32m-> \u001b[39m\u001b[32m1682\u001b[39m         \u001b[38;5;28;01myield from\u001b[39;00m \u001b[38;5;28mself\u001b[39m._retrieve()\n\u001b[32m   1684\u001b[39m \u001b[38;5;28;01mexcept\u001b[39;00m \u001b[38;5;167;01mGeneratorExit\u001b[39;00m:\n\u001b[32m   1685\u001b[39m     \u001b[38;5;66;03m# The generator has been garbage collected before being fully\u001b[39;00m\n\u001b[32m   1686\u001b[39m     \u001b[38;5;66;03m# consumed. This aborts the remaining tasks if possible and warn\u001b[39;00m\n\u001b[32m   1687\u001b[39m     \u001b[38;5;66;03m# the user if necessary.\u001b[39;00m\n\u001b[32m   1688\u001b[39m     \u001b[38;5;28mself\u001b[39m._exception = \u001b[38;5;28;01mTrue\u001b[39;00m\n",
      "\u001b[36mFile \u001b[39m\u001b[32m~/bhklab/katy/readii_2_roqc/.pixi/envs/default/lib/python3.12/site-packages/joblib/parallel.py:1800\u001b[39m, in \u001b[36mParallel._retrieve\u001b[39m\u001b[34m(self)\u001b[39m\n\u001b[32m   1789\u001b[39m \u001b[38;5;28;01mif\u001b[39;00m \u001b[38;5;28mself\u001b[39m.return_ordered:\n\u001b[32m   1790\u001b[39m     \u001b[38;5;66;03m# Case ordered: wait for completion (or error) of the next job\u001b[39;00m\n\u001b[32m   1791\u001b[39m     \u001b[38;5;66;03m# that have been dispatched and not retrieved yet. If no job\u001b[39;00m\n\u001b[32m   (...)\u001b[39m\u001b[32m   1795\u001b[39m     \u001b[38;5;66;03m# control only have to be done on the amount of time the next\u001b[39;00m\n\u001b[32m   1796\u001b[39m     \u001b[38;5;66;03m# dispatched job is pending.\u001b[39;00m\n\u001b[32m   1797\u001b[39m     \u001b[38;5;28;01mif\u001b[39;00m (nb_jobs == \u001b[32m0\u001b[39m) \u001b[38;5;129;01mor\u001b[39;00m (\n\u001b[32m   1798\u001b[39m         \u001b[38;5;28mself\u001b[39m._jobs[\u001b[32m0\u001b[39m].get_status(timeout=\u001b[38;5;28mself\u001b[39m.timeout) == TASK_PENDING\n\u001b[32m   1799\u001b[39m     ):\n\u001b[32m-> \u001b[39m\u001b[32m1800\u001b[39m         \u001b[43mtime\u001b[49m\u001b[43m.\u001b[49m\u001b[43msleep\u001b[49m\u001b[43m(\u001b[49m\u001b[32;43m0.01\u001b[39;49m\u001b[43m)\u001b[49m\n\u001b[32m   1801\u001b[39m         \u001b[38;5;28;01mcontinue\u001b[39;00m\n\u001b[32m   1803\u001b[39m \u001b[38;5;28;01melif\u001b[39;00m nb_jobs == \u001b[32m0\u001b[39m:\n\u001b[32m   1804\u001b[39m     \u001b[38;5;66;03m# Case unordered: jobs are added to the list of jobs to\u001b[39;00m\n\u001b[32m   1805\u001b[39m     \u001b[38;5;66;03m# retrieve `self._jobs` only once completed or in error, which\u001b[39;00m\n\u001b[32m   (...)\u001b[39m\u001b[32m   1811\u001b[39m     \u001b[38;5;66;03m# timeouts before any other dispatched job has completed and\u001b[39;00m\n\u001b[32m   1812\u001b[39m     \u001b[38;5;66;03m# been added to `self._jobs` to be retrieved.\u001b[39;00m\n",
      "\u001b[31mKeyboardInterrupt\u001b[39m: "
     ]
    }
   ],
   "source": [
    "extract_dataset_features(dataset = \"NSCLC-Radiomics_test\",\n",
    "        method = \"pyradiomics\",\n",
    "        settings = \"pyradiomics_original_single_feature.yaml\",\n",
    "        overwrite = True,\n",
    "        parallel = True)"
   ]
  },
  {
   "cell_type": "code",
   "execution_count": 9,
   "id": "0824d3c3",
   "metadata": {},
   "outputs": [
    {
     "data": {
      "text/plain": [
       "[('original', 'full'),\n",
       " ('original', 'non_roi'),\n",
       " ('original', 'roi'),\n",
       " ('randomized', 'full'),\n",
       " ('randomized', 'non_roi'),\n",
       " ('randomized', 'roi'),\n",
       " ('sampled', 'full'),\n",
       " ('sampled', 'non_roi'),\n",
       " ('sampled', 'roi'),\n",
       " ('shuffled', 'full'),\n",
       " ('shuffled', 'non_roi'),\n",
       " ('shuffled', 'roi')]"
      ]
     },
     "execution_count": 9,
     "metadata": {},
     "output_type": "execute_result"
    }
   ],
   "source": [
    "from itertools import product\n",
    "\n",
    "list(product(dataset_index['readii_Permutation'].unique(), dataset_index['readii_Region'].unique()))"
   ]
  },
  {
   "cell_type": "markdown",
   "id": "b50d91e9",
   "metadata": {},
   "source": [
    "# Development"
   ]
  },
  {
   "cell_type": "code",
   "execution_count": 14,
   "id": "8ce850c7",
   "metadata": {},
   "outputs": [],
   "source": [
    "# Convert settings Path to string for pyradiomics to read it\n",
    "if isinstance(settings, Path):\n",
    "    settings = str(settings)\n",
    "\n",
    "try:\n",
    "    # Set up PyRadiomics feature extractor with provided settings file (expects a string, not a pathlib Path)\n",
    "    extractor = featureextractor.RadiomicsFeatureExtractor(settings)\n",
    "\n",
    "    sample_feature_vector = extractor.execute(image, mask)\n",
    "\n",
    "except Exception as e:\n",
    "    print(f\"Feature extraction failed for this sample: {e}\")"
   ]
  },
  {
   "cell_type": "code",
   "execution_count": 5,
   "id": "37acd13c",
   "metadata": {},
   "outputs": [
    {
     "data": {
      "application/vnd.microsoft.datawrangler.viewer.v0+json": {
       "columns": [
        {
         "name": "index",
         "rawType": "object",
         "type": "string"
        },
        {
         "name": "0",
         "rawType": "object",
         "type": "string"
        }
       ],
       "ref": "af60f55d-c635-41b9-a0ee-35525b74feed",
       "rows": [
        [
         "SampleID",
         "LUNG1-001_0000"
        ],
        [
         "Image",
         "mit_NSCLC-Radiomics_test/LUNG1-001_0000/CT_63382046/CT.nii.gz"
        ],
        [
         "Mask",
         "mit_NSCLC-Radiomics_test/LUNG1-001_0000/RTSTRUCT_35578236/GTV.nii.gz"
        ],
        [
         "DatasetName",
         "NSCLC-Radiomics_test"
        ],
        [
         "SeriesInstanceUID_Image",
         "1.3.6.1.4.1.32722.99.99.298991776521342375010861296712563382046"
        ],
        [
         "Modality_Image",
         "CT"
        ],
        [
         "SeriesInstanceUID_Mask",
         "1.3.6.1.4.1.32722.99.99.227938121586608072508444156170535578236"
        ],
        [
         "Modality_Mask",
         "RTSTRUCT"
        ],
        [
         "MaskID",
         "GTV"
        ],
        [
         "readii_Permutation",
         "original"
        ],
        [
         "readii_Region",
         "full"
        ],
        [
         "Dataset",
         "NSCLC-Radiomics_test"
        ]
       ],
       "shape": {
        "columns": 1,
        "rows": 12
       }
      },
      "text/plain": [
       "SampleID                                                      LUNG1-001_0000\n",
       "Image                      mit_NSCLC-Radiomics_test/LUNG1-001_0000/CT_633...\n",
       "Mask                       mit_NSCLC-Radiomics_test/LUNG1-001_0000/RTSTRU...\n",
       "DatasetName                                             NSCLC-Radiomics_test\n",
       "SeriesInstanceUID_Image    1.3.6.1.4.1.32722.99.99.2989917765213423750108...\n",
       "Modality_Image                                                            CT\n",
       "SeriesInstanceUID_Mask     1.3.6.1.4.1.32722.99.99.2279381215866080725084...\n",
       "Modality_Mask                                                       RTSTRUCT\n",
       "MaskID                                                                   GTV\n",
       "readii_Permutation                                                  original\n",
       "readii_Region                                                           full\n",
       "Dataset                                                 NSCLC-Radiomics_test\n",
       "Name: 0, dtype: object"
      ]
     },
     "execution_count": 5,
     "metadata": {},
     "output_type": "execute_result"
    }
   ],
   "source": [
    "metadata['Dataset'] = \"NSCLC-Radiomics_test\"\n",
    "metadata"
   ]
  },
  {
   "cell_type": "code",
   "execution_count": 15,
   "id": "cb7dbcb0",
   "metadata": {},
   "outputs": [],
   "source": [
    "from collections import OrderedDict\n",
    "\n",
    "od_metadata = metadata.to_dict(into=OrderedDict)"
   ]
  },
  {
   "cell_type": "code",
   "execution_count": 9,
   "id": "888572b1",
   "metadata": {},
   "outputs": [
    {
     "data": {
      "application/vnd.microsoft.datawrangler.viewer.v0+json": {
       "columns": [
        {
         "name": "index",
         "rawType": "int64",
         "type": "integer"
        },
        {
         "name": "SampleID",
         "rawType": "object",
         "type": "string"
        },
        {
         "name": "Image",
         "rawType": "object",
         "type": "string"
        },
        {
         "name": "Mask",
         "rawType": "object",
         "type": "string"
        },
        {
         "name": "DatasetName",
         "rawType": "object",
         "type": "string"
        },
        {
         "name": "SeriesInstanceUID_Image",
         "rawType": "object",
         "type": "string"
        },
        {
         "name": "Modality_Image",
         "rawType": "object",
         "type": "string"
        },
        {
         "name": "SeriesInstanceUID_Mask",
         "rawType": "object",
         "type": "string"
        },
        {
         "name": "Modality_Mask",
         "rawType": "object",
         "type": "string"
        },
        {
         "name": "MaskID",
         "rawType": "object",
         "type": "string"
        },
        {
         "name": "readii_Permutation",
         "rawType": "object",
         "type": "string"
        },
        {
         "name": "readii_Region",
         "rawType": "object",
         "type": "string"
        },
        {
         "name": "DataSource",
         "rawType": "object",
         "type": "string"
        },
        {
         "name": "diagnostics_Versions_PyRadiomics",
         "rawType": "object",
         "type": "string"
        },
        {
         "name": "diagnostics_Versions_Numpy",
         "rawType": "object",
         "type": "string"
        },
        {
         "name": "diagnostics_Versions_SimpleITK",
         "rawType": "object",
         "type": "string"
        },
        {
         "name": "diagnostics_Versions_PyWavelet",
         "rawType": "object",
         "type": "string"
        },
        {
         "name": "diagnostics_Versions_Python",
         "rawType": "object",
         "type": "string"
        },
        {
         "name": "diagnostics_Configuration_Settings",
         "rawType": "object",
         "type": "string"
        },
        {
         "name": "diagnostics_Configuration_EnabledImageTypes",
         "rawType": "object",
         "type": "string"
        },
        {
         "name": "diagnostics_Image-original_Hash",
         "rawType": "object",
         "type": "string"
        },
        {
         "name": "diagnostics_Image-original_Dimensionality",
         "rawType": "object",
         "type": "string"
        },
        {
         "name": "diagnostics_Image-original_Spacing",
         "rawType": "object",
         "type": "string"
        },
        {
         "name": "diagnostics_Image-original_Size",
         "rawType": "object",
         "type": "string"
        },
        {
         "name": "diagnostics_Image-original_Mean",
         "rawType": "object",
         "type": "string"
        },
        {
         "name": "diagnostics_Image-original_Minimum",
         "rawType": "object",
         "type": "string"
        },
        {
         "name": "diagnostics_Image-original_Maximum",
         "rawType": "object",
         "type": "string"
        },
        {
         "name": "diagnostics_Mask-original_Hash",
         "rawType": "object",
         "type": "string"
        },
        {
         "name": "diagnostics_Mask-original_Spacing",
         "rawType": "object",
         "type": "string"
        },
        {
         "name": "diagnostics_Mask-original_Size",
         "rawType": "object",
         "type": "string"
        },
        {
         "name": "diagnostics_Mask-original_BoundingBox",
         "rawType": "object",
         "type": "string"
        },
        {
         "name": "diagnostics_Mask-original_VoxelNum",
         "rawType": "object",
         "type": "string"
        },
        {
         "name": "diagnostics_Mask-original_VolumeNum",
         "rawType": "object",
         "type": "string"
        },
        {
         "name": "diagnostics_Mask-original_CenterOfMassIndex",
         "rawType": "object",
         "type": "string"
        },
        {
         "name": "diagnostics_Mask-original_CenterOfMass",
         "rawType": "object",
         "type": "string"
        },
        {
         "name": "diagnostics_Image-interpolated_Spacing",
         "rawType": "object",
         "type": "string"
        },
        {
         "name": "diagnostics_Image-interpolated_Size",
         "rawType": "object",
         "type": "string"
        },
        {
         "name": "diagnostics_Image-interpolated_Mean",
         "rawType": "object",
         "type": "string"
        },
        {
         "name": "diagnostics_Image-interpolated_Minimum",
         "rawType": "object",
         "type": "string"
        },
        {
         "name": "diagnostics_Image-interpolated_Maximum",
         "rawType": "object",
         "type": "string"
        },
        {
         "name": "diagnostics_Mask-interpolated_Spacing",
         "rawType": "object",
         "type": "string"
        },
        {
         "name": "diagnostics_Mask-interpolated_Size",
         "rawType": "object",
         "type": "string"
        },
        {
         "name": "diagnostics_Mask-interpolated_BoundingBox",
         "rawType": "object",
         "type": "string"
        },
        {
         "name": "diagnostics_Mask-interpolated_VoxelNum",
         "rawType": "object",
         "type": "string"
        },
        {
         "name": "diagnostics_Mask-interpolated_VolumeNum",
         "rawType": "object",
         "type": "string"
        },
        {
         "name": "diagnostics_Mask-interpolated_CenterOfMassIndex",
         "rawType": "object",
         "type": "string"
        },
        {
         "name": "diagnostics_Mask-interpolated_CenterOfMass",
         "rawType": "object",
         "type": "string"
        },
        {
         "name": "diagnostics_Mask-interpolated_Mean",
         "rawType": "object",
         "type": "string"
        },
        {
         "name": "diagnostics_Mask-interpolated_Minimum",
         "rawType": "object",
         "type": "string"
        },
        {
         "name": "diagnostics_Mask-interpolated_Maximum",
         "rawType": "object",
         "type": "string"
        },
        {
         "name": "original_shape_VoxelVolume",
         "rawType": "object",
         "type": "string"
        }
       ],
       "ref": "24ef9c08-eba5-4e73-89a8-e651d23cb253",
       "rows": [
        [
         "1",
         "LUNG1-001_0000",
         "mit_NSCLC-Radiomics_test/LUNG1-001_0000/CT_63382046/CT.nii.gz",
         "mit_NSCLC-Radiomics_test/LUNG1-001_0000/RTSTRUCT_35578236/GTV.nii.gz",
         "NSCLC-Radiomics_test",
         "1.3.6.1.4.1.32722.99.99.298991776521342375010861296712563382046",
         "CT",
         "1.3.6.1.4.1.32722.99.99.227938121586608072508444156170535578236",
         "RTSTRUCT",
         "GTV",
         "original",
         "full",
         "TCIA",
         "v3.1.4",
         "2.2.6",
         "2.5.0",
         "1.8.0",
         "3.12.10",
         "{'minimumROIDimensions': 2, 'minimumROISize': None, 'normalize': False, 'normalizeScale': 1, 'removeOutliers': None, 'resampledPixelSpacing': [1.0, 1.0, 1.0], 'interpolator': 'sitkBSpline', 'preCrop': False, 'padDistance': 5, 'distances': [1], 'force2D': False, 'force2Ddimension': 0, 'resegmentRange': None, 'label': 1, 'additionalInfo': True, 'binWidth': 25}",
         "{'Original': {}}",
         "b4175e0d6ddff17507e30c05c6e7302c2b9668f4",
         "3D",
         "(0.9765625, 0.9765625, 3.0)",
         "(512, 512, 134)",
         "-741.3879128925836",
         "-1024.0",
         "3034.0",
         "556ed0965525c7aec5a5bfa5ca1cc09a20ea0ff5",
         "(0.9765625, 0.9765625, 3.0)",
         "(512, 512, 134)",
         "(290, 226, 65, 98, 91, 21)",
         "56271",
         "1",
         "(np.float64(339.7097616889695), np.float64(265.2984485791971), np.float64(74.89406621527962))",
         "(82.23609539938428, -201.43120255937782, -456.81780135416113)",
         "(1.0, 1.0, 1.0)",
         "(108, 101, 75)",
         "-392.8450715071507",
         "-1105.0",
         "1607.0",
         "(1.0, 1.0, 1.0)",
         "(108, 101, 75)",
         "(6, 6, 7, 96, 89, 63)",
         "160563",
         "1",
         "(np.float64(54.732460155826686), np.float64(43.95691410848078), np.float64(37.619457782926325))",
         "(82.23246015582669, -201.5430858915192, -456.8805422170737)",
         "-74.4041155185192",
         "-1105.0",
         "1081.0",
         "160563.0"
        ]
       ],
       "shape": {
        "columns": 50,
        "rows": 1
       }
      },
      "text/html": [
       "<div>\n",
       "<style scoped>\n",
       "    .dataframe tbody tr th:only-of-type {\n",
       "        vertical-align: middle;\n",
       "    }\n",
       "\n",
       "    .dataframe tbody tr th {\n",
       "        vertical-align: top;\n",
       "    }\n",
       "\n",
       "    .dataframe thead th {\n",
       "        text-align: right;\n",
       "    }\n",
       "</style>\n",
       "<table border=\"1\" class=\"dataframe\">\n",
       "  <thead>\n",
       "    <tr style=\"text-align: right;\">\n",
       "      <th></th>\n",
       "      <th>SampleID</th>\n",
       "      <th>Image</th>\n",
       "      <th>Mask</th>\n",
       "      <th>DatasetName</th>\n",
       "      <th>SeriesInstanceUID_Image</th>\n",
       "      <th>Modality_Image</th>\n",
       "      <th>SeriesInstanceUID_Mask</th>\n",
       "      <th>Modality_Mask</th>\n",
       "      <th>MaskID</th>\n",
       "      <th>readii_Permutation</th>\n",
       "      <th>...</th>\n",
       "      <th>diagnostics_Mask-interpolated_Size</th>\n",
       "      <th>diagnostics_Mask-interpolated_BoundingBox</th>\n",
       "      <th>diagnostics_Mask-interpolated_VoxelNum</th>\n",
       "      <th>diagnostics_Mask-interpolated_VolumeNum</th>\n",
       "      <th>diagnostics_Mask-interpolated_CenterOfMassIndex</th>\n",
       "      <th>diagnostics_Mask-interpolated_CenterOfMass</th>\n",
       "      <th>diagnostics_Mask-interpolated_Mean</th>\n",
       "      <th>diagnostics_Mask-interpolated_Minimum</th>\n",
       "      <th>diagnostics_Mask-interpolated_Maximum</th>\n",
       "      <th>original_shape_VoxelVolume</th>\n",
       "    </tr>\n",
       "  </thead>\n",
       "  <tbody>\n",
       "    <tr>\n",
       "      <th>1</th>\n",
       "      <td>LUNG1-001_0000</td>\n",
       "      <td>mit_NSCLC-Radiomics_test/LUNG1-001_0000/CT_633...</td>\n",
       "      <td>mit_NSCLC-Radiomics_test/LUNG1-001_0000/RTSTRU...</td>\n",
       "      <td>NSCLC-Radiomics_test</td>\n",
       "      <td>1.3.6.1.4.1.32722.99.99.2989917765213423750108...</td>\n",
       "      <td>CT</td>\n",
       "      <td>1.3.6.1.4.1.32722.99.99.2279381215866080725084...</td>\n",
       "      <td>RTSTRUCT</td>\n",
       "      <td>GTV</td>\n",
       "      <td>original</td>\n",
       "      <td>...</td>\n",
       "      <td>(108, 101, 75)</td>\n",
       "      <td>(6, 6, 7, 96, 89, 63)</td>\n",
       "      <td>160563</td>\n",
       "      <td>1</td>\n",
       "      <td>(np.float64(54.732460155826686), np.float64(43...</td>\n",
       "      <td>(82.23246015582669, -201.5430858915192, -456.8...</td>\n",
       "      <td>-74.4041155185192</td>\n",
       "      <td>-1105.0</td>\n",
       "      <td>1081.0</td>\n",
       "      <td>160563.0</td>\n",
       "    </tr>\n",
       "  </tbody>\n",
       "</table>\n",
       "<p>1 rows × 50 columns</p>\n",
       "</div>"
      ],
      "text/plain": [
       "0        SampleID                                              Image  \\\n",
       "1  LUNG1-001_0000  mit_NSCLC-Radiomics_test/LUNG1-001_0000/CT_633...   \n",
       "\n",
       "0                                               Mask           DatasetName  \\\n",
       "1  mit_NSCLC-Radiomics_test/LUNG1-001_0000/RTSTRU...  NSCLC-Radiomics_test   \n",
       "\n",
       "0                            SeriesInstanceUID_Image Modality_Image  \\\n",
       "1  1.3.6.1.4.1.32722.99.99.2989917765213423750108...             CT   \n",
       "\n",
       "0                             SeriesInstanceUID_Mask Modality_Mask MaskID  \\\n",
       "1  1.3.6.1.4.1.32722.99.99.2279381215866080725084...      RTSTRUCT    GTV   \n",
       "\n",
       "0 readii_Permutation  ... diagnostics_Mask-interpolated_Size  \\\n",
       "1           original  ...                     (108, 101, 75)   \n",
       "\n",
       "0 diagnostics_Mask-interpolated_BoundingBox  \\\n",
       "1                     (6, 6, 7, 96, 89, 63)   \n",
       "\n",
       "0 diagnostics_Mask-interpolated_VoxelNum  \\\n",
       "1                                 160563   \n",
       "\n",
       "0 diagnostics_Mask-interpolated_VolumeNum  \\\n",
       "1                                       1   \n",
       "\n",
       "0    diagnostics_Mask-interpolated_CenterOfMassIndex  \\\n",
       "1  (np.float64(54.732460155826686), np.float64(43...   \n",
       "\n",
       "0         diagnostics_Mask-interpolated_CenterOfMass  \\\n",
       "1  (82.23246015582669, -201.5430858915192, -456.8...   \n",
       "\n",
       "0 diagnostics_Mask-interpolated_Mean diagnostics_Mask-interpolated_Minimum  \\\n",
       "1                  -74.4041155185192                               -1105.0   \n",
       "\n",
       "0 diagnostics_Mask-interpolated_Maximum original_shape_VoxelVolume  \n",
       "1                                1081.0                   160563.0  \n",
       "\n",
       "[1 rows x 50 columns]"
      ]
     },
     "execution_count": 9,
     "metadata": {},
     "output_type": "execute_result"
    }
   ],
   "source": [
    "features_dir_struct = Path(f\"{dataset_index.iloc[0]['DataSource']}_{dataset_index.iloc[0]['DatasetName']}\") / \"features\" / \"pyradiomics\" / \"pyradiomics_original_single_feature\"\n",
    "\n",
    "# Set up path to the directory containing the sample feature files\n",
    "sample_features_dir = dirs.PROCDATA / features_dir_struct\n",
    "\n",
    "filelist = list(sample_features_dir.rglob(\"**/original_full_features.csv\"))\n",
    "\n",
    "pd.read_csv(filelist[0], index_col=0, header=None, sep=\";\").transpose()"
   ]
  },
  {
   "cell_type": "markdown",
   "id": "8afbf591",
   "metadata": {},
   "source": [
    "# Full negative controls overflow error debugging"
   ]
  },
  {
   "cell_type": "code",
   "execution_count": 3,
   "id": "d311262c",
   "metadata": {},
   "outputs": [],
   "source": [
    "mask = sitk.ReadImage(\"data/procdata/TCIA_RADCURE_GTVp_test/images/mit_RADCURE_GTVp_test/RADCURE-0006_0001/RTSTRUCT_97032605/ROI__[GTVp].nii.gz\")"
   ]
  },
  {
   "cell_type": "code",
   "execution_count": 49,
   "id": "7b6de28f",
   "metadata": {},
   "outputs": [
    {
     "name": "stdout",
     "output_type": "stream",
     "text": [
      "(512, 512, 172)\n",
      "(0.9760000109672546, 0.9760000109672546, 2.0)\n",
      "(-249.51100158691406, -249.51170349121094, -1144.0)\n",
      "(1.0, 0.0, 0.0, 0.0, 1.0, 0.0, 0.0, 0.0, 1.0)\n"
     ]
    }
   ],
   "source": [
    "original_full_image = sitk.ReadImage(\"data/procdata/TCIA_RADCURE_window_test/images/mit_RADCURE_window_test/RADCURE-0007_0002/CT_31707248/CT.nii.gz\")\n",
    "print(original_full_image.GetSize())\n",
    "print(original_full_image.GetSpacing())\n",
    "print(original_full_image.GetOrigin())\n",
    "print(original_full_image.GetDirection())"
   ]
  },
  {
   "cell_type": "code",
   "execution_count": 50,
   "id": "7296957c",
   "metadata": {},
   "outputs": [
    {
     "name": "stdout",
     "output_type": "stream",
     "text": [
      "(512, 512, 172)\n",
      "(0.9760000109672546, 0.9760000109672546, 2.0)\n",
      "(-249.51100158691406, -249.51170349121094, -1144.0)\n",
      "(1.0, 0.0, 0.0, 0.0, 1.0, 0.0, 0.0, 0.0, 1.0)\n"
     ]
    }
   ],
   "source": [
    "randomized_full_image = sitk.ReadImage(\"data/procdata/TCIA_RADCURE_window_test/images/readii_RADCURE_window_test/original_512_512_n/RADCURE-0007_0002/CT_31707248/RTSTRUCT_66751618/ROI__[GTVp]/CT_randomized_full.nii.gz\")\n",
    "print(randomized_full_image.GetSize())\n",
    "print(randomized_full_image.GetSpacing())\n",
    "print(randomized_full_image.GetOrigin())\n",
    "print(randomized_full_image.GetDirection())"
   ]
  },
  {
   "cell_type": "code",
   "execution_count": 51,
   "id": "a3490c66",
   "metadata": {},
   "outputs": [
    {
     "name": "stdout",
     "output_type": "stream",
     "text": [
      "Original\n",
      "Max: 20000\n",
      "Min: -3000\n",
      "Randomized\n",
      "Max: 20000\n",
      "Min: -3000\n"
     ]
    }
   ],
   "source": [
    "orig_full_arr = sitk.GetArrayFromImage(original_full_image)\n",
    "rand_full_arr = sitk.GetArrayFromImage(randomized_full_image)\n",
    "\n",
    "import numpy as np\n",
    "print(\"Original\")\n",
    "print(f\"Max: {np.max(orig_full_arr)}\")\n",
    "print(f\"Min: {np.min(orig_full_arr)}\")\n",
    "\n",
    "print(\"Randomized\")\n",
    "print(f\"Max: {np.max(rand_full_arr)}\")\n",
    "print(f\"Min: {np.min(rand_full_arr)}\")"
   ]
  },
  {
   "cell_type": "code",
   "execution_count": 53,
   "id": "1c06d60f",
   "metadata": {},
   "outputs": [],
   "source": [
    "rif = sitk.ResampleImageFilter()\n",
    "rif.SetOutputSpacing([1,1,1])\n",
    "rif.SetOutputDirection(original_full_image.GetDirection())\n",
    "rif.SetSize([44, 43, 73])\n",
    "\n",
    "rif.SetInterpolator(sitk.sitkBSpline)\n",
    "resampled_orig_full_image = rif.Execute(original_full_image)\n",
    "resampled_rand_full_image = rif.Execute(randomized_full_image)"
   ]
  },
  {
   "cell_type": "code",
   "execution_count": 55,
   "id": "571f717d",
   "metadata": {},
   "outputs": [
    {
     "data": {
      "text/plain": [
       "np.int16(0)"
      ]
     },
     "execution_count": 55,
     "metadata": {},
     "output_type": "execute_result"
    }
   ],
   "source": [
    "sitk.GetArrayFromImage(resampled_rand_full_image).max()"
   ]
  },
  {
   "cell_type": "code",
   "execution_count": null,
   "id": "b4b22fc0",
   "metadata": {},
   "outputs": [],
   "source": [
    "from radiomics import featureextractor, setVerbosity\n",
    "\n",
    "setVerbosity(10) # Set verbosity to DEBUG level\n",
    "\n",
    "settings = \"config/pyradiomics/pyradiomics_h4h_all_images_features.yaml\"\n",
    "\n",
    "extractor = featureextractor.RadiomicsFeatureExtractor(settings)\n",
    "\n",
    "extractor.execute(original_full_image, mask)\n",
    "\n"
   ]
  },
  {
   "cell_type": "code",
   "execution_count": null,
   "id": "96184253",
   "metadata": {},
   "outputs": [],
   "source": [
    "extractor.execute(randomized_full_image, mask)"
   ]
  },
  {
   "cell_type": "code",
   "execution_count": 25,
   "id": "a5ec6b3a",
   "metadata": {},
   "outputs": [
    {
     "data": {
      "text/plain": [
       "(181, 512, 512)"
      ]
     },
     "execution_count": 25,
     "metadata": {},
     "output_type": "execute_result"
    }
   ],
   "source": [
    "orig_full_arr.shape"
   ]
  },
  {
   "cell_type": "code",
   "execution_count": 45,
   "id": "a549cbaa",
   "metadata": {},
   "outputs": [
    {
     "data": {
      "text/plain": [
       "np.int16(-3000)"
      ]
     },
     "execution_count": 45,
     "metadata": {},
     "output_type": "execute_result"
    }
   ],
   "source": [
    "minimum = orig_full_arr.min()\n",
    "binWidth = 25\n",
    "\n",
    "lowBound = minimum - (minimum % binWidth)\n",
    "lowBound"
   ]
  },
  {
   "cell_type": "code",
   "execution_count": 46,
   "id": "efbb7c48",
   "metadata": {},
   "outputs": [
    {
     "data": {
      "text/plain": [
       "array([[121, 137, 232],\n",
       "       [121, 138, 231],\n",
       "       [121, 138, 232],\n",
       "       [122, 131, 234],\n",
       "       [122, 131, 235],\n",
       "       [122, 132, 234],\n",
       "       [122, 159, 227],\n",
       "       [122, 159, 228],\n",
       "       [122, 160, 226],\n",
       "       [122, 160, 227],\n",
       "       [122, 160, 228],\n",
       "       [122, 161, 226],\n",
       "       [122, 161, 227],\n",
       "       [122, 171, 225],\n",
       "       [122, 171, 226],\n",
       "       [123, 130, 235],\n",
       "       [123, 130, 236],\n",
       "       [123, 131, 234],\n",
       "       [123, 131, 235],\n",
       "       [123, 131, 236],\n",
       "       [123, 133, 239],\n",
       "       [123, 133, 240],\n",
       "       [123, 134, 239],\n",
       "       [123, 134, 240],\n",
       "       [123, 135, 239],\n",
       "       [123, 135, 240],\n",
       "       [123, 148, 228],\n",
       "       [123, 148, 229],\n",
       "       [123, 149, 228],\n",
       "       [123, 149, 229],\n",
       "       [123, 149, 230],\n",
       "       [123, 171, 227],\n",
       "       [123, 172, 225],\n",
       "       [123, 172, 226],\n",
       "       [123, 172, 227],\n",
       "       [123, 173, 225],\n",
       "       [123, 173, 226],\n",
       "       [123, 173, 227],\n",
       "       [123, 174, 226],\n",
       "       [123, 175, 226],\n",
       "       [124, 146, 231],\n",
       "       [124, 146, 232],\n",
       "       [124, 147, 230],\n",
       "       [124, 147, 231],\n",
       "       [124, 147, 232],\n",
       "       [124, 148, 230],\n",
       "       [124, 148, 231],\n",
       "       [124, 148, 232],\n",
       "       [124, 171, 286],\n",
       "       [124, 171, 287],\n",
       "       [124, 172, 286],\n",
       "       [124, 172, 287],\n",
       "       [124, 173, 286],\n",
       "       [124, 173, 287],\n",
       "       [125, 133, 274],\n",
       "       [125, 139, 278],\n",
       "       [125, 140, 278],\n",
       "       [125, 140, 279],\n",
       "       [125, 147, 281],\n",
       "       [125, 147, 282],\n",
       "       [125, 148, 280],\n",
       "       [125, 148, 281],\n",
       "       [125, 166, 219],\n",
       "       [126, 128, 275],\n",
       "       [126, 129, 275],\n",
       "       [126, 129, 276],\n",
       "       [126, 130, 276],\n",
       "       [126, 146, 284],\n",
       "       [126, 147, 283],\n",
       "       [126, 148, 280],\n",
       "       [126, 148, 281],\n",
       "       [126, 148, 282],\n",
       "       [126, 149, 280],\n",
       "       [126, 149, 281],\n",
       "       [126, 149, 282],\n",
       "       [126, 159, 284],\n",
       "       [126, 159, 285],\n",
       "       [126, 162, 219],\n",
       "       [126, 163, 219],\n",
       "       [126, 163, 220],\n",
       "       [126, 164, 219],\n",
       "       [126, 164, 220],\n",
       "       [126, 169, 295],\n",
       "       [126, 173, 283],\n",
       "       [126, 174, 284],\n",
       "       [127, 129, 236],\n",
       "       [127, 129, 237],\n",
       "       [127, 130, 236],\n",
       "       [127, 130, 237],\n",
       "       [127, 138, 279],\n",
       "       [127, 146, 230],\n",
       "       [127, 147, 230],\n",
       "       [127, 147, 231],\n",
       "       [127, 147, 283],\n",
       "       [127, 147, 284],\n",
       "       [127, 148, 231],\n",
       "       [127, 148, 282],\n",
       "       [127, 148, 283],\n",
       "       [127, 148, 284],\n",
       "       [127, 149, 282],\n",
       "       [127, 149, 283],\n",
       "       [127, 149, 284],\n",
       "       [127, 150, 282],\n",
       "       [127, 150, 283],\n",
       "       [127, 151, 283],\n",
       "       [127, 151, 284],\n",
       "       [127, 152, 283],\n",
       "       [127, 159, 229],\n",
       "       [127, 159, 230],\n",
       "       [127, 160, 229],\n",
       "       [127, 160, 230],\n",
       "       [128, 130, 239],\n",
       "       [128, 147, 229],\n",
       "       [128, 147, 230],\n",
       "       [128, 148, 230],\n",
       "       [128, 148, 231],\n",
       "       [128, 149, 230],\n",
       "       [128, 172, 289],\n",
       "       [128, 172, 290],\n",
       "       [128, 172, 291],\n",
       "       [129, 131, 239],\n",
       "       [129, 132, 239],\n",
       "       [129, 132, 240],\n",
       "       [129, 138, 229],\n",
       "       [129, 138, 230],\n",
       "       [129, 138, 231],\n",
       "       [129, 139, 229],\n",
       "       [129, 139, 230],\n",
       "       [129, 139, 231],\n",
       "       [129, 139, 232],\n",
       "       [129, 139, 233],\n",
       "       [129, 140, 233],\n",
       "       [129, 170, 290],\n",
       "       [129, 170, 291],\n",
       "       [129, 171, 289],\n",
       "       [129, 171, 290],\n",
       "       [129, 171, 291],\n",
       "       [129, 171, 292],\n",
       "       [129, 172, 289],\n",
       "       [129, 172, 290],\n",
       "       [129, 172, 291],\n",
       "       [129, 172, 292],\n",
       "       [130, 127, 245],\n",
       "       [130, 131, 239],\n",
       "       [130, 132, 239],\n",
       "       [130, 133, 239],\n",
       "       [130, 137, 236],\n",
       "       [130, 138, 235],\n",
       "       [130, 138, 236],\n",
       "       [130, 139, 228],\n",
       "       [130, 139, 229],\n",
       "       [130, 139, 230],\n",
       "       [130, 139, 231],\n",
       "       [131, 128, 267],\n",
       "       [131, 128, 268],\n",
       "       [131, 129, 267],\n",
       "       [131, 129, 268],\n",
       "       [131, 129, 271],\n",
       "       [131, 129, 272],\n",
       "       [131, 130, 271],\n",
       "       [131, 132, 243],\n",
       "       [131, 138, 236],\n",
       "       [131, 139, 236],\n",
       "       [132, 140, 236]])"
      ]
     },
     "execution_count": 46,
     "metadata": {},
     "output_type": "execute_result"
    }
   ],
   "source": [
    "np.argwhere(orig_full_arr == np.min(orig_full_arr))"
   ]
  },
  {
   "cell_type": "code",
   "execution_count": 47,
   "id": "afcc1626",
   "metadata": {},
   "outputs": [],
   "source": [
    "temp2 = orig_full_arr[131, :,:]"
   ]
  },
  {
   "cell_type": "code",
   "execution_count": 33,
   "id": "db0c8601",
   "metadata": {},
   "outputs": [
    {
     "data": {
      "text/plain": [
       "<Axes: >"
      ]
     },
     "execution_count": 33,
     "metadata": {},
     "output_type": "execute_result"
    },
    {
     "data": {
      "image/png": "[encoded data removed]",
      "text/plain": [
       "<Figure size 640x480 with 1 Axes>"
      ]
     },
     "metadata": {},
     "output_type": "display_data"
    }
   ],
   "source": [
    "from readii.image_processing import displayImageSlice\n",
    "\n",
    "displayImageSlice(orig_full_arr, 131, dispMin=-1000, dispMax=4000)"
   ]
  },
  {
   "cell_type": "code",
   "execution_count": 8,
   "id": "f3a0881d",
   "metadata": {},
   "outputs": [
    {
     "data": {
      "text/plain": [
       "np.int16(31978)"
      ]
     },
     "execution_count": 8,
     "metadata": {},
     "output_type": "execute_result"
    }
   ],
   "source": [
    "maximum = rand_full_arr.max()\n",
    "binWidth = 25\n",
    "\n",
    "highBound = maximum + 2 * binWidth\n",
    "highBound"
   ]
  },
  {
   "cell_type": "code",
   "execution_count": 67,
   "id": "d3fad143",
   "metadata": {},
   "outputs": [
    {
     "name": "stderr",
     "output_type": "stream",
     "text": [
      "/tmp/ipykernel_2318325/600092002.py:1: RuntimeWarning: overflow encountered in scalar subtract\n",
      "  np.arange(lowBound, highBound, binWidth)\n"
     ]
    },
    {
     "data": {
      "text/plain": [
       "array([], dtype=int64)"
      ]
     },
     "execution_count": 67,
     "metadata": {},
     "output_type": "execute_result"
    }
   ],
   "source": [
    "np.arange(lowBound, highBound, binWidth)"
   ]
  },
  {
   "cell_type": "code",
   "execution_count": 66,
   "id": "8a5a3120",
   "metadata": {},
   "outputs": [
    {
     "name": "stderr",
     "output_type": "stream",
     "text": [
      "/tmp/ipykernel_2318325/2065715453.py:6: RuntimeWarning: overflow encountered in scalar subtract\n",
      "  np.arange(old_arr.min(), old_arr.max(), 25)\n"
     ]
    },
    {
     "data": {
      "text/plain": [
       "array([], dtype=int64)"
      ]
     },
     "execution_count": 66,
     "metadata": {},
     "output_type": "execute_result"
    }
   ],
   "source": [
    "old_image = sitk.ReadImage(\"data/procdata/TCIA_RADCURE/images/h4h_mit_RADCURE_GTVp/RADCURE-0006_0001/CT_77369565/CT.nii.gz\")\n",
    "old_arr = sitk.GetArrayFromImage(old_image)\n",
    "old_arr.min()\n",
    "old_arr.max()\n",
    "\n",
    "np.arange(old_arr.min(), old_arr.max(), 25)"
   ]
  },
  {
   "cell_type": "code",
   "execution_count": 22,
   "id": "75b48401",
   "metadata": {},
   "outputs": [
    {
     "data": {
      "text/plain": [
       "array([[-2048, -2048, -2048, ..., -2048, -2048, -2048],\n",
       "       [-2048, -2048, -2048, ..., -2048, -2048, -2048],\n",
       "       [-2048, -2048, -2048, ..., -2048, -2048, -2048],\n",
       "       ...,\n",
       "       [-2048, -2048, -2048, ..., -2048, -2048, -2048],\n",
       "       [-2048, -2048, -2048, ..., -2048, -2048, -2048],\n",
       "       [-2048, -2048, -2048, ..., -2048, -2048, -2048]],\n",
       "      shape=(512, 512), dtype=int16)"
      ]
     },
     "execution_count": 22,
     "metadata": {},
     "output_type": "execute_result"
    }
   ],
   "source": [
    "orig_full_arr[76,:,:]"
   ]
  },
  {
   "cell_type": "code",
   "execution_count": 68,
   "id": "776f2a15",
   "metadata": {},
   "outputs": [
    {
     "name": "stdout",
     "output_type": "stream",
     "text": [
      "Upper gray level: 5000.0\n",
      "Lower gray level: -2000.0\n"
     ]
    }
   ],
   "source": [
    "wl = 1500\n",
    "ww = 7000\n",
    "upper_g_level = wl + (ww / 2)\n",
    "lower_g_level = wl - (ww / 2)\n",
    "\n",
    "print(f\"Upper gray level: {upper_g_level}\")\n",
    "print(f\"Lower gray level: {lower_g_level}\")"
   ]
  },
  {
   "cell_type": "code",
   "execution_count": 63,
   "id": "d3cfb6b1",
   "metadata": {},
   "outputs": [
    {
     "data": {
      "text/plain": [
       "array([-3000., -2975., -2950., -2925., -2900., -2875., -2850., -2825.,\n",
       "       -2800., -2775., -2750., -2725., -2700., -2675., -2650., -2625.,\n",
       "       -2600., -2575., -2550., -2525., -2500., -2475., -2450., -2425.,\n",
       "       -2400., -2375., -2350., -2325., -2300., -2275., -2250., -2225.,\n",
       "       -2200., -2175., -2150., -2125., -2100., -2075., -2050., -2025.,\n",
       "       -2000., -1975., -1950., -1925., -1900., -1875., -1850., -1825.,\n",
       "       -1800., -1775., -1750., -1725., -1700., -1675., -1650., -1625.,\n",
       "       -1600., -1575., -1550., -1525., -1500., -1475., -1450., -1425.,\n",
       "       -1400., -1375., -1350., -1325., -1300., -1275., -1250., -1225.,\n",
       "       -1200., -1175., -1150., -1125., -1100., -1075., -1050., -1025.,\n",
       "       -1000.,  -975.,  -950.,  -925.,  -900.,  -875.,  -850.,  -825.,\n",
       "        -800.,  -775.,  -750.,  -725.,  -700.,  -675.,  -650.,  -625.,\n",
       "        -600.,  -575.,  -550.,  -525.,  -500.,  -475.,  -450.,  -425.,\n",
       "        -400.,  -375.,  -350.,  -325.,  -300.,  -275.,  -250.,  -225.,\n",
       "        -200.,  -175.,  -150.,  -125.,  -100.,   -75.,   -50.,   -25.,\n",
       "           0.,    25.,    50.,    75.,   100.,   125.,   150.,   175.,\n",
       "         200.,   225.,   250.,   275.,   300.,   325.,   350.,   375.,\n",
       "         400.,   425.,   450.,   475.,   500.,   525.,   550.,   575.,\n",
       "         600.,   625.,   650.,   675.,   700.,   725.,   750.,   775.,\n",
       "         800.,   825.,   850.,   875.,   900.,   925.,   950.,   975.,\n",
       "        1000.,  1025.,  1050.,  1075.,  1100.,  1125.,  1150.,  1175.,\n",
       "        1200.,  1225.,  1250.,  1275.,  1300.,  1325.,  1350.,  1375.,\n",
       "        1400.,  1425.,  1450.,  1475.,  1500.,  1525.,  1550.,  1575.,\n",
       "        1600.,  1625.,  1650.,  1675.,  1700.,  1725.,  1750.,  1775.,\n",
       "        1800.,  1825.,  1850.,  1875.,  1900.,  1925.,  1950.,  1975.,\n",
       "        2000.,  2025.,  2050.,  2075.,  2100.,  2125.,  2150.,  2175.,\n",
       "        2200.,  2225.,  2250.,  2275.,  2300.,  2325.,  2350.,  2375.,\n",
       "        2400.,  2425.,  2450.,  2475.,  2500.,  2525.,  2550.,  2575.,\n",
       "        2600.,  2625.,  2650.,  2675.,  2700.,  2725.,  2750.,  2775.,\n",
       "        2800.,  2825.,  2850.,  2875.,  2900.,  2925.,  2950.,  2975.,\n",
       "        3000.,  3025.,  3050.,  3075.,  3100.,  3125.,  3150.,  3175.,\n",
       "        3200.,  3225.,  3250.,  3275.,  3300.,  3325.,  3350.,  3375.,\n",
       "        3400.,  3425.,  3450.,  3475.,  3500.,  3525.,  3550.,  3575.,\n",
       "        3600.,  3625.,  3650.,  3675.,  3700.,  3725.,  3750.,  3775.,\n",
       "        3800.,  3825.,  3850.,  3875.,  3900.,  3925.,  3950.,  3975.,\n",
       "        4000.,  4025.,  4050.,  4075.,  4100.,  4125.,  4150.,  4175.,\n",
       "        4200.,  4225.,  4250.,  4275.,  4300.,  4325.,  4350.,  4375.,\n",
       "        4400.,  4425.,  4450.,  4475.,  4500.,  4525.,  4550.,  4575.,\n",
       "        4600.,  4625.,  4650.,  4675.,  4700.,  4725.,  4750.,  4775.,\n",
       "        4800.,  4825.,  4850.,  4875.,  4900.,  4925.,  4950.,  4975.,\n",
       "        5000.,  5025.,  5050.,  5075.,  5100.,  5125.,  5150.,  5175.,\n",
       "        5200.,  5225.,  5250.,  5275.,  5300.,  5325.,  5350.,  5375.,\n",
       "        5400.,  5425.,  5450.,  5475.,  5500.,  5525.,  5550.,  5575.,\n",
       "        5600.,  5625.,  5650.,  5675.,  5700.,  5725.,  5750.,  5775.,\n",
       "        5800.,  5825.,  5850.,  5875.,  5900.,  5925.,  5950.,  5975.,\n",
       "        6000.,  6025.,  6050.,  6075.,  6100.,  6125.,  6150.,  6175.,\n",
       "        6200.,  6225.,  6250.,  6275.,  6300.,  6325.,  6350.,  6375.,\n",
       "        6400.,  6425.,  6450.,  6475.,  6500.,  6525.,  6550.,  6575.,\n",
       "        6600.,  6625.,  6650.,  6675.,  6700.,  6725.,  6750.,  6775.,\n",
       "        6800.,  6825.,  6850.,  6875.,  6900.,  6925.,  6950.,  6975.,\n",
       "        7000.,  7025.,  7050.,  7075.,  7100.,  7125.,  7150.,  7175.,\n",
       "        7200.,  7225.,  7250.,  7275.,  7300.,  7325.,  7350.,  7375.,\n",
       "        7400.,  7425.,  7450.,  7475.,  7500.,  7525.,  7550.,  7575.,\n",
       "        7600.,  7625.,  7650.,  7675.,  7700.,  7725.,  7750.,  7775.,\n",
       "        7800.,  7825.,  7850.,  7875.,  7900.,  7925.,  7950.,  7975.,\n",
       "        8000.,  8025.,  8050.,  8075.,  8100.,  8125.,  8150.,  8175.,\n",
       "        8200.,  8225.,  8250.,  8275.,  8300.,  8325.,  8350.,  8375.,\n",
       "        8400.,  8425.,  8450.,  8475.,  8500.,  8525.,  8550.,  8575.,\n",
       "        8600.,  8625.,  8650.,  8675.,  8700.,  8725.,  8750.,  8775.,\n",
       "        8800.,  8825.,  8850.,  8875.,  8900.,  8925.,  8950.,  8975.,\n",
       "        9000.,  9025.,  9050.,  9075.,  9100.,  9125.,  9150.,  9175.,\n",
       "        9200.,  9225.,  9250.,  9275.,  9300.,  9325.,  9350.,  9375.,\n",
       "        9400.,  9425.,  9450.,  9475.,  9500.,  9525.,  9550.,  9575.,\n",
       "        9600.,  9625.,  9650.,  9675.,  9700.,  9725.,  9750.,  9775.,\n",
       "        9800.,  9825.,  9850.,  9875.,  9900.,  9925.,  9950.,  9975.,\n",
       "       10000., 10025., 10050., 10075., 10100., 10125., 10150., 10175.,\n",
       "       10200., 10225., 10250., 10275., 10300., 10325., 10350., 10375.,\n",
       "       10400., 10425., 10450., 10475., 10500., 10525., 10550., 10575.,\n",
       "       10600., 10625., 10650., 10675., 10700., 10725., 10750., 10775.,\n",
       "       10800., 10825., 10850., 10875., 10900., 10925., 10950., 10975.,\n",
       "       11000., 11025., 11050., 11075., 11100., 11125., 11150., 11175.,\n",
       "       11200., 11225., 11250., 11275., 11300., 11325., 11350., 11375.,\n",
       "       11400., 11425., 11450., 11475., 11500., 11525., 11550., 11575.,\n",
       "       11600., 11625., 11650., 11675., 11700., 11725., 11750., 11775.,\n",
       "       11800., 11825., 11850., 11875., 11900., 11925., 11950., 11975.,\n",
       "       12000., 12025., 12050., 12075., 12100., 12125., 12150., 12175.,\n",
       "       12200., 12225., 12250., 12275., 12300., 12325., 12350., 12375.,\n",
       "       12400., 12425., 12450., 12475., 12500., 12525., 12550., 12575.,\n",
       "       12600., 12625., 12650., 12675., 12700., 12725., 12750., 12775.,\n",
       "       12800., 12825., 12850., 12875., 12900., 12925., 12950., 12975.,\n",
       "       13000., 13025., 13050., 13075., 13100., 13125., 13150., 13175.,\n",
       "       13200., 13225., 13250., 13275., 13300., 13325., 13350., 13375.,\n",
       "       13400., 13425., 13450., 13475., 13500., 13525., 13550., 13575.,\n",
       "       13600., 13625., 13650., 13675., 13700., 13725., 13750., 13775.,\n",
       "       13800., 13825., 13850., 13875., 13900., 13925., 13950., 13975.,\n",
       "       14000., 14025., 14050., 14075., 14100., 14125., 14150., 14175.,\n",
       "       14200., 14225., 14250., 14275., 14300., 14325., 14350., 14375.,\n",
       "       14400., 14425., 14450., 14475., 14500., 14525., 14550., 14575.,\n",
       "       14600., 14625., 14650., 14675., 14700., 14725., 14750., 14775.,\n",
       "       14800., 14825., 14850., 14875., 14900., 14925., 14950., 14975.,\n",
       "       15000., 15025., 15050., 15075., 15100., 15125., 15150., 15175.,\n",
       "       15200., 15225., 15250., 15275., 15300., 15325., 15350., 15375.,\n",
       "       15400., 15425., 15450., 15475., 15500., 15525., 15550., 15575.,\n",
       "       15600., 15625., 15650., 15675., 15700., 15725., 15750., 15775.,\n",
       "       15800., 15825., 15850., 15875., 15900., 15925., 15950., 15975.,\n",
       "       16000., 16025., 16050., 16075., 16100., 16125., 16150., 16175.,\n",
       "       16200., 16225., 16250., 16275., 16300., 16325., 16350., 16375.,\n",
       "       16400., 16425., 16450., 16475., 16500., 16525., 16550., 16575.,\n",
       "       16600., 16625., 16650., 16675., 16700., 16725., 16750., 16775.,\n",
       "       16800., 16825., 16850., 16875., 16900., 16925., 16950., 16975.,\n",
       "       17000., 17025., 17050., 17075., 17100., 17125., 17150., 17175.,\n",
       "       17200., 17225., 17250., 17275., 17300., 17325., 17350., 17375.,\n",
       "       17400., 17425., 17450., 17475., 17500., 17525., 17550., 17575.,\n",
       "       17600., 17625., 17650., 17675., 17700., 17725., 17750., 17775.,\n",
       "       17800., 17825., 17850., 17875., 17900., 17925., 17950., 17975.,\n",
       "       18000., 18025., 18050., 18075., 18100., 18125., 18150., 18175.,\n",
       "       18200., 18225., 18250., 18275., 18300., 18325., 18350., 18375.,\n",
       "       18400., 18425., 18450., 18475., 18500., 18525., 18550., 18575.,\n",
       "       18600., 18625., 18650., 18675., 18700., 18725., 18750., 18775.,\n",
       "       18800., 18825., 18850., 18875., 18900., 18925., 18950., 18975.,\n",
       "       19000., 19025., 19050., 19075., 19100., 19125., 19150., 19175.,\n",
       "       19200., 19225., 19250., 19275., 19300., 19325., 19350., 19375.,\n",
       "       19400., 19425., 19450., 19475., 19500., 19525., 19550., 19575.,\n",
       "       19600., 19625., 19650., 19675., 19700., 19725., 19750., 19775.,\n",
       "       19800., 19825., 19850., 19875., 19900., 19925., 19950., 19975.])"
      ]
     },
     "execution_count": 63,
     "metadata": {},
     "output_type": "execute_result"
    }
   ],
   "source": [
    "np.arange(lower_g_level, \n",
    "          upper_g_level, binWidth)"
   ]
  },
  {
   "cell_type": "code",
   "execution_count": 40,
   "id": "d016f1d2",
   "metadata": {},
   "outputs": [
    {
     "data": {
      "text/plain": [
       "np.float64(24984.0)"
      ]
     },
     "execution_count": 40,
     "metadata": {},
     "output_type": "execute_result"
    }
   ],
   "source": [
    "hn1_features = pd.read_csv(\"data/results/TCIA_RADCURE_window_test/features/pyradiomics/original_512_512_n/pyradiomics_h4h_all_images_features/randomized_full_features.csv\")\n",
    "hn1_features['original_firstorder_Maximum'].max()"
   ]
  },
  {
   "cell_type": "code",
   "execution_count": 41,
   "id": "5869e0a0",
   "metadata": {},
   "outputs": [
    {
     "data": {
      "text/plain": [
       "np.float64(-7717.0)"
      ]
     },
     "execution_count": 41,
     "metadata": {},
     "output_type": "execute_result"
    }
   ],
   "source": [
    "hn1_features['original_firstorder_Minimum'].min()"
   ]
  },
  {
   "cell_type": "code",
   "execution_count": null,
   "id": "12edb686",
   "metadata": {},
   "outputs": [],
   "source": []
  }
 ],
 "metadata": {
  "kernelspec": {
   "display_name": "Python 3",
   "language": "python",
   "name": "python3"
  },
  "language_info": {
   "codemirror_mode": {
    "name": "ipython",
    "version": 3
   },
   "file_extension": ".py",
   "mimetype": "text/x-python",
   "name": "python",
   "nbconvert_exporter": "python",
   "pygments_lexer": "ipython3",
   "version": "3.11.13"
  }
 },
 "nbformat": 4,
 "nbformat_minor": 5
}
