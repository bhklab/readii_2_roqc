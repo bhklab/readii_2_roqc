{
 "cells": [
  {
   "cell_type": "code",
   "execution_count": 91,
   "id": "488acd9f",
   "metadata": {},
   "outputs": [
    {
     "name": "stdout",
     "output_type": "stream",
     "text": [
      "/home/bhkuser/bhklab/katy\n"
     ]
    }
   ],
   "source": [
    "%cd .."
   ]
  },
  {
   "cell_type": "code",
   "execution_count": 2,
   "id": "f54a598c",
   "metadata": {},
   "outputs": [],
   "source": [
    "import pandas as pd\n",
    "from readii.process.subset import selectByColumnValue\n",
    "from readii.process.label import setPatientIdAsIndex\n",
    "from readii.io.loaders.general import loadFileToDataFrame\n",
    "from readii_2_roqc.utils.loaders import load_dataset_config\n",
    "from pathlib import Path\n",
    "import numpy as np\n",
    "from damply import dirs"
   ]
  },
  {
   "cell_type": "code",
   "execution_count": 65,
   "id": "6a5504a1",
   "metadata": {},
   "outputs": [],
   "source": [
    "dataset = \"RADCURE\"\n",
    "config, dataset_name, full_dataset_name = load_dataset_config(dataset)\n",
    "\n",
    "clinical_config = config[\"CLINICAL\"]\n",
    "clinical_file = clinical_config[\"FILE\"]\n",
    "\n",
    "raw_clinical_data = loadFileToDataFrame(dirs.RAWDATA / full_dataset_name / \"clinical\" / clinical_file)\n",
    "indexed_clinical_data = setPatientIdAsIndex(raw_clinical_data)"
   ]
  },
  {
   "cell_type": "markdown",
   "id": "8812905c",
   "metadata": {},
   "source": [
    "# Oropharynx subset"
   ]
  },
  {
   "cell_type": "code",
   "execution_count": 66,
   "id": "5a3d1f4a",
   "metadata": {},
   "outputs": [],
   "source": [
    "opc_clinical_data = selectByColumnValue(indexed_clinical_data, include_col_values={\"Ds Site\": [\"Oropharynx\"]})\n",
    "# opc_clinical_data.to_csv(dirs.PROCDATA / full_dataset_name / \"clinical\" / f\"{dataset}_OPC_subset.csv\", index=True, index_label='id')"
   ]
  },
  {
   "cell_type": "code",
   "execution_count": 23,
   "id": "e856e4f8",
   "metadata": {},
   "outputs": [
    {
     "data": {
      "image/png": "[encoded data removed]",
      "text/plain": [
       "<Figure size 640x480 with 1 Axes>"
      ]
     },
     "metadata": {},
     "output_type": "display_data"
    }
   ],
   "source": [
    "import matplotlib.pyplot as plt\n",
    "\n",
    "hpv_counts = opc_clinical_data['HPV'].value_counts(dropna=False)\n",
    "hpv_counts.index = hpv_counts.index.astype(str)\n",
    "\n",
    "plt.bar(hpv_counts.index, hpv_counts.values)\n",
    "title = plt.title(f\"HPV Status Counts in {dataset} Oropharynx Subset\")"
   ]
  },
  {
   "cell_type": "code",
   "execution_count": null,
   "id": "bace2bb4",
   "metadata": {},
   "outputs": [],
   "source": [
    "hpv_negative = opc_clinical_data[opc_clinical_data['HPV'] == 'Yes, Negative']\n",
    "hpv_neg_subset = hpv_negative[['Sex', 'ECOG PS', 'Smoking Status', 'T', 'N', 'M ', 'Stage', 'HPV', 'Tx Modality','Chemo', 'Status']]\n",
    "hpv_neg_demographics = hpv_neg_subset.apply(lambda x: x.value_counts(dropna=False)).T.stack()\n",
    "hpv_neg_demographics.to_csv(dirs.PROCDATA / full_dataset_name / \"clinical\" / f\"{dataset}_OPC_HPVneg_demographics.csv\", index=True, index_label='Variable')\n",
    "\n"
   ]
  },
  {
   "cell_type": "code",
   "execution_count": 79,
   "id": "c6ddd182",
   "metadata": {},
   "outputs": [],
   "source": [
    "hpv_positive = opc_clinical_data[opc_clinical_data['HPV'] == 'Yes, positive']\n",
    "hpv_pos_subset = hpv_positive[['Sex', 'ECOG PS', 'Smoking Status', 'T', 'N', 'M ', 'Stage', 'HPV', 'Tx Modality','Chemo', 'Status']]\n",
    "hpv_pos_demographics = hpv_pos_subset.apply(lambda x: x.value_counts(dropna=False)).T.stack()\n",
    "\n",
    "hpv_pos_demographics.to_csv(dirs.PROCDATA / full_dataset_name / \"clinical\" / f\"{dataset}_OPC_HPVpos_demographics.csv\", index=True, index_label='Variable')"
   ]
  },
  {
   "cell_type": "code",
   "execution_count": null,
   "id": "485e26b6",
   "metadata": {},
   "outputs": [],
   "source": [
    "hpv_positive.groupby(['Sex', 'Chemo']).apply(lambda x: x.sample(n=81, random_state=10), include_groups=False)"
   ]
  },
  {
   "cell_type": "code",
   "execution_count": 28,
   "id": "a43f44b7",
   "metadata": {},
   "outputs": [
    {
     "data": {
      "text/plain": [
       "Index(['Age', 'Sex', 'ECOG PS', 'Smoking PY', 'Smoking Status', 'Ds Site',\n",
       "       'Subsite', 'T', 'N', 'M ', 'Stage', 'Path', 'HPV', 'Tx Modality',\n",
       "       'Chemo', 'RT Start', 'Dose', 'Fx', 'Last FU', 'Status', 'Length FU',\n",
       "       'Date of Death', 'Cause of Death', 'Local', 'Date Local', 'Regional',\n",
       "       'Date Regional', 'Distant', 'Date Distant', '2nd Ca', 'Date 2nd Ca',\n",
       "       'RADCURE-challenge', 'ContrastEnhanced'],\n",
       "      dtype='object')"
      ]
     },
     "execution_count": 28,
     "metadata": {},
     "output_type": "execute_result"
    }
   ],
   "source": [
    "hpv_positive.columns"
   ]
  },
  {
   "cell_type": "markdown",
   "id": "b81e9c6b",
   "metadata": {},
   "source": [
    "# Hypopharynx Subset"
   ]
  },
  {
   "cell_type": "code",
   "execution_count": 80,
   "id": "cba44bcb",
   "metadata": {},
   "outputs": [
    {
     "data": {
      "text/plain": [
       "(162, 33)"
      ]
     },
     "execution_count": 80,
     "metadata": {},
     "output_type": "execute_result"
    }
   ],
   "source": [
    "hpc_clinical_data = selectByColumnValue(indexed_clinical_data, include_col_values={\"Ds Site\": [\"Hypopharynx\"]})\n",
    "hpc_clinical_data.to_csv(dirs.PROCDATA / full_dataset_name / \"clinical\" / f\"{dataset}_HPC_subset.csv\", index=True, index_label='id')\n",
    "hpc_clinical_data.shape"
   ]
  },
  {
   "cell_type": "code",
   "execution_count": 81,
   "id": "772a4262",
   "metadata": {},
   "outputs": [],
   "source": [
    "hpc_subset = hpc_clinical_data[['Sex', 'ECOG PS', 'Smoking Status', 'T', 'N', 'M ', 'Stage', 'HPV', 'Tx Modality','Chemo', 'Status']]\n",
    "hpc_demographics = hpc_subset.apply(lambda x: x.value_counts(dropna=False)).T.stack()\n",
    "hpc_demographics.to_csv(dirs.PROCDATA / full_dataset_name / \"clinical\" / f\"{dataset}_HPC_demographics.csv\", index=True, index_label='Variable')"
   ]
  },
  {
   "cell_type": "markdown",
   "id": "c7521957",
   "metadata": {},
   "source": [
    "# Nasopharynx Subset"
   ]
  },
  {
   "cell_type": "code",
   "execution_count": 82,
   "id": "7547bfed",
   "metadata": {},
   "outputs": [],
   "source": [
    "npc_clinical_data = selectByColumnValue(indexed_clinical_data, include_col_values={\"Ds Site\": [\"Nasopharynx\"]})\n",
    "npc_clinical_data.to_csv(dirs.PROCDATA / full_dataset_name / \"clinical\" / f\"{dataset}_NPC_subset.csv\", index=True, index_label='id')"
   ]
  },
  {
   "cell_type": "code",
   "execution_count": 83,
   "id": "7cf54f22",
   "metadata": {},
   "outputs": [],
   "source": [
    "npc_subset = npc_clinical_data[['Sex', 'ECOG PS', 'Smoking Status', 'T', 'N', 'M ', 'Stage', 'HPV', 'Tx Modality','Chemo', 'Status']]\n",
    "npc_demographics = npc_subset.apply(lambda x: x.value_counts(dropna=False)).T.stack()\n",
    "npc_demographics.to_csv(dirs.PROCDATA / full_dataset_name / \"clinical\" / f\"{dataset}_NPC_demographics.csv\", index=True, index_label='Variable')"
   ]
  },
  {
   "cell_type": "markdown",
   "id": "e8d34199",
   "metadata": {},
   "source": [
    "# Add MeshVolume as column"
   ]
  },
  {
   "cell_type": "code",
   "execution_count": 88,
   "id": "034df8c5",
   "metadata": {},
   "outputs": [],
   "source": [
    "feature_file_path = dirs.RESULTS / full_dataset_name / \"features\" / \"pyradiomics\" / \"pyradiomics_h4h_all_images_features\" / \"original_full_features.csv\"\n",
    "\n",
    "volume_data = pd.read_csv(feature_file_path, usecols=['SampleID', 'original_shape_MeshVolume'])"
   ]
  },
  {
   "cell_type": "code",
   "execution_count": null,
   "id": "1a936994",
   "metadata": {},
   "outputs": [
    {
     "data": {
      "application/vnd.microsoft.datawrangler.viewer.v0+json": {
       "columns": [
        {
         "name": "index",
         "rawType": "int64",
         "type": "integer"
        },
        {
         "name": "SampleID",
         "rawType": "object",
         "type": "string"
        }
       ],
       "ref": "a096ea6e-e2ba-414c-86b8-d9175ea39118",
       "rows": [
        [
         "0",
         "RADCURE-0005"
        ],
        [
         "1",
         "RADCURE-0006"
        ],
        [
         "2",
         "RADCURE-0007"
        ],
        [
         "3",
         "RADCURE-0010"
        ],
        [
         "4",
         "RADCURE-0011"
        ],
        [
         "5",
         "RADCURE-0014"
        ],
        [
         "6",
         "RADCURE-0016"
        ],
        [
         "7",
         "RADCURE-0017"
        ],
        [
         "8",
         "RADCURE-0018"
        ],
        [
         "9",
         "RADCURE-0019"
        ],
        [
         "10",
         "RADCURE-0020"
        ],
        [
         "11",
         "RADCURE-0021"
        ],
        [
         "12",
         "RADCURE-0022"
        ],
        [
         "13",
         "RADCURE-0025"
        ],
        [
         "14",
         "RADCURE-0027"
        ],
        [
         "15",
         "RADCURE-0028"
        ],
        [
         "16",
         "RADCURE-0029"
        ],
        [
         "17",
         "RADCURE-0030"
        ],
        [
         "18",
         "RADCURE-0031"
        ],
        [
         "19",
         "RADCURE-0032"
        ],
        [
         "20",
         "RADCURE-0035"
        ],
        [
         "21",
         "RADCURE-0036"
        ],
        [
         "22",
         "RADCURE-0037"
        ],
        [
         "23",
         "RADCURE-0038"
        ],
        [
         "24",
         "RADCURE-0039"
        ],
        [
         "25",
         "RADCURE-0040"
        ],
        [
         "26",
         "RADCURE-0042"
        ],
        [
         "27",
         "RADCURE-0043"
        ],
        [
         "28",
         "RADCURE-0044"
        ],
        [
         "29",
         "RADCURE-0045"
        ],
        [
         "30",
         "RADCURE-0047"
        ],
        [
         "31",
         "RADCURE-0049"
        ],
        [
         "32",
         "RADCURE-0050"
        ],
        [
         "33",
         "RADCURE-0051"
        ],
        [
         "34",
         "RADCURE-0053"
        ],
        [
         "35",
         "RADCURE-0054"
        ],
        [
         "36",
         "RADCURE-0057"
        ],
        [
         "37",
         "RADCURE-0058"
        ],
        [
         "38",
         "RADCURE-0059"
        ],
        [
         "39",
         "RADCURE-0060"
        ],
        [
         "40",
         "RADCURE-0061"
        ],
        [
         "41",
         "RADCURE-0062"
        ],
        [
         "42",
         "RADCURE-0063"
        ],
        [
         "43",
         "RADCURE-0064"
        ],
        [
         "44",
         "RADCURE-0065"
        ],
        [
         "45",
         "RADCURE-0067"
        ],
        [
         "46",
         "RADCURE-0070"
        ],
        [
         "47",
         "RADCURE-0071"
        ],
        [
         "48",
         "RADCURE-0072"
        ],
        [
         "49",
         "RADCURE-0073"
        ]
       ],
       "shape": {
        "columns": 1,
        "rows": 989
       }
      },
      "text/plain": [
       "0      RADCURE-0005\n",
       "1      RADCURE-0006\n",
       "2      RADCURE-0007\n",
       "3      RADCURE-0010\n",
       "4      RADCURE-0011\n",
       "           ...     \n",
       "984    RADCURE-4125\n",
       "985    RADCURE-4126\n",
       "986    RADCURE-4127\n",
       "987    RADCURE-4128\n",
       "988    RADCURE-4129\n",
       "Name: SampleID, Length: 989, dtype: object"
      ]
     },
     "execution_count": 90,
     "metadata": {},
     "output_type": "execute_result"
    }
   ],
   "source": [
    "# remove four digits at the end of SampleID to match clinical data IDs\n",
    "volume_data['SampleID'] = volume_data['SampleID'].str.replace(r'_\\d{4}$', '', regex=True)\n",
    "\n",
    "volume_data = setPatientID"
   ]
  },
  {
   "cell_type": "code",
   "execution_count": null,
   "id": "fea64c0a",
   "metadata": {},
   "outputs": [],
   "source": []
  }
 ],
 "metadata": {
  "kernelspec": {
   "display_name": "Python 3",
   "language": "python",
   "name": "python3"
  },
  "language_info": {
   "codemirror_mode": {
    "name": "ipython",
    "version": 3
   },
   "file_extension": ".py",
   "mimetype": "text/x-python",
   "name": "python",
   "nbconvert_exporter": "python",
   "pygments_lexer": "ipython3",
   "version": "3.12.8"
  }
 },
 "nbformat": 4,
 "nbformat_minor": 5
}
