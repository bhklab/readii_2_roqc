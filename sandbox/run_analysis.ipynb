{
 "cells": [
  {
   "cell_type": "markdown",
   "metadata": {},
   "source": [
    "# Analyze features for original and READII negative control CT images\n",
    "\n",
    "Image features extracted from CT images cropped to a Gross Tumour Volume (GTV) undergo correlation analysis. Results are compared across READII negative control image types."
   ]
  },
  {
   "cell_type": "markdown",
   "metadata": {},
   "source": [
    "## Imports"
   ]
  },
  {
   "cell_type": "code",
   "execution_count": 1,
   "metadata": {},
   "outputs": [
    {
     "name": "stderr",
     "output_type": "stream",
     "text": [
      "/home/bhkuser1/katy/readii_2_roqc/.pixi/envs/default/lib/python3.12/site-packages/tqdm/auto.py:21: TqdmWarning: IProgress not found. Please update jupyter and ipywidgets. See https://ipywidgets.readthedocs.io/en/stable/user_install.html\n",
      "  from .autonotebook import tqdm as notebook_tqdm\n"
     ]
    }
   ],
   "source": [
    "import numpy as np\n",
    "import pandas as pd\n",
    "from damply import dirs\n",
    "from readii.analyze.correlation import getFeatureCorrelations, getSelfCorrelations\n",
    "from readii.io.loaders import loadFeatureFilesFromImageTypes, loadImageDatasetConfig\n",
    "from readii.io.writers.correlation_writer import CorrelationWriter\n",
    "from readii.process.config import get_full_data_name\n",
    "from sklearn.cluster import AgglomerativeClustering\n",
    "\n",
    "\n",
    "# from palettable.colorbrewer.diverging import PuOr_4\n",
    "\n",
    "# import sys; sys.path.append(\"code\")\n",
    "# from analyze import prepPatientIndex, makeAllHeatmapPlots, makeAllHistogramPlots, makeAllClusterHeatmapPlots"
   ]
  },
  {
   "cell_type": "markdown",
   "metadata": {},
   "source": [
    "## Initialize dataset name and load config "
   ]
  },
  {
   "cell_type": "code",
   "execution_count": 2,
   "metadata": {},
   "outputs": [],
   "source": [
    "dataset = \"NSCLC-Radiomics_test\"\n",
    "dataset_config = loadImageDatasetConfig(\"NSCLC-Radiomics_test\", dirs.CONFIG / \"datasets\")\n",
    "\n",
    "DATASET_NAME = dataset_config['DATASET_NAME']\n",
    "full_data_name = get_full_data_name(dirs.CONFIG / \"datasets\" / dataset)\n",
    "\n",
    "readii_config = dataset_config['READII']\n",
    "\n",
    "regions = readii_config['IMAGE_TYPES']['regions']\n",
    "\n",
    "permutations = readii_config['IMAGE_TYPES']['permutations']"
   ]
  },
  {
   "cell_type": "markdown",
   "metadata": {},
   "source": [
    "## Set up data directories"
   ]
  },
  {
   "cell_type": "code",
   "execution_count": 3,
   "metadata": {},
   "outputs": [],
   "source": [
    "feature_type = dataset_config['EXTRACTION']['METHOD']\n",
    "settings_name = dataset_config['EXTRACTION']['SETTINGS']\n",
    "\n",
    "correlations_dir = dirs.PROCDATA / full_data_name / \"correlations\" / feature_type / settings_name\n",
    "\n",
    "corr_figures_path = dirs.RESULTS / full_data_name / \"correlation_figures\" / feature_type / settings_name\n",
    "\n",
    "# Set features input directory\n",
    "features_dir = dirs.RESULTS / full_data_name / settings_name\n"
   ]
  },
  {
   "cell_type": "markdown",
   "metadata": {},
   "source": [
    "## Load all extracted feature sets"
   ]
  },
  {
   "cell_type": "code",
   "execution_count": 4,
   "metadata": {},
   "outputs": [],
   "source": [
    "# Load the extracted feature data\n",
    "# This makes a dictionary of feature sets, with the image type as the keys\n",
    "extracted_feature_sets = loadFeatureFilesFromImageTypes(extracted_feature_dir=features_dir,\n",
    "                                                        image_types = ([\"original\"] + negative_control_list), \n",
    "                                                        drop_labels = False)"
   ]
  },
  {
   "cell_type": "markdown",
   "metadata": {},
   "source": [
    "# Run correlation analysis for each image type\n",
    "\n",
    "Calculate the Pearson correlation between the features of each image type and itself (self-correlation) and between the original image and each negative control (cross-correlation).\n",
    "\n",
    "Generates three figures to visualize the correlations:\n",
    "1. *Heatmap* - self-correlations only show the bottom left half since it's symmetric, cross-correlations show a full heatmap\n",
    "2. *Clustered heatmap* - original image feature correlations undergo hierarchical clustering with complete linkage, all feature sets are sorted by cluster and plotted as a heatmap. Same data as 1, just organized differently.\n",
    "3. *Histogram* - visualize the distribution of Pearson correlation values for self and cross correlations"
   ]
  },
  {
   "cell_type": "code",
   "execution_count": 6,
   "metadata": {},
   "outputs": [],
   "source": [
    "# Set up writers for correlation and plots\n",
    "corr_matrix_writer = CorrelationWriter(\n",
    "    root_directory = correlations_dir / \"matrix\",\n",
    "    filename_format = DATASET_NAME + \"_{VerticalFeatureType}_{HorizontalFeatureType}_{CorrelationType}_correlations.csv\",\n",
    "    overwrite = False,\n",
    "    create_dirs = True\n",
    ")"
   ]
  },
  {
   "cell_type": "markdown",
   "metadata": {},
   "source": [
    "Note: if the kernel crashes when running the next cell, run the heatmap and clustered heatmap steps separately by commenting out one of them at a time"
   ]
  },
  {
   "cell_type": "code",
   "execution_count": 13,
   "metadata": {},
   "outputs": [
    {
     "name": "stdout",
     "output_type": "stream",
     "text": [
      "Processing original vs shuffled_full correlations.\n",
      "Loading correlation matrix.\n",
      "Generating heatmaps for correlations.\n",
      "Plotting vertical feature correlations heatmap...\n",
      "Plotting horizontal feature correlations heatmap...\n",
      "Plotting cross feature correlations heatmap...\n",
      "Generating heatmaps for clustered correlations.\n",
      "Plotting vertical feature correlations heatmap...\n",
      "Plotting horizontal feature correlations heatmap...\n",
      "Plotting cross feature correlations heatmap...\n",
      "Generating histograms for correlations.\n",
      "Plotting vertical feature correlations histogram...\n"
     ]
    },
    {
     "name": "stderr",
     "output_type": "stream",
     "text": [
      "\u001b[2m2025-04-11T11:39:55-0400\u001b[0m [\u001b[33m\u001b[1mwarning  \u001b[0m] \u001b[1mFile ../../PublicDatasets/procdata/HeadNeck/TCIA_RADCURE/readii-fmcib/readii-fmcib_analysis/correlations/cropped_cube/histogram/original_pearson_self_correlation_histogram.png already exists. \n",
      "Set PlotWriter.overwrite to True to overwrite.\u001b[0m [\u001b[0m\u001b[1m\u001b[34mreadii\u001b[0m]\u001b[0m \u001b[36mcall\u001b[0m=\u001b[35mplot_correlation.saveCorrelationHistogram:132\u001b[0m\n"
     ]
    },
    {
     "name": "stdout",
     "output_type": "stream",
     "text": [
      "Plotting horizontal feature correlations histogram...\n"
     ]
    },
    {
     "name": "stderr",
     "output_type": "stream",
     "text": [
      "\u001b[2m2025-04-11T11:39:56-0400\u001b[0m [\u001b[33m\u001b[1mwarning  \u001b[0m] \u001b[1mFile ../../PublicDatasets/procdata/HeadNeck/TCIA_RADCURE/readii-fmcib/readii-fmcib_analysis/correlations/cropped_cube/histogram/shuffled_full_pearson_self_correlation_histogram.png already exists. \n",
      "Set PlotWriter.overwrite to True to overwrite.\u001b[0m [\u001b[0m\u001b[1m\u001b[34mreadii\u001b[0m]\u001b[0m \u001b[36mcall\u001b[0m=\u001b[35mplot_correlation.saveCorrelationHistogram:132\u001b[0m\n"
     ]
    },
    {
     "name": "stdout",
     "output_type": "stream",
     "text": [
      "Plotting cross feature correlations histogram...\n"
     ]
    },
    {
     "name": "stderr",
     "output_type": "stream",
     "text": [
      "\u001b[2m2025-04-11T11:39:57-0400\u001b[0m [\u001b[33m\u001b[1mwarning  \u001b[0m] \u001b[1mFile ../../PublicDatasets/procdata/HeadNeck/TCIA_RADCURE/readii-fmcib/readii-fmcib_analysis/correlations/cropped_cube/histogram/original_vs_shuffled_full_pearson_cross_correlation_histogram.png already exists. \n",
      "Set PlotWriter.overwrite to True to overwrite.\u001b[0m [\u001b[0m\u001b[1m\u001b[34mreadii\u001b[0m]\u001b[0m \u001b[36mcall\u001b[0m=\u001b[35mplot_correlation.saveCorrelationHistogram:132\u001b[0m\n"
     ]
    },
    {
     "name": "stdout",
     "output_type": "stream",
     "text": [
      "Processing original vs shuffled_roi correlations.\n",
      "Loading correlation matrix.\n",
      "Generating heatmaps for correlations.\n",
      "Plotting vertical feature correlations heatmap...\n"
     ]
    },
    {
     "name": "stderr",
     "output_type": "stream",
     "text": [
      "\u001b[2m2025-04-11T11:40:25-0400\u001b[0m [\u001b[33m\u001b[1mwarning  \u001b[0m] \u001b[1mFile ../../PublicDatasets/procdata/HeadNeck/TCIA_RADCURE/readii-fmcib/readii-fmcib_analysis/correlations/cropped_cube/heatmap/<matplotlib.colors.LinearSegmentedColormap object at 0x7f2368f41e20>/original_pearson_self_correlation_heatmap.png already exists. \n",
      "Set PlotWriter.overwrite to True to overwrite.\u001b[0m [\u001b[0m\u001b[1m\u001b[34mreadii\u001b[0m]\u001b[0m \u001b[36mcall\u001b[0m=\u001b[35mplot_correlation.saveCorrelationHeatmap:73\u001b[0m\n"
     ]
    },
    {
     "name": "stdout",
     "output_type": "stream",
     "text": [
      "Plotting horizontal feature correlations heatmap...\n",
      "Plotting cross feature correlations heatmap...\n",
      "Generating heatmaps for clustered correlations.\n",
      "Plotting vertical feature correlations heatmap...\n"
     ]
    },
    {
     "ename": "",
     "evalue": "",
     "output_type": "error",
     "traceback": [
      "\u001b[1;31mThe Kernel crashed while executing code in the current cell or a previous cell. \n",
      "\u001b[1;31mPlease review the code in the cell(s) to identify a possible cause of the failure. \n",
      "\u001b[1;31mClick <a href='https://aka.ms/vscodeJupyterKernelCrash'>here</a> for more info. \n",
      "\u001b[1;31mView Jupyter <a href='command:jupyter.viewOutput'>log</a> for further details."
     ]
    }
   ],
   "source": [
    "# Name of the column used to extract the patient ID for a row of features\n",
    "file_path_column = 'image_path'\n",
    "\n",
    "# Correlation method to apply\n",
    "correlation_method = \"pearson\"\n",
    "\n",
    "# Colormap to use for plots\n",
    "heatmap_cmap = PuOr_4.mpl_colormap\n",
    "\n",
    "# initialize clustering id array\n",
    "clustering = np.array([])\n",
    "\n",
    "# Whether to overwrite existing files\n",
    "overwrite = False\n",
    "\n",
    "# Get and set up the feature dataframe for the original features once\n",
    "vertical_feature_type = \"original\"\n",
    "vertical_features_df = prepPatientIndex(extracted_feature_sets[vertical_feature_type],\n",
    "                                        file_path_column,\n",
    "                                        PAT_ID_PATTERN)\n",
    "\n",
    "# Iterate over each negative control feature set and perform correlation analysis\n",
    "for horizontal_feature_type in negative_control_list:\n",
    "    print(f\"Processing {vertical_feature_type} vs {horizontal_feature_type} correlations.\")\n",
    "\n",
    "    # Generate the output path for matrix file existence check\n",
    "    corr_matrix_output_path = corr_matrix_writer.resolve_path(VerticalFeatureType=vertical_feature_type,\n",
    "                                                              HorizontalFeatureType=horizontal_feature_type,\n",
    "                                                              CorrelationType=correlation_method)\n",
    "    \n",
    "    # Get extracted features for this image type, extract set the patient ID as the dataframe index, remove image_path column\n",
    "    horizontal_features_df = prepPatientIndex(extracted_feature_sets[horizontal_feature_type], \n",
    "                                              file_path_column = file_path_column, \n",
    "                                              pat_id_pattern = PAT_ID_PATTERN)\n",
    "\n",
    "    \n",
    "    # Load existing correlation matrix if it's available\n",
    "    if corr_matrix_output_path.exists() and corr_matrix_output_path.is_file():\n",
    "        print(\"Loading correlation matrix.\")\n",
    "        feature_correlation_df = pd.read_csv(corr_matrix_output_path, index_col=0)\n",
    "    \n",
    "    # Calculate the correlation matrix if the file doesn't exist\n",
    "    else:\n",
    "        print(\"Calculating correlation matrix.\")\n",
    "        # Calculate correlations between original image features and image type features\n",
    "        feature_correlation_df = getFeatureCorrelations(vertical_features=vertical_features_df,\n",
    "                                                        horizontal_features=horizontal_features_df,\n",
    "                                                        vertical_feature_name=vertical_feature_type,\n",
    "                                                        horizontal_feature_name=horizontal_feature_type,\n",
    "                                                        method = correlation_method)\n",
    "        # save out the correlation dataframe\n",
    "        corr_matrix_writer.save(feature_correlation_df, \n",
    "                                VerticalFeatureType=vertical_feature_type,\n",
    "                                HorizontalFeatureType=horizontal_feature_type,\n",
    "                                CorrelationType=correlation_method)\n",
    "        \n",
    "    print(\"Generating heatmaps for correlations.\")\n",
    "    vert_heatmap_path, horiz_heatmap_path, cross_heatmap_path = makeAllHeatmapPlots(feature_correlation_df,\n",
    "                                                                                    vertical_feature_type,\n",
    "                                                                                    horizontal_feature_type,\n",
    "                                                                                    correlations_dir,\n",
    "                                                                                    correlation_method,\n",
    "                                                                                    heatmap_cmap,\n",
    "                                                                                    overwrite)\n",
    "    \n",
    "    print(\"Generating heatmaps for clustered correlations.\")\n",
    "    if len(clustering) == 0:\n",
    "        # Cluster the features based on the correlations from the Original image\n",
    "        original_corr = getSelfCorrelations(feature_correlation_df, vertical_feature_type)\n",
    "        clustering = AgglomerativeClustering(linkage=\"complete\", metric=\"precomputed\", n_clusters = None, distance_threshold = 0).fit_predict(original_corr)\n",
    "    \n",
    "    \n",
    "    vert_heatmap_path, horiz_heatmap_path, cross_heatmap_path = makeAllClusterHeatmapPlots(feature_correlation_df,\n",
    "                                                                                           vertical_feature_type,\n",
    "                                                                                           horizontal_feature_type,\n",
    "                                                                                           clustering,\n",
    "                                                                                           correlations_dir / \"clustered\",\n",
    "                                                                                           correlation_method,\n",
    "                                                                                           heatmap_cmap,\n",
    "                                                                                           overwrite)\n",
    "    \n",
    "    print(\"Generating histograms for correlations.\")\n",
    "    vert_histogram_path, horiz_histogram_path, cross_histogram_path = makeAllHistogramPlots(feature_correlation_df,\n",
    "                                                                                            vertical_feature_type,\n",
    "                                                                                            horizontal_feature_type,\n",
    "                                                                                            correlations_dir,\n",
    "                                                                                            correlation_method,\n",
    "                                                                                            num_bins=450,\n",
    "                                                                                            self_corr_y_max = 250000,\n",
    "                                                                                            cross_corr_y_max = 950000,\n",
    "                                                                                            overwrite=overwrite)\n",
    "    \n"
   ]
  },
  {
   "cell_type": "markdown",
   "metadata": {},
   "source": [
    "# Original Correlations Only\n",
    "Run this section if no negative controls are being run and you want to analyze just the original image features."
   ]
  },
  {
   "cell_type": "code",
   "execution_count": null,
   "metadata": {},
   "outputs": [],
   "source": [
    "from readii.analyze.plot_correlation import plotSelfCorrHeatmap, plotSelfCorrHistogram\n",
    "\n",
    "# Name of the column used to extract the patient ID for a row of features\n",
    "file_path_column = 'image_path'\n",
    "\n",
    "# Correlation method to apply\n",
    "correlation_method = \"pearson\"\n",
    "\n",
    "# Colormap to use for plots\n",
    "heatmap_cmap = \"nipy_spectral\"\n",
    "\n",
    "# Whether to overwrite existing files\n",
    "overwrite = True\n",
    "\n",
    "# Get and set up the feature dataframe for the original features once\n",
    "vertical_feature_type = \"original\"\n",
    "vertical_features_df = prepPatientIndex(extracted_feature_sets[vertical_feature_type],\n",
    "                                        file_path_column,\n",
    "                                        PAT_ID_PATTERN)\n",
    "\n",
    "# Generate the output path for matrix file existence check\n",
    "corr_matrix_output_path = corr_matrix_writer.resolve_path(VerticalFeatureType=vertical_feature_type,\n",
    "                                                          HorizontalFeatureType=vertical_feature_type,\n",
    "                                                          CorrelationType=correlation_method)\n",
    "\n",
    "# Load existing correlation matrix if it's available\n",
    "if corr_matrix_output_path.exists() and corr_matrix_output_path.is_file():\n",
    "    print(\"Loading correlation matrix.\")\n",
    "    vertical_self_corr_df = pd.read_csv(corr_matrix_output_path, index_col=0)\n",
    "\n",
    "# Calculate the correlation matrix if the file doesn't exist\n",
    "else:\n",
    "    print(\"Calculating correlation matrix.\")\n",
    "    # Calculate correlations between vertical image features \n",
    "    vertical_self_corr_df = vertical_features_df.corr(method = correlation_method)\n",
    "    # Add feature type suffix to column names and index for the plotting functions to work\n",
    "    vertical_self_corr_df = vertical_self_corr_df.add_suffix(f\"_{vertical_feature_type}\", 0)\n",
    "    vertical_self_corr_df = vertical_self_corr_df.add_suffix(f\"_{vertical_feature_type}\", 1)\n",
    "\n",
    "    # save out the correlation dataframe\n",
    "    corr_matrix_writer.save(vertical_self_corr_df, \n",
    "                            VerticalFeatureType=vertical_feature_type,\n",
    "                            HorizontalFeatureType=vertical_feature_type,\n",
    "                            CorrelationType=correlation_method)\n",
    "    \n",
    "# Make plots\n",
    "_, vert_heatmap_path = plotSelfCorrHeatmap(vertical_self_corr_df,\n",
    "                                           vertical_feature_type,\n",
    "                                           correlation_method,\n",
    "                                           heatmap_cmap,\n",
    "                                           correlations_dir,\n",
    "                                           overwrite)\n",
    "    \n",
    "_, vert_histogram_path = plotSelfCorrHistogram(vertical_self_corr_df,\n",
    "                                               vertical_feature_type,\n",
    "                                               correlation_method,\n",
    "                                               num_bins=450,\n",
    "                                               y_upper_bound = 100000,\n",
    "                                               save_dir_path=correlations_dir,\n",
    "                                               overwrite=overwrite)"
   ]
  },
  {
   "cell_type": "code",
   "execution_count": null,
   "metadata": {},
   "outputs": [],
   "source": []
  }
 ],
 "metadata": {
  "kernelspec": {
   "display_name": "default",
   "language": "python",
   "name": "python3"
  },
  "language_info": {
   "codemirror_mode": {
    "name": "ipython",
    "version": 3
   },
   "file_extension": ".py",
   "mimetype": "text/x-python",
   "name": "python",
   "nbconvert_exporter": "python",
   "pygments_lexer": "ipython3",
   "version": "3.12.10"
  }
 },
 "nbformat": 4,
 "nbformat_minor": 2
}
