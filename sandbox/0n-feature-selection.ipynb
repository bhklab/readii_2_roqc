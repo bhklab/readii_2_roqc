{
 "cells": [
  {
   "cell_type": "code",
   "execution_count": 1,
   "id": "a176e3b0",
   "metadata": {},
   "outputs": [
    {
     "name": "stdout",
     "output_type": "stream",
     "text": [
      "/home/bhkuser/bhklab/katy/readii_2_roqc\n"
     ]
    }
   ],
   "source": [
    "%cd .."
   ]
  },
  {
   "cell_type": "code",
   "execution_count": 2,
   "id": "96dabc4b",
   "metadata": {},
   "outputs": [],
   "source": [
    "from pathlib import Path\n",
    "\n",
    "import numpy as np\n",
    "import pandas as pd\n",
    "import yaml\n",
    "from damply import dirs\n",
    "from readii.io.loaders import loadFileToDataFrame, loadImageDatasetConfig\n",
    "from readii.process.label import (\n",
    "    eventOutcomeColumnSetup,\n",
    "    getPatientIdentifierLabel,\n",
    "    timeOutcomeColumnSetup,\n",
    ")\n",
    "from readii.process.split import splitDataByColumnValue\n",
    "from readii.process.subset import getPatientIntersectionDataframes\n",
    "from sklearn.linear_model import Lasso\n",
    "from sksurv.metrics import concordance_index_censored"
   ]
  },
  {
   "cell_type": "code",
   "execution_count": 3,
   "id": "61bfc1f2",
   "metadata": {},
   "outputs": [
    {
     "data": {
      "text/plain": [
       "DamplyDirs<Structure: NESTED>\n",
       "Project Root: /home/bhkuser/bhklab/katy/readii_2_roqc\n",
       "CONFIG       : ├── config\n",
       "LOGS         : ├── logs\n",
       "METADATA     : ├── metadata\n",
       "NOTEBOOKS    : ├── workflow/notebooks\n",
       "PROCDATA     : ├── data/procdata\n",
       "RAWDATA      : ├── data/rawdata\n",
       "RESULTS      : ├── data/results\n",
       "SCRIPTS      : └── workflow/scripts"
      ]
     },
     "execution_count": 3,
     "metadata": {},
     "output_type": "execute_result"
    }
   ],
   "source": [
    "dirs"
   ]
  },
  {
   "cell_type": "markdown",
   "id": "f41b9636",
   "metadata": {},
   "source": [
    "### Set up variables from config file for the dataset"
   ]
  },
  {
   "cell_type": "code",
   "execution_count": 8,
   "id": "f5763f29",
   "metadata": {},
   "outputs": [],
   "source": [
    "# Load in the configuration file\n",
    "config = loadImageDatasetConfig(\"RADCURE\", dirs.CONFIG / \"datasets\")\n",
    "\n",
    "# Initialize dataset parameters\n",
    "CLINICAL_DATA_FILE = config[\"CLINICAL\"][\"FILE\"]\n",
    "OUTCOME_VARIABLES = config[\"CLINICAL\"][\"OUTCOME_VARIABLES\"]\n",
    "\n",
    "DATASET_NAME = config[\"DATA_SOURCE\"] + \"_\" + config[\"DATASET_NAME\"]\n",
    "\n",
    "RANDOM_SEED = config['RANDOM_SEED']\n",
    "\n",
    "# train test split settings\n",
    "TRAIN_TEST_SPLIT = config[\"ANALYSIS\"][\"TRAIN_TEST_SPLIT\"]\n",
    "\n",
    "pyradiomics_settings = config[\"EXTRACTION\"][\"CONFIG\"]\n",
    "\n",
    "signature_name = \"choi_opc_hpv_2020\"\n",
    "signature_file = dirs.CONFIG / \"signatures\" / signature_name\n",
    "\n",
    "prediction_dir = dirs.RESULTS / DATASET_NAME / \"prediction\" / signature_name\n",
    "prediction_dir.mkdir(parents=True, exist_ok=True)"
   ]
  },
  {
   "cell_type": "markdown",
   "id": "e07576b4",
   "metadata": {},
   "source": [
    "# Intersect Clinical and Feature data to get patient subset for analysis"
   ]
  },
  {
   "cell_type": "markdown",
   "id": "ed410bac",
   "metadata": {},
   "source": [
    "## Clinical data loading and processing"
   ]
  },
  {
   "cell_type": "code",
   "execution_count": null,
   "id": "d47ef626",
   "metadata": {},
   "outputs": [
    {
     "ename": "KeyError",
     "evalue": "'MIT_INDEX_FILE'",
     "output_type": "error",
     "traceback": [
      "\u001b[31m---------------------------------------------------------------------------\u001b[39m",
      "\u001b[31mKeyError\u001b[39m                                  Traceback (most recent call last)",
      "\u001b[36mCell\u001b[39m\u001b[36m \u001b[39m\u001b[32mIn[8]\u001b[39m\u001b[32m, line 13\u001b[39m\n\u001b[32m     10\u001b[39m     clinical_data = split_data[\u001b[33m'\u001b[39m\u001b[33mtest\u001b[39m\u001b[33m'\u001b[39m]\n\u001b[32m     12\u001b[39m \u001b[38;5;66;03m# Load the Med-ImageTools index to use for mapping TCIA IDs to local file names\u001b[39;00m\n\u001b[32m---> \u001b[39m\u001b[32m13\u001b[39m mit_index = loadFileToDataFrame((dirs.RAWDATA / \u001b[33m\"\u001b[39m\u001b[33mimages\u001b[39m\u001b[33m\"\u001b[39m / \u001b[43mconfig\u001b[49m\u001b[43m[\u001b[49m\u001b[33;43m\"\u001b[39;49m\u001b[33;43mMIT_INDEX_FILE\u001b[39;49m\u001b[33;43m\"\u001b[39;49m\u001b[43m]\u001b[49m))\n\u001b[32m     15\u001b[39m \u001b[38;5;28;01mif\u001b[39;00m \u001b[33m'\u001b[39m\u001b[33mSampleID\u001b[39m\u001b[33m'\u001b[39m \u001b[38;5;129;01mnot\u001b[39;00m \u001b[38;5;129;01min\u001b[39;00m mit_index.columns:\n\u001b[32m     16\u001b[39m     mit_index[\u001b[33m'\u001b[39m\u001b[33mSampleID\u001b[39m\u001b[33m'\u001b[39m] = config[\u001b[33m\"\u001b[39m\u001b[33mDATASET_NAME\u001b[39m\u001b[33m\"\u001b[39m] + \u001b[33m\"\u001b[39m\u001b[33m_\u001b[39m\u001b[33m\"\u001b[39m + mit_index[\u001b[33m'\u001b[39m\u001b[33mSampleNumber\u001b[39m\u001b[33m'\u001b[39m].astype(\u001b[38;5;28mstr\u001b[39m).str.zfill(\u001b[32m3\u001b[39m)\n",
      "\u001b[31mKeyError\u001b[39m: 'MIT_INDEX_FILE'"
     ]
    }
   ],
   "source": [
    "# Load clinical data file\n",
    "raw_clinical_data = loadFileToDataFrame((dirs.PROCDATA / DATASET_NAME / \"clinical\" / \"OPC_only_RADCURE_Clinical_20250731.csv\"))\n",
    "clinical_pat_id = getPatientIdentifierLabel(raw_clinical_data)\n",
    "\n",
    "if TRAIN_TEST_SPLIT['split']:\n",
    "    split_data = splitDataByColumnValue(raw_clinical_data,\n",
    "                                        split_col_data=TRAIN_TEST_SPLIT['split_variable'],\n",
    "                                        impute_value=TRAIN_TEST_SPLIT['impute'])\n",
    "    # TODO: don't default to test string\n",
    "    clinical_data = split_data['test']\n",
    "\n",
    "# Load the extraction index to use for mapping TCIA IDs to local file names\n",
    "mit_index = loadFileToDataFrame(dirs.PROCDATA / DATASET_NAME / \"features\" / )\n",
    "\n",
    "if 'SampleID' not in mit_index.columns:\n",
    "    mit_index['SampleID'] = config[\"DATASET_NAME\"] + \"_\" + mit_index['SampleNumber'].astype(str).str.zfill(3)\n",
    "\n",
    "# SampleID is local file name\n",
    "# PatientID is TCIA ID\n",
    "id_map = mit_index['SampleID']\n",
    "id_map.index = mit_index[\"PatientID\"]\n",
    "id_map = id_map.drop_duplicates()\n",
    "\n",
    "# Map the SampleIDs to the clinical data and add as a column for intersection\n",
    "raw_clinical_data['SampleID'] = raw_clinical_data[clinical_pat_id].map(id_map)\n",
    "raw_clinical_data = raw_clinical_data.set_index('SampleID')"
   ]
  },
  {
   "cell_type": "markdown",
   "id": "b7928fbb",
   "metadata": {},
   "source": [
    "## Feature data loading and processing"
   ]
  },
  {
   "cell_type": "code",
   "execution_count": 6,
   "id": "88aa2514",
   "metadata": {},
   "outputs": [
    {
     "name": "stderr",
     "output_type": "stream",
     "text": [
      "\u001b[2m12:24:00\u001b[0m [\u001b[31m\u001b[1merror    \u001b[0m] \u001b[1mFile /Users/katyscott/Documents/BHKLab_GitHub/readii_2_roqc/data/results/pyradiomics_original_single_feature.yaml/full_original_features.csv does not exist\u001b[0m [\u001b[0m\u001b[1m\u001b[34mreadii\u001b[0m]\u001b[0m \u001b[36mcall\u001b[0m=\u001b[35mgeneral.loadFileToDataFrame:95\u001b[0m\n"
     ]
    },
    {
     "ename": "FileNotFoundError",
     "evalue": "",
     "output_type": "error",
     "traceback": [
      "\u001b[31m---------------------------------------------------------------------------\u001b[39m",
      "\u001b[31mFileNotFoundError\u001b[39m                         Traceback (most recent call last)",
      "\u001b[36mCell\u001b[39m\u001b[36m \u001b[39m\u001b[32mIn[6]\u001b[39m\u001b[32m, line 2\u001b[39m\n\u001b[32m      1\u001b[39m image_type = \u001b[33m\"\u001b[39m\u001b[33mfull_original\u001b[39m\u001b[33m\"\u001b[39m\n\u001b[32m----> \u001b[39m\u001b[32m2\u001b[39m raw_feature_data = \u001b[43mloadFileToDataFrame\u001b[49m\u001b[43m(\u001b[49m\u001b[43m(\u001b[49m\u001b[43mdirs\u001b[49m\u001b[43m.\u001b[49m\u001b[43mRESULTS\u001b[49m\u001b[43m \u001b[49m\u001b[43m/\u001b[49m\u001b[43m \u001b[49m\u001b[43mpyradiomics_settings\u001b[49m\u001b[43m \u001b[49m\u001b[43m/\u001b[49m\u001b[43m \u001b[49m\u001b[33;43mf\u001b[39;49m\u001b[33;43m\"\u001b[39;49m\u001b[38;5;132;43;01m{\u001b[39;49;00m\u001b[43mimage_type\u001b[49m\u001b[38;5;132;43;01m}\u001b[39;49;00m\u001b[33;43m_features.csv\u001b[39;49m\u001b[33;43m\"\u001b[39;49m\u001b[43m)\u001b[49m\u001b[43m)\u001b[49m\n\u001b[32m      4\u001b[39m raw_feature_data.rename(columns={\u001b[33m\"\u001b[39m\u001b[33mID\u001b[39m\u001b[33m\"\u001b[39m: \u001b[33m\"\u001b[39m\u001b[33mSampleID\u001b[39m\u001b[33m\"\u001b[39m}, inplace=\u001b[38;5;28;01mTrue\u001b[39;00m)\n\u001b[32m      5\u001b[39m \u001b[38;5;66;03m# Set the index to SampleID\u001b[39;00m\n",
      "\u001b[36mFile \u001b[39m\u001b[32m~/Documents/BHKLab_GitHub/readii_2_roqc/.pixi/envs/default/lib/python3.12/site-packages/readii/io/loaders/general.py:96\u001b[39m, in \u001b[36mloadFileToDataFrame\u001b[39m\u001b[34m(file_path)\u001b[39m\n\u001b[32m     94\u001b[39m     msg = \u001b[33mf\u001b[39m\u001b[33m\"\u001b[39m\u001b[33mFile \u001b[39m\u001b[38;5;132;01m{\u001b[39;00mfile_path\u001b[38;5;132;01m}\u001b[39;00m\u001b[33m does not exist\u001b[39m\u001b[33m\"\u001b[39m\n\u001b[32m     95\u001b[39m     logger.error(msg)\n\u001b[32m---> \u001b[39m\u001b[32m96\u001b[39m     \u001b[38;5;28;01mraise\u001b[39;00m \u001b[38;5;167;01mFileNotFoundError\u001b[39;00m()\n\u001b[32m     98\u001b[39m \u001b[38;5;66;03m# Get the file extension\u001b[39;00m\n\u001b[32m     99\u001b[39m file_extension = file_path.suffix\n",
      "\u001b[31mFileNotFoundError\u001b[39m: "
     ]
    }
   ],
   "source": [
    "image_type = \"full_original\"\n",
    "raw_feature_data = loadFileToDataFrame((dirs.RESULTS / pyradiomics_settings / f\"{image_type}_features.csv\"))\n",
    "\n",
    "raw_feature_data.rename(columns={\"ID\": \"SampleID\"}, inplace=True)\n",
    "# Set the index to SampleID\n",
    "raw_feature_data.set_index('SampleID', inplace=True)"
   ]
  },
  {
   "cell_type": "markdown",
   "id": "e250bef7",
   "metadata": {},
   "source": [
    "## Intersect clinical and feature data"
   ]
  },
  {
   "cell_type": "code",
   "execution_count": 23,
   "id": "a61f5158",
   "metadata": {},
   "outputs": [],
   "source": [
    "clinical_data, pyrad_subset = getPatientIntersectionDataframes(raw_clinical_data, raw_feature_data, need_pat_index_A=False, need_pat_index_B=False)"
   ]
  },
  {
   "cell_type": "markdown",
   "id": "0730d954",
   "metadata": {},
   "source": [
    "# Set up outcome columns in clinical data"
   ]
  },
  {
   "cell_type": "code",
   "execution_count": 24,
   "id": "9db851bd",
   "metadata": {},
   "outputs": [],
   "source": [
    "clinical_data = eventOutcomeColumnSetup(dataframe_with_outcome=clinical_data,\n",
    "                                        outcome_column_label=OUTCOME_VARIABLES[\"event_label\"],\n",
    "                                        standard_column_label=\"survival_event_binary\",\n",
    "                                        )\n",
    "clinical_data = timeOutcomeColumnSetup(dataframe_with_outcome=clinical_data,\n",
    "                                       outcome_column_label=OUTCOME_VARIABLES[\"time_label\"],\n",
    "                                       standard_column_label=\"survival_time_years\",\n",
    "                                       convert_to_years=OUTCOME_VARIABLES[\"convert_to_years\"])"
   ]
  },
  {
   "cell_type": "markdown",
   "id": "dfee0cf8",
   "metadata": {},
   "source": [
    "# Feature Selection"
   ]
  },
  {
   "cell_type": "markdown",
   "id": "15770a59",
   "metadata": {},
   "source": [
    "## Existing signature"
   ]
  },
  {
   "cell_type": "markdown",
   "id": "124fc5b6",
   "metadata": {},
   "source": [
    "### Load signature from yaml file"
   ]
  },
  {
   "cell_type": "code",
   "execution_count": null,
   "id": "38b4d8ba",
   "metadata": {},
   "outputs": [],
   "source": [
    "# Path to the yaml file in the rawdata directory\n",
    "radiomic_signature_yaml = dirs.RAWDATA.parent / \"cph_weights_radiomic_signature\" / \"aerts_original.yaml\"\n",
    "\n",
    "try:\n",
    "    with open(radiomic_signature_yaml, 'r') as f:\n",
    "        yaml_data = yaml.safe_load(f)\n",
    "        if not isinstance(yaml_data, dict):\n",
    "            raise TypeError(\"ROI match YAML must contain a dictionary\")\n",
    "        radiomic_signature = pd.Series(yaml_data['signature'])\n",
    "except Exception as e:\n",
    "    print(f\"Error loading YAML file: {e}\")\n",
    "    raise"
   ]
  },
  {
   "cell_type": "markdown",
   "id": "3298eaf3",
   "metadata": {},
   "source": [
    "### Get just features in radiomic signature"
   ]
  },
  {
   "cell_type": "code",
   "execution_count": 29,
   "id": "a303fc54",
   "metadata": {},
   "outputs": [],
   "source": [
    "signature_feature_data = pyrad_subset[radiomic_signature.index]"
   ]
  },
  {
   "cell_type": "markdown",
   "id": "0ba523fa",
   "metadata": {},
   "source": [
    "### Add outcome columns, and save out for R processing"
   ]
  },
  {
   "cell_type": "code",
   "execution_count": 11,
   "id": "077e9e14",
   "metadata": {},
   "outputs": [],
   "source": [
    "signature_plus_outcomes = pd.concat([clinical_data[['survival_event_binary', 'survival_time_years']], signature_feature_data], axis=1)\n",
    "\n",
    "\n",
    "signature_plus_outcomes.to_csv(signature_dir / f\"{image_type}.csv\", index=True)"
   ]
  },
  {
   "cell_type": "markdown",
   "id": "c33735be",
   "metadata": {},
   "source": [
    "## LASSO feature selection"
   ]
  },
  {
   "cell_type": "code",
   "execution_count": null,
   "id": "6d04a116",
   "metadata": {},
   "outputs": [],
   "source": [
    "def calc_LASSO(X_train : pd.DataFrame, \n",
    "               event_status_train : pd.DataFrame, \n",
    "               a_lasso : float\n",
    "               ) -> np.array:\n",
    "    \"\"\"\n",
    "    Performs LASSO for feature selection\n",
    "   \n",
    "    Parameters\n",
    "    -----------\n",
    "    X_train: pd.DataFrame\n",
    "        A dataframe containing only radiomic features\n",
    "    event_status_train: pd.DataFrame\n",
    "        A column containing the event status of patients\n",
    "    a_lasso: float\n",
    "        The regularization parameter alpha to be used when initializing the LASSO model\n",
    "       \n",
    "    Returns\n",
    "    ----------\n",
    "    lasso_passed: list\n",
    "        All feature names with non zero coefficients\n",
    "    \"\"\"\n",
    " \n",
    "    lasso = Lasso(a_lasso)\n",
    "    lasso.fit(X_train, event_status_train)\n",
    "    lasso_coef = np.abs(lasso.coef_)\n",
    " \n",
    "    all_rad_feats = X_train.columns.to_numpy().tolist()\n",
    "    lasso_passed = np.array(all_rad_feats)[lasso_coef>0]\n",
    " \n",
    "    return(lasso_passed)"
   ]
  },
  {
   "cell_type": "code",
   "execution_count": null,
   "id": "8f833ce8",
   "metadata": {},
   "outputs": [],
   "source": [
    "from readii.process import getOnlyPyradiomicsFeatures\n",
    "\n",
    "feats_only = getOnlyPyradiomicsFeatures(pyrad_subset)\n",
    "event_status_train = clinical_data['survival_event_binary']\n",
    "calc_LASSO(feats_only, event_status_train, 0.5)"
   ]
  },
  {
   "cell_type": "markdown",
   "id": "c0fe030e",
   "metadata": {},
   "source": [
    "# Prediction Modelling"
   ]
  },
  {
   "cell_type": "markdown",
   "id": "a9b2531d",
   "metadata": {},
   "source": [
    "## With existing signature weights"
   ]
  },
  {
   "cell_type": "code",
   "execution_count": 30,
   "id": "77a17239",
   "metadata": {},
   "outputs": [],
   "source": [
    "feature_hazards = signature_feature_data.dot(radiomic_signature)"
   ]
  },
  {
   "cell_type": "code",
   "execution_count": 31,
   "id": "de30b925",
   "metadata": {},
   "outputs": [],
   "source": [
    "cindex, concordant, discordant, _tied_risk, _tied_time = concordance_index_censored(\n",
    "    event_indicator = clinical_data['survival_event_binary'].astype(bool),\n",
    "    event_time = clinical_data['survival_time_years'],\n",
    "    estimate = feature_hazards,\n",
    "    )"
   ]
  },
  {
   "cell_type": "markdown",
   "id": "f58ad793",
   "metadata": {},
   "source": [
    "### Bootstrap to get confidence intervals"
   ]
  },
  {
   "cell_type": "code",
   "execution_count": null,
   "id": "e0d1570d",
   "metadata": {},
   "outputs": [],
   "source": [
    "sampled_cindex_bootstrap = []\n",
    "\n",
    "hazards_and_outcomes = pd.DataFrame({\n",
    "    'hazards': feature_hazards,\n",
    "    'survival_event_binary': clinical_data['survival_event_binary'],\n",
    "    'survival_time_years': clinical_data['survival_time_years']\n",
    "}, index=clinical_data.index)\n",
    "\n",
    "bootstrap_count = 1000\n",
    "\n",
    "for _idx in range(bootstrap_count):\n",
    "    sampled_results = hazards_and_outcomes.sample(n=hazards_and_outcomes.shape[0], replace=True)\n",
    "\n",
    "    sampled_cindex, _concordant, _discordant, _tied_risk, _tied_time = concordance_index_censored(\n",
    "        event_indicator = sampled_results['survival_event_binary'].astype(bool),\n",
    "        event_time = sampled_results['survival_time_years'],\n",
    "        estimate = sampled_results['hazards'],\n",
    "        )\n",
    "    \n",
    "    sampled_cindex_bootstrap.append(sampled_cindex)\n",
    "\n",
    "lower_confidence_interval = sorted(sampled_cindex_bootstrap)[bootstrap_count // 4 - 1]\n",
    "upper_confidence_interval = sorted(sampled_cindex_bootstrap)[bootstrap_count - (bootstrap_count // 4)]"
   ]
  },
  {
   "cell_type": "code",
   "execution_count": null,
   "id": "4909373f",
   "metadata": {},
   "outputs": [
    {
     "name": "stdout",
     "output_type": "stream",
     "text": [
      "Results\n",
      "C-index:  0.4914219249781913\n",
      "Lower confidence interval:  0.4663610823598994\n",
      "Upper confidence interval:  0.5148074267300905\n"
     ]
    }
   ],
   "source": [
    "# print(\"Results\")\n",
    "# print(\"C-index: \", cindex)\n",
    "# print(\"Lower confidence interval: \", lower_confidence_interval)\n",
    "# print(\"Upper confidence interval: \", upper_confidence_interval)"
   ]
  },
  {
   "cell_type": "code",
   "execution_count": null,
   "id": "a1addf79",
   "metadata": {},
   "outputs": [],
   "source": []
  }
 ],
 "metadata": {
  "kernelspec": {
   "display_name": "Python 3",
   "language": "python",
   "name": "python3"
  },
  "language_info": {
   "codemirror_mode": {
    "name": "ipython",
    "version": 3
   },
   "file_extension": ".py",
   "mimetype": "text/x-python",
   "name": "python",
   "nbconvert_exporter": "python",
   "pygments_lexer": "ipython3",
   "version": "3.13.5"
  }
 },
 "nbformat": 4,
 "nbformat_minor": 5
}
