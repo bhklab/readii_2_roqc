{
 "cells": [
  {
   "cell_type": "code",
   "execution_count": 3,
   "id": "a75329b2",
   "metadata": {},
   "outputs": [],
   "source": [
    "from pathlib import Path\n",
    "\n",
    "import pandas as pd\n",
    "import yaml"
   ]
  },
  {
   "cell_type": "code",
   "execution_count": 6,
   "id": "b7a3759c",
   "metadata": {},
   "outputs": [],
   "source": [
    "# Load in the configuration file\n",
    "config_file_path = Path(\"../config/datasets/HEAD-NECK-RADIOMICS-HN1.yaml\")\n",
    "with config_file_path.open(\"r\") as f:\n",
    "    config = yaml.safe_load(f)\n",
    "\n",
    "RESULTS_DATA_PATH = Path(\"../data/results/\")\n",
    "\n",
    "DATASET_NAME = config[\"DATA_SOURCE\"] + \"_\" + config[\"DATASET_NAME\"]\n",
    "\n",
    "RANDOM_SEED = 10\n",
    "\n",
    "# general data directory path setup\n",
    "DATA_DIR_PATH = Path(\"../data\")\n",
    "RAW_DATA_PATH = DATA_DIR_PATH / \"rawdata\" / DATASET_NAME\n",
    "PROC_DATA_PATH = DATA_DIR_PATH / \"procdata\" / DATASET_NAME\n",
    "RESULTS_DATA_PATH = DATA_DIR_PATH / \"results\" / DATASET_NAME"
   ]
  },
  {
   "cell_type": "code",
   "execution_count": 7,
   "id": "b37a677e",
   "metadata": {},
   "outputs": [],
   "source": [
    "# Get list of image types from results directory\n",
    "image_types = {str(type.name).removesuffix(\"_features.csv\") for type in sorted(RESULTS_DATA_PATH.rglob(\"**/*_features.csv\"))}\n",
    "\n",
    "# List of pyradiomic feature sets to combine\n",
    "feature_sets_to_combine = ['pyradiomics_original_all_features', 'pyradiomics_wavelet_shape_glrlm_only']\n",
    "\n",
    "# What to call the resulting combined feature set\n",
    "combined_feature_set_name = \"pyradiomics_original_plus_aerts\"\n",
    "\n",
    "for image_type in image_types:\n",
    "\n",
    "    # initalize variable for the combined dataframe\n",
    "    combined_features = None\n",
    "\n",
    "    # loop through the feature sets to combine\n",
    "    for feature_set in feature_sets_to_combine:\n",
    "        # Load the features\n",
    "        feature_set_path = RESULTS_DATA_PATH / feature_set / f\"{image_type}_features.csv\"\n",
    "        features = pd.read_csv(feature_set_path)\n",
    "\n",
    "        # if this is the first feature set, set as the combined features dataframe\n",
    "        if combined_features is None:\n",
    "            combined_features = features\n",
    "        else:\n",
    "            # Check that patient count is the same\n",
    "            if len(combined_features) != len(features):\n",
    "                raise ValueError(f\"Patient count mismatch between {combined_features} and {features}\")\n",
    "\n",
    "            additional_features = ['ID'] + list(features.columns.difference(combined_features.columns))\n",
    "            \n",
    "            # Merge the features\n",
    "            combined_features = pd.merge(combined_features, features[additional_features], how=\"inner\", on=\"ID\")\n",
    "    \n",
    "\n",
    "    # save out the combined features\n",
    "    combined_features_path = RESULTS_DATA_PATH / combined_feature_set_name / f\"{image_type}_features.csv\"\n",
    "    combined_features_path.parent.mkdir(parents=True, exist_ok=True)\n",
    "    combined_features.to_csv(combined_features_path, index=False)"
   ]
  },
  {
   "cell_type": "code",
   "execution_count": null,
   "id": "97c5d456",
   "metadata": {},
   "outputs": [],
   "source": [
    "combined_features"
   ]
  }
 ],
 "metadata": {
  "kernelspec": {
   "display_name": "default",
   "language": "python",
   "name": "python3"
  },
  "language_info": {
   "codemirror_mode": {
    "name": "ipython",
    "version": 3
   },
   "file_extension": ".py",
   "mimetype": "text/x-python",
   "name": "python",
   "nbconvert_exporter": "python",
   "pygments_lexer": "ipython3",
   "version": "3.12.10"
  }
 },
 "nbformat": 4,
 "nbformat_minor": 5
}
