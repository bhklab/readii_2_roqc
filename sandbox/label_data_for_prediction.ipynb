{
 "cells": [
  {
   "cell_type": "code",
   "execution_count": 1,
   "id": "e7f8aa74",
   "metadata": {},
   "outputs": [
    {
     "name": "stdout",
     "output_type": "stream",
     "text": [
      "/home/bhkuser/bhklab/katy/readii_2_roqc\n"
     ]
    }
   ],
   "source": [
    "%cd .."
   ]
  },
  {
   "cell_type": "code",
   "execution_count": null,
   "id": "10315f6c",
   "metadata": {},
   "outputs": [],
   "source": [
    "import pandas as pd\n",
    "\n",
    "from damply import dirs\n",
    "from pathlib import Path\n",
    "from readii_2_roqc.utils.loaders import load_dataset_config\n",
    "from readii_2_roqc.utils.analysis import prediction_data_setup"
   ]
  },
  {
   "cell_type": "code",
   "execution_count": null,
   "id": "31767c66",
   "metadata": {},
   "outputs": [],
   "source": [
    "def label_data_for_prediction(dataset:str,\n",
    "                              signature:str,\n",
    "                              split:str | None = None,\n",
    "                              standard_event_label:str | None = None,\n",
    "                              standard_time_label:str | None = None,\n",
    "                              overwrite:bool = False\n",
    "                              ) -> dict[str,pd.DataFrame]:\n",
    "    \"\"\"Set up and save out a dataframe of outcome labels and signature features for model prediction.\n",
    "    \"\"\"\n",
    "    if not standard_event_label and not standard_time_label:\n",
    "        message = \"No outcome label specifications have been set. Must set either standard_event_label or standard_time_label to proceed.\"\n",
    "        raise ValueError(message)\n",
    "\n",
    "    # Load the dataset configuration file and set up the dataset name versions\n",
    "    dataset_config, _dataset_name, full_data_name = load_dataset_config(dataset)\n",
    "\n",
    "    # Get image types from results of feature extraction\n",
    "    # two **/** in the pattern cover the feature type and image type processed\n",
    "    feature_type = dataset_config['EXTRACTION']['METHOD']\n",
    "    features = dataset_config['EXTRACTION']['CONFIG'].removesuffix('.yaml')\n",
    "    image_type_feature_file_list = sorted(Path(dirs.RESULTS / full_data_name / \"features\").rglob(pattern = f\"**/**/{features}/*_features.csv\"))\n",
    "\n",
    "    labelled_data = {}\n",
    "    outcome_name = str(standard_event_label if standard_event_label else '') + str(f'_{standard_time_label}' if standard_time_label else '')\n",
    "    for feature_file_path in image_type_feature_file_list:\n",
    "        image_type = feature_file_path.name.removesuffix('_features.csv')\n",
    "        \n",
    "        feature_data, outcome_data = prediction_data_setup(dataset_config,\n",
    "                                                           feature_file=feature_file_path,\n",
    "                                                           signature_name=signature,\n",
    "                                                           split=split,\n",
    "                                                           standard_event_label=standard_event_label,\n",
    "                                                           standard_time_label=standard_time_label)\n",
    "        \n",
    "        labels_and_features = pd.concat([outcome_data, feature_data], axis=1)\n",
    "\n",
    "        # Set up path for and save out labelled feature data\n",
    "        out_path = feature_file_path.parent.parent / \"labelled\" / f\"{signature}_{outcome_name}\" / f\"{image_type}_labelled_features.csv\"\n",
    "\n",
    "        if not out_path.exists() or overwrite:\n",
    "            out_path.parent.mkdir(parents=True, exist_ok=True)\n",
    "            labels_and_features.to_csv(out_path, index=True)\n",
    "\n",
    "        # Add this labelled data to the dictionary of image types\n",
    "        labelled_data[image_type] = labels_and_features\n",
    "    \n",
    "    return labelled_data "
   ]
  },
  {
   "cell_type": "code",
   "execution_count": null,
   "id": "b6f7da0c",
   "metadata": {},
   "outputs": [],
   "source": [
    "dataset = \"RADCURE_windowed\"\n",
    "signature = \"choi_opc_hpv_2020\"\n",
    "split = None\n",
    "\n",
    "labelled_data = label_data_for_prediction(dataset, signature, split, standard_event_label='hpv_status')"
   ]
  },
  {
   "cell_type": "code",
   "execution_count": null,
   "id": "515160ed",
   "metadata": {},
   "outputs": [],
   "source": []
  }
 ],
 "metadata": {
  "kernelspec": {
   "display_name": "Python 3",
   "language": "python",
   "name": "python3"
  },
  "language_info": {
   "codemirror_mode": {
    "name": "ipython",
    "version": 3
   },
   "file_extension": ".py",
   "mimetype": "text/x-python",
   "name": "python",
   "nbconvert_exporter": "python",
   "pygments_lexer": "ipython3",
   "version": "3.11.13"
  }
 },
 "nbformat": 4,
 "nbformat_minor": 5
}
