{
 "cells": [
  {
   "cell_type": "code",
   "execution_count": null,
   "id": "4c47cc95",
   "metadata": {},
   "outputs": [
    {
     "name": "stdout",
     "output_type": "stream",
     "text": [
      "../data/results/TCIA_RADCURE/pyradiomics_h4h_all_images_features/non_roi_shuffled_features.csv\n",
      "../data/results/TCIA_RADCURE/pyradiomics_h4h_all_images_features/roi_shuffled_features.csv\n",
      "../data/results/TCIA_RADCURE/pyradiomics_h4h_all_images_features/full_original_features.csv\n",
      "../data/results/TCIA_RADCURE/pyradiomics_h4h_all_images_features/full_sampled_features.csv\n",
      "../data/results/TCIA_RADCURE/pyradiomics_h4h_all_images_features/roi_sampled_features.csv\n",
      "../data/results/TCIA_RADCURE/pyradiomics_h4h_all_images_features/full_shuffled_features.csv\n",
      "../data/results/TCIA_RADCURE/pyradiomics_h4h_all_images_features/non_roi_sampled_features.csv\n"
     ]
    }
   ],
   "source": [
    "import pandas as pd\n",
    "from pathlib import Path\n",
    "\n",
    "\n",
    "path_to_csvs = Path(\"../data/results/TCIA_RADCURE/pyradiomics_h4h_all_images_features\")\n",
    "\n",
    "for file in path_to_csvs.rglob('*.csv'):\n",
    "    # Read the CSV file\n",
    "    df = pd.read_csv(file)\n",
    "    \n",
    "    # Rename the 'PatientID' column to 'SampleID'\n",
    "    df.rename(columns={'patient_ID': 'ID'}, inplace=True)\n",
    "    \n",
    "    # Save the modified DataFrame back to a CSV file\n",
    "    df.to_csv(file, index=False)"
   ]
  },
  {
   "cell_type": "code",
   "execution_count": null,
   "id": "1623bc8f",
   "metadata": {},
   "outputs": [],
   "source": []
  }
 ],
 "metadata": {
  "kernelspec": {
   "display_name": "default",
   "language": "python",
   "name": "python3"
  },
  "language_info": {
   "codemirror_mode": {
    "name": "ipython",
    "version": 3
   },
   "file_extension": ".py",
   "mimetype": "text/x-python",
   "name": "python",
   "nbconvert_exporter": "python",
   "pygments_lexer": "ipython3",
   "version": "3.13.3"
  }
 },
 "nbformat": 4,
 "nbformat_minor": 5
}
