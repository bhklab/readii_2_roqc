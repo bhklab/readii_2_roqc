{
 "cells": [
  {
   "cell_type": "code",
   "execution_count": 1,
   "id": "8a9f3be1",
   "metadata": {},
   "outputs": [
    {
     "name": "stdout",
     "output_type": "stream",
     "text": [
      "/Users/katyscott/Documents/BHKLab_GitHub/readii_2_roqc\n"
     ]
    }
   ],
   "source": [
    "%cd .."
   ]
  },
  {
   "cell_type": "code",
   "execution_count": 6,
   "id": "99d6110f",
   "metadata": {},
   "outputs": [],
   "source": [
    "import pandas as pd\n",
    "from damply import dirs\n",
    "from pathlib import Path\n",
    "from readii.io.loaders.general import loadFileToDataFrame"
   ]
  },
  {
   "cell_type": "code",
   "execution_count": 65,
   "id": "36ffd43a",
   "metadata": {},
   "outputs": [],
   "source": [
    "clinical_file = dirs.RAWDATA / \"TCIA_HEAD-NECK-RADIOMICS-HN1/clinical/Copy of HEAD-NECK-RADIOMICS-HN1 Clinical data updated July 2020.csv\""
   ]
  },
  {
   "cell_type": "code",
   "execution_count": 66,
   "id": "a800fefc",
   "metadata": {},
   "outputs": [],
   "source": [
    "clinical_data = loadFileToDataFrame(clinical_file)"
   ]
  },
  {
   "cell_type": "code",
   "execution_count": 67,
   "id": "53094bd9",
   "metadata": {},
   "outputs": [
    {
     "data": {
      "text/plain": [
       "137"
      ]
     },
     "execution_count": 67,
     "metadata": {},
     "output_type": "execute_result"
    }
   ],
   "source": [
    "len(clinical_data)"
   ]
  },
  {
   "cell_type": "code",
   "execution_count": 68,
   "id": "10d3b0c6",
   "metadata": {},
   "outputs": [
    {
     "data": {
      "text/plain": [
       "Index(['id', 'index_tumour_location', 'age_at_diagnosis', 'biological_sex',\n",
       "       'performance_status_ecog', 'overall_hpv_p16_status', 'clin_t', 'clin_n',\n",
       "       'clin_m', 'ajcc_stage', 'pretreat_hb_in_mmolperlitre',\n",
       "       'cancer_surgery_performed', 'chemotherapy_given',\n",
       "       'radiotherapy_total_treat_time',\n",
       "       'radiotherapy_refgydose_perfraction_highriskgtv',\n",
       "       'radiotherapy_refgydose_total_highriskgtv',\n",
       "       'radiotherapy_number_fractions_highriskgtv', 'event_overall_survival',\n",
       "       'overall_survival_in_days', 'event_recurrence_metastatic_free_survival',\n",
       "       'recurrence_metastatic_free_survival_in_days', 'event_local_recurrence',\n",
       "       'local_recurrence_in_days', 'event_locoregional_recurrence',\n",
       "       'locoregional_recurrence_in_days', 'event_distant_metastases',\n",
       "       'distant_metastases_in_days'],\n",
       "      dtype='object')"
      ]
     },
     "execution_count": 68,
     "metadata": {},
     "output_type": "execute_result"
    }
   ],
   "source": [
    "clinical_data.columns"
   ]
  },
  {
   "cell_type": "code",
   "execution_count": 70,
   "id": "caa66936",
   "metadata": {},
   "outputs": [
    {
     "data": {
      "application/vnd.microsoft.datawrangler.viewer.v0+json": {
       "columns": [
        {
         "name": "chemotherapy_given",
         "rawType": "object",
         "type": "string"
        },
        {
         "name": "count",
         "rawType": "int64",
         "type": "integer"
        }
       ],
       "ref": "9a3f271a-51bc-482d-b537-569bde172d47",
       "rows": [
        [
         "none",
         "100"
        ],
        [
         "concomitant",
         "26"
        ],
        [
         "concurrent",
         "11"
        ]
       ],
       "shape": {
        "columns": 1,
        "rows": 3
       }
      },
      "text/plain": [
       "chemotherapy_given\n",
       "none           100\n",
       "concomitant     26\n",
       "concurrent      11\n",
       "Name: count, dtype: int64"
      ]
     },
     "execution_count": 70,
     "metadata": {},
     "output_type": "execute_result"
    }
   ],
   "source": [
    "clinical_data['chemotherapy_given'].value_counts(dropna=False)"
   ]
  },
  {
   "cell_type": "code",
   "execution_count": 44,
   "id": "a5afb342",
   "metadata": {},
   "outputs": [
    {
     "data": {
      "text/plain": [
       "np.float64(91.7043)"
      ]
     },
     "execution_count": 44,
     "metadata": {},
     "output_type": "execute_result"
    }
   ],
   "source": [
    "clinical_data['age'].max()"
   ]
  },
  {
   "cell_type": "code",
   "execution_count": null,
   "id": "de667922",
   "metadata": {},
   "outputs": [],
   "source": [
    "clinical_data[(clinical_data['chemotherapy_given'])]"
   ]
  },
  {
   "cell_type": "code",
   "execution_count": null,
   "id": "a7d953ff",
   "metadata": {},
   "outputs": [],
   "source": []
  }
 ],
 "metadata": {
  "kernelspec": {
   "display_name": "Python 3",
   "language": "python",
   "name": "python3"
  },
  "language_info": {
   "codemirror_mode": {
    "name": "ipython",
    "version": 3
   },
   "file_extension": ".py",
   "mimetype": "text/x-python",
   "name": "python",
   "nbconvert_exporter": "python",
   "pygments_lexer": "ipython3",
   "version": "3.12.11"
  }
 },
 "nbformat": 4,
 "nbformat_minor": 5
}
