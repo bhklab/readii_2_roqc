{
 "cells": [
  {
   "cell_type": "code",
   "execution_count": 27,
   "id": "8a9f3be1",
   "metadata": {},
   "outputs": [
    {
     "name": "stdout",
     "output_type": "stream",
     "text": [
      "/home/bhkuser/bhklab/katy\n"
     ]
    }
   ],
   "source": [
    "%cd .."
   ]
  },
  {
   "cell_type": "code",
   "execution_count": 28,
   "id": "99d6110f",
   "metadata": {},
   "outputs": [],
   "source": [
    "import pandas as pd\n",
    "from damply import dirs\n",
    "from readii.process.subset import getPatientIntersectionDataframes\n",
    "from readii.io.loaders.general import loadFileToDataFrame\n",
    "from readii_2_roqc.utils.metadata import insert_r2r_index\n",
    "from readii_2_roqc.utils.loaders import load_dataset_config"
   ]
  },
  {
   "cell_type": "code",
   "execution_count": 30,
   "id": "36ffd43a",
   "metadata": {},
   "outputs": [
    {
     "data": {
      "text/plain": [
       "2994"
      ]
     },
     "execution_count": 30,
     "metadata": {},
     "output_type": "execute_result"
    }
   ],
   "source": [
    "dataset = 'RADCURE'\n",
    "clinical_file = dirs.PROCDATA / \"TCIA_RADCURE/clinical/RADCURE_Clinical_GTVp_20250928.csv\"\n",
    "clinical_data = loadFileToDataFrame(clinical_file)\n",
    "len(clinical_data)"
   ]
  },
  {
   "cell_type": "code",
   "execution_count": null,
   "id": "2f7e182a",
   "metadata": {},
   "outputs": [],
   "source": [
    "feature_file = dirs.RESULTS / \"TCIA_NSCLC-Radiomics/features/pyradiomics/pyradiomics_h4h_all_images_features/original_full_features.csv\"\n",
    "feature_data = loadFileToDataFrame(feature_file)\n",
    "len(feature_data)\n",
    "\n",
    "data_config, _, _ = load_dataset_config(dataset)\n",
    "clinical_data = insert_r2r_index(data_config, clinical_data)\n",
    "\n",
    "clinical_data.set_index('SampleID', inplace=True)\n",
    "feature_data.set_index('SampleID', inplace=True)\n",
    "\n",
    "clinical_subset, feature_subset = getPatientIntersectionDataframes(clinical_data, feature_data, False, False)"
   ]
  },
  {
   "cell_type": "code",
   "execution_count": 14,
   "id": "ca72cb87",
   "metadata": {},
   "outputs": [
    {
     "data": {
      "text/plain": [
       "421"
      ]
     },
     "execution_count": 14,
     "metadata": {},
     "output_type": "execute_result"
    }
   ],
   "source": [
    "len(clinical_subset)"
   ]
  },
  {
   "cell_type": "code",
   "execution_count": 31,
   "id": "b756a2ed",
   "metadata": {},
   "outputs": [
    {
     "data": {
      "text/plain": [
       "Index(['patient_id', 'Age', 'Sex', 'ECOG PS', 'Smoking PY', 'Smoking Status',\n",
       "       'Ds Site', 'Subsite', 'T', 'N', 'M ', 'Stage', 'Path', 'HPV',\n",
       "       'Tx Modality', 'Chemo', 'RT Start', 'Dose', 'Fx', 'Last FU', 'Status',\n",
       "       'Length FU', 'Date of Death', 'Cause of Death', 'Local', 'Date Local',\n",
       "       'Regional', 'Date Regional', 'Distant', 'Date Distant', '2nd Ca',\n",
       "       'Date 2nd Ca', 'RADCURE-challenge', 'ContrastEnhanced'],\n",
       "      dtype='object')"
      ]
     },
     "execution_count": 31,
     "metadata": {},
     "output_type": "execute_result"
    }
   ],
   "source": [
    "clinical_data.columns"
   ]
  },
  {
   "cell_type": "code",
   "execution_count": 25,
   "id": "ed669909",
   "metadata": {},
   "outputs": [
    {
     "name": "stderr",
     "output_type": "stream",
     "text": [
      "/tmp/ipykernel_1448914/28227427.py:5: FutureWarning: The behavior of array concatenation with empty entries is deprecated. In a future version, this will no longer exclude empty items when determining the result dtype. To retain the old behavior, exclude the empty entries before the concat operation.\n",
      "  demographic_summary = pd.concat([demographic_summary, clinical_data[col].value_counts(dropna=False)])\n"
     ]
    }
   ],
   "source": [
    "columns = ['Sex', 'Smoking Status', 'Ds Site', 'T', 'N', 'Stage', 'HPV', 'Tx Modality', 'Status']\n",
    "demographic_summary = pd.Series(dtype=object)\n",
    "\n",
    "for col in columns:\n",
    "    demographic_summary = pd.concat([demographic_summary, clinical_data[col].value_counts(dropna=False)])"
   ]
  },
  {
   "cell_type": "code",
   "execution_count": 33,
   "id": "caa66936",
   "metadata": {},
   "outputs": [
    {
     "data": {
      "application/vnd.microsoft.datawrangler.viewer.v0+json": {
       "columns": [
        {
         "name": "Status",
         "rawType": "object",
         "type": "string"
        },
        {
         "name": "count",
         "rawType": "int64",
         "type": "integer"
        }
       ],
       "ref": "abb3e872-1d48-4562-85f8-0fe138aaa876",
       "rows": [
        [
         "Alive",
         "1987"
        ],
        [
         "Dead",
         "1007"
        ]
       ],
       "shape": {
        "columns": 1,
        "rows": 2
       }
      },
      "text/plain": [
       "Status\n",
       "Alive    1987\n",
       "Dead     1007\n",
       "Name: count, dtype: int64"
      ]
     },
     "execution_count": 33,
     "metadata": {},
     "output_type": "execute_result"
    }
   ],
   "source": [
    "clinical_data['Status'].value_counts(dropna=False).sort_index()"
   ]
  },
  {
   "cell_type": "code",
   "execution_count": 34,
   "id": "a5afb342",
   "metadata": {},
   "outputs": [
    {
     "name": "stdout",
     "output_type": "stream",
     "text": [
      "Age:\n",
      "61.9 (15.6 - 90.0)\n"
     ]
    }
   ],
   "source": [
    "import numpy as np\n",
    "age_col = clinical_data['Age']\n",
    "\n",
    "print(\"Age:\")\n",
    "print(f\"{np.round(age_col.median(), 1)} ({np.round(age_col.min(), 1)} - {np.round(age_col.max(), 1)})\")"
   ]
  },
  {
   "cell_type": "code",
   "execution_count": null,
   "id": "de667922",
   "metadata": {},
   "outputs": [],
   "source": [
    "clinical_data[(clinical_data['chemotherapy_given'])]"
   ]
  },
  {
   "cell_type": "code",
   "execution_count": null,
   "id": "a7d953ff",
   "metadata": {},
   "outputs": [],
   "source": []
  }
 ],
 "metadata": {
  "kernelspec": {
   "display_name": "Python 3",
   "language": "python",
   "name": "python3"
  },
  "language_info": {
   "codemirror_mode": {
    "name": "ipython",
    "version": 3
   },
   "file_extension": ".py",
   "mimetype": "text/x-python",
   "name": "python",
   "nbconvert_exporter": "python",
   "pygments_lexer": "ipython3",
   "version": "3.12.11"
  }
 },
 "nbformat": 4,
 "nbformat_minor": 5
}
