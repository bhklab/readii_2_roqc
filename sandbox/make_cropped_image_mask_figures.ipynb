{
 "cells": [
  {
   "cell_type": "code",
   "execution_count": null,
   "id": "b3636eda",
   "metadata": {},
   "outputs": [],
   "source": [
    "%cd .."
   ]
  },
  {
   "cell_type": "code",
   "execution_count": null,
   "id": "0c0a8e5b",
   "metadata": {},
   "outputs": [],
   "source": [
    "from damply import dirs\n",
    "import SimpleITK as sitk\n",
    "from readii.image_processing import displayCTSegOverlay"
   ]
  },
  {
   "cell_type": "code",
   "execution_count": null,
   "id": "d14d4a35",
   "metadata": {},
   "outputs": [],
   "source": [
    "image_path = dirs.PROCDATA / \"TCIA_NSCLC-Radiomics/images/mit_all_GTVs_NSCLC_Radiomics/LUNG1-294_0293/CT_74742304/CT.nii.gz\"\n",
    "mask_path = dirs.PROCDATA / \"TCIA_NSCLC-Radiomics/images/mit_all_GTVs_NSCLC_Radiomics/LUNG1-294_0293/RTSTRUCT_02337966/GTV__[GTV-1].nii.gz\""
   ]
  },
  {
   "cell_type": "code",
   "execution_count": null,
   "id": "5834c579",
   "metadata": {},
   "outputs": [],
   "source": [
    "image = sitk.ReadImage(image_path)\n",
    "mask = sitk.ReadImage(mask_path)"
   ]
  },
  {
   "cell_type": "code",
   "execution_count": null,
   "id": "6af68d96",
   "metadata": {},
   "outputs": [],
   "source": [
    "displayCTSegOverlay(image, mask)"
   ]
  },
  {
   "cell_type": "code",
   "execution_count": null,
   "id": "cf3ecb0b",
   "metadata": {},
   "outputs": [],
   "source": [
    "displayCTSegOverlay(image, mask, crop=True)"
   ]
  },
  {
   "cell_type": "code",
   "execution_count": null,
   "id": "9fe9cd1d",
   "metadata": {},
   "outputs": [],
   "source": []
  },
  {
   "cell_type": "markdown",
   "id": "c2b41493",
   "metadata": {},
   "source": [
    "# 3D Visualization"
   ]
  },
  {
   "cell_type": "code",
   "execution_count": 2,
   "id": "a7dacdc4",
   "metadata": {},
   "outputs": [],
   "source": [
    "import pyvista as pv\n",
    "from pyvista import examples\n",
    "from pathlib import Path\n",
    "import numpy as np"
   ]
  },
  {
   "cell_type": "code",
   "execution_count": null,
   "id": "1fa78f55",
   "metadata": {},
   "outputs": [],
   "source": [
    "mesh = examples.download_knee_full()\n",
    "\n",
    "pl = pv.Plotter()\n",
    "pl.add_volume(mesh, cmap=\"bone\", opacity=\"sigmoid\", show_scalar_bar=False)\n",
    "pl.enable_depth_peeling()\n",
    "pl.show()"
   ]
  },
  {
   "cell_type": "code",
   "execution_count": null,
   "id": "5a642856",
   "metadata": {},
   "outputs": [],
   "source": [
    "filename = Path('../data/procdata/TCIA_NSCLC-Radiomics/images/mit_all_GTVs_NSCLC_Radiomics/LUNG1-294_0293/RTSTRUCT_02337966/GTV__[GTV-1].nii.gz')\n",
    "reader = pv.get_reader(filename)\n",
    "mask = reader.read()\n",
    "\n",
    "clim = [1]\n",
    "pl = pv.Plotter()\n",
    "pl.add_volume(mask, cmap='cool', opacity=\"sigmoid\", show_scalar_bar=False)\n",
    "pl.enable_depth_peeling()\n",
    "pl.show()\n"
   ]
  },
  {
   "cell_type": "markdown",
   "id": "c62de124",
   "metadata": {},
   "source": [
    "## Example heart segmentation from PyVista\n",
    "\n",
    "https://docs.pyvista.org/examples/02-plot/volume_rendering.html#volume-with-segmentation-mask"
   ]
  },
  {
   "cell_type": "code",
   "execution_count": null,
   "id": "4f968f0d",
   "metadata": {},
   "outputs": [],
   "source": [
    "dataset = examples.download_whole_body_ct_female()\n",
    "ct_image = dataset['ct']\n",
    "heart_mask = dataset['segmentations']['heart']"
   ]
  },
  {
   "cell_type": "code",
   "execution_count": null,
   "id": "57bb2747",
   "metadata": {},
   "outputs": [],
   "source": [
    "heart_array = np.full_like(ct_image.active_scalars, -1000)\n",
    "\n",
    "ct_image_array = ct_image.active_scalars\n",
    "heart_mask_array = heart_mask.active_scalars\n",
    "\n",
    "heart_array[heart_mask_array == True] = ct_image_array[heart_mask_array == True]\n",
    "\n",
    "ct_image['heart'] = heart_array"
   ]
  },
  {
   "cell_type": "code",
   "execution_count": null,
   "id": "0edfede4",
   "metadata": {},
   "outputs": [],
   "source": [
    "pl = pv.Plotter()\n",
    "\n",
    "# Add the CT image.\n",
    "pl.add_volume(\n",
    "    ct_image,\n",
    "    scalars='NIFTI',\n",
    "    cmap='bone',\n",
    "    opacity='sigmoid_15',\n",
    "    show_scalar_bar=False,\n",
    ")\n",
    "\n",
    "# Add masked CT image of the heart and use a contrasting color map.\n",
    "_ = pl.add_volume(\n",
    "    ct_image,\n",
    "    scalars='heart',\n",
    "    cmap='gist_heat',\n",
    "    opacity='linear',\n",
    "    opacity_unit_distance=np.mean(ct_image.spacing),\n",
    ")\n",
    "\n",
    "# Orient the camera to provide a latero-anterior view.\n",
    "pl.view_yz()\n",
    "pl.camera.azimuth = 70\n",
    "pl.camera.up = (0, 0, 1)\n",
    "pl.camera.zoom(1.5)\n",
    "pl.show()"
   ]
  },
  {
   "cell_type": "markdown",
   "id": "9d407e02",
   "metadata": {},
   "source": [
    "## Example Visualize Anatomical Groups"
   ]
  },
  {
   "cell_type": "code",
   "execution_count": null,
   "id": "79e34eb0",
   "metadata": {},
   "outputs": [],
   "source": [
    "from __future__ import annotations\n",
    "\n",
    "import pyvista as pv\n",
    "from pyvista import examples"
   ]
  },
  {
   "cell_type": "code",
   "execution_count": null,
   "id": "6ccdcb5e",
   "metadata": {},
   "outputs": [],
   "source": [
    "dataset = examples.download_whole_body_ct_female()\n",
    "\n",
    "label_map = dataset['label_map']\n",
    "\n",
    "# Get a list of all label names. This list will be filtered by group.\n",
    "label_names = dataset['segmentations'].keys()\n",
    "\n",
    "# Get color and id mappings included with the dataset. These are used to filter and\n",
    "# color the contours.\n",
    "names_to_colors = dataset.user_dict['names_to_colors']\n",
    "names_to_ids = dataset.user_dict['names_to_ids']\n",
    "ids_to_colors = dataset.user_dict['ids_to_colors']"
   ]
  },
  {
   "cell_type": "code",
   "execution_count": null,
   "id": "762034fc",
   "metadata": {},
   "outputs": [],
   "source": [
    "def filter_labels(label_names: list[str], search_terms: list[str]):\n",
    "    def include_label(label_name: str):\n",
    "        return any(target in label_name for target in search_terms)\n",
    "\n",
    "    return [label for label in label_names if include_label(label)]\n",
    "\n",
    "\n",
    "def plot_anatomy(search_terms: list[str]):\n",
    "    # Get a list of labels which contain any of the listed terms.\n",
    "    group_names = filter_labels(label_names, search_terms)\n",
    "\n",
    "    # Get the label ids corresponding to the matched labels.\n",
    "    group_ids = [names_to_ids[name] for name in group_names]\n",
    "\n",
    "    # Selectively generate surfaces for the specified labels\n",
    "    group_surface = dataset['label_map'].contour_labels(select_inputs=group_ids)\n",
    "    print(group_surface)\n",
    "\n",
    "    # Color the labels with the color mapping\n",
    "    colored_surface = group_surface.color_labels(colors=ids_to_colors)\n",
    "    print(colored_surface)\n",
    "\n",
    "    # # Plot the label map.\n",
    "    # pl = pv.Plotter()\n",
    "    # pl.add_mesh(colored_surface)\n",
    "    # pl.view_zx()\n",
    "    # pl.camera.up = (0, 0, 1)\n",
    "    # pl.show()"
   ]
  },
  {
   "cell_type": "code",
   "execution_count": null,
   "id": "3ccbae98",
   "metadata": {},
   "outputs": [],
   "source": [
    "# Define terms which describe all relevant segments.\n",
    "cardio = [\n",
    "    'heart',\n",
    "    # 'aorta',\n",
    "    # 'artery',\n",
    "    # 'brachiocephalic_trunk',\n",
    "    # 'vein',\n",
    "    # 'atrial_appendage',\n",
    "    # 'vena_cava',\n",
    "]\n",
    "\n",
    "# Plot the labels associated with these terms.\n",
    "plot_anatomy(cardio)"
   ]
  },
  {
   "cell_type": "markdown",
   "id": "7255bb68",
   "metadata": {},
   "source": [
    "## NSCLC-Radiomics sample"
   ]
  },
  {
   "cell_type": "code",
   "execution_count": 10,
   "id": "15f8536f",
   "metadata": {},
   "outputs": [],
   "source": [
    "image_path = Path(\"../data/procdata/TCIA_NSCLC-Radiomics/images/mit_all_GTVs_NSCLC_Radiomics/LUNG1-294_0293/CT_74742304/CT.nii.gz\")\n",
    "\n",
    "mask_paths = [path for path in Path('../data/procdata/TCIA_NSCLC-Radiomics/images/mit_all_GTVs_NSCLC_Radiomics/LUNG1-294_0293').rglob('GTV__*.nii.gz')]"
   ]
  },
  {
   "cell_type": "code",
   "execution_count": 13,
   "id": "4e5159af",
   "metadata": {},
   "outputs": [],
   "source": [
    "image = pv.read(image_path)\n",
    "# remove bottom layer of image with table\n",
    "image = image.crop(margin=(0,125,0))\n",
    "image_array = image.active_scalars\n",
    "\n",
    "masks = {str(mask_path.name).removesuffix('.nii.gz'): pv.read(mask_path).crop(margin=(0,125,0)) for mask_path in mask_paths}"
   ]
  },
  {
   "cell_type": "code",
   "execution_count": 14,
   "id": "007e8b1b",
   "metadata": {},
   "outputs": [],
   "source": [
    "for gtv_name, gtv_mask in masks.items():\n",
    "    gtv_array = np.full_like(image_array, 0)\n",
    "\n",
    "    gtv_mask_array = gtv_mask.active_scalars\n",
    "\n",
    "    gtv_array[gtv_mask_array == True] = 1\n",
    "\n",
    "    image[gtv_name] = gtv_array\n",
    "\n",
    "    _ = pl.add_volume(\n",
    "        image,\n",
    "        scalars = gtv_name,\n",
    "        cmap='gist_heat',\n",
    "        opacity='linear',\n",
    "        opacity_unit_distance=np.mean(image.spacing)\n",
    "    )\n"
   ]
  },
  {
   "cell_type": "code",
   "execution_count": 15,
   "id": "42973323",
   "metadata": {},
   "outputs": [
    {
     "data": {
      "text/html": [
       "<table style='width: 100%;'><tr><th>Header</th><th>Data Arrays</th></tr><tr><td>\n",
       "<table style='width: 100%;'>\n",
       "<tr><th>ImageData</th><th>Information</th></tr>\n",
       "<tr><td>N Cells</td><td>11870019</td></tr>\n",
       "<tr><td>N Points</td><td>12072960</td></tr>\n",
       "<tr><td>X Bounds</td><td>0.000e+00, 4.990e+02</td></tr>\n",
       "<tr><td>Y Bounds</td><td>1.221e+02, 3.770e+02</td></tr>\n",
       "<tr><td>Z Bounds</td><td>0.000e+00, 2.670e+02</td></tr>\n",
       "<tr><td>Dimensions</td><td>512, 262, 90</td></tr>\n",
       "<tr><td>Spacing</td><td>9.766e-01, 9.766e-01, 3.000e+00</td></tr>\n",
       "<tr><td>N Arrays</td><td>6</td></tr>\n",
       "</table>\n",
       "\n",
       "</td><td>\n",
       "<table style='width: 100%;'>\n",
       "<tr><th>Name</th><th>Field</th><th>Type</th><th>N Comp</th><th>Min</th><th>Max</th></tr>\n",
       "<tr><td><b>NIFTI</b></td><td>Points</td><td>int32</td><td>1</td><td>-1.024e+03</td><td>3.069e+03</td></tr>\n",
       "<tr><td>GTV__[GTV-1]</td><td>Points</td><td>int32</td><td>1</td><td>0.000e+00</td><td>1.000e+00</td></tr>\n",
       "<tr><td>GTV__[gtv-2]</td><td>Points</td><td>int32</td><td>1</td><td>0.000e+00</td><td>1.000e+00</td></tr>\n",
       "<tr><td>GTV__[gtv-6]</td><td>Points</td><td>int32</td><td>1</td><td>0.000e+00</td><td>1.000e+00</td></tr>\n",
       "<tr><td>GTV__[gtv-7]</td><td>Points</td><td>int32</td><td>1</td><td>0.000e+00</td><td>1.000e+00</td></tr>\n",
       "<tr><td>GTV__[gtv-5]</td><td>Points</td><td>int32</td><td>1</td><td>0.000e+00</td><td>1.000e+00</td></tr>\n",
       "</table>\n",
       "\n",
       "</td></tr> </table>"
      ],
      "text/plain": [
       "ImageData (0x30efb9060)\n",
       "  N Cells:      11870019\n",
       "  N Points:     12072960\n",
       "  X Bounds:     0.000e+00, 4.990e+02\n",
       "  Y Bounds:     1.221e+02, 3.770e+02\n",
       "  Z Bounds:     0.000e+00, 2.670e+02\n",
       "  Dimensions:   512, 262, 90\n",
       "  Spacing:      9.766e-01, 9.766e-01, 3.000e+00\n",
       "  N Arrays:     6"
      ]
     },
     "execution_count": 15,
     "metadata": {},
     "output_type": "execute_result"
    }
   ],
   "source": [
    "image"
   ]
  },
  {
   "cell_type": "code",
   "execution_count": null,
   "id": "2fd60d82",
   "metadata": {},
   "outputs": [
    {
     "data": {
      "application/vnd.jupyter.widget-view+json": {
       "model_id": "c98fe1b924a24acfba35e04d7e5ab1a3",
       "version_major": 2,
       "version_minor": 0
      },
      "text/plain": [
       "Widget(value='<iframe src=\"http://localhost:50491/index.html?ui=P_0x4b69f1b80_23&reconnect=auto\" class=\"pyvist…"
      ]
     },
     "metadata": {},
     "output_type": "display_data"
    }
   ],
   "source": [
    "pl = pv.Plotter()\n",
    "pl.enable_depth_peeling(10)\n",
    "\n",
    "# Add the base image\n",
    "pl.add_volume(\n",
    "    image,\n",
    "    scalars='NIFTI',\n",
    "    cmap='gray',\n",
    "    opacity='sigmoid_9',\n",
    "    show_scalar_bar=False,  \n",
    ")\n",
    "\n",
    "_ = pl.add_volume(\n",
    "        image,\n",
    "        scalars = \"GTV__[GTV-1]\",\n",
    "        cmap=['white', 'cyan'],\n",
    "        opacity='linear',\n",
    "        opacity_unit_distance=np.mean(image.spacing),\n",
    "        show_scalar_bar=False,\n",
    "        shade = True\n",
    "    )\n",
    "\n",
    "_ = pl.add_volume(\n",
    "        image,\n",
    "        scalars = \"GTV__[gtv-2]\",\n",
    "        cmap=['white', 'magenta'],\n",
    "        opacity='linear',\n",
    "        # opacity_unit_distance=np.mean(image.spacing),\n",
    "        show_scalar_bar=False,\n",
    "        shade = True\n",
    "    )\n",
    "\n",
    "_ = pl.add_volume(\n",
    "        image,\n",
    "        scalars = \"GTV__[gtv-5]\",\n",
    "        cmap=['white', 'red'],\n",
    "        opacity='linear',\n",
    "        opacity_unit_distance=np.mean(image.spacing),\n",
    "        show_scalar_bar=False,\n",
    "        shade = True\n",
    "    )\n",
    "\n",
    "_ = pl.add_volume(\n",
    "        image,\n",
    "        scalars = \"GTV__[gtv-6]\",\n",
    "        cmap=['white', 'lime'],\n",
    "        opacity='linear',\n",
    "        opacity_unit_distance=np.mean(image.spacing),\n",
    "        show_scalar_bar=False,\n",
    "        shade = True\n",
    "    )\n",
    "\n",
    "_ = pl.add_volume(\n",
    "        image,\n",
    "        scalars = \"GTV__[gtv-7]\",\n",
    "        cmap=['white', 'yellow'],\n",
    "        opacity='linear',\n",
    "        opacity_unit_distance=np.mean(image.spacing),\n",
    "        show_scalar_bar=False,\n",
    "        shade = True\n",
    "    )\n",
    "\n",
    "\n",
    "pl.view_xz()\n",
    "\n",
    "pl.camera.zoom(1.5)\n",
    "# pl.camera.position = (0, 0, 0)\n",
    "pl.camera.azimuth = 0\n",
    "pl.show()\n"
   ]
  },
  {
   "cell_type": "markdown",
   "id": "ef8b29a7",
   "metadata": {},
   "source": [
    "## GIF creation"
   ]
  },
  {
   "cell_type": "code",
   "execution_count": 73,
   "id": "f42c52d1",
   "metadata": {},
   "outputs": [
    {
     "name": "stderr",
     "output_type": "stream",
     "text": [
      "Context leak detected, msgtracer returned -1\n"
     ]
    }
   ],
   "source": [
    "pl = pv.Plotter(notebook=False, off_screen=True)\n",
    "pl.enable_depth_peeling(10)\n",
    "\n",
    "# Add the base image\n",
    "pl.add_volume(\n",
    "    image,\n",
    "    scalars='NIFTI',\n",
    "    cmap='gray',\n",
    "    opacity='sigmoid_9',\n",
    "    show_scalar_bar=False,  \n",
    ")\n",
    "\n",
    "_ = pl.add_volume(\n",
    "        image,\n",
    "        scalars = \"GTV__[GTV-1]\",\n",
    "        cmap=['white', 'cyan'],\n",
    "        opacity='linear',\n",
    "        opacity_unit_distance=np.mean(image.spacing),\n",
    "        show_scalar_bar=False,\n",
    "        shade = True\n",
    "    )\n",
    "\n",
    "_ = pl.add_volume(\n",
    "        image,\n",
    "        scalars = \"GTV__[gtv-2]\",\n",
    "        cmap=['white', 'magenta'],\n",
    "        opacity='linear',\n",
    "        # opacity_unit_distance=np.mean(image.spacing),\n",
    "        show_scalar_bar=False,\n",
    "        shade = True\n",
    "    )\n",
    "\n",
    "_ = pl.add_volume(\n",
    "        image,\n",
    "        scalars = \"GTV__[gtv-5]\",\n",
    "        cmap=['white', 'red'],\n",
    "        opacity='linear',\n",
    "        opacity_unit_distance=np.mean(image.spacing),\n",
    "        show_scalar_bar=False,\n",
    "        shade = True\n",
    "    )\n",
    "\n",
    "_ = pl.add_volume(\n",
    "        image,\n",
    "        scalars = \"GTV__[gtv-6]\",\n",
    "        cmap=['white', 'lime'],\n",
    "        opacity='linear',\n",
    "        opacity_unit_distance=np.mean(image.spacing),\n",
    "        show_scalar_bar=False,\n",
    "        shade = True\n",
    "    )\n",
    "\n",
    "_ = pl.add_volume(\n",
    "        image,\n",
    "        scalars = \"GTV__[gtv-7]\",\n",
    "        cmap=['white', 'yellow'],\n",
    "        opacity='linear',\n",
    "        opacity_unit_distance=np.mean(image.spacing),\n",
    "        show_scalar_bar=False,\n",
    "        shade = True\n",
    "    )\n",
    "pl.view_xz()\n",
    "pl.camera.zoom(1.5)\n",
    "\n",
    "pl.open_gif('../data/results/TCIA_NSCLC-Radiomics/visualization/volumes/LUNG1-294_shaded_gtv.gif')\n",
    "\n",
    "nframe = 36\n",
    "for phase in np.linspace(0, 360, nframe):\n",
    "    pl.camera.azimuth = phase\n",
    "    pl.write_frame()\n",
    "\n",
    "pl.close()"
   ]
  },
  {
   "cell_type": "code",
   "execution_count": null,
   "id": "30bf09e6",
   "metadata": {},
   "outputs": [],
   "source": []
  }
 ],
 "metadata": {
  "kernelspec": {
   "display_name": "Python 3",
   "language": "python",
   "name": "python3"
  },
  "language_info": {
   "codemirror_mode": {
    "name": "ipython",
    "version": 3
   },
   "file_extension": ".py",
   "mimetype": "text/x-python",
   "name": "python",
   "nbconvert_exporter": "python",
   "pygments_lexer": "ipython3",
   "version": "3.12.11"
  }
 },
 "nbformat": 4,
 "nbformat_minor": 5
}
