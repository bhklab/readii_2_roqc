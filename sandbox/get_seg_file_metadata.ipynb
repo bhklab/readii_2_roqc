{
 "cells": [
  {
   "cell_type": "code",
   "execution_count": 13,
   "id": "0693f6d1",
   "metadata": {},
   "outputs": [],
   "source": [
    "from imgtools.coretypes.masktypes import RTStructureSet\n",
    "from pathlib import Path\n",
    "import csv"
   ]
  },
  {
   "cell_type": "code",
   "execution_count": 21,
   "id": "fec57a06",
   "metadata": {},
   "outputs": [],
   "source": [
    "dataset = \"CPTAC-PDA\"\n",
    "data_dir = Path(f\"/home/bhkuser/bhklab/radiomics/PublicDatasets/srcdata/Abdomen/TCIA_{dataset}\")\n",
    "\n",
    "image_dir = data_dir / \"images\" / 'RTSTRUCT'\n",
    "image_ids_file_path = data_dir / \"metadata\" / \"image_series_ids.csv\""
   ]
  },
  {
   "cell_type": "code",
   "execution_count": 22,
   "id": "53352f36",
   "metadata": {},
   "outputs": [],
   "source": [
    "image_ids = []\n",
    "\n",
    "for filepath in image_dir.glob(\"**/RTSTRUCT/**/*.dcm\"):\n",
    "    mask = RTStructureSet.from_dicom(dicom=filepath)\n",
    "    ref_image_series_id = mask.metadata['ReferencedSeriesUID']\n",
    "    image_ids.append(ref_image_series_id)\n",
    "\n",
    "# remove duplicate values\n",
    "image_ids = list(set(image_ids))"
   ]
  },
  {
   "cell_type": "code",
   "execution_count": 25,
   "id": "6dff1443",
   "metadata": {},
   "outputs": [],
   "source": [
    "with open(image_ids_file_path, mode='w') as csvfile:\n",
    "    writer = csv.writer(csvfile)\n",
    "    writer.writerows([[image_id] for image_id in image_ids])"
   ]
  },
  {
   "cell_type": "code",
   "execution_count": null,
   "id": "7785f0fa",
   "metadata": {},
   "outputs": [],
   "source": []
  }
 ],
 "metadata": {
  "kernelspec": {
   "display_name": "default",
   "language": "python",
   "name": "python3"
  },
  "language_info": {
   "codemirror_mode": {
    "name": "ipython",
    "version": 3
   },
   "file_extension": ".py",
   "mimetype": "text/x-python",
   "name": "python",
   "nbconvert_exporter": "python",
   "pygments_lexer": "ipython3",
   "version": "3.12.10"
  }
 },
 "nbformat": 4,
 "nbformat_minor": 5
}
