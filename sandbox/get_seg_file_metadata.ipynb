{
 "cells": [
  {
   "cell_type": "code",
   "execution_count": 1,
   "id": "0693f6d1",
   "metadata": {},
   "outputs": [
    {
     "name": "stderr",
     "output_type": "stream",
     "text": [
      "/home/bhkuser/bhklab/katy/readii_2_roqc/.pixi/envs/default/lib/python3.12/site-packages/tqdm/auto.py:21: TqdmWarning: IProgress not found. Please update jupyter and ipywidgets. See https://ipywidgets.readthedocs.io/en/stable/user_install.html\n",
      "  from .autonotebook import tqdm as notebook_tqdm\n"
     ]
    }
   ],
   "source": [
    "from imgtools.coretypes.masktypes import RTStructureSet\n",
    "from pathlib import Path\n",
    "import csv\n",
    "from damply import dirs"
   ]
  },
  {
   "cell_type": "code",
   "execution_count": 2,
   "id": "fec57a06",
   "metadata": {},
   "outputs": [],
   "source": [
    "dataset = \"CPTAC-PDA\"\n",
    "data_dir = Path(f\"/home/bhkuser/bhklab/radiomics/PublicDatasets/srcdata/Abdomen/TCIA_{dataset}\")\n",
    "\n",
    "image_dir = data_dir / \"images\" / 'RTSTRUCT'\n",
    "image_ids_file_path = data_dir / \"metadata\" / \"image_series_ids.csv\""
   ]
  },
  {
   "cell_type": "code",
   "execution_count": 22,
   "id": "53352f36",
   "metadata": {},
   "outputs": [],
   "source": [
    "image_ids = []\n",
    "\n",
    "for filepath in image_dir.glob(\"**/RTSTRUCT/**/*.dcm\"):\n",
    "    mask = RTStructureSet.from_dicom(dicom=filepath)\n",
    "    ref_image_series_id = mask.metadata['ReferencedSeriesUID']\n",
    "    image_ids.append(ref_image_series_id)\n",
    "\n",
    "# remove duplicate values\n",
    "image_ids = list(set(image_ids))"
   ]
  },
  {
   "cell_type": "code",
   "execution_count": 25,
   "id": "6dff1443",
   "metadata": {},
   "outputs": [],
   "source": [
    "with open(image_ids_file_path, mode='w') as csvfile:\n",
    "    writer = csv.writer(csvfile)\n",
    "    writer.writerows([[image_id] for image_id in image_ids])"
   ]
  },
  {
   "cell_type": "markdown",
   "id": "efc8be43",
   "metadata": {},
   "source": [
    "# Find ROIName"
   ]
  },
  {
   "cell_type": "code",
   "execution_count": 4,
   "id": "7785f0fa",
   "metadata": {},
   "outputs": [],
   "source": [
    "broken_file = dirs.RAWDATA / \"TCIA_CPTAC-CCRCC/images/RTSTRUCT/C3L-00812/21212/RTSTRUCT/915.4/1.dcm\"\n",
    "mask = RTStructureSet.from_dicom(dicom=broken_file)"
   ]
  },
  {
   "cell_type": "code",
   "execution_count": 5,
   "id": "5433861f",
   "metadata": {},
   "outputs": [
    {
     "data": {
      "text/plain": [
       "{'BodyPartExamined': 'CHEST',\n",
       " 'FrameOfReferenceUID': '1.3.6.1.4.1.14519.5.2.1.6450.2626.118728062024119475455338223375',\n",
       " 'Manufacturer': 'Open Health Imaging Foundation',\n",
       " 'ManufacturerModelName': 'OHIF-XNAT Viewer 3.2.0',\n",
       " 'Modality': 'RTSTRUCT',\n",
       " 'NumROIs': 1,\n",
       " 'PatientID': 'C3L-00812',\n",
       " 'ROINames': ['LT PARA AORTIC'],\n",
       " 'ReferencedSeriesUID': '1.3.6.1.4.1.14519.5.2.1.6450.2626.108818962120167259627963514393',\n",
       " 'SeriesDate': '20230525',\n",
       " 'SeriesInstanceUID': '1.2.826.0.1.534147.667.2747872357.2023425485915.4',\n",
       " 'SoftwareVersions': 'gmp_vct.42',\n",
       " 'StructureSetDate': '20230525',\n",
       " 'StructureSetLabel': 'LT PARA AORTIC L',\n",
       " 'StructureSetTime': '040859',\n",
       " 'StudyDate': '20081129',\n",
       " 'StudyInstanceUID': '1.3.6.1.4.1.14519.5.2.1.6450.2626.110399349269235997642692221212',\n",
       " 'StudyTime': '125004'}"
      ]
     },
     "execution_count": 5,
     "metadata": {},
     "output_type": "execute_result"
    }
   ],
   "source": [
    "mask.metadata"
   ]
  },
  {
   "cell_type": "code",
   "execution_count": 6,
   "id": "cd4e9f6a",
   "metadata": {},
   "outputs": [
    {
     "data": {
      "text/plain": [
       "['LT PARA AORTIC']"
      ]
     },
     "execution_count": 6,
     "metadata": {},
     "output_type": "execute_result"
    }
   ],
   "source": [
    "from imgtools.dicom.dicom_metadata.modality_utils.rtstruct_utils import extract_roi_names\n",
    "from pydicom import dcmread\n",
    "\n",
    "rtstruct = dcmread(broken_file)\n",
    "\n",
    "\n",
    "extract_roi_names(rtstruct)"
   ]
  },
  {
   "cell_type": "code",
   "execution_count": 7,
   "id": "5f57d704",
   "metadata": {},
   "outputs": [
    {
     "data": {
      "text/plain": [
       "'LT PARA AORTIC'"
      ]
     },
     "execution_count": 7,
     "metadata": {},
     "output_type": "execute_result"
    }
   ],
   "source": [
    "rtstruct.StructureSetROISequence[0].ROIName"
   ]
  },
  {
   "cell_type": "code",
   "execution_count": 8,
   "id": "2c8c23f4",
   "metadata": {},
   "outputs": [
    {
     "data": {
      "text/plain": [
       "{'ROINumber': '1',\n",
       " 'ROIName': 'LT PARA AORTIC',\n",
       " 'ROIGenerationAlgorithm': 'MANUAL'}"
      ]
     },
     "execution_count": 8,
     "metadata": {},
     "output_type": "execute_result"
    }
   ],
   "source": [
    "roi_sequence = rtstruct.StructureSetROISequence\n",
    "\n",
    "roi_metas = []\n",
    "for roi in roi_sequence:\n",
    "    roi_meta = {}\n",
    "    roi_meta[\"ROINumber\"] = getattr(roi, \"ROINumber\", \"\")\n",
    "    roi_meta[\"ROIName\"] = getattr(roi, \"ROIName\", \"\")\n",
    "    roi_meta[\"ROIGenerationAlgorithm\"] = getattr(\n",
    "        roi, \"ROIGenerationAlgorithm\", \"\"\n",
    "    )\n",
    "    roi_metas.append(roi_meta)\n",
    "\n",
    "roi_meta"
   ]
  },
  {
   "cell_type": "code",
   "execution_count": 9,
   "id": "5cf2a6c9",
   "metadata": {},
   "outputs": [],
   "source": [
    "from imgtools.coretypes.masktypes.roi_matching import ROIMatcher, handle_roi_matching\n",
    "\n",
    "roi_matching = {\"GTV\": [\".*\"]}\n",
    "roi_names = extract_roi_names(rtstruct)\n",
    "\n",
    "handle_roi_matching(\n",
    "    roi_names = roi_names,\n",
    "    roi_matching = roi_matching,\n",
    "    strategy = \"SEPARATE\"\n",
    ")"
   ]
  },
  {
   "cell_type": "code",
   "execution_count": 10,
   "id": "3388d465",
   "metadata": {},
   "outputs": [
    {
     "data": {
      "text/plain": [
       "False"
      ]
     },
     "execution_count": 10,
     "metadata": {},
     "output_type": "execute_result"
    }
   ],
   "source": [
    "import re\n",
    "\n",
    "re.fullmatch(\".*\", \"GTV\") is None"
   ]
  },
  {
   "cell_type": "code",
   "execution_count": 11,
   "id": "ab9f1b9e",
   "metadata": {},
   "outputs": [
    {
     "name": "stdout",
     "output_type": "stream",
     "text": [
      "LT PARA AORTIC .*\n"
     ]
    }
   ],
   "source": [
    "from itertools import product\n",
    "\n",
    "for keys, patterns in roi_matching.items():\n",
    "    for pattern, roi_name in product(patterns, roi_names):\n",
    "            if re.fullmatch(pattern, roi_name):\n",
    "                print(roi_name, pattern)"
   ]
  },
  {
   "cell_type": "markdown",
   "id": "d3d0c161",
   "metadata": {},
   "source": [
    "# Make Simple MIT Index artificially"
   ]
  },
  {
   "cell_type": "code",
   "execution_count": 18,
   "id": "ab619300",
   "metadata": {},
   "outputs": [],
   "source": [
    "from imgtools.autopipeline import SIMPLIFIED_COLUMNS\n",
    "import pandas as pd\n",
    "path = dirs.PROCDATA / \"TCIA_CPTAC-CCRCC\" / \"images\" / \"mit_CPTAC-CCRCC\" / \"mit_CPTAC-CCRCC_index.csv\"\n",
    "\n",
    "mit_index = pd.read_csv(filepath_or_buffer= path)\n",
    "\n",
    "mit_index_simple = mit_index[SIMPLIFIED_COLUMNS]\n",
    "\n",
    "mit_index_simple.to_csv(dirs.PROCDATA / \"TCIA_CPTAC-CCRCC\" / \"images\" / \"mit_CPTAC-CCRCC\" / \"mit_CPTAC-CCRCC_index-simple.csv\", index=False)"
   ]
  },
  {
   "cell_type": "code",
   "execution_count": null,
   "id": "a6688c56",
   "metadata": {},
   "outputs": [],
   "source": []
  }
 ],
 "metadata": {
  "kernelspec": {
   "display_name": "default",
   "language": "python",
   "name": "python3"
  },
  "language_info": {
   "codemirror_mode": {
    "name": "ipython",
    "version": 3
   },
   "file_extension": ".py",
   "mimetype": "text/x-python",
   "name": "python",
   "nbconvert_exporter": "python",
   "pygments_lexer": "ipython3",
   "version": "3.12.10"
  }
 },
 "nbformat": 4,
 "nbformat_minor": 5
}
