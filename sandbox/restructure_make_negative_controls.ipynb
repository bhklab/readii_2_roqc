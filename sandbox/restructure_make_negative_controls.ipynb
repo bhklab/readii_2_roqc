{
 "cells": [
  {
   "cell_type": "code",
   "execution_count": 1,
   "id": "99cf8359",
   "metadata": {},
   "outputs": [
    {
     "name": "stdout",
     "output_type": "stream",
     "text": [
      "/home/bhkuser/bhklab/katy/readii_2_roqc\n"
     ]
    }
   ],
   "source": [
    "%cd .."
   ]
  },
  {
   "cell_type": "code",
   "execution_count": 2,
   "id": "686fe011",
   "metadata": {},
   "outputs": [],
   "source": [
    "from damply import dirs\n",
    "from readii_2_roqc.utils.loaders import load_dataset_config\n",
    "from readii_2_roqc.readii.make_negative_controls import get_readii_settings, get_masked_image_metadata\n",
    "from readii.negative_controls_refactor.manager import NegativeControlManager\n",
    "from imgtools.transforms.spatial_transforms import Resize\n",
    "from readii.io.writers.nifti_writer import NIFTIWriter\n",
    "\n",
    "import pandas as pd\n",
    "import itertools"
   ]
  },
  {
   "cell_type": "code",
   "execution_count": 3,
   "id": "5f226ee0",
   "metadata": {},
   "outputs": [],
   "source": [
    "dataset = \"NSCLC-Radiomics_test\"\n",
    "overwrite = False\n",
    "seed = 10"
   ]
  },
  {
   "cell_type": "markdown",
   "id": "98023e42",
   "metadata": {},
   "source": [
    "# Set up logging"
   ]
  },
  {
   "cell_type": "code",
   "execution_count": 4,
   "id": "21877079",
   "metadata": {},
   "outputs": [],
   "source": [
    "import logging\n",
    "\n",
    "logger = logging.getLogger(__name__)\n",
    "logging.basicConfig(filename = dirs.LOGS / f\"{dataset}_make_negative_controls.log\", encoding='utf-8', level=logging.DEBUG)"
   ]
  },
  {
   "cell_type": "markdown",
   "id": "b6e89565",
   "metadata": {},
   "source": [
    "# Load dataset config"
   ]
  },
  {
   "cell_type": "code",
   "execution_count": 15,
   "id": "45f840b5",
   "metadata": {},
   "outputs": [],
   "source": [
    "if dataset is None:\n",
    "    message = \"Dataset name must be provided.\"\n",
    "    logger.error(message)\n",
    "    raise ValueError(message)\n",
    "\n",
    "dataset_config, dataset_name, full_dataset_name = load_dataset_config(dataset)\n",
    "logger.info(f\"Creating negative controls for dataset: {dataset_name}\")"
   ]
  },
  {
   "cell_type": "markdown",
   "id": "3a0560d7",
   "metadata": {},
   "source": [
    "# Load dataset index"
   ]
  },
  {
   "cell_type": "code",
   "execution_count": 16,
   "id": "824d2c0d",
   "metadata": {},
   "outputs": [],
   "source": [
    "images_dir_path = dirs.PROCDATA / full_dataset_name / 'images'\n",
    "\n",
    "dataset_index = pd.read_csv(images_dir_path / f'mit_{dataset_name}' / f'mit_{dataset_name}_index-simple.csv')"
   ]
  },
  {
   "cell_type": "markdown",
   "id": "6915a2c7",
   "metadata": {},
   "source": [
    "# Filter the index by R2R configuration file"
   ]
  },
  {
   "cell_type": "code",
   "execution_count": 17,
   "id": "b12dc183",
   "metadata": {},
   "outputs": [],
   "source": [
    "masked_image_index = get_masked_image_metadata(dataset_index, dataset_config)"
   ]
  },
  {
   "cell_type": "markdown",
   "id": "2d48c82a",
   "metadata": {},
   "source": [
    "# Check for output(s) existence"
   ]
  },
  {
   "cell_type": "code",
   "execution_count": 18,
   "id": "0fff65e2",
   "metadata": {},
   "outputs": [],
   "source": [
    "readii_image_dir = images_dir_path / f'readii_{dataset_name}'\n",
    "readii_index_filepath = readii_image_dir / f'readii_{dataset_name}_index.csv'"
   ]
  },
  {
   "cell_type": "code",
   "execution_count": 20,
   "id": "fb04cfc5",
   "metadata": {},
   "outputs": [
    {
     "name": "stdout",
     "output_type": "stream",
     "text": [
      "Not all READII settings satisfied in existing output. Re-running negative control generation.\n"
     ]
    }
   ],
   "source": [
    "if readii_index_filepath.exists() and not overwrite:\n",
    "    regions, permutations, crop, resize = get_readii_settings(dataset_config)\n",
    "    # Load in readii index and check:\n",
    "    # 1. if all negative controls requested have been extracted\n",
    "    # 2. for all of the patients\n",
    "    readii_index = pd.read_csv(readii_index_filepath)\n",
    "\n",
    "    # Get list of patients that have already been processed and what has been requested based on the dataset index\n",
    "    processed_samples = set(readii_index['PatientID'].to_list())\n",
    "    requested_samples = set(dataset_index['PatientID'].to_list())\n",
    "\n",
    "\n",
    "    readii_settings = ['Permutation', 'Region', 'Crop', 'Resize']\n",
    "    if not set(readii_index.columns).issuperset(readii_settings):\n",
    "        print(\"Not all READII settings satisfied in existing output. Re-running negative control generation.\")\n",
    "    \n",
    "    else:\n",
    "        resize_string = '_'.join(str(val) for val in resize)\n",
    "        processed_image_types = {itype for itype in readii_index[readii_settings].itertuples(index=False, name=None)}\n",
    "        requested_image_types = {itype for itype in itertools.product(permutations,\n",
    "                                                                      regions,\n",
    "                                                                      crop,\n",
    "                                                                      [resize_string])}\n",
    "        if requested_image_types.issubset(processed_image_types) and requested_samples.issubset(processed_samples):\n",
    "            print(\"Requested negative controls have already been generated for these samples or are listed in the readii index as if they have been. Set overwrite to true if you want to re-process these.\")\n",
    "            print(readii_index['filepath'].to_list())"
   ]
  },
  {
   "cell_type": "code",
   "execution_count": 25,
   "id": "e0d5bb90",
   "metadata": {},
   "outputs": [
    {
     "name": "stdout",
     "output_type": "stream",
     "text": [
      "LUNG1-001_0000/CT_63382046/CT.nii.gz\n",
      "LUNG1-001_0000/RTSTRUCT_35578236/GTV__[GTV-1].nii.gz\n",
      "LUNG1-002_0001/CT_23261228/CT.nii.gz\n",
      "LUNG1-002_0001/RTSTRUCT_43245931/GTV__[GTV-1].nii.gz\n"
     ]
    }
   ],
   "source": [
    "from readii_2_roqc.utils.metadata import make_edges_df\n",
    "\n",
    "edges_index = make_edges_df(masked_image_index, dataset_config['MIT']['MODALITIES']['image'], dataset_config['MIT']['MODALITIES']['mask'])\n",
    "\n",
    "for idx, data_row in edges_index.iterrows():\n",
    "    print(data_row.filepath_image)\n",
    "    print(data_row.filepath_mask)"
   ]
  },
  {
   "cell_type": "code",
   "execution_count": 23,
   "id": "f34740cf",
   "metadata": {},
   "outputs": [
    {
     "data": {
      "application/vnd.microsoft.datawrangler.viewer.v0+json": {
       "columns": [
        {
         "name": "index",
         "rawType": "int64",
         "type": "integer"
        },
        {
         "name": "ImageID_image",
         "rawType": "object",
         "type": "string"
        },
        {
         "name": "Modality_image",
         "rawType": "object",
         "type": "string"
        },
        {
         "name": "PatientID",
         "rawType": "object",
         "type": "string"
        },
        {
         "name": "ReferencedSeriesUID_image",
         "rawType": "object",
         "type": "unknown"
        },
        {
         "name": "SampleID_image",
         "rawType": "object",
         "type": "string"
        },
        {
         "name": "SampleNumber",
         "rawType": "int64",
         "type": "integer"
        },
        {
         "name": "SeriesInstanceUID_image",
         "rawType": "object",
         "type": "string"
        },
        {
         "name": "StudyInstanceUID_image",
         "rawType": "object",
         "type": "string"
        },
        {
         "name": "class_image",
         "rawType": "object",
         "type": "string"
        },
        {
         "name": "direction_image",
         "rawType": "object",
         "type": "string"
        },
        {
         "name": "dtype_numpy_image",
         "rawType": "object",
         "type": "string"
        },
        {
         "name": "dtype_str_image",
         "rawType": "object",
         "type": "string"
        },
        {
         "name": "filepath_image",
         "rawType": "object",
         "type": "string"
        },
        {
         "name": "hash_image",
         "rawType": "object",
         "type": "string"
        },
        {
         "name": "mask.bbox.max_coord_image",
         "rawType": "object",
         "type": "unknown"
        },
        {
         "name": "mask.bbox.min_coord_image",
         "rawType": "object",
         "type": "unknown"
        },
        {
         "name": "mask.bbox.size_image",
         "rawType": "object",
         "type": "unknown"
        },
        {
         "name": "mask.elongation_image",
         "rawType": "float64",
         "type": "float"
        },
        {
         "name": "mask.equivalent_ellipsoid_diameters_image",
         "rawType": "object",
         "type": "unknown"
        },
        {
         "name": "mask.equivalent_spherical_perimeter_image",
         "rawType": "float64",
         "type": "float"
        },
        {
         "name": "mask.equivalent_spherical_radius_image",
         "rawType": "float64",
         "type": "float"
        },
        {
         "name": "mask.feret_diameter_image",
         "rawType": "float64",
         "type": "float"
        },
        {
         "name": "mask.flatness_image",
         "rawType": "float64",
         "type": "float"
        },
        {
         "name": "mask.roundness_image",
         "rawType": "float64",
         "type": "float"
        },
        {
         "name": "mask.volume_count_image",
         "rawType": "float64",
         "type": "float"
        },
        {
         "name": "matched_rois_image",
         "rawType": "object",
         "type": "unknown"
        },
        {
         "name": "max_image",
         "rawType": "float64",
         "type": "float"
        },
        {
         "name": "mean_image",
         "rawType": "float64",
         "type": "float"
        },
        {
         "name": "min_image",
         "rawType": "float64",
         "type": "float"
        },
        {
         "name": "ndim_image",
         "rawType": "int64",
         "type": "integer"
        },
        {
         "name": "nvoxels_image",
         "rawType": "int64",
         "type": "integer"
        },
        {
         "name": "origin_image",
         "rawType": "object",
         "type": "string"
        },
        {
         "name": "roi_key_image",
         "rawType": "object",
         "type": "unknown"
        },
        {
         "name": "saved_time_image",
         "rawType": "object",
         "type": "string"
        },
        {
         "name": "size_image",
         "rawType": "object",
         "type": "string"
        },
        {
         "name": "spacing_image",
         "rawType": "object",
         "type": "string"
        },
        {
         "name": "std_image",
         "rawType": "float64",
         "type": "float"
        },
        {
         "name": "sum_image",
         "rawType": "float64",
         "type": "float"
        },
        {
         "name": "variance_image",
         "rawType": "float64",
         "type": "float"
        },
        {
         "name": "ImageID_mask",
         "rawType": "object",
         "type": "string"
        },
        {
         "name": "Modality_mask",
         "rawType": "object",
         "type": "string"
        },
        {
         "name": "ReferencedSeriesUID_mask",
         "rawType": "object",
         "type": "string"
        },
        {
         "name": "SampleID_mask",
         "rawType": "object",
         "type": "string"
        },
        {
         "name": "SeriesInstanceUID_mask",
         "rawType": "object",
         "type": "string"
        },
        {
         "name": "StudyInstanceUID_mask",
         "rawType": "object",
         "type": "string"
        },
        {
         "name": "class_mask",
         "rawType": "object",
         "type": "string"
        },
        {
         "name": "direction_mask",
         "rawType": "object",
         "type": "string"
        },
        {
         "name": "dtype_numpy_mask",
         "rawType": "object",
         "type": "string"
        },
        {
         "name": "dtype_str_mask",
         "rawType": "object",
         "type": "string"
        },
        {
         "name": "filepath_mask",
         "rawType": "object",
         "type": "string"
        },
        {
         "name": "hash_mask",
         "rawType": "object",
         "type": "string"
        },
        {
         "name": "mask.bbox.max_coord_mask",
         "rawType": "object",
         "type": "string"
        },
        {
         "name": "mask.bbox.min_coord_mask",
         "rawType": "object",
         "type": "string"
        },
        {
         "name": "mask.bbox.size_mask",
         "rawType": "object",
         "type": "string"
        },
        {
         "name": "mask.elongation_mask",
         "rawType": "float64",
         "type": "float"
        },
        {
         "name": "mask.equivalent_ellipsoid_diameters_mask",
         "rawType": "object",
         "type": "string"
        },
        {
         "name": "mask.equivalent_spherical_perimeter_mask",
         "rawType": "float64",
         "type": "float"
        },
        {
         "name": "mask.equivalent_spherical_radius_mask",
         "rawType": "float64",
         "type": "float"
        },
        {
         "name": "mask.feret_diameter_mask",
         "rawType": "float64",
         "type": "float"
        },
        {
         "name": "mask.flatness_mask",
         "rawType": "float64",
         "type": "float"
        },
        {
         "name": "mask.roundness_mask",
         "rawType": "float64",
         "type": "float"
        },
        {
         "name": "mask.volume_count_mask",
         "rawType": "float64",
         "type": "float"
        },
        {
         "name": "matched_rois_mask",
         "rawType": "object",
         "type": "string"
        },
        {
         "name": "max_mask",
         "rawType": "float64",
         "type": "float"
        },
        {
         "name": "mean_mask",
         "rawType": "float64",
         "type": "float"
        },
        {
         "name": "min_mask",
         "rawType": "float64",
         "type": "float"
        },
        {
         "name": "ndim_mask",
         "rawType": "int64",
         "type": "integer"
        },
        {
         "name": "nvoxels_mask",
         "rawType": "int64",
         "type": "integer"
        },
        {
         "name": "origin_mask",
         "rawType": "object",
         "type": "string"
        },
        {
         "name": "roi_key_mask",
         "rawType": "object",
         "type": "string"
        },
        {
         "name": "saved_time_mask",
         "rawType": "object",
         "type": "string"
        },
        {
         "name": "size_mask",
         "rawType": "object",
         "type": "string"
        },
        {
         "name": "spacing_mask",
         "rawType": "object",
         "type": "string"
        },
        {
         "name": "std_mask",
         "rawType": "float64",
         "type": "float"
        },
        {
         "name": "sum_mask",
         "rawType": "float64",
         "type": "float"
        },
        {
         "name": "variance_mask",
         "rawType": "float64",
         "type": "float"
        }
       ],
       "ref": "51f2a0da-700a-4f92-8e08-4fa9abefe258",
       "rows": [
        [
         "0",
         "CT",
         "CT",
         "LUNG1-001",
         null,
         "LUNG1-001_0000",
         "0",
         "1.3.6.1.4.1.32722.99.99.298991776521342375010861296712563382046",
         "1.3.6.1.4.1.32722.99.99.239341353911714368772597187099978969331",
         "Scan",
         "(1.0, 0.0, 0.0, 0.0, 1.0, 0.0, 0.0, 0.0, 1.0)",
         "<class 'numpy.int32'>",
         "32-bit signed integer",
         "LUNG1-001_0000/CT_63382046/CT.nii.gz",
         "b4175e0d6ddff17507e30c05c6e7302c2b9668f4",
         null,
         null,
         null,
         null,
         null,
         null,
         null,
         null,
         null,
         null,
         null,
         null,
         "3034.0",
         "-741.3879128925836",
         "-1024.0",
         "3",
         "35127296",
         "(-249.51171875, -460.51171875, -681.5)",
         null,
         "2025-07-22:14:16:16",
         "(512, 512, 134)",
         "(0.9765625, 0.9765625, 3.0)",
         "426.9585975862905",
         "-26042952667.0",
         "182293.644052852",
         "GTV__[GTV-1]",
         "RTSTRUCT",
         "1.3.6.1.4.1.32722.99.99.298991776521342375010861296712563382046",
         "LUNG1-001_0000",
         "1.3.6.1.4.1.32722.99.99.227938121586608072508444156170535578236",
         "1.3.6.1.4.1.32722.99.99.239341353911714368772597187099978969331",
         "Mask",
         "(1.0, 0.0, 0.0, 0.0, 1.0, 0.0, 0.0, 0.0, 1.0)",
         "<class 'numpy.uint8'>",
         "8-bit unsigned integer",
         "LUNG1-001_0000/RTSTRUCT_35578236/GTV__[GTV-1].nii.gz",
         "7afa5f960c8113372e0ad0a8e8303f7eaea396f4",
         "(388, 317, 86)",
         "(290, 226, 65)",
         "(98, 91, 21)",
         "1.3679307578571347",
         "(50.12645370811198, 66.9634974454826, 91.6014278093633)",
         "14311.597299684106",
         "33.74730695763254",
         "95.64797645737532",
         "1.3358913805355808",
         "0.6349637866078248",
         "1.0",
         "GTV-1",
         "1.0",
         "0.0016019166405521",
         "0.0",
         "3",
         "35127296",
         "(-249.51171875, -460.51171875, -681.5)",
         "GTV",
         "2025-07-22:14:16:22",
         "(512, 512, 134)",
         "(0.9765625, 0.9765625, 3.0)",
         "0.0399918810405184",
         "56271.0",
         "0.0015993505491589"
        ],
        [
         "1",
         "CT",
         "CT",
         "LUNG1-002",
         null,
         "LUNG1-002_0001",
         "1",
         "1.3.6.1.4.1.32722.99.99.232988001551799080335895423941323261228",
         "1.3.6.1.4.1.32722.99.99.203715003805996641695765332389135385095",
         "Scan",
         "(1.0, 0.0, 0.0, 0.0, 1.0, 0.0, 0.0, 0.0, 1.0)",
         "<class 'numpy.int16'>",
         "16-bit signed integer",
         "LUNG1-002_0001/CT_23261228/CT.nii.gz",
         "e18ddb88c4ca54b93c1d28d7db625ed5a9361664",
         null,
         null,
         null,
         null,
         null,
         null,
         null,
         null,
         null,
         null,
         null,
         null,
         "3071.0",
         "-755.0708016404161",
         "-1024.0",
         "3",
         "29097984",
         "(-250.112, -250.112, -133.4)",
         null,
         "2025-07-22:14:16:15",
         "(512, 512, 111)",
         "(0.977, 0.977, 3.0)",
         "431.01694265427074",
         "-21971038105.0",
         "185775.6048550349",
         "GTV__[GTV-1]",
         "RTSTRUCT",
         "1.3.6.1.4.1.32722.99.99.232988001551799080335895423941323261228",
         "LUNG1-002_0001",
         "1.3.6.1.4.1.32722.99.99.243267551266911245830259417117543245931",
         "1.3.6.1.4.1.32722.99.99.203715003805996641695765332389135385095",
         "Mask",
         "(1.0, 0.0, 0.0, 0.0, 1.0, 0.0, 0.0, 0.0, 1.0)",
         "<class 'numpy.uint8'>",
         "8-bit unsigned integer",
         "LUNG1-002_0001/RTSTRUCT_43245931/GTV__[GTV-1].nii.gz",
         "40fcb78dd23c751a7013d4f76682dec3bfa2db13",
         "(229, 325, 54)",
         "(129, 226, 28)",
         "(100, 99, 26)",
         "1.1331476411290846",
         "(76.24719071888086, 89.08141917909388, 100.94240001122142)",
         "24427.15790079356",
         "44.089130891851",
         "123.29940788990028",
         "1.168323951862464",
         "0.728962379700932",
         "1.0",
         "GTV-1",
         "1.0",
         "0.004308339711782",
         "0.0",
         "3",
         "29097984",
         "(-250.112, -250.112, -133.4)",
         "GTV",
         "2025-07-22:14:16:18",
         "(512, 512, 111)",
         "(0.977, 0.977, 3.0)",
         "0.0654963973676052",
         "125364.0",
         "0.0042897780681352"
        ]
       ],
       "shape": {
        "columns": 76,
        "rows": 2
       }
      },
      "text/html": [
       "<div>\n",
       "<style scoped>\n",
       "    .dataframe tbody tr th:only-of-type {\n",
       "        vertical-align: middle;\n",
       "    }\n",
       "\n",
       "    .dataframe tbody tr th {\n",
       "        vertical-align: top;\n",
       "    }\n",
       "\n",
       "    .dataframe thead th {\n",
       "        text-align: right;\n",
       "    }\n",
       "</style>\n",
       "<table border=\"1\" class=\"dataframe\">\n",
       "  <thead>\n",
       "    <tr style=\"text-align: right;\">\n",
       "      <th></th>\n",
       "      <th>ImageID_image</th>\n",
       "      <th>Modality_image</th>\n",
       "      <th>PatientID</th>\n",
       "      <th>ReferencedSeriesUID_image</th>\n",
       "      <th>SampleID_image</th>\n",
       "      <th>SampleNumber</th>\n",
       "      <th>SeriesInstanceUID_image</th>\n",
       "      <th>StudyInstanceUID_image</th>\n",
       "      <th>class_image</th>\n",
       "      <th>direction_image</th>\n",
       "      <th>...</th>\n",
       "      <th>ndim_mask</th>\n",
       "      <th>nvoxels_mask</th>\n",
       "      <th>origin_mask</th>\n",
       "      <th>roi_key_mask</th>\n",
       "      <th>saved_time_mask</th>\n",
       "      <th>size_mask</th>\n",
       "      <th>spacing_mask</th>\n",
       "      <th>std_mask</th>\n",
       "      <th>sum_mask</th>\n",
       "      <th>variance_mask</th>\n",
       "    </tr>\n",
       "  </thead>\n",
       "  <tbody>\n",
       "    <tr>\n",
       "      <th>0</th>\n",
       "      <td>CT</td>\n",
       "      <td>CT</td>\n",
       "      <td>LUNG1-001</td>\n",
       "      <td>NaN</td>\n",
       "      <td>LUNG1-001_0000</td>\n",
       "      <td>0</td>\n",
       "      <td>1.3.6.1.4.1.32722.99.99.2989917765213423750108...</td>\n",
       "      <td>1.3.6.1.4.1.32722.99.99.2393413539117143687725...</td>\n",
       "      <td>Scan</td>\n",
       "      <td>(1.0, 0.0, 0.0, 0.0, 1.0, 0.0, 0.0, 0.0, 1.0)</td>\n",
       "      <td>...</td>\n",
       "      <td>3</td>\n",
       "      <td>35127296</td>\n",
       "      <td>(-249.51171875, -460.51171875, -681.5)</td>\n",
       "      <td>GTV</td>\n",
       "      <td>2025-07-22:14:16:22</td>\n",
       "      <td>(512, 512, 134)</td>\n",
       "      <td>(0.9765625, 0.9765625, 3.0)</td>\n",
       "      <td>0.039992</td>\n",
       "      <td>56271.0</td>\n",
       "      <td>0.001599</td>\n",
       "    </tr>\n",
       "    <tr>\n",
       "      <th>1</th>\n",
       "      <td>CT</td>\n",
       "      <td>CT</td>\n",
       "      <td>LUNG1-002</td>\n",
       "      <td>NaN</td>\n",
       "      <td>LUNG1-002_0001</td>\n",
       "      <td>1</td>\n",
       "      <td>1.3.6.1.4.1.32722.99.99.2329880015517990803358...</td>\n",
       "      <td>1.3.6.1.4.1.32722.99.99.2037150038059966416957...</td>\n",
       "      <td>Scan</td>\n",
       "      <td>(1.0, 0.0, 0.0, 0.0, 1.0, 0.0, 0.0, 0.0, 1.0)</td>\n",
       "      <td>...</td>\n",
       "      <td>3</td>\n",
       "      <td>29097984</td>\n",
       "      <td>(-250.112, -250.112, -133.4)</td>\n",
       "      <td>GTV</td>\n",
       "      <td>2025-07-22:14:16:18</td>\n",
       "      <td>(512, 512, 111)</td>\n",
       "      <td>(0.977, 0.977, 3.0)</td>\n",
       "      <td>0.065496</td>\n",
       "      <td>125364.0</td>\n",
       "      <td>0.004290</td>\n",
       "    </tr>\n",
       "  </tbody>\n",
       "</table>\n",
       "<p>2 rows × 76 columns</p>\n",
       "</div>"
      ],
      "text/plain": [
       "  ImageID_image Modality_image  PatientID ReferencedSeriesUID_image  \\\n",
       "0            CT             CT  LUNG1-001                       NaN   \n",
       "1            CT             CT  LUNG1-002                       NaN   \n",
       "\n",
       "   SampleID_image  SampleNumber  \\\n",
       "0  LUNG1-001_0000             0   \n",
       "1  LUNG1-002_0001             1   \n",
       "\n",
       "                             SeriesInstanceUID_image  \\\n",
       "0  1.3.6.1.4.1.32722.99.99.2989917765213423750108...   \n",
       "1  1.3.6.1.4.1.32722.99.99.2329880015517990803358...   \n",
       "\n",
       "                              StudyInstanceUID_image class_image  \\\n",
       "0  1.3.6.1.4.1.32722.99.99.2393413539117143687725...        Scan   \n",
       "1  1.3.6.1.4.1.32722.99.99.2037150038059966416957...        Scan   \n",
       "\n",
       "                                 direction_image  ... ndim_mask nvoxels_mask  \\\n",
       "0  (1.0, 0.0, 0.0, 0.0, 1.0, 0.0, 0.0, 0.0, 1.0)  ...         3     35127296   \n",
       "1  (1.0, 0.0, 0.0, 0.0, 1.0, 0.0, 0.0, 0.0, 1.0)  ...         3     29097984   \n",
       "\n",
       "                              origin_mask roi_key_mask      saved_time_mask  \\\n",
       "0  (-249.51171875, -460.51171875, -681.5)          GTV  2025-07-22:14:16:22   \n",
       "1            (-250.112, -250.112, -133.4)          GTV  2025-07-22:14:16:18   \n",
       "\n",
       "         size_mask                 spacing_mask  std_mask  sum_mask  \\\n",
       "0  (512, 512, 134)  (0.9765625, 0.9765625, 3.0)  0.039992   56271.0   \n",
       "1  (512, 512, 111)          (0.977, 0.977, 3.0)  0.065496  125364.0   \n",
       "\n",
       "   variance_mask  \n",
       "0       0.001599  \n",
       "1       0.004290  \n",
       "\n",
       "[2 rows x 76 columns]"
      ]
     },
     "execution_count": 23,
     "metadata": {},
     "output_type": "execute_result"
    }
   ],
   "source": [
    "edges_index"
   ]
  },
  {
   "cell_type": "markdown",
   "id": "bbb0e832",
   "metadata": {},
   "source": [
    "# Negative control generator function that can be run in parallel"
   ]
  },
  {
   "cell_type": "code",
   "execution_count": null,
   "id": "ce2a1096",
   "metadata": {},
   "outputs": [],
   "source": [
    "from imgtools.transforms.spatial_transforms import Resize\n",
    "from readii.process.images.crop import crop_and_resize_image_and_mask\n",
    "import SimpleITK as sitk\n",
    "from readii.image_processing import alignImages, flattenImage\n",
    "\n",
    "def load_image_and_mask(image_path, mask_path = None):\n",
    "    # Load in image\n",
    "    raw_image = sitk.ReadImage(image_path)\n",
    "    # Remove extra dimension of image, set origin, spacing, direction to original\n",
    "    image = alignImages(raw_image, flattenImage(raw_image)) \n",
    "\n",
    "    if mask_path:\n",
    "        # Load in mask\n",
    "        raw_mask = sitk.ReadImage(mask_path)\n",
    "        mask = alignImages(image, flattenImage(raw_mask))\n",
    "        return image, mask\n",
    "    \n",
    "    return image\n",
    "\n",
    "\n",
    "def negative_control_generator(dataset_config, image_path, mask_path, output_dir, overwrite):\n",
    "    if overwrite:\n",
    "        existing_file_mode = 'OVERWRITE'\n",
    "        overwrite_index = True\n",
    "    else:\n",
    "        existing_file_mode = 'SKIP'\n",
    "        overwrite_index = False\n",
    "\n",
    "    regions, permutations, crop, resize = get_readii_settings(dataset_config)\n",
    "\n",
    "    # Set up negative control manager with settings from config\n",
    "    manager = NegativeControlManager.from_strings(\n",
    "        negative_control_types=permutations,\n",
    "        region_types=regions,\n",
    "        random_seed=seed\n",
    "    )\n",
    "\n",
    "    image, mask = load_image_and_mask(image_path, mask_path)\n",
    "\n",
    "\n",
    "    for neg_image, permutation, region in manager.apply(image, mask):\n",
    "        # apply crop and resize\n",
    "\n",
    "        # set up nifti writer\n",
    "\n",
    "        # call save out negative controls\n",
    "\n",
    "\n",
    "    # # Set up writer for saving out the negative controls and index file\n",
    "    # nifti_writer = NIFTIWriter(\n",
    "    #         root_directory = readii_image_dir,\n",
    "    #         filename_format = \"{dir_original_image}/{dirname_mask}_{ImageID_mask}/\" + f\"{image_modality}\" + \"_{Permutation}_{Region}.nii.gz\",\n",
    "    #         create_dirs = True,\n",
    "    #         existing_file_mode = existing_file_mode,\n",
    "    #         sanitize_filenames = True,\n",
    "    #         index_filename = readii_image_dir /f\"readii_{dataset_name}_index.csv\",\n",
    "    #         overwrite_index = overwrite_index\n",
    "    #     )\n",
    "    \n"
   ]
  },
  {
   "cell_type": "code",
   "execution_count": 74,
   "id": "26be2449",
   "metadata": {},
   "outputs": [
    {
     "data": {
      "application/vnd.microsoft.datawrangler.viewer.v0+json": {
       "columns": [
        {
         "name": "index",
         "rawType": "int64",
         "type": "integer"
        },
        {
         "name": "ImageID",
         "rawType": "object",
         "type": "string"
        },
        {
         "name": "Modality",
         "rawType": "object",
         "type": "string"
        },
        {
         "name": "PatientID",
         "rawType": "object",
         "type": "string"
        },
        {
         "name": "ReferencedSeriesUID",
         "rawType": "object",
         "type": "unknown"
        },
        {
         "name": "SampleID",
         "rawType": "object",
         "type": "string"
        },
        {
         "name": "SampleNumber",
         "rawType": "int64",
         "type": "integer"
        },
        {
         "name": "SeriesInstanceUID",
         "rawType": "object",
         "type": "string"
        },
        {
         "name": "StudyInstanceUID",
         "rawType": "object",
         "type": "string"
        },
        {
         "name": "class",
         "rawType": "object",
         "type": "string"
        },
        {
         "name": "direction",
         "rawType": "object",
         "type": "string"
        },
        {
         "name": "dtype_numpy",
         "rawType": "object",
         "type": "string"
        },
        {
         "name": "dtype_str",
         "rawType": "object",
         "type": "string"
        },
        {
         "name": "filepath",
         "rawType": "object",
         "type": "string"
        },
        {
         "name": "hash",
         "rawType": "object",
         "type": "string"
        },
        {
         "name": "mask.bbox.max_coord",
         "rawType": "object",
         "type": "unknown"
        },
        {
         "name": "mask.bbox.min_coord",
         "rawType": "object",
         "type": "unknown"
        },
        {
         "name": "mask.bbox.size",
         "rawType": "object",
         "type": "unknown"
        },
        {
         "name": "mask.elongation",
         "rawType": "float64",
         "type": "float"
        },
        {
         "name": "mask.equivalent_ellipsoid_diameters",
         "rawType": "object",
         "type": "unknown"
        },
        {
         "name": "mask.equivalent_spherical_perimeter",
         "rawType": "float64",
         "type": "float"
        },
        {
         "name": "mask.equivalent_spherical_radius",
         "rawType": "float64",
         "type": "float"
        },
        {
         "name": "mask.feret_diameter",
         "rawType": "float64",
         "type": "float"
        },
        {
         "name": "mask.flatness",
         "rawType": "float64",
         "type": "float"
        },
        {
         "name": "mask.roundness",
         "rawType": "float64",
         "type": "float"
        },
        {
         "name": "mask.volume_count",
         "rawType": "float64",
         "type": "float"
        },
        {
         "name": "matched_rois",
         "rawType": "object",
         "type": "unknown"
        },
        {
         "name": "max",
         "rawType": "float64",
         "type": "float"
        },
        {
         "name": "mean",
         "rawType": "float64",
         "type": "float"
        },
        {
         "name": "min",
         "rawType": "float64",
         "type": "float"
        },
        {
         "name": "ndim",
         "rawType": "int64",
         "type": "integer"
        },
        {
         "name": "nvoxels",
         "rawType": "int64",
         "type": "integer"
        },
        {
         "name": "origin",
         "rawType": "object",
         "type": "string"
        },
        {
         "name": "roi_key",
         "rawType": "object",
         "type": "unknown"
        },
        {
         "name": "saved_time",
         "rawType": "object",
         "type": "string"
        },
        {
         "name": "size",
         "rawType": "object",
         "type": "string"
        },
        {
         "name": "spacing",
         "rawType": "object",
         "type": "string"
        },
        {
         "name": "std",
         "rawType": "float64",
         "type": "float"
        },
        {
         "name": "sum",
         "rawType": "float64",
         "type": "float"
        },
        {
         "name": "variance",
         "rawType": "float64",
         "type": "float"
        }
       ],
       "ref": "8195fa1a-49ef-4c88-8bd2-edd58fee1118",
       "rows": [
        [
         "0",
         "CT",
         "CT",
         "LUNG1-001",
         null,
         "LUNG1-001_0000",
         "0",
         "1.3.6.1.4.1.32722.99.99.298991776521342375010861296712563382046",
         "1.3.6.1.4.1.32722.99.99.239341353911714368772597187099978969331",
         "Scan",
         "(1.0, 0.0, 0.0, 0.0, 1.0, 0.0, 0.0, 0.0, 1.0)",
         "<class 'numpy.int32'>",
         "32-bit signed integer",
         "LUNG1-001_0000/CT_63382046/CT.nii.gz",
         "b4175e0d6ddff17507e30c05c6e7302c2b9668f4",
         null,
         null,
         null,
         null,
         null,
         null,
         null,
         null,
         null,
         null,
         null,
         null,
         "3034.0",
         "-741.3879128925836",
         "-1024.0",
         "3",
         "35127296",
         "(-249.51171875, -460.51171875, -681.5)",
         null,
         "2025-07-22:14:16:16",
         "(512, 512, 134)",
         "(0.9765625, 0.9765625, 3.0)",
         "426.9585975862905",
         "-26042952667.0",
         "182293.644052852"
        ],
        [
         "2",
         "CT",
         "CT",
         "LUNG1-002",
         null,
         "LUNG1-002_0001",
         "1",
         "1.3.6.1.4.1.32722.99.99.232988001551799080335895423941323261228",
         "1.3.6.1.4.1.32722.99.99.203715003805996641695765332389135385095",
         "Scan",
         "(1.0, 0.0, 0.0, 0.0, 1.0, 0.0, 0.0, 0.0, 1.0)",
         "<class 'numpy.int16'>",
         "16-bit signed integer",
         "LUNG1-002_0001/CT_23261228/CT.nii.gz",
         "e18ddb88c4ca54b93c1d28d7db625ed5a9361664",
         null,
         null,
         null,
         null,
         null,
         null,
         null,
         null,
         null,
         null,
         null,
         null,
         "3071.0",
         "-755.0708016404161",
         "-1024.0",
         "3",
         "29097984",
         "(-250.112, -250.112, -133.4)",
         null,
         "2025-07-22:14:16:15",
         "(512, 512, 111)",
         "(0.977, 0.977, 3.0)",
         "431.01694265427074",
         "-21971038105.0",
         "185775.6048550349"
        ],
        [
         "0",
         "GTV__[GTV-1]",
         "RTSTRUCT",
         "LUNG1-001",
         "1.3.6.1.4.1.32722.99.99.298991776521342375010861296712563382046",
         "LUNG1-001_0000",
         "0",
         "1.3.6.1.4.1.32722.99.99.227938121586608072508444156170535578236",
         "1.3.6.1.4.1.32722.99.99.239341353911714368772597187099978969331",
         "Mask",
         "(1.0, 0.0, 0.0, 0.0, 1.0, 0.0, 0.0, 0.0, 1.0)",
         "<class 'numpy.uint8'>",
         "8-bit unsigned integer",
         "LUNG1-001_0000/RTSTRUCT_35578236/GTV__[GTV-1].nii.gz",
         "7afa5f960c8113372e0ad0a8e8303f7eaea396f4",
         "(388, 317, 86)",
         "(290, 226, 65)",
         "(98, 91, 21)",
         "1.3679307578571347",
         "(50.12645370811198, 66.9634974454826, 91.6014278093633)",
         "14311.597299684106",
         "33.74730695763254",
         "95.64797645737532",
         "1.3358913805355808",
         "0.6349637866078248",
         "1.0",
         "GTV-1",
         "1.0",
         "0.0016019166405521",
         "0.0",
         "3",
         "35127296",
         "(-249.51171875, -460.51171875, -681.5)",
         "GTV",
         "2025-07-22:14:16:22",
         "(512, 512, 134)",
         "(0.9765625, 0.9765625, 3.0)",
         "0.0399918810405184",
         "56271.0",
         "0.0015993505491589"
        ],
        [
         "1",
         "GTV__[GTV-1]",
         "RTSTRUCT",
         "LUNG1-002",
         "1.3.6.1.4.1.32722.99.99.232988001551799080335895423941323261228",
         "LUNG1-002_0001",
         "1",
         "1.3.6.1.4.1.32722.99.99.243267551266911245830259417117543245931",
         "1.3.6.1.4.1.32722.99.99.203715003805996641695765332389135385095",
         "Mask",
         "(1.0, 0.0, 0.0, 0.0, 1.0, 0.0, 0.0, 0.0, 1.0)",
         "<class 'numpy.uint8'>",
         "8-bit unsigned integer",
         "LUNG1-002_0001/RTSTRUCT_43245931/GTV__[GTV-1].nii.gz",
         "40fcb78dd23c751a7013d4f76682dec3bfa2db13",
         "(229, 325, 54)",
         "(129, 226, 28)",
         "(100, 99, 26)",
         "1.1331476411290846",
         "(76.24719071888086, 89.08141917909388, 100.94240001122142)",
         "24427.15790079356",
         "44.089130891851",
         "123.29940788990028",
         "1.168323951862464",
         "0.728962379700932",
         "1.0",
         "GTV-1",
         "1.0",
         "0.004308339711782",
         "0.0",
         "3",
         "29097984",
         "(-250.112, -250.112, -133.4)",
         "GTV",
         "2025-07-22:14:16:18",
         "(512, 512, 111)",
         "(0.977, 0.977, 3.0)",
         "0.0654963973676052",
         "125364.0",
         "0.0042897780681352"
        ]
       ],
       "shape": {
        "columns": 39,
        "rows": 4
       }
      },
      "text/html": [
       "<div>\n",
       "<style scoped>\n",
       "    .dataframe tbody tr th:only-of-type {\n",
       "        vertical-align: middle;\n",
       "    }\n",
       "\n",
       "    .dataframe tbody tr th {\n",
       "        vertical-align: top;\n",
       "    }\n",
       "\n",
       "    .dataframe thead th {\n",
       "        text-align: right;\n",
       "    }\n",
       "</style>\n",
       "<table border=\"1\" class=\"dataframe\">\n",
       "  <thead>\n",
       "    <tr style=\"text-align: right;\">\n",
       "      <th></th>\n",
       "      <th>ImageID</th>\n",
       "      <th>Modality</th>\n",
       "      <th>PatientID</th>\n",
       "      <th>ReferencedSeriesUID</th>\n",
       "      <th>SampleID</th>\n",
       "      <th>SampleNumber</th>\n",
       "      <th>SeriesInstanceUID</th>\n",
       "      <th>StudyInstanceUID</th>\n",
       "      <th>class</th>\n",
       "      <th>direction</th>\n",
       "      <th>...</th>\n",
       "      <th>ndim</th>\n",
       "      <th>nvoxels</th>\n",
       "      <th>origin</th>\n",
       "      <th>roi_key</th>\n",
       "      <th>saved_time</th>\n",
       "      <th>size</th>\n",
       "      <th>spacing</th>\n",
       "      <th>std</th>\n",
       "      <th>sum</th>\n",
       "      <th>variance</th>\n",
       "    </tr>\n",
       "  </thead>\n",
       "  <tbody>\n",
       "    <tr>\n",
       "      <th>0</th>\n",
       "      <td>CT</td>\n",
       "      <td>CT</td>\n",
       "      <td>LUNG1-001</td>\n",
       "      <td>NaN</td>\n",
       "      <td>LUNG1-001_0000</td>\n",
       "      <td>0</td>\n",
       "      <td>1.3.6.1.4.1.32722.99.99.2989917765213423750108...</td>\n",
       "      <td>1.3.6.1.4.1.32722.99.99.2393413539117143687725...</td>\n",
       "      <td>Scan</td>\n",
       "      <td>(1.0, 0.0, 0.0, 0.0, 1.0, 0.0, 0.0, 0.0, 1.0)</td>\n",
       "      <td>...</td>\n",
       "      <td>3</td>\n",
       "      <td>35127296</td>\n",
       "      <td>(-249.51171875, -460.51171875, -681.5)</td>\n",
       "      <td>NaN</td>\n",
       "      <td>2025-07-22:14:16:16</td>\n",
       "      <td>(512, 512, 134)</td>\n",
       "      <td>(0.9765625, 0.9765625, 3.0)</td>\n",
       "      <td>426.958598</td>\n",
       "      <td>-2.604295e+10</td>\n",
       "      <td>182293.644053</td>\n",
       "    </tr>\n",
       "    <tr>\n",
       "      <th>2</th>\n",
       "      <td>CT</td>\n",
       "      <td>CT</td>\n",
       "      <td>LUNG1-002</td>\n",
       "      <td>NaN</td>\n",
       "      <td>LUNG1-002_0001</td>\n",
       "      <td>1</td>\n",
       "      <td>1.3.6.1.4.1.32722.99.99.2329880015517990803358...</td>\n",
       "      <td>1.3.6.1.4.1.32722.99.99.2037150038059966416957...</td>\n",
       "      <td>Scan</td>\n",
       "      <td>(1.0, 0.0, 0.0, 0.0, 1.0, 0.0, 0.0, 0.0, 1.0)</td>\n",
       "      <td>...</td>\n",
       "      <td>3</td>\n",
       "      <td>29097984</td>\n",
       "      <td>(-250.112, -250.112, -133.4)</td>\n",
       "      <td>NaN</td>\n",
       "      <td>2025-07-22:14:16:15</td>\n",
       "      <td>(512, 512, 111)</td>\n",
       "      <td>(0.977, 0.977, 3.0)</td>\n",
       "      <td>431.016943</td>\n",
       "      <td>-2.197104e+10</td>\n",
       "      <td>185775.604855</td>\n",
       "    </tr>\n",
       "    <tr>\n",
       "      <th>0</th>\n",
       "      <td>GTV__[GTV-1]</td>\n",
       "      <td>RTSTRUCT</td>\n",
       "      <td>LUNG1-001</td>\n",
       "      <td>1.3.6.1.4.1.32722.99.99.2989917765213423750108...</td>\n",
       "      <td>LUNG1-001_0000</td>\n",
       "      <td>0</td>\n",
       "      <td>1.3.6.1.4.1.32722.99.99.2279381215866080725084...</td>\n",
       "      <td>1.3.6.1.4.1.32722.99.99.2393413539117143687725...</td>\n",
       "      <td>Mask</td>\n",
       "      <td>(1.0, 0.0, 0.0, 0.0, 1.0, 0.0, 0.0, 0.0, 1.0)</td>\n",
       "      <td>...</td>\n",
       "      <td>3</td>\n",
       "      <td>35127296</td>\n",
       "      <td>(-249.51171875, -460.51171875, -681.5)</td>\n",
       "      <td>GTV</td>\n",
       "      <td>2025-07-22:14:16:22</td>\n",
       "      <td>(512, 512, 134)</td>\n",
       "      <td>(0.9765625, 0.9765625, 3.0)</td>\n",
       "      <td>0.039992</td>\n",
       "      <td>5.627100e+04</td>\n",
       "      <td>0.001599</td>\n",
       "    </tr>\n",
       "    <tr>\n",
       "      <th>1</th>\n",
       "      <td>GTV__[GTV-1]</td>\n",
       "      <td>RTSTRUCT</td>\n",
       "      <td>LUNG1-002</td>\n",
       "      <td>1.3.6.1.4.1.32722.99.99.2329880015517990803358...</td>\n",
       "      <td>LUNG1-002_0001</td>\n",
       "      <td>1</td>\n",
       "      <td>1.3.6.1.4.1.32722.99.99.2432675512669112458302...</td>\n",
       "      <td>1.3.6.1.4.1.32722.99.99.2037150038059966416957...</td>\n",
       "      <td>Mask</td>\n",
       "      <td>(1.0, 0.0, 0.0, 0.0, 1.0, 0.0, 0.0, 0.0, 1.0)</td>\n",
       "      <td>...</td>\n",
       "      <td>3</td>\n",
       "      <td>29097984</td>\n",
       "      <td>(-250.112, -250.112, -133.4)</td>\n",
       "      <td>GTV</td>\n",
       "      <td>2025-07-22:14:16:18</td>\n",
       "      <td>(512, 512, 111)</td>\n",
       "      <td>(0.977, 0.977, 3.0)</td>\n",
       "      <td>0.065496</td>\n",
       "      <td>1.253640e+05</td>\n",
       "      <td>0.004290</td>\n",
       "    </tr>\n",
       "  </tbody>\n",
       "</table>\n",
       "<p>4 rows × 39 columns</p>\n",
       "</div>"
      ],
      "text/plain": [
       "        ImageID  Modality  PatientID  \\\n",
       "0            CT        CT  LUNG1-001   \n",
       "2            CT        CT  LUNG1-002   \n",
       "0  GTV__[GTV-1]  RTSTRUCT  LUNG1-001   \n",
       "1  GTV__[GTV-1]  RTSTRUCT  LUNG1-002   \n",
       "\n",
       "                                 ReferencedSeriesUID        SampleID  \\\n",
       "0                                                NaN  LUNG1-001_0000   \n",
       "2                                                NaN  LUNG1-002_0001   \n",
       "0  1.3.6.1.4.1.32722.99.99.2989917765213423750108...  LUNG1-001_0000   \n",
       "1  1.3.6.1.4.1.32722.99.99.2329880015517990803358...  LUNG1-002_0001   \n",
       "\n",
       "   SampleNumber                                  SeriesInstanceUID  \\\n",
       "0             0  1.3.6.1.4.1.32722.99.99.2989917765213423750108...   \n",
       "2             1  1.3.6.1.4.1.32722.99.99.2329880015517990803358...   \n",
       "0             0  1.3.6.1.4.1.32722.99.99.2279381215866080725084...   \n",
       "1             1  1.3.6.1.4.1.32722.99.99.2432675512669112458302...   \n",
       "\n",
       "                                    StudyInstanceUID class  \\\n",
       "0  1.3.6.1.4.1.32722.99.99.2393413539117143687725...  Scan   \n",
       "2  1.3.6.1.4.1.32722.99.99.2037150038059966416957...  Scan   \n",
       "0  1.3.6.1.4.1.32722.99.99.2393413539117143687725...  Mask   \n",
       "1  1.3.6.1.4.1.32722.99.99.2037150038059966416957...  Mask   \n",
       "\n",
       "                                       direction  ... ndim   nvoxels  \\\n",
       "0  (1.0, 0.0, 0.0, 0.0, 1.0, 0.0, 0.0, 0.0, 1.0)  ...    3  35127296   \n",
       "2  (1.0, 0.0, 0.0, 0.0, 1.0, 0.0, 0.0, 0.0, 1.0)  ...    3  29097984   \n",
       "0  (1.0, 0.0, 0.0, 0.0, 1.0, 0.0, 0.0, 0.0, 1.0)  ...    3  35127296   \n",
       "1  (1.0, 0.0, 0.0, 0.0, 1.0, 0.0, 0.0, 0.0, 1.0)  ...    3  29097984   \n",
       "\n",
       "                                   origin roi_key           saved_time  \\\n",
       "0  (-249.51171875, -460.51171875, -681.5)     NaN  2025-07-22:14:16:16   \n",
       "2            (-250.112, -250.112, -133.4)     NaN  2025-07-22:14:16:15   \n",
       "0  (-249.51171875, -460.51171875, -681.5)     GTV  2025-07-22:14:16:22   \n",
       "1            (-250.112, -250.112, -133.4)     GTV  2025-07-22:14:16:18   \n",
       "\n",
       "              size                      spacing         std           sum  \\\n",
       "0  (512, 512, 134)  (0.9765625, 0.9765625, 3.0)  426.958598 -2.604295e+10   \n",
       "2  (512, 512, 111)          (0.977, 0.977, 3.0)  431.016943 -2.197104e+10   \n",
       "0  (512, 512, 134)  (0.9765625, 0.9765625, 3.0)    0.039992  5.627100e+04   \n",
       "1  (512, 512, 111)          (0.977, 0.977, 3.0)    0.065496  1.253640e+05   \n",
       "\n",
       "        variance  \n",
       "0  182293.644053  \n",
       "2  185775.604855  \n",
       "0       0.001599  \n",
       "1       0.004290  \n",
       "\n",
       "[4 rows x 39 columns]"
      ]
     },
     "execution_count": 74,
     "metadata": {},
     "output_type": "execute_result"
    }
   ],
   "source": [
    "masked_image_index"
   ]
  },
  {
   "cell_type": "code",
   "execution_count": null,
   "id": "72035f21",
   "metadata": {},
   "outputs": [],
   "source": []
  }
 ],
 "metadata": {
  "kernelspec": {
   "display_name": "Python 3",
   "language": "python",
   "name": "python3"
  },
  "language_info": {
   "codemirror_mode": {
    "name": "ipython",
    "version": 3
   },
   "file_extension": ".py",
   "mimetype": "text/x-python",
   "name": "python",
   "nbconvert_exporter": "python",
   "pygments_lexer": "ipython3",
   "version": "3.12.11"
  }
 },
 "nbformat": 4,
 "nbformat_minor": 5
}
