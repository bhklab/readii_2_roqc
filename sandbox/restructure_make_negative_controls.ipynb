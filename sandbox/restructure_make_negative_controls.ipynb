{
 "cells": [
  {
   "cell_type": "code",
   "execution_count": null,
   "id": "99cf8359",
   "metadata": {},
   "outputs": [],
   "source": [
    "%cd .."
   ]
  },
  {
   "cell_type": "code",
   "execution_count": null,
   "id": "686fe011",
   "metadata": {},
   "outputs": [],
   "source": [
    "from damply import dirs\n",
    "from pathlib import Path\n",
    "from tqdm import tqdm\n",
    "from joblib import Parallel, delayed\n",
    "\n",
    "from imgtools.io.writers.nifti_writer import NIFTIWriter, NiftiWriterIOError\n",
    "\n",
    "from readii.process.images.crop import crop_and_resize_image_and_mask\n",
    "from readii.negative_controls_refactor.manager import NegativeControlManager\n",
    "\n",
    "from readii_2_roqc.utils.loaders import load_dataset_config, load_image_and_mask\n",
    "from readii_2_roqc.utils.metadata import get_masked_image_metadata, insert_SampleID\n",
    "from readii_2_roqc.utils.settings import get_readii_settings, get_resize_string\n",
    "\n",
    "import pandas as pd\n",
    "import itertools\n",
    "import logging\n",
    "import SimpleITK as sitk"
   ]
  },
  {
   "cell_type": "code",
   "execution_count": null,
   "id": "5f226ee0",
   "metadata": {},
   "outputs": [],
   "source": [
    "dataset = \"NSCLC-Radiomics_test\"\n",
    "overwrite = True\n",
    "seed = 10"
   ]
  },
  {
   "cell_type": "markdown",
   "id": "98023e42",
   "metadata": {},
   "source": [
    "# Set up logging"
   ]
  },
  {
   "cell_type": "code",
   "execution_count": null,
   "id": "21877079",
   "metadata": {},
   "outputs": [],
   "source": [
    "logger = logging.getLogger(__name__)\n",
    "logging.basicConfig(filename = dirs.LOGS / f\"{dataset}_make_negative_controls.log\", encoding='utf-8', level=logging.DEBUG)"
   ]
  },
  {
   "cell_type": "markdown",
   "id": "b6e89565",
   "metadata": {},
   "source": [
    "# Load dataset config"
   ]
  },
  {
   "cell_type": "code",
   "execution_count": null,
   "id": "45f840b5",
   "metadata": {},
   "outputs": [],
   "source": [
    "if dataset is None:\n",
    "    message = \"Dataset name must be provided.\"\n",
    "    logger.error(message)\n",
    "    raise ValueError(message)\n",
    "\n",
    "dataset_config, dataset_name, full_dataset_name = load_dataset_config(dataset)\n",
    "# logger.info(f\"Creating negative controls for dataset: {dataset_name}\")"
   ]
  },
  {
   "cell_type": "markdown",
   "id": "3a0560d7",
   "metadata": {},
   "source": [
    "# Load dataset index"
   ]
  },
  {
   "cell_type": "code",
   "execution_count": null,
   "id": "824d2c0d",
   "metadata": {},
   "outputs": [],
   "source": [
    "images_dir_path = dirs.PROCDATA / full_dataset_name / 'images'\n",
    "\n",
    "dataset_index = pd.read_csv(images_dir_path / f'mit_{dataset_name}' / f'mit_{dataset_name}_index-simple.csv')\n",
    "dataset_index = insert_SampleID(dataset_index)"
   ]
  },
  {
   "cell_type": "markdown",
   "id": "6915a2c7",
   "metadata": {},
   "source": [
    "# Filter the index by R2R configuration file"
   ]
  },
  {
   "cell_type": "code",
   "execution_count": null,
   "id": "b12dc183",
   "metadata": {},
   "outputs": [],
   "source": [
    "masked_image_index = get_masked_image_metadata(dataset_index, dataset_config)"
   ]
  },
  {
   "cell_type": "markdown",
   "id": "2d48c82a",
   "metadata": {},
   "source": [
    "# Check for output(s) existence"
   ]
  },
  {
   "cell_type": "code",
   "execution_count": null,
   "id": "0fff65e2",
   "metadata": {},
   "outputs": [],
   "source": [
    "regions, permutations, crop, resize = get_readii_settings(dataset_config)\n",
    "\n",
    "readii_image_dir = images_dir_path / f'readii_{dataset_name}'\n",
    "\n",
    "if crop != \"\" and resize != []:\n",
    "    readii_index_filepath = readii_image_dir / f\"{crop}_{get_resize_string(resize)}\" / f'readii_{dataset_name}_index.csv'\n",
    "else:\n",
    "    readii_index_filepath = readii_image_dir.glob(f\"original_*/readii_{dataset_name}_index.csv\").__next__()"
   ]
  },
  {
   "cell_type": "code",
   "execution_count": null,
   "id": "fb04cfc5",
   "metadata": {},
   "outputs": [],
   "source": [
    "if readii_index_filepath.exists() and not overwrite:\n",
    "    regions, permutations, crop, resize = get_readii_settings(dataset_config)\n",
    "    # Load in readii index and check:\n",
    "    # 1. if all negative controls requested have been extracted\n",
    "    # 2. for all of the patients\n",
    "    readii_index = pd.read_csv(readii_index_filepath)\n",
    "\n",
    "    # Get list of patients that have already been processed and what has been requested based on the dataset index\n",
    "    processed_samples = set(readii_index['PatientID'].to_list())\n",
    "    requested_samples = set(dataset_index['SampleID'].to_list())\n",
    "\n",
    "\n",
    "    readii_settings = ['Permutation', 'Region', 'crop', 'Resize']\n",
    "    if not set(readii_index.columns).issuperset(readii_settings):\n",
    "        print(\"Not all READII settings satisfied in existing output. Re-running negative control generation.\")\n",
    "    \n",
    "    else:\n",
    "        processed_image_types = {itype for itype in readii_index[readii_settings].itertuples(index=False, name=None)}\n",
    "        requested_image_types = {itype for itype in itertools.product(permutations,\n",
    "                                                                      regions,\n",
    "                                                                      [crop],\n",
    "                                                                      [get_resize_string(resize)])}\n",
    "        if requested_image_types.issubset(processed_image_types) and requested_samples.issubset(processed_samples):\n",
    "            print(\"All requested negative controls have already been generated for these samples or are listed in the readii index as if they have been. Set overwrite to true if you want to re-process these.\")"
   ]
  },
  {
   "cell_type": "markdown",
   "id": "bbb0e832",
   "metadata": {},
   "source": [
    "# Negative control generator function that can be run in parallel"
   ]
  },
  {
   "cell_type": "code",
   "execution_count": null,
   "id": "7d05ec8d",
   "metadata": {},
   "outputs": [],
   "source": [
    "def negative_control_generator(sample_id:str,\n",
    "                               image:sitk.Image,\n",
    "                               mask:sitk.Image,\n",
    "                               regions, \n",
    "                               permutations, \n",
    "                               crop, \n",
    "                               resize,\n",
    "                               image_meta_id,\n",
    "                               mask_meta_id,\n",
    "                               nifti_writer:NIFTIWriter,\n",
    "                               seed = 10\n",
    "                               ):\n",
    "    negative_control_image_paths = []\n",
    "\n",
    "    # Set up negative control manager with settings from config\n",
    "    manager = NegativeControlManager.from_strings(\n",
    "        negative_control_types=permutations,\n",
    "        region_types=regions,\n",
    "        random_seed=seed\n",
    "    )\n",
    "    # Process and save negative control images\n",
    "    for proc_image, permutation, region in manager.apply(image, mask):\n",
    "        # apply crop and resize\n",
    "        if crop != \"\" and resize != []:\n",
    "            proc_image, proc_mask = crop_and_resize_image_and_mask(proc_image, \n",
    "                                                                   mask, \n",
    "                                                                   crop_method = crop, \n",
    "                                                                   resize_dimension = resize)\n",
    "        # save out negative controls\n",
    "        try:\n",
    "            # The capitalized arguments are here on purpose to manipulate the order of the columns in the index file\n",
    "            out_path = nifti_writer.save(\n",
    "                            proc_image,\n",
    "                            ImageID = image_meta_id,\n",
    "                            MaskID = mask_meta_id,\n",
    "                            Permutation=\"original\",\n",
    "                            Region=\"full\",\n",
    "                            Resize=get_resize_string(resize),\n",
    "                            SampleID=sample_id,\n",
    "                            crop=crop\n",
    "                        )\n",
    "        except NiftiWriterIOError:\n",
    "            message = f\"{permutation} {region} negative control file already exists for {sample_id}. If you wish to overwrite, set overwrite to True.\"\n",
    "            logger.debug(message)\n",
    "        \n",
    "        negative_control_image_paths.append(out_path)\n",
    "\n",
    "    return negative_control_image_paths"
   ]
  },
  {
   "cell_type": "code",
   "execution_count": null,
   "id": "ce2a1096",
   "metadata": {},
   "outputs": [],
   "source": [
    "def image_preprocessor(dataset_config:dict, \n",
    "                        image_path:Path, \n",
    "                        mask_path:Path, \n",
    "                        images_dir_path:Path, \n",
    "                        output_dir:Path, \n",
    "                        sample_id:str = None, \n",
    "                        mask_image_id:str = None, \n",
    "                        overwrite:bool = False):\n",
    "    if overwrite:\n",
    "        existing_file_mode = 'OVERWRITE'\n",
    "        overwrite_index = True\n",
    "    else:\n",
    "        existing_file_mode = 'SKIP'\n",
    "        overwrite_index = False\n",
    "\n",
    "    regions, permutations, crop, resize = get_readii_settings(dataset_config)\n",
    "    resize_string = get_resize_string(resize)\n",
    "\n",
    "    # Get sample metadata from path if not provided\n",
    "    if sample_id is None:\n",
    "        sample_id = Path(image_path).parts[0]\n",
    "    if mask_image_id is None:\n",
    "        mask_image_id = Path(mask_path).name.removesuffix('.nii.gz')\n",
    "    \n",
    "    # Get beginning of the path to the nifti images dir\n",
    "    mit_images_dir = images_dir_path / f'mit_{dataset_name}'\n",
    "    # load in the nifti image and mask files, flattened to 3D and aligned with each other\n",
    "    image, mask = load_image_and_mask(mit_images_dir / image_path, mit_images_dir / mask_path)\n",
    "    # get image modality for file writer\n",
    "    image_modality = dataset_config['MIT']['MODALITIES']['image']\n",
    "    # make image identifier string for file writer\n",
    "    image_meta_id = f\"{image_path.parent.name}\"\n",
    "    # make mask identifier string for file writer\n",
    "    mask_meta_id = f\"{mask_path.parent.name}_{mask_image_id.replace(' ', \"_\")}\"\n",
    "\n",
    "    # Set up the readii subdirectory for the image being processed, specifically the crop and resize level\n",
    "    if crop == '' and resize == []:\n",
    "        # get the original image size to use for output directory, without the slice count\n",
    "        image_size_string = get_resize_string(image.GetSize()[0:2])\n",
    "        # make the slice index an n since different images have different slice counts\n",
    "        crop_setting_string = f'original_{image_size_string}_n'\n",
    "    else:\n",
    "        crop_setting_string = f'{crop}_{resize_string}'\n",
    "\n",
    "    # Set up writer for saving out the negative controls and index file\n",
    "    nifti_writer = NIFTIWriter(\n",
    "            root_directory = output_dir / crop_setting_string,\n",
    "            filename_format = f\"{image_path.parent}/{mask_meta_id}/{image_modality}\" + \"_{Permutation}_{Region}.nii.gz\",\n",
    "            create_dirs = True,\n",
    "            existing_file_mode = existing_file_mode,\n",
    "            sanitize_filenames = True,\n",
    "            index_filename = f\"readii_{dataset_name}_index.csv\",\n",
    "            overwrite_index = overwrite_index\n",
    "        )\n",
    "    \n",
    "    readii_image_paths = []\n",
    "    # Process crop and resize of original image if needed, and save\n",
    "    if crop != '' and resize != []:\n",
    "        crop_image, crop_mask = crop_and_resize_image_and_mask(image, \n",
    "                                                               mask, \n",
    "                                                               crop_method = crop, \n",
    "                                                               resize_dimension = resize)\n",
    "        # save out cropped image\n",
    "        try:\n",
    "            # The capitalized arguments are here on purpose to manipulate the order of the columns in the index file\n",
    "            out_path = nifti_writer.save(\n",
    "                            crop_image,\n",
    "                            ImageID = image_meta_id,\n",
    "                            MaskID = mask_meta_id,\n",
    "                            Permutation=\"original\",\n",
    "                            Region=\"full\",\n",
    "                            Resize=resize_string,\n",
    "                            SampleID=sample_id,\n",
    "                            crop=crop\n",
    "                        )\n",
    "        except NiftiWriterIOError:\n",
    "            message = f\"{crop} {resize_string} original image file already exists for {sample_id}. If you wish to overwrite, set overwrite to True.\"\n",
    "            logger.debug(message)\n",
    "        \n",
    "        readii_image_paths.append(out_path)\n",
    "    # end original image processing\n",
    "\n",
    "    if permutations != [] and regions != []:\n",
    "        negative_control_image_paths = negative_control_generator(sample_id=sample_id,\n",
    "                                                                  image = image,\n",
    "                                                                  mask = mask,\n",
    "                                                                  regions = regions,\n",
    "                                                                  permutations = permutations,\n",
    "                                                                  crop = crop,\n",
    "                                                                  resize = resize,\n",
    "                                                                  image_meta_id = image_meta_id,\n",
    "                                                                  mask_meta_id = mask_meta_id,\n",
    "                                                                  nifti_writer = nifti_writer)\n",
    "        readii_image_paths.append(negative_control_image_paths)\n",
    "    \n",
    "    return readii_image_paths\n"
   ]
  },
  {
   "cell_type": "code",
   "execution_count": null,
   "id": "36eb7daf",
   "metadata": {},
   "outputs": [],
   "source": [
    "from readii_2_roqc.utils.metadata import make_edges_df\n",
    "\n",
    "edges_index = make_edges_df(masked_image_index, dataset_config['MIT']['MODALITIES']['image'], dataset_config['MIT']['MODALITIES']['mask'])\n",
    "parallel = True\n",
    "n_jobs = 4\n",
    "\n",
    "if parallel:\n",
    "    # Use joblib to parallelize negative control generation\n",
    "    readii_image_paths = Parallel(n_jobs=n_jobs)(\n",
    "                            delayed(image_preprocessor)(\n",
    "                                dataset_config=dataset_config, \n",
    "                                image_path=Path(data_row.filepath_image), \n",
    "                                mask_path=Path(data_row.filepath_mask), \n",
    "                                images_dir_path=images_dir_path, \n",
    "                                output_dir=readii_image_dir,\n",
    "                                sample_id=data_row.SampleID_image,\n",
    "                                mask_image_id=data_row.ImageID_mask, \n",
    "                                overwrite=overwrite\n",
    "                            )\n",
    "                            for _, data_row in tqdm(\n",
    "                                edges_index.iterrows(),\n",
    "                                desc=\"Generating negative controls for each image-mask pair...\",\n",
    "                                total=len(edges_index)\n",
    "                            )\n",
    "                        )\n",
    "else:\n",
    "    readii_image_paths = [image_preprocessor(dataset_config=dataset_config, \n",
    "                                            image_path=Path(data_row.filepath_image), \n",
    "                                            mask_path=Path(data_row.filepath_mask), \n",
    "                                            images_dir_path=images_dir_path, \n",
    "                                            output_dir=readii_image_dir,\n",
    "                                            sample_id=data_row.SampleID_image,\n",
    "                                            mask_image_id=data_row.ImageID_mask, \n",
    "                                            overwrite=overwrite\n",
    "                                            ) for _, data_row in tqdm(edges_index.iterrows(),\n",
    "                                                                        desc=\"Generating negative controls for each image-mask pair...\",\n",
    "                                                                        total=len(edges_index))]\n",
    " \n"
   ]
  },
  {
   "cell_type": "code",
   "execution_count": null,
   "id": "d6a4401f",
   "metadata": {},
   "outputs": [],
   "source": []
  }
 ],
 "metadata": {
  "kernelspec": {
   "display_name": "Python 3",
   "language": "python",
   "name": "python3"
  },
  "language_info": {
   "codemirror_mode": {
    "name": "ipython",
    "version": 3
   },
   "file_extension": ".py",
   "mimetype": "text/x-python",
   "name": "python",
   "nbconvert_exporter": "python",
   "pygments_lexer": "ipython3",
   "version": "3.12.11"
  }
 },
 "nbformat": 4,
 "nbformat_minor": 5
}
