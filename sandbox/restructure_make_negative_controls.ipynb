{
 "cells": [
  {
   "cell_type": "code",
   "execution_count": 1,
   "id": "99cf8359",
   "metadata": {},
   "outputs": [
    {
     "name": "stdout",
     "output_type": "stream",
     "text": [
      "/home/bhkuser/bhklab/katy/readii_2_roqc\n"
     ]
    }
   ],
   "source": [
    "%cd .."
   ]
  },
  {
   "cell_type": "code",
   "execution_count": 2,
   "id": "686fe011",
   "metadata": {},
   "outputs": [],
   "source": [
    "from damply import dirs\n",
    "from readii_2_roqc.utils.loaders import load_dataset_config\n",
    "from readii_2_roqc.readii.make_negative_controls import get_readii_settings"
   ]
  },
  {
   "cell_type": "code",
   "execution_count": 3,
   "id": "5f226ee0",
   "metadata": {},
   "outputs": [],
   "source": [
    "dataset = \"NSCLC-Radiomics_test\""
   ]
  },
  {
   "cell_type": "markdown",
   "id": "98023e42",
   "metadata": {},
   "source": [
    "# Set up logging"
   ]
  },
  {
   "cell_type": "code",
   "execution_count": 4,
   "id": "21877079",
   "metadata": {},
   "outputs": [],
   "source": [
    "import logging\n",
    "\n",
    "logger = logging.getLogger(__name__)\n",
    "logging.basicConfig(filename = dirs.LOGS / f\"{dataset}_make_negative_controls.log\", encoding='utf-8', level=logging.DEBUG)"
   ]
  },
  {
   "cell_type": "markdown",
   "id": "b6e89565",
   "metadata": {},
   "source": [
    "# Load dataset config"
   ]
  },
  {
   "cell_type": "code",
   "execution_count": 5,
   "id": "45f840b5",
   "metadata": {},
   "outputs": [],
   "source": [
    "if dataset is None:\n",
    "    message = \"Dataset name must be provided.\"\n",
    "    logger.error(message)\n",
    "    raise ValueError(message)\n",
    "\n",
    "dataset_config, dataset_name, full_dataset_name = load_dataset_config(dataset)\n",
    "logger.info(f\"Creating negative controls for dataset: {dataset_name}\")"
   ]
  },
  {
   "cell_type": "markdown",
   "id": "63f0d5bb",
   "metadata": {},
   "source": [
    "# Get negative control configuration"
   ]
  },
  {
   "cell_type": "code",
   "execution_count": 7,
   "id": "199c2179",
   "metadata": {},
   "outputs": [
    {
     "data": {
      "text/plain": [
       "(['roi'], ['sampled'], ['cube'], [])"
      ]
     },
     "execution_count": 7,
     "metadata": {},
     "output_type": "execute_result"
    }
   ],
   "source": [
    "get_readii_settings(dataset_config)"
   ]
  },
  {
   "cell_type": "code",
   "execution_count": null,
   "id": "b12dc183",
   "metadata": {},
   "outputs": [],
   "source": []
  },
  {
   "cell_type": "code",
   "execution_count": null,
   "id": "0fff65e2",
   "metadata": {},
   "outputs": [],
   "source": []
  }
 ],
 "metadata": {
  "kernelspec": {
   "display_name": "Python 3",
   "language": "python",
   "name": "python3"
  },
  "language_info": {
   "codemirror_mode": {
    "name": "ipython",
    "version": 3
   },
   "file_extension": ".py",
   "mimetype": "text/x-python",
   "name": "python",
   "nbconvert_exporter": "python",
   "pygments_lexer": "ipython3",
   "version": "3.12.11"
  }
 },
 "nbformat": 4,
 "nbformat_minor": 5
}
