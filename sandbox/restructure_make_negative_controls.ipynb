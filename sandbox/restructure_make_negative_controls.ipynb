{
 "cells": [
  {
   "cell_type": "code",
   "execution_count": 1,
   "id": "99cf8359",
   "metadata": {},
   "outputs": [
    {
     "name": "stdout",
     "output_type": "stream",
     "text": [
      "/home/bhkuser/bhklab/katy/readii_2_roqc\n"
     ]
    }
   ],
   "source": [
    "%cd .."
   ]
  },
  {
   "cell_type": "code",
   "execution_count": 2,
   "id": "686fe011",
   "metadata": {},
   "outputs": [],
   "source": [
    "from damply import dirs\n",
    "from readii_2_roqc.utils.loaders import load_dataset_config\n",
    "from readii_2_roqc.readii.make_negative_controls import get_readii_settings, get_masked_image_metadata\n",
    "from readii.negative_controls_refactor.manager import NegativeControlManager\n",
    "from imgtools.transforms.spatial_transforms import Resize\n",
    "from imgtools.io.writers.nifti_writer import NIFTIWriter, NiftiWriterIOError\n",
    "from pathlib import Path\n",
    "from tqdm import tqdm\n",
    "from joblib import Parallel, delayed\n",
    "\n",
    "import pandas as pd\n",
    "import itertools"
   ]
  },
  {
   "cell_type": "code",
   "execution_count": 3,
   "id": "5f226ee0",
   "metadata": {},
   "outputs": [],
   "source": [
    "dataset = \"NSCLC-Radiomics_test\"\n",
    "overwrite = False\n",
    "seed = 10"
   ]
  },
  {
   "cell_type": "markdown",
   "id": "98023e42",
   "metadata": {},
   "source": [
    "# Set up logging"
   ]
  },
  {
   "cell_type": "code",
   "execution_count": 4,
   "id": "21877079",
   "metadata": {},
   "outputs": [],
   "source": [
    "import logging\n",
    "\n",
    "logger = logging.getLogger(__name__)\n",
    "logging.basicConfig(filename = dirs.LOGS / f\"{dataset}_make_negative_controls.log\", encoding='utf-8', level=logging.DEBUG)"
   ]
  },
  {
   "cell_type": "markdown",
   "id": "b6e89565",
   "metadata": {},
   "source": [
    "# Load dataset config"
   ]
  },
  {
   "cell_type": "code",
   "execution_count": 5,
   "id": "45f840b5",
   "metadata": {},
   "outputs": [],
   "source": [
    "if dataset is None:\n",
    "    message = \"Dataset name must be provided.\"\n",
    "    logger.error(message)\n",
    "    raise ValueError(message)\n",
    "\n",
    "dataset_config, dataset_name, full_dataset_name = load_dataset_config(dataset)\n",
    "logger.info(f\"Creating negative controls for dataset: {dataset_name}\")"
   ]
  },
  {
   "cell_type": "markdown",
   "id": "3a0560d7",
   "metadata": {},
   "source": [
    "# Load dataset index"
   ]
  },
  {
   "cell_type": "code",
   "execution_count": 6,
   "id": "824d2c0d",
   "metadata": {},
   "outputs": [],
   "source": [
    "images_dir_path = dirs.PROCDATA / full_dataset_name / 'images'\n",
    "\n",
    "dataset_index = pd.read_csv(images_dir_path / f'mit_{dataset_name}' / f'mit_{dataset_name}_index-simple.csv')"
   ]
  },
  {
   "cell_type": "markdown",
   "id": "6915a2c7",
   "metadata": {},
   "source": [
    "# Filter the index by R2R configuration file"
   ]
  },
  {
   "cell_type": "code",
   "execution_count": 7,
   "id": "b12dc183",
   "metadata": {},
   "outputs": [],
   "source": [
    "masked_image_index = get_masked_image_metadata(dataset_index, dataset_config)"
   ]
  },
  {
   "cell_type": "markdown",
   "id": "2d48c82a",
   "metadata": {},
   "source": [
    "# Check for output(s) existence"
   ]
  },
  {
   "cell_type": "code",
   "execution_count": 8,
   "id": "0fff65e2",
   "metadata": {},
   "outputs": [],
   "source": [
    "readii_image_dir = images_dir_path / f'readii_{dataset_name}'\n",
    "readii_index_filepath = readii_image_dir / f'readii_{dataset_name}_index.csv'"
   ]
  },
  {
   "cell_type": "code",
   "execution_count": 11,
   "id": "fb04cfc5",
   "metadata": {},
   "outputs": [
    {
     "name": "stdout",
     "output_type": "stream",
     "text": [
      "Not all READII settings satisfied in existing output. Re-running negative control generation.\n"
     ]
    }
   ],
   "source": [
    "if readii_index_filepath.exists() and not overwrite:\n",
    "    regions, permutations, crop, resize = get_readii_settings(dataset_config)\n",
    "    # Load in readii index and check:\n",
    "    # 1. if all negative controls requested have been extracted\n",
    "    # 2. for all of the patients\n",
    "    readii_index = pd.read_csv(readii_index_filepath)\n",
    "\n",
    "    # Get list of patients that have already been processed and what has been requested based on the dataset index\n",
    "    processed_samples = set(readii_index['PatientID'].to_list())\n",
    "    requested_samples = set(dataset_index['PatientID'].to_list())\n",
    "\n",
    "\n",
    "    readii_settings = ['Permutation', 'Region', 'Crop', 'Resize']\n",
    "    if not set(readii_index.columns).issuperset(readii_settings):\n",
    "        print(\"Not all READII settings satisfied in existing output. Re-running negative control generation.\")\n",
    "    \n",
    "    else:\n",
    "        resize_string = '_'.join(str(val) for val in resize)\n",
    "        processed_image_types = {itype for itype in readii_index[readii_settings].itertuples(index=False, name=None)}\n",
    "        requested_image_types = {itype for itype in itertools.product(permutations,\n",
    "                                                                      regions,\n",
    "                                                                      crop,\n",
    "                                                                      [resize_string])}\n",
    "        if requested_image_types.issubset(processed_image_types) and requested_samples.issubset(processed_samples):\n",
    "            print(\"Requested negative controls have already been generated for these samples or are listed in the readii index as if they have been. Set overwrite to true if you want to re-process these.\")\n",
    "            print(readii_index['filepath'].to_list())"
   ]
  },
  {
   "cell_type": "markdown",
   "id": "bbb0e832",
   "metadata": {},
   "source": [
    "# Negative control generator function that can be run in parallel"
   ]
  },
  {
   "cell_type": "code",
   "execution_count": 12,
   "id": "ce2a1096",
   "metadata": {},
   "outputs": [],
   "source": [
    "from imgtools.transforms.spatial_transforms import Resize\n",
    "from readii.process.images.crop import crop_and_resize_image_and_mask\n",
    "import SimpleITK as sitk\n",
    "from readii.image_processing import alignImages, flattenImage\n",
    "from readii.image_processing import displayImageSlice\n",
    "\n",
    "def load_image_and_mask(image_path, mask_path = None):\n",
    "    # Load in image\n",
    "    raw_image = sitk.ReadImage(image_path)\n",
    "    # Remove extra dimension of image, set origin, spacing, direction to original\n",
    "    image = alignImages(raw_image, flattenImage(raw_image)) \n",
    "\n",
    "    if mask_path:\n",
    "        # Load in mask\n",
    "        raw_mask = sitk.ReadImage(mask_path)\n",
    "        mask = alignImages(image, flattenImage(raw_mask))\n",
    "        return image, mask\n",
    "    \n",
    "    return image\n",
    "\n",
    "\n",
    "def negative_control_generator(dataset_config, image_path, mask_path, images_dir_path, output_dir, overwrite = False):\n",
    "    if overwrite:\n",
    "        existing_file_mode = 'OVERWRITE'\n",
    "        overwrite_index = True\n",
    "    else:\n",
    "        existing_file_mode = 'SKIP'\n",
    "        overwrite_index = False\n",
    "\n",
    "    regions, permutations, crop, resize = get_readii_settings(dataset_config)\n",
    "\n",
    "    # Set up negative control manager with settings from config\n",
    "    manager = NegativeControlManager.from_strings(\n",
    "        negative_control_types=permutations,\n",
    "        region_types=regions,\n",
    "        random_seed=seed\n",
    "    )\n",
    "\n",
    "    # Get beginning of the path to the nifti images dir\n",
    "    mit_images_dir = images_dir_path / f'mit_{dataset_name}'\n",
    "    # load in the nifti image and mask files, flattened to 3D and aligned with each other\n",
    "    image, mask = load_image_and_mask(mit_images_dir / image_path, mit_images_dir / mask_path)\n",
    "    # get image modality for file writer\n",
    "    image_modality = dataset_config['MIT']['MODALITIES']['image']\n",
    "\n",
    "    readii_image_paths = []\n",
    "\n",
    "    if isinstance(resize, list):\n",
    "        resize_string = '_'.join(str(val) for val in resize)\n",
    "    else:\n",
    "        resize_string = str(resize)\n",
    "\n",
    "    for proc_image, permutation, region in manager.apply(image, mask):\n",
    "        # apply crop and resize\n",
    "        if crop != \"\" and resize != []:\n",
    "            proc_image, proc_mask = crop_and_resize_image_and_mask(proc_image, mask, crop_method = crop, resize_dimension = resize)\n",
    "\n",
    "\n",
    "        # Set up writer for saving out the negative controls and index file\n",
    "        nifti_writer = NIFTIWriter(\n",
    "                root_directory = output_dir,\n",
    "                filename_format = \"{dir_original_image}/{dirname_mask}_{ImageID_mask}/\" + f\"{image_modality}\" + \"_{Permutation}_{Region}_{crop}_{Resize}.nii.gz\",\n",
    "                create_dirs = True,\n",
    "                existing_file_mode = existing_file_mode,\n",
    "                sanitize_filenames = True,\n",
    "                index_filename = output_dir /f\"readii_{dataset_name}_index.csv\",\n",
    "                overwrite_index = overwrite_index\n",
    "            )\n",
    "    \n",
    "        # call save out negative controls\n",
    "        try:\n",
    "            patient_id = Path(image_path).parts[0]\n",
    "            mask_image_id = Path(mask_path).name.removesuffix('.nii.gz')\n",
    "            \n",
    "            out_path = nifti_writer.save(\n",
    "                            proc_image,\n",
    "                            PatientID=patient_id,\n",
    "                            Region=region,\n",
    "                            Permutation=permutation,\n",
    "                            crop=crop,\n",
    "                            Resize=resize_string,\n",
    "                            ImageID_mask=mask_image_id.replace(' ', \"_\"),\n",
    "                            dir_original_image=image_path.parent,\n",
    "                            dirname_mask=mask_path.parent.name,\n",
    "                        )\n",
    "        except NiftiWriterIOError:\n",
    "            message = f\"{permutation} {region} negative control file already exists for {patient_id}. If you wish to overwrite, set overwrite to True.\"\n",
    "            logger.debug(message)\n",
    "    \n",
    "        readii_image_paths.append(out_path)\n",
    "    \n",
    "    return readii_image_paths\n"
   ]
  },
  {
   "cell_type": "code",
   "execution_count": 13,
   "id": "36eb7daf",
   "metadata": {},
   "outputs": [
    {
     "name": "stderr",
     "output_type": "stream",
     "text": [
      "Generating negative controls for each image-mask pair...: 100%|██████████| 2/2 [00:00<00:00, 724.66it/s]\n"
     ]
    }
   ],
   "source": [
    "from readii_2_roqc.utils.metadata import make_edges_df\n",
    "\n",
    "edges_index = make_edges_df(masked_image_index, dataset_config['MIT']['MODALITIES']['image'], dataset_config['MIT']['MODALITIES']['mask'])\n",
    "parallel = True\n",
    "n_jobs = 4\n",
    "\n",
    "if parallel:\n",
    "    # Use joblib to parallelize negative control generation\n",
    "    readii_image_paths = Parallel(n_jobs=n_jobs)(\n",
    "                            delayed(negative_control_generator)(\n",
    "                                dataset_config=dataset_config, \n",
    "                                image_path=Path(data_row.filepath_image), \n",
    "                                mask_path=Path(data_row.filepath_mask), \n",
    "                                images_dir_path=images_dir_path, \n",
    "                                output_dir=readii_image_dir, \n",
    "                                overwrite=overwrite\n",
    "                            )\n",
    "                            for _, data_row in tqdm(\n",
    "                                edges_index.iterrows(),\n",
    "                                desc=\"Generating negative controls for each image-mask pair...\",\n",
    "                                total=len(edges_index)\n",
    "                            )\n",
    "                        )\n",
    "else:\n",
    "    readii_image_paths = [negative_control_generator(dataset_config, \n",
    "                                                    Path(data_row.filepath_image), \n",
    "                                                    Path(data_row.filepath_mask), \n",
    "                                                    images_dir_path, \n",
    "                                                    readii_image_dir, \n",
    "                                                    overwrite=False\n",
    "                                                    ) for idx, data_row in tqdm(edges_index.iterrows(),\n",
    "                                                                                desc=\"Generating negative controls for each image-mask pair...\",\n",
    "                                                                                total=len(edges_index))]\n",
    " \n",
    "# negative_control_generator(dataset_config, image_path, mask_path, images_dir_path, readii_image_dir, overwrite=True)"
   ]
  },
  {
   "cell_type": "code",
   "execution_count": null,
   "id": "caf1e0a7",
   "metadata": {},
   "outputs": [],
   "source": []
  }
 ],
 "metadata": {
  "kernelspec": {
   "display_name": "Python 3",
   "language": "python",
   "name": "python3"
  },
  "language_info": {
   "codemirror_mode": {
    "name": "ipython",
    "version": 3
   },
   "file_extension": ".py",
   "mimetype": "text/x-python",
   "name": "python",
   "nbconvert_exporter": "python",
   "pygments_lexer": "ipython3",
   "version": "3.12.11"
  }
 },
 "nbformat": 4,
 "nbformat_minor": 5
}
